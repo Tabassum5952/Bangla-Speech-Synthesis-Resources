{
 "cells": [
  {
   "cell_type": "code",
   "execution_count": 1,
   "id": "99a31ad4",
   "metadata": {},
   "outputs": [
    {
     "name": "stderr",
     "output_type": "stream",
     "text": [
      "D:\\Downloads\\Swahili-translation-English-STT--main\\ASR\\lib\\site-packages\\tqdm\\auto.py:21: TqdmWarning: IProgress not found. Please update jupyter and ipywidgets. See https://ipywidgets.readthedocs.io/en/stable/user_install.html\n",
      "  from .autonotebook import tqdm as notebook_tqdm\n"
     ]
    },
    {
     "data": {
      "text/plain": [
       "20"
      ]
     },
     "execution_count": 1,
     "metadata": {},
     "output_type": "execute_result"
    }
   ],
   "source": [
    "import torch\n",
    "import pandas as pd\n",
    "import os\n",
    "import librosa\n",
    "import contextlib\n",
    "from mutagen.mp3 import MP3\n",
    "from datasets import load_dataset, Value, Features, Audio, Dataset, concatenate_datasets\n",
    "from sklearn.preprocessing import minmax_scale\n",
    "import numpy as np\n",
    "import evaluate\n",
    "import texthero as hero\n",
    "from transformers import set_seed\n",
    "torch.cuda.empty_cache()\n",
    "set_seed(42)\n",
    "# Details: https://huggingface.co/docs/diffusers/optimization/fp16#enable-cudnn-autotuner\n",
    "torch.backends.cudnn.benchmark = True\n",
    "torch.backends.cuda.matmul.allow_tf32 = True\n",
    "from transformers import pipeline\n",
    "os.cpu_count()"
   ]
  },
  {
   "cell_type": "code",
   "execution_count": 2,
   "id": "d25b8ad7",
   "metadata": {},
   "outputs": [
    {
     "name": "stdout",
     "output_type": "stream",
     "text": [
      "True\n",
      "1\n",
      "NVIDIA GeForce RTX 3070 Ti\n",
      "Connected to a GPU!\n"
     ]
    }
   ],
   "source": [
    "print(torch.cuda.is_available())\n",
    "print(torch.cuda.device_count())\n",
    "# print(torch.cuda.current_device())\n",
    "# print(torch.cuda.device(0))\n",
    "print(torch.cuda.get_device_name(0))\n",
    "gpu_info = !nvidia-smi\n",
    "gpu_info = '\\n'.join(gpu_info)\n",
    "if gpu_info.find('failed') >= 0:\n",
    "  print('NOT connected to a GPU!. Will use CPU!')\n",
    "else:\n",
    "  print('Connected to a GPU!')"
   ]
  },
  {
   "cell_type": "code",
   "execution_count": 3,
   "id": "b46e9615",
   "metadata": {},
   "outputs": [],
   "source": [
    "# !pip install huggingface_hub\n",
    "# !pip install ipywidgets\n",
    "# !pip install git+https://github.com/huggingface/datasets\n",
    "# !pip install git+https://github.com/huggingface/transformers\n",
    "# !pip install librosa\n",
    "# !pip install pandas openpyxl\n",
    "# !pip install numpy\n",
    "# !pip install audiomentations\n",
    "# !pip install mutagen"
   ]
  },
  {
   "cell_type": "markdown",
   "id": "d685aeb9",
   "metadata": {},
   "source": [
    "Make Dataset"
   ]
  },
  {
   "cell_type": "code",
   "execution_count": 4,
   "id": "d8e058fb",
   "metadata": {},
   "outputs": [],
   "source": [
    "# abs_path = \".\\\\LARGE DATA\\\\larger sample\\\\\"\n",
    "# df = pd.ExcelFile(\".\\LARGE DATA\\larger sample\\Compiled data - submission 1.xlsx\")\n",
    "# df1 = pd.read_excel(df, 'QF14')\n",
    "# df2 = pd.read_excel(df, 'QF18')\n",
    "# df3 = pd.read_excel(df, 'QG17')\n",
    "# df4 = pd.read_excel(df, 'QH11')\n",
    "# df5 = pd.read_excel(df, 'QH12')\n",
    "\n",
    "# df = pd.concat([df1, df2, df3, df4, df5], ignore_index = True)\n",
    "# df"
   ]
  },
  {
   "cell_type": "code",
   "execution_count": 5,
   "id": "12958742",
   "metadata": {},
   "outputs": [],
   "source": [
    "# for i in range(len(df)):\n",
    "#     if \"QF14\" in df['File name'][i]:\n",
    "#         df['File name'][i] = abs_path+\"QF14\\\\\"+df['File name'][i]\n",
    "#     elif \"QF18\" in df['File name'][i]:\n",
    "#         df['File name'][i] = abs_path+\"QF18\\\\\"+df['File name'][i]\n",
    "#     elif \"QG17\" in df['File name'][i]:\n",
    "#         df['File name'][i] = abs_path+\"QG17\\\\\"+df['File name'][i]\n",
    "#     elif \"QH11\" in df['File name'][i]:\n",
    "#         df['File name'][i] = abs_path+\"QH11\\\\\"+df['File name'][i]\n",
    "#     elif \"QH12\" in df['File name'][i]:\n",
    "#         df['File name'][i] = abs_path+\"QH12\\\\\"+df['File name'][i]\n",
    "# df['File name'][225]"
   ]
  },
  {
   "cell_type": "code",
   "execution_count": 6,
   "id": "3c3bb047-b35f-4dc4-9166-2ef320493e3a",
   "metadata": {},
   "outputs": [],
   "source": [
    "# # df.to_excel('Swahili_QF.xlsx', index=False)\n",
    "# df.rename(columns={'File name': 'file_name'}, inplace=True)"
   ]
  },
  {
   "cell_type": "code",
   "execution_count": 7,
   "id": "6ffe6784-7b3f-4f13-8f52-c6ccefccd58c",
   "metadata": {},
   "outputs": [],
   "source": [
    "df = pd.read_excel(\"./real_data.xlsx\")"
   ]
  },
  {
   "cell_type": "code",
   "execution_count": 8,
   "id": "a0728d18-9cff-4e36-a51b-ef8a290bc6a7",
   "metadata": {},
   "outputs": [
    {
     "data": {
      "text/plain": [
       "(1184, 2)"
      ]
     },
     "execution_count": 8,
     "metadata": {},
     "output_type": "execute_result"
    }
   ],
   "source": [
    "df.shape"
   ]
  },
  {
   "cell_type": "code",
   "execution_count": 9,
   "id": "c273e5a6",
   "metadata": {},
   "outputs": [
    {
     "name": "stdout",
     "output_type": "stream",
     "text": [
      "./LARGE DATA/larger sample/QG17/GK_swa_u0709_QG17.mp3\n"
     ]
    },
    {
     "data": {
      "text/plain": [
       "\"Moraa should have just agreed to be paid through the method of The phone so that her debt can be deducted and get exhausted and then Should opt out from the loans she has because she ends up losing clients When it's something simple. You can just pay your loan and then just opt ������out. You get yourself off that [?]Go on with your life as usual instead of [p]\""
      ]
     },
     "execution_count": 9,
     "metadata": {},
     "output_type": "execute_result"
    }
   ],
   "source": [
    "print(df['file_name'][642])\n",
    "df['transcription'][642]"
   ]
  },
  {
   "cell_type": "code",
   "execution_count": 10,
   "id": "87fc9ac8",
   "metadata": {},
   "outputs": [
    {
     "name": "stdout",
     "output_type": "stream",
     "text": [
      "./LARGE DATA/larger sample/QG17/GK_swa_u0479_QG17.mp3\n"
     ]
    },
    {
     "data": {
      "text/plain": [
       "'In my opinion Moraa finds it difficult to pay the debt she took Through her phone and maybe she did not have enough so she feels if she is paid through the phone The money will be taken to pay off the debt and she will not be able to stock up [null]'"
      ]
     },
     "execution_count": 10,
     "metadata": {},
     "output_type": "execute_result"
    }
   ],
   "source": [
    "print(df['file_name'][555])\n",
    "df['transcription'][555]"
   ]
  },
  {
   "cell_type": "code",
   "execution_count": 11,
   "id": "0e869095",
   "metadata": {},
   "outputs": [
    {
     "name": "stdout",
     "output_type": "stream",
     "text": [
      "./LARGE DATA/larger sample/QF18/GK_swa_u0525_QF18.mp3\n"
     ]
    },
    {
     "data": {
      "text/plain": [
       "'It is good if my credit increases'"
      ]
     },
     "execution_count": 11,
     "metadata": {},
     "output_type": "execute_result"
    }
   ],
   "source": [
    "print(df['file_name'][331])\n",
    "df['transcription'][331]"
   ]
  },
  {
   "cell_type": "code",
   "execution_count": 12,
   "id": "0a520833-c8ef-4ac5-86a3-cc8853f6e3c7",
   "metadata": {},
   "outputs": [],
   "source": [
    "# sf = pd.read_excel(\".\\real_data.xlsx\")\n",
    "# # sf = pd.read_excel(\".\\\\Swahili_QF_new.xlsx\")"
   ]
  },
  {
   "cell_type": "code",
   "execution_count": 13,
   "id": "cc984b7f-6829-498c-bfbe-979f4eb1fc6e",
   "metadata": {},
   "outputs": [
    {
     "data": {
      "text/plain": [
       "str"
      ]
     },
     "execution_count": 13,
     "metadata": {},
     "output_type": "execute_result"
    }
   ],
   "source": [
    "type(df['transcription'][22])"
   ]
  },
  {
   "cell_type": "code",
   "execution_count": 14,
   "id": "fd06c919-9045-4564-8f73-6eb0442cb32a",
   "metadata": {},
   "outputs": [
    {
     "name": "stdout",
     "output_type": "stream",
     "text": [
      "./LARGE DATA/larger sample/QG17/GK_swa_u0731_QG17.mp3\n"
     ]
    },
    {
     "data": {
      "text/plain": [
       "\"I think she should come up with Pochi la biashara or till number whereby The money I won't be charged. [?] I can use but still, I don't have any debt. The money isn't deducted. They don't rhyme.\""
      ]
     },
     "execution_count": 14,
     "metadata": {},
     "output_type": "execute_result"
    }
   ],
   "source": [
    "print(df['file_name'][655])\n",
    "df['transcription'][655]"
   ]
  },
  {
   "cell_type": "code",
   "execution_count": 15,
   "id": "abb6b267-9ca6-4c7f-b0d3-b31e2fc337c8",
   "metadata": {},
   "outputs": [
    {
     "name": "stdout",
     "output_type": "stream",
     "text": [
      "./LARGE DATA/larger sample/QF14/GK_swa_u0257_QF14.mp3\n"
     ]
    },
    {
     "data": {
      "text/plain": [
       "'The first is to protect yourself against fraud, the second'"
      ]
     },
     "execution_count": 15,
     "metadata": {},
     "output_type": "execute_result"
    }
   ],
   "source": [
    "print(df['file_name'][27])\n",
    "df['transcription'][27]"
   ]
  },
  {
   "cell_type": "code",
   "execution_count": 16,
   "id": "d3b6a192",
   "metadata": {},
   "outputs": [],
   "source": [
    "audio_dir = \"/Swahili_STT\"\n",
    "csv_dir = \"Swahili_QF.xlsx\"\n",
    "audio_t = \".mp3\"\n",
    "base_dir = \"./caches_large\""
   ]
  },
  {
   "cell_type": "code",
   "execution_count": 17,
   "id": "a58bfea1",
   "metadata": {},
   "outputs": [],
   "source": [
    "import re\n",
    "def st_pre(df):\n",
    "    df['transcription'] = hero.remove_diacritics(df['transcription'])\n",
    "    df['transcription'] = hero.remove_whitespace(df['transcription'])\n",
    "    for i in range(len(df)):\n",
    "        df['transcription'][i] = re.sub(\"[\\(\\[].*?[\\)\\]]\", \"\", df['transcription'][i])\n",
    "        df['transcription'][i] = re.sub(r\"(?<=\\w)([A-Z])()\", r\" \\1\", df['transcription'][i])\n",
    "    df['transcription'] = hero.remove_whitespace(df['transcription'])\n",
    "    return df"
   ]
  },
  {
   "cell_type": "code",
   "execution_count": 18,
   "id": "1c86b2d0-c34d-49ae-a3c4-d1e051fa5321",
   "metadata": {},
   "outputs": [],
   "source": [
    "for i in range(len(df)):\n",
    "    if df['transcription'][i] == 'nan':\n",
    "        df['transcription'][i] = None\n",
    "    elif df['transcription'][i] == '[foreign]':\n",
    "        df['transcription'][i] = None\n",
    "    elif df['transcription'][i] == '[null]':\n",
    "        df['transcription'][i] = None\n",
    "    elif df['transcription'][i] == '[?]':\n",
    "        df['transcription'][i] =  None\n",
    "    elif '�' in df['transcription'][i]:\n",
    "        df['transcription'][i] =  None\n",
    "\n"
   ]
  },
  {
   "cell_type": "code",
   "execution_count": 19,
   "id": "e7e77a42-8271-4839-bd52-c8c404434753",
   "metadata": {},
   "outputs": [
    {
     "name": "stdout",
     "output_type": "stream",
     "text": [
      "./LARGE DATA/larger sample/QG17/GK_swa_u0709_QG17.mp3\n",
      "None\n"
     ]
    }
   ],
   "source": [
    "# df = pd.read_excel('complete_compiled.xlsx')\n",
    "print(df['file_name'][642])\n",
    "print(df['transcription'][642])"
   ]
  },
  {
   "cell_type": "code",
   "execution_count": 20,
   "id": "71784d5b-ef7f-4485-ad65-38c2299bd637",
   "metadata": {},
   "outputs": [
    {
     "data": {
      "text/plain": [
       "0"
      ]
     },
     "execution_count": 20,
     "metadata": {},
     "output_type": "execute_result"
    }
   ],
   "source": [
    "j = 0\n",
    "for i in range(len(df)):\n",
    "    if df['transcription'][i] == '':\n",
    "        df.drop(i, inplace = True)\n",
    "        j+=1\n",
    "j"
   ]
  },
  {
   "cell_type": "code",
   "execution_count": 21,
   "id": "67121829-791e-4242-9938-362f541ab238",
   "metadata": {},
   "outputs": [
    {
     "data": {
      "text/html": [
       "<div>\n",
       "<style scoped>\n",
       "    .dataframe tbody tr th:only-of-type {\n",
       "        vertical-align: middle;\n",
       "    }\n",
       "\n",
       "    .dataframe tbody tr th {\n",
       "        vertical-align: top;\n",
       "    }\n",
       "\n",
       "    .dataframe thead th {\n",
       "        text-align: right;\n",
       "    }\n",
       "</style>\n",
       "<table border=\"1\" class=\"dataframe\">\n",
       "  <thead>\n",
       "    <tr style=\"text-align: right;\">\n",
       "      <th></th>\n",
       "      <th>file_name</th>\n",
       "      <th>transcription</th>\n",
       "    </tr>\n",
       "  </thead>\n",
       "  <tbody>\n",
       "    <tr>\n",
       "      <th>0</th>\n",
       "      <td>./LARGE DATA/larger sample/QF14/GK_swa_u0120_Q...</td>\n",
       "      <td>[foreign-luo] I can buy it because I also what...</td>\n",
       "    </tr>\n",
       "    <tr>\n",
       "      <th>1</th>\n",
       "      <td>./LARGE DATA/larger sample/QF14/GK_swa_u0123_Q...</td>\n",
       "      <td>[?] I would not tell them to [?]</td>\n",
       "    </tr>\n",
       "    <tr>\n",
       "      <th>2</th>\n",
       "      <td>./LARGE DATA/larger sample/QF14/GK_swa_u0126_Q...</td>\n",
       "      <td>I would like to buy it because [p] it would he...</td>\n",
       "    </tr>\n",
       "    <tr>\n",
       "      <th>3</th>\n",
       "      <td>./LARGE DATA/larger sample/QF14/GK_swa_u0134_Q...</td>\n",
       "      <td>It is the responsibility of the internet servi...</td>\n",
       "    </tr>\n",
       "    <tr>\n",
       "      <th>4</th>\n",
       "      <td>./LARGE DATA/larger sample/QF14/GK_swa_u0136_Q...</td>\n",
       "      <td>If it is a tool that can help the I will buy.</td>\n",
       "    </tr>\n",
       "    <tr>\n",
       "      <th>...</th>\n",
       "      <td>...</td>\n",
       "      <td>...</td>\n",
       "    </tr>\n",
       "    <tr>\n",
       "      <th>1179</th>\n",
       "      <td>./Swahili_STT/GK_swa_u0709_QA45.mp3</td>\n",
       "      <td>Safaricom is for Mpesa deposit then Airtel is ...</td>\n",
       "    </tr>\n",
       "    <tr>\n",
       "      <th>1180</th>\n",
       "      <td>./Swahili_STT/GK_swa_u0722_QA45.mp3</td>\n",
       "      <td>Safaricom sim card is for receiving money or d...</td>\n",
       "    </tr>\n",
       "    <tr>\n",
       "      <th>1181</th>\n",
       "      <td>./Swahili_STT/GK_swa_u0750_QA45.mp3</td>\n",
       "      <td>[p] [um] I use one sim card for transactions a...</td>\n",
       "    </tr>\n",
       "    <tr>\n",
       "      <th>1182</th>\n",
       "      <td>./Swahili_STT/GK_swa_u0766_QA44.mp3</td>\n",
       "      <td>Although I have two Safaricoms, they are all o...</td>\n",
       "    </tr>\n",
       "    <tr>\n",
       "      <th>1183</th>\n",
       "      <td>./Swahili_STT/GK_swa_u0766_QA45.mp3</td>\n",
       "      <td>My two Safaricom sim cards are well. I use the...</td>\n",
       "    </tr>\n",
       "  </tbody>\n",
       "</table>\n",
       "<p>1184 rows × 2 columns</p>\n",
       "</div>"
      ],
      "text/plain": [
       "                                              file_name  \\\n",
       "0     ./LARGE DATA/larger sample/QF14/GK_swa_u0120_Q...   \n",
       "1     ./LARGE DATA/larger sample/QF14/GK_swa_u0123_Q...   \n",
       "2     ./LARGE DATA/larger sample/QF14/GK_swa_u0126_Q...   \n",
       "3     ./LARGE DATA/larger sample/QF14/GK_swa_u0134_Q...   \n",
       "4     ./LARGE DATA/larger sample/QF14/GK_swa_u0136_Q...   \n",
       "...                                                 ...   \n",
       "1179                ./Swahili_STT/GK_swa_u0709_QA45.mp3   \n",
       "1180                ./Swahili_STT/GK_swa_u0722_QA45.mp3   \n",
       "1181                ./Swahili_STT/GK_swa_u0750_QA45.mp3   \n",
       "1182                ./Swahili_STT/GK_swa_u0766_QA44.mp3   \n",
       "1183                ./Swahili_STT/GK_swa_u0766_QA45.mp3   \n",
       "\n",
       "                                          transcription  \n",
       "0     [foreign-luo] I can buy it because I also what...  \n",
       "1                      [?] I would not tell them to [?]  \n",
       "2     I would like to buy it because [p] it would he...  \n",
       "3     It is the responsibility of the internet servi...  \n",
       "4         If it is a tool that can help the I will buy.  \n",
       "...                                                 ...  \n",
       "1179  Safaricom is for Mpesa deposit then Airtel is ...  \n",
       "1180  Safaricom sim card is for receiving money or d...  \n",
       "1181  [p] [um] I use one sim card for transactions a...  \n",
       "1182  Although I have two Safaricoms, they are all o...  \n",
       "1183  My two Safaricom sim cards are well. I use the...  \n",
       "\n",
       "[1184 rows x 2 columns]"
      ]
     },
     "execution_count": 21,
     "metadata": {},
     "output_type": "execute_result"
    }
   ],
   "source": [
    "df"
   ]
  },
  {
   "cell_type": "code",
   "execution_count": 22,
   "id": "3ade3a1e",
   "metadata": {},
   "outputs": [],
   "source": [
    "df.dropna(inplace = True)"
   ]
  },
  {
   "cell_type": "code",
   "execution_count": 23,
   "id": "04f0bdfd",
   "metadata": {},
   "outputs": [
    {
     "data": {
      "text/html": [
       "<div>\n",
       "<style scoped>\n",
       "    .dataframe tbody tr th:only-of-type {\n",
       "        vertical-align: middle;\n",
       "    }\n",
       "\n",
       "    .dataframe tbody tr th {\n",
       "        vertical-align: top;\n",
       "    }\n",
       "\n",
       "    .dataframe thead th {\n",
       "        text-align: right;\n",
       "    }\n",
       "</style>\n",
       "<table border=\"1\" class=\"dataframe\">\n",
       "  <thead>\n",
       "    <tr style=\"text-align: right;\">\n",
       "      <th></th>\n",
       "      <th>file_name</th>\n",
       "      <th>transcription</th>\n",
       "    </tr>\n",
       "  </thead>\n",
       "  <tbody>\n",
       "    <tr>\n",
       "      <th>0</th>\n",
       "      <td>./LARGE DATA/larger sample/QF14/GK_swa_u0120_Q...</td>\n",
       "      <td>[foreign-luo] I can buy it because I also what...</td>\n",
       "    </tr>\n",
       "    <tr>\n",
       "      <th>1</th>\n",
       "      <td>./LARGE DATA/larger sample/QF14/GK_swa_u0123_Q...</td>\n",
       "      <td>[?] I would not tell them to [?]</td>\n",
       "    </tr>\n",
       "    <tr>\n",
       "      <th>2</th>\n",
       "      <td>./LARGE DATA/larger sample/QF14/GK_swa_u0126_Q...</td>\n",
       "      <td>I would like to buy it because [p] it would he...</td>\n",
       "    </tr>\n",
       "    <tr>\n",
       "      <th>3</th>\n",
       "      <td>./LARGE DATA/larger sample/QF14/GK_swa_u0134_Q...</td>\n",
       "      <td>It is the responsibility of the internet servi...</td>\n",
       "    </tr>\n",
       "    <tr>\n",
       "      <th>4</th>\n",
       "      <td>./LARGE DATA/larger sample/QF14/GK_swa_u0136_Q...</td>\n",
       "      <td>If it is a tool that can help the I will buy.</td>\n",
       "    </tr>\n",
       "    <tr>\n",
       "      <th>...</th>\n",
       "      <td>...</td>\n",
       "      <td>...</td>\n",
       "    </tr>\n",
       "    <tr>\n",
       "      <th>1179</th>\n",
       "      <td>./Swahili_STT/GK_swa_u0709_QA45.mp3</td>\n",
       "      <td>Safaricom is for Mpesa deposit then Airtel is ...</td>\n",
       "    </tr>\n",
       "    <tr>\n",
       "      <th>1180</th>\n",
       "      <td>./Swahili_STT/GK_swa_u0722_QA45.mp3</td>\n",
       "      <td>Safaricom sim card is for receiving money or d...</td>\n",
       "    </tr>\n",
       "    <tr>\n",
       "      <th>1181</th>\n",
       "      <td>./Swahili_STT/GK_swa_u0750_QA45.mp3</td>\n",
       "      <td>[p] [um] I use one sim card for transactions a...</td>\n",
       "    </tr>\n",
       "    <tr>\n",
       "      <th>1182</th>\n",
       "      <td>./Swahili_STT/GK_swa_u0766_QA44.mp3</td>\n",
       "      <td>Although I have two Safaricoms, they are all o...</td>\n",
       "    </tr>\n",
       "    <tr>\n",
       "      <th>1183</th>\n",
       "      <td>./Swahili_STT/GK_swa_u0766_QA45.mp3</td>\n",
       "      <td>My two Safaricom sim cards are well. I use the...</td>\n",
       "    </tr>\n",
       "  </tbody>\n",
       "</table>\n",
       "<p>1183 rows × 2 columns</p>\n",
       "</div>"
      ],
      "text/plain": [
       "                                              file_name  \\\n",
       "0     ./LARGE DATA/larger sample/QF14/GK_swa_u0120_Q...   \n",
       "1     ./LARGE DATA/larger sample/QF14/GK_swa_u0123_Q...   \n",
       "2     ./LARGE DATA/larger sample/QF14/GK_swa_u0126_Q...   \n",
       "3     ./LARGE DATA/larger sample/QF14/GK_swa_u0134_Q...   \n",
       "4     ./LARGE DATA/larger sample/QF14/GK_swa_u0136_Q...   \n",
       "...                                                 ...   \n",
       "1179                ./Swahili_STT/GK_swa_u0709_QA45.mp3   \n",
       "1180                ./Swahili_STT/GK_swa_u0722_QA45.mp3   \n",
       "1181                ./Swahili_STT/GK_swa_u0750_QA45.mp3   \n",
       "1182                ./Swahili_STT/GK_swa_u0766_QA44.mp3   \n",
       "1183                ./Swahili_STT/GK_swa_u0766_QA45.mp3   \n",
       "\n",
       "                                          transcription  \n",
       "0     [foreign-luo] I can buy it because I also what...  \n",
       "1                      [?] I would not tell them to [?]  \n",
       "2     I would like to buy it because [p] it would he...  \n",
       "3     It is the responsibility of the internet servi...  \n",
       "4         If it is a tool that can help the I will buy.  \n",
       "...                                                 ...  \n",
       "1179  Safaricom is for Mpesa deposit then Airtel is ...  \n",
       "1180  Safaricom sim card is for receiving money or d...  \n",
       "1181  [p] [um] I use one sim card for transactions a...  \n",
       "1182  Although I have two Safaricoms, they are all o...  \n",
       "1183  My two Safaricom sim cards are well. I use the...  \n",
       "\n",
       "[1183 rows x 2 columns]"
      ]
     },
     "execution_count": 23,
     "metadata": {},
     "output_type": "execute_result"
    }
   ],
   "source": [
    "df"
   ]
  },
  {
   "cell_type": "code",
   "execution_count": 24,
   "id": "5fb83aaa-8e22-48d4-950e-97cda43187f7",
   "metadata": {},
   "outputs": [],
   "source": [
    "# j = 0\n",
    "# for i in range(len(df)):\n",
    "#     if df['transcription'][i] == '':\n",
    "#         j+=1\n",
    "# j"
   ]
  },
  {
   "cell_type": "code",
   "execution_count": 25,
   "id": "945caba9-12e3-449e-8789-9e816827da80",
   "metadata": {},
   "outputs": [],
   "source": [
    "df.dropna(inplace = True)"
   ]
  },
  {
   "cell_type": "code",
   "execution_count": 26,
   "id": "0d5fd271",
   "metadata": {},
   "outputs": [],
   "source": [
    "df = df.reset_index()\n",
    "df.drop(columns = ['index'], inplace = True)"
   ]
  },
  {
   "cell_type": "code",
   "execution_count": 27,
   "id": "18893491-031b-4813-a9a4-b95ff033b711",
   "metadata": {},
   "outputs": [
    {
     "data": {
      "text/plain": [
       "32"
      ]
     },
     "execution_count": 27,
     "metadata": {},
     "output_type": "execute_result"
    }
   ],
   "source": [
    "# df.drop(columns = ['index'], inplace = True)\n",
    "len(df['transcription'][1])"
   ]
  },
  {
   "cell_type": "code",
   "execution_count": 28,
   "id": "cfa2442e-8606-49d9-a261-1c7a1c5cb250",
   "metadata": {},
   "outputs": [
    {
     "data": {
      "text/html": [
       "<div>\n",
       "<style scoped>\n",
       "    .dataframe tbody tr th:only-of-type {\n",
       "        vertical-align: middle;\n",
       "    }\n",
       "\n",
       "    .dataframe tbody tr th {\n",
       "        vertical-align: top;\n",
       "    }\n",
       "\n",
       "    .dataframe thead th {\n",
       "        text-align: right;\n",
       "    }\n",
       "</style>\n",
       "<table border=\"1\" class=\"dataframe\">\n",
       "  <thead>\n",
       "    <tr style=\"text-align: right;\">\n",
       "      <th></th>\n",
       "      <th>file_name</th>\n",
       "      <th>transcription</th>\n",
       "    </tr>\n",
       "  </thead>\n",
       "  <tbody>\n",
       "    <tr>\n",
       "      <th>0</th>\n",
       "      <td>./LARGE DATA/larger sample/QF14/GK_swa_u0120_Q...</td>\n",
       "      <td>[foreign-luo] I can buy it because I also what...</td>\n",
       "    </tr>\n",
       "    <tr>\n",
       "      <th>1</th>\n",
       "      <td>./LARGE DATA/larger sample/QF14/GK_swa_u0123_Q...</td>\n",
       "      <td>[?] I would not tell them to [?]</td>\n",
       "    </tr>\n",
       "    <tr>\n",
       "      <th>2</th>\n",
       "      <td>./LARGE DATA/larger sample/QF14/GK_swa_u0126_Q...</td>\n",
       "      <td>I would like to buy it because [p] it would he...</td>\n",
       "    </tr>\n",
       "    <tr>\n",
       "      <th>3</th>\n",
       "      <td>./LARGE DATA/larger sample/QF14/GK_swa_u0134_Q...</td>\n",
       "      <td>It is the responsibility of the internet servi...</td>\n",
       "    </tr>\n",
       "    <tr>\n",
       "      <th>4</th>\n",
       "      <td>./LARGE DATA/larger sample/QF14/GK_swa_u0136_Q...</td>\n",
       "      <td>If it is a tool that can help the I will buy.</td>\n",
       "    </tr>\n",
       "    <tr>\n",
       "      <th>...</th>\n",
       "      <td>...</td>\n",
       "      <td>...</td>\n",
       "    </tr>\n",
       "    <tr>\n",
       "      <th>1178</th>\n",
       "      <td>./Swahili_STT/GK_swa_u0709_QA45.mp3</td>\n",
       "      <td>Safaricom is for Mpesa deposit then Airtel is ...</td>\n",
       "    </tr>\n",
       "    <tr>\n",
       "      <th>1179</th>\n",
       "      <td>./Swahili_STT/GK_swa_u0722_QA45.mp3</td>\n",
       "      <td>Safaricom sim card is for receiving money or d...</td>\n",
       "    </tr>\n",
       "    <tr>\n",
       "      <th>1180</th>\n",
       "      <td>./Swahili_STT/GK_swa_u0750_QA45.mp3</td>\n",
       "      <td>[p] [um] I use one sim card for transactions a...</td>\n",
       "    </tr>\n",
       "    <tr>\n",
       "      <th>1181</th>\n",
       "      <td>./Swahili_STT/GK_swa_u0766_QA44.mp3</td>\n",
       "      <td>Although I have two Safaricoms, they are all o...</td>\n",
       "    </tr>\n",
       "    <tr>\n",
       "      <th>1182</th>\n",
       "      <td>./Swahili_STT/GK_swa_u0766_QA45.mp3</td>\n",
       "      <td>My two Safaricom sim cards are well. I use the...</td>\n",
       "    </tr>\n",
       "  </tbody>\n",
       "</table>\n",
       "<p>1183 rows × 2 columns</p>\n",
       "</div>"
      ],
      "text/plain": [
       "                                              file_name  \\\n",
       "0     ./LARGE DATA/larger sample/QF14/GK_swa_u0120_Q...   \n",
       "1     ./LARGE DATA/larger sample/QF14/GK_swa_u0123_Q...   \n",
       "2     ./LARGE DATA/larger sample/QF14/GK_swa_u0126_Q...   \n",
       "3     ./LARGE DATA/larger sample/QF14/GK_swa_u0134_Q...   \n",
       "4     ./LARGE DATA/larger sample/QF14/GK_swa_u0136_Q...   \n",
       "...                                                 ...   \n",
       "1178                ./Swahili_STT/GK_swa_u0709_QA45.mp3   \n",
       "1179                ./Swahili_STT/GK_swa_u0722_QA45.mp3   \n",
       "1180                ./Swahili_STT/GK_swa_u0750_QA45.mp3   \n",
       "1181                ./Swahili_STT/GK_swa_u0766_QA44.mp3   \n",
       "1182                ./Swahili_STT/GK_swa_u0766_QA45.mp3   \n",
       "\n",
       "                                          transcription  \n",
       "0     [foreign-luo] I can buy it because I also what...  \n",
       "1                      [?] I would not tell them to [?]  \n",
       "2     I would like to buy it because [p] it would he...  \n",
       "3     It is the responsibility of the internet servi...  \n",
       "4         If it is a tool that can help the I will buy.  \n",
       "...                                                 ...  \n",
       "1178  Safaricom is for Mpesa deposit then Airtel is ...  \n",
       "1179  Safaricom sim card is for receiving money or d...  \n",
       "1180  [p] [um] I use one sim card for transactions a...  \n",
       "1181  Although I have two Safaricoms, they are all o...  \n",
       "1182  My two Safaricom sim cards are well. I use the...  \n",
       "\n",
       "[1183 rows x 2 columns]"
      ]
     },
     "execution_count": 28,
     "metadata": {},
     "output_type": "execute_result"
    }
   ],
   "source": [
    "df"
   ]
  },
  {
   "cell_type": "code",
   "execution_count": 29,
   "id": "2922e8c1-706c-4648-979c-a1ed00330ca6",
   "metadata": {},
   "outputs": [],
   "source": [
    "for i in range(len(df)):\n",
    "    if df['transcription'][i].count(\" \") < 5:\n",
    "        df.drop(i, inplace = True)"
   ]
  },
  {
   "cell_type": "code",
   "execution_count": 30,
   "id": "f4b5f1d8-ef7f-4c31-8187-23f9626b2e68",
   "metadata": {},
   "outputs": [
    {
     "data": {
      "text/html": [
       "<div>\n",
       "<style scoped>\n",
       "    .dataframe tbody tr th:only-of-type {\n",
       "        vertical-align: middle;\n",
       "    }\n",
       "\n",
       "    .dataframe tbody tr th {\n",
       "        vertical-align: top;\n",
       "    }\n",
       "\n",
       "    .dataframe thead th {\n",
       "        text-align: right;\n",
       "    }\n",
       "</style>\n",
       "<table border=\"1\" class=\"dataframe\">\n",
       "  <thead>\n",
       "    <tr style=\"text-align: right;\">\n",
       "      <th></th>\n",
       "      <th>file_name</th>\n",
       "      <th>transcription</th>\n",
       "    </tr>\n",
       "  </thead>\n",
       "  <tbody>\n",
       "    <tr>\n",
       "      <th>0</th>\n",
       "      <td>./LARGE DATA/larger sample/QF14/GK_swa_u0120_Q...</td>\n",
       "      <td>[foreign-luo] I can buy it because I also what...</td>\n",
       "    </tr>\n",
       "    <tr>\n",
       "      <th>1</th>\n",
       "      <td>./LARGE DATA/larger sample/QF14/GK_swa_u0123_Q...</td>\n",
       "      <td>[?] I would not tell them to [?]</td>\n",
       "    </tr>\n",
       "    <tr>\n",
       "      <th>2</th>\n",
       "      <td>./LARGE DATA/larger sample/QF14/GK_swa_u0126_Q...</td>\n",
       "      <td>I would like to buy it because [p] it would he...</td>\n",
       "    </tr>\n",
       "    <tr>\n",
       "      <th>3</th>\n",
       "      <td>./LARGE DATA/larger sample/QF14/GK_swa_u0134_Q...</td>\n",
       "      <td>It is the responsibility of the internet servi...</td>\n",
       "    </tr>\n",
       "    <tr>\n",
       "      <th>4</th>\n",
       "      <td>./LARGE DATA/larger sample/QF14/GK_swa_u0136_Q...</td>\n",
       "      <td>If it is a tool that can help the I will buy.</td>\n",
       "    </tr>\n",
       "    <tr>\n",
       "      <th>...</th>\n",
       "      <td>...</td>\n",
       "      <td>...</td>\n",
       "    </tr>\n",
       "    <tr>\n",
       "      <th>1178</th>\n",
       "      <td>./Swahili_STT/GK_swa_u0709_QA45.mp3</td>\n",
       "      <td>Safaricom is for Mpesa deposit then Airtel is ...</td>\n",
       "    </tr>\n",
       "    <tr>\n",
       "      <th>1179</th>\n",
       "      <td>./Swahili_STT/GK_swa_u0722_QA45.mp3</td>\n",
       "      <td>Safaricom sim card is for receiving money or d...</td>\n",
       "    </tr>\n",
       "    <tr>\n",
       "      <th>1180</th>\n",
       "      <td>./Swahili_STT/GK_swa_u0750_QA45.mp3</td>\n",
       "      <td>[p] [um] I use one sim card for transactions a...</td>\n",
       "    </tr>\n",
       "    <tr>\n",
       "      <th>1181</th>\n",
       "      <td>./Swahili_STT/GK_swa_u0766_QA44.mp3</td>\n",
       "      <td>Although I have two Safaricoms, they are all o...</td>\n",
       "    </tr>\n",
       "    <tr>\n",
       "      <th>1182</th>\n",
       "      <td>./Swahili_STT/GK_swa_u0766_QA45.mp3</td>\n",
       "      <td>My two Safaricom sim cards are well. I use the...</td>\n",
       "    </tr>\n",
       "  </tbody>\n",
       "</table>\n",
       "<p>1172 rows × 2 columns</p>\n",
       "</div>"
      ],
      "text/plain": [
       "                                              file_name  \\\n",
       "0     ./LARGE DATA/larger sample/QF14/GK_swa_u0120_Q...   \n",
       "1     ./LARGE DATA/larger sample/QF14/GK_swa_u0123_Q...   \n",
       "2     ./LARGE DATA/larger sample/QF14/GK_swa_u0126_Q...   \n",
       "3     ./LARGE DATA/larger sample/QF14/GK_swa_u0134_Q...   \n",
       "4     ./LARGE DATA/larger sample/QF14/GK_swa_u0136_Q...   \n",
       "...                                                 ...   \n",
       "1178                ./Swahili_STT/GK_swa_u0709_QA45.mp3   \n",
       "1179                ./Swahili_STT/GK_swa_u0722_QA45.mp3   \n",
       "1180                ./Swahili_STT/GK_swa_u0750_QA45.mp3   \n",
       "1181                ./Swahili_STT/GK_swa_u0766_QA44.mp3   \n",
       "1182                ./Swahili_STT/GK_swa_u0766_QA45.mp3   \n",
       "\n",
       "                                          transcription  \n",
       "0     [foreign-luo] I can buy it because I also what...  \n",
       "1                      [?] I would not tell them to [?]  \n",
       "2     I would like to buy it because [p] it would he...  \n",
       "3     It is the responsibility of the internet servi...  \n",
       "4         If it is a tool that can help the I will buy.  \n",
       "...                                                 ...  \n",
       "1178  Safaricom is for Mpesa deposit then Airtel is ...  \n",
       "1179  Safaricom sim card is for receiving money or d...  \n",
       "1180  [p] [um] I use one sim card for transactions a...  \n",
       "1181  Although I have two Safaricoms, they are all o...  \n",
       "1182  My two Safaricom sim cards are well. I use the...  \n",
       "\n",
       "[1172 rows x 2 columns]"
      ]
     },
     "execution_count": 30,
     "metadata": {},
     "output_type": "execute_result"
    }
   ],
   "source": [
    "df"
   ]
  },
  {
   "cell_type": "code",
   "execution_count": 31,
   "id": "ff12579a",
   "metadata": {},
   "outputs": [],
   "source": [
    "df = df.reset_index()"
   ]
  },
  {
   "cell_type": "code",
   "execution_count": 32,
   "id": "ce2bb1c7-ee0f-44a2-b978-796341ab7a97",
   "metadata": {},
   "outputs": [
    {
     "data": {
      "text/plain": [
       "\"In my opinion, I see that she should repay the loan because now it looks like she will lose because no customer She won't allow payment via the phone because of her debt. It would have been better if she repays the debt or she just agrees to repay the debt[?] so that she can look for more customers\""
      ]
     },
     "execution_count": 32,
     "metadata": {},
     "output_type": "execute_result"
    }
   ],
   "source": [
    "df['transcription'][642]"
   ]
  },
  {
   "cell_type": "code",
   "execution_count": 33,
   "id": "5c03bb3a",
   "metadata": {},
   "outputs": [],
   "source": [
    "df.drop(columns = ['index'], inplace = True)"
   ]
  },
  {
   "cell_type": "code",
   "execution_count": 34,
   "id": "8f2ad536-c646-434b-9473-e3cb95b8dddf",
   "metadata": {},
   "outputs": [
    {
     "data": {
      "text/html": [
       "<div>\n",
       "<style scoped>\n",
       "    .dataframe tbody tr th:only-of-type {\n",
       "        vertical-align: middle;\n",
       "    }\n",
       "\n",
       "    .dataframe tbody tr th {\n",
       "        vertical-align: top;\n",
       "    }\n",
       "\n",
       "    .dataframe thead th {\n",
       "        text-align: right;\n",
       "    }\n",
       "</style>\n",
       "<table border=\"1\" class=\"dataframe\">\n",
       "  <thead>\n",
       "    <tr style=\"text-align: right;\">\n",
       "      <th></th>\n",
       "      <th>Unnamed: 0</th>\n",
       "      <th>file_name</th>\n",
       "      <th>transcription</th>\n",
       "    </tr>\n",
       "  </thead>\n",
       "  <tbody>\n",
       "    <tr>\n",
       "      <th>0</th>\n",
       "      <td>0</td>\n",
       "      <td>./Smaller instances/QA10/GK_swa_u0120_QA10.mp3</td>\n",
       "      <td>1984</td>\n",
       "    </tr>\n",
       "    <tr>\n",
       "      <th>1</th>\n",
       "      <td>1</td>\n",
       "      <td>./Smaller instances/QA10/GK_swa_u0123_QA10.mp3</td>\n",
       "      <td>1986</td>\n",
       "    </tr>\n",
       "    <tr>\n",
       "      <th>2</th>\n",
       "      <td>2</td>\n",
       "      <td>./Smaller instances/QA10/GK_swa_u0126_QA10.mp3</td>\n",
       "      <td>1986</td>\n",
       "    </tr>\n",
       "    <tr>\n",
       "      <th>3</th>\n",
       "      <td>3</td>\n",
       "      <td>./Smaller instances/QA10/GK_swa_u0130_QA10.mp3</td>\n",
       "      <td>1992</td>\n",
       "    </tr>\n",
       "    <tr>\n",
       "      <th>4</th>\n",
       "      <td>4</td>\n",
       "      <td>./Smaller instances/QA10/GK_swa_u0134_QA10.mp3</td>\n",
       "      <td>1995</td>\n",
       "    </tr>\n",
       "    <tr>\n",
       "      <th>...</th>\n",
       "      <td>...</td>\n",
       "      <td>...</td>\n",
       "      <td>...</td>\n",
       "    </tr>\n",
       "    <tr>\n",
       "      <th>6986</th>\n",
       "      <td>6986</td>\n",
       "      <td>./Smaller instances/QE90/GK_swa_u0807_QE90.mp3</td>\n",
       "      <td>Once a month, it depends, if its Certificate o...</td>\n",
       "    </tr>\n",
       "    <tr>\n",
       "      <th>6987</th>\n",
       "      <td>6987</td>\n",
       "      <td>./Smaller instances/QE90/GK_swa_u0809_QE90.mp3</td>\n",
       "      <td>I hardly use it, because E C I T I Z E N I reg...</td>\n",
       "    </tr>\n",
       "    <tr>\n",
       "      <th>6988</th>\n",
       "      <td>6988</td>\n",
       "      <td>./Smaller instances/QE93/GK_swa_u0264_QE93.mp3</td>\n",
       "      <td>My doubt is that there are hackers in the worl...</td>\n",
       "    </tr>\n",
       "    <tr>\n",
       "      <th>6989</th>\n",
       "      <td>6989</td>\n",
       "      <td>./Smaller instances/QE93/GK_swa_u0406_QE93.mp3</td>\n",
       "      <td>Information</td>\n",
       "    </tr>\n",
       "    <tr>\n",
       "      <th>6990</th>\n",
       "      <td>6990</td>\n",
       "      <td>./Smaller instances/QE93/GK_swa_u0501_QE93.mp3</td>\n",
       "      <td>At other times you can apply for any governmen...</td>\n",
       "    </tr>\n",
       "  </tbody>\n",
       "</table>\n",
       "<p>6991 rows × 3 columns</p>\n",
       "</div>"
      ],
      "text/plain": [
       "      Unnamed: 0                                       file_name  \\\n",
       "0              0  ./Smaller instances/QA10/GK_swa_u0120_QA10.mp3   \n",
       "1              1  ./Smaller instances/QA10/GK_swa_u0123_QA10.mp3   \n",
       "2              2  ./Smaller instances/QA10/GK_swa_u0126_QA10.mp3   \n",
       "3              3  ./Smaller instances/QA10/GK_swa_u0130_QA10.mp3   \n",
       "4              4  ./Smaller instances/QA10/GK_swa_u0134_QA10.mp3   \n",
       "...          ...                                             ...   \n",
       "6986        6986  ./Smaller instances/QE90/GK_swa_u0807_QE90.mp3   \n",
       "6987        6987  ./Smaller instances/QE90/GK_swa_u0809_QE90.mp3   \n",
       "6988        6988  ./Smaller instances/QE93/GK_swa_u0264_QE93.mp3   \n",
       "6989        6989  ./Smaller instances/QE93/GK_swa_u0406_QE93.mp3   \n",
       "6990        6990  ./Smaller instances/QE93/GK_swa_u0501_QE93.mp3   \n",
       "\n",
       "                                          transcription  \n",
       "0                                                  1984  \n",
       "1                                                  1986  \n",
       "2                                                  1986  \n",
       "3                                                  1992  \n",
       "4                                                  1995  \n",
       "...                                                 ...  \n",
       "6986  Once a month, it depends, if its Certificate o...  \n",
       "6987  I hardly use it, because E C I T I Z E N I reg...  \n",
       "6988  My doubt is that there are hackers in the worl...  \n",
       "6989                                        Information  \n",
       "6990  At other times you can apply for any governmen...  \n",
       "\n",
       "[6991 rows x 3 columns]"
      ]
     },
     "execution_count": 34,
     "metadata": {},
     "output_type": "execute_result"
    }
   ],
   "source": [
    "sf = pd.read_excel(\"large_subset_small_instance.xlsx\")\n",
    "sf"
   ]
  },
  {
   "cell_type": "code",
   "execution_count": 35,
   "id": "4ee4732c-a04e-447e-aa28-30b8c974820a",
   "metadata": {},
   "outputs": [
    {
     "data": {
      "text/html": [
       "<div>\n",
       "<style scoped>\n",
       "    .dataframe tbody tr th:only-of-type {\n",
       "        vertical-align: middle;\n",
       "    }\n",
       "\n",
       "    .dataframe tbody tr th {\n",
       "        vertical-align: top;\n",
       "    }\n",
       "\n",
       "    .dataframe thead th {\n",
       "        text-align: right;\n",
       "    }\n",
       "</style>\n",
       "<table border=\"1\" class=\"dataframe\">\n",
       "  <thead>\n",
       "    <tr style=\"text-align: right;\">\n",
       "      <th></th>\n",
       "      <th>file_name</th>\n",
       "      <th>transcription</th>\n",
       "    </tr>\n",
       "  </thead>\n",
       "  <tbody>\n",
       "    <tr>\n",
       "      <th>0</th>\n",
       "      <td>./Smaller instances/QA10/GK_swa_u0120_QA10.mp3</td>\n",
       "      <td>1984</td>\n",
       "    </tr>\n",
       "    <tr>\n",
       "      <th>1</th>\n",
       "      <td>./Smaller instances/QA10/GK_swa_u0123_QA10.mp3</td>\n",
       "      <td>1986</td>\n",
       "    </tr>\n",
       "    <tr>\n",
       "      <th>2</th>\n",
       "      <td>./Smaller instances/QA10/GK_swa_u0126_QA10.mp3</td>\n",
       "      <td>1986</td>\n",
       "    </tr>\n",
       "    <tr>\n",
       "      <th>3</th>\n",
       "      <td>./Smaller instances/QA10/GK_swa_u0130_QA10.mp3</td>\n",
       "      <td>1992</td>\n",
       "    </tr>\n",
       "    <tr>\n",
       "      <th>4</th>\n",
       "      <td>./Smaller instances/QA10/GK_swa_u0134_QA10.mp3</td>\n",
       "      <td>1995</td>\n",
       "    </tr>\n",
       "    <tr>\n",
       "      <th>...</th>\n",
       "      <td>...</td>\n",
       "      <td>...</td>\n",
       "    </tr>\n",
       "    <tr>\n",
       "      <th>6986</th>\n",
       "      <td>./Smaller instances/QE90/GK_swa_u0807_QE90.mp3</td>\n",
       "      <td>Once a month, it depends, if its Certificate o...</td>\n",
       "    </tr>\n",
       "    <tr>\n",
       "      <th>6987</th>\n",
       "      <td>./Smaller instances/QE90/GK_swa_u0809_QE90.mp3</td>\n",
       "      <td>I hardly use it, because E C I T I Z E N I reg...</td>\n",
       "    </tr>\n",
       "    <tr>\n",
       "      <th>6988</th>\n",
       "      <td>./Smaller instances/QE93/GK_swa_u0264_QE93.mp3</td>\n",
       "      <td>My doubt is that there are hackers in the worl...</td>\n",
       "    </tr>\n",
       "    <tr>\n",
       "      <th>6989</th>\n",
       "      <td>./Smaller instances/QE93/GK_swa_u0406_QE93.mp3</td>\n",
       "      <td>Information</td>\n",
       "    </tr>\n",
       "    <tr>\n",
       "      <th>6990</th>\n",
       "      <td>./Smaller instances/QE93/GK_swa_u0501_QE93.mp3</td>\n",
       "      <td>At other times you can apply for any governmen...</td>\n",
       "    </tr>\n",
       "  </tbody>\n",
       "</table>\n",
       "<p>6991 rows × 2 columns</p>\n",
       "</div>"
      ],
      "text/plain": [
       "                                           file_name  \\\n",
       "0     ./Smaller instances/QA10/GK_swa_u0120_QA10.mp3   \n",
       "1     ./Smaller instances/QA10/GK_swa_u0123_QA10.mp3   \n",
       "2     ./Smaller instances/QA10/GK_swa_u0126_QA10.mp3   \n",
       "3     ./Smaller instances/QA10/GK_swa_u0130_QA10.mp3   \n",
       "4     ./Smaller instances/QA10/GK_swa_u0134_QA10.mp3   \n",
       "...                                              ...   \n",
       "6986  ./Smaller instances/QE90/GK_swa_u0807_QE90.mp3   \n",
       "6987  ./Smaller instances/QE90/GK_swa_u0809_QE90.mp3   \n",
       "6988  ./Smaller instances/QE93/GK_swa_u0264_QE93.mp3   \n",
       "6989  ./Smaller instances/QE93/GK_swa_u0406_QE93.mp3   \n",
       "6990  ./Smaller instances/QE93/GK_swa_u0501_QE93.mp3   \n",
       "\n",
       "                                          transcription  \n",
       "0                                                  1984  \n",
       "1                                                  1986  \n",
       "2                                                  1986  \n",
       "3                                                  1992  \n",
       "4                                                  1995  \n",
       "...                                                 ...  \n",
       "6986  Once a month, it depends, if its Certificate o...  \n",
       "6987  I hardly use it, because E C I T I Z E N I reg...  \n",
       "6988  My doubt is that there are hackers in the worl...  \n",
       "6989                                        Information  \n",
       "6990  At other times you can apply for any governmen...  \n",
       "\n",
       "[6991 rows x 2 columns]"
      ]
     },
     "execution_count": 35,
     "metadata": {},
     "output_type": "execute_result"
    }
   ],
   "source": [
    "sf.drop(columns = ['Unnamed: 0'], inplace = True)\n",
    "sf"
   ]
  },
  {
   "cell_type": "code",
   "execution_count": 36,
   "id": "b35a3d32-dbb7-4a80-bd10-baaed8e2f73b",
   "metadata": {},
   "outputs": [
    {
     "name": "stdout",
     "output_type": "stream",
     "text": [
      "n\n",
      "n\n",
      "n\n",
      "n\n",
      "n\n",
      "s\n",
      "n\n",
      "n\n",
      "n\n",
      "n\n"
     ]
    }
   ],
   "source": [
    "for i in range(len(sf)):\n",
    "    if sf['transcription'][i] == '.':\n",
    "        sf.drop(i, inplace = True)\n",
    "        print(\"n\")\n",
    "    elif sf['transcription'][i] == '. . . . . . . . . . . . . . . . . . . . . . . . . . . . . . . . . . . . . . . . . .':\n",
    "        sf.drop(i, inplace = True)\n",
    "        print('s')"
   ]
  },
  {
   "cell_type": "code",
   "execution_count": 37,
   "id": "40f94877-f071-41fd-ac0b-2da9a8fff0dc",
   "metadata": {},
   "outputs": [],
   "source": [
    "sf.reset_index(inplace = True)\n",
    "sf.drop(columns = ['index'], inplace = True)"
   ]
  },
  {
   "cell_type": "code",
   "execution_count": 38,
   "id": "6bbff5b3-63e5-49b7-b61c-4101f21f7d7c",
   "metadata": {},
   "outputs": [],
   "source": [
    "df = pd.concat([df, sf], ignore_index = True)\n",
    "df.reset_index(inplace = True)\n",
    "df.drop(columns = ['index'], inplace = True)"
   ]
  },
  {
   "cell_type": "code",
   "execution_count": 39,
   "id": "9ea36e42-6795-4cb4-ad36-0173409883ac",
   "metadata": {},
   "outputs": [
    {
     "data": {
      "text/html": [
       "<div>\n",
       "<style scoped>\n",
       "    .dataframe tbody tr th:only-of-type {\n",
       "        vertical-align: middle;\n",
       "    }\n",
       "\n",
       "    .dataframe tbody tr th {\n",
       "        vertical-align: top;\n",
       "    }\n",
       "\n",
       "    .dataframe thead th {\n",
       "        text-align: right;\n",
       "    }\n",
       "</style>\n",
       "<table border=\"1\" class=\"dataframe\">\n",
       "  <thead>\n",
       "    <tr style=\"text-align: right;\">\n",
       "      <th></th>\n",
       "      <th>file_name</th>\n",
       "      <th>transcription</th>\n",
       "    </tr>\n",
       "  </thead>\n",
       "  <tbody>\n",
       "    <tr>\n",
       "      <th>0</th>\n",
       "      <td>./LARGE DATA/larger sample/QF14/GK_swa_u0120_Q...</td>\n",
       "      <td>[foreign-luo] I can buy it because I also what...</td>\n",
       "    </tr>\n",
       "    <tr>\n",
       "      <th>1</th>\n",
       "      <td>./LARGE DATA/larger sample/QF14/GK_swa_u0123_Q...</td>\n",
       "      <td>[?] I would not tell them to [?]</td>\n",
       "    </tr>\n",
       "    <tr>\n",
       "      <th>2</th>\n",
       "      <td>./LARGE DATA/larger sample/QF14/GK_swa_u0126_Q...</td>\n",
       "      <td>I would like to buy it because [p] it would he...</td>\n",
       "    </tr>\n",
       "    <tr>\n",
       "      <th>3</th>\n",
       "      <td>./LARGE DATA/larger sample/QF14/GK_swa_u0134_Q...</td>\n",
       "      <td>It is the responsibility of the internet servi...</td>\n",
       "    </tr>\n",
       "    <tr>\n",
       "      <th>4</th>\n",
       "      <td>./LARGE DATA/larger sample/QF14/GK_swa_u0136_Q...</td>\n",
       "      <td>If it is a tool that can help the I will buy.</td>\n",
       "    </tr>\n",
       "    <tr>\n",
       "      <th>...</th>\n",
       "      <td>...</td>\n",
       "      <td>...</td>\n",
       "    </tr>\n",
       "    <tr>\n",
       "      <th>8148</th>\n",
       "      <td>./Smaller instances/QE90/GK_swa_u0807_QE90.mp3</td>\n",
       "      <td>Once a month, it depends, if its Certificate o...</td>\n",
       "    </tr>\n",
       "    <tr>\n",
       "      <th>8149</th>\n",
       "      <td>./Smaller instances/QE90/GK_swa_u0809_QE90.mp3</td>\n",
       "      <td>I hardly use it, because E C I T I Z E N I reg...</td>\n",
       "    </tr>\n",
       "    <tr>\n",
       "      <th>8150</th>\n",
       "      <td>./Smaller instances/QE93/GK_swa_u0264_QE93.mp3</td>\n",
       "      <td>My doubt is that there are hackers in the worl...</td>\n",
       "    </tr>\n",
       "    <tr>\n",
       "      <th>8151</th>\n",
       "      <td>./Smaller instances/QE93/GK_swa_u0406_QE93.mp3</td>\n",
       "      <td>Information</td>\n",
       "    </tr>\n",
       "    <tr>\n",
       "      <th>8152</th>\n",
       "      <td>./Smaller instances/QE93/GK_swa_u0501_QE93.mp3</td>\n",
       "      <td>At other times you can apply for any governmen...</td>\n",
       "    </tr>\n",
       "  </tbody>\n",
       "</table>\n",
       "<p>8153 rows × 2 columns</p>\n",
       "</div>"
      ],
      "text/plain": [
       "                                              file_name  \\\n",
       "0     ./LARGE DATA/larger sample/QF14/GK_swa_u0120_Q...   \n",
       "1     ./LARGE DATA/larger sample/QF14/GK_swa_u0123_Q...   \n",
       "2     ./LARGE DATA/larger sample/QF14/GK_swa_u0126_Q...   \n",
       "3     ./LARGE DATA/larger sample/QF14/GK_swa_u0134_Q...   \n",
       "4     ./LARGE DATA/larger sample/QF14/GK_swa_u0136_Q...   \n",
       "...                                                 ...   \n",
       "8148     ./Smaller instances/QE90/GK_swa_u0807_QE90.mp3   \n",
       "8149     ./Smaller instances/QE90/GK_swa_u0809_QE90.mp3   \n",
       "8150     ./Smaller instances/QE93/GK_swa_u0264_QE93.mp3   \n",
       "8151     ./Smaller instances/QE93/GK_swa_u0406_QE93.mp3   \n",
       "8152     ./Smaller instances/QE93/GK_swa_u0501_QE93.mp3   \n",
       "\n",
       "                                          transcription  \n",
       "0     [foreign-luo] I can buy it because I also what...  \n",
       "1                      [?] I would not tell them to [?]  \n",
       "2     I would like to buy it because [p] it would he...  \n",
       "3     It is the responsibility of the internet servi...  \n",
       "4         If it is a tool that can help the I will buy.  \n",
       "...                                                 ...  \n",
       "8148  Once a month, it depends, if its Certificate o...  \n",
       "8149  I hardly use it, because E C I T I Z E N I reg...  \n",
       "8150  My doubt is that there are hackers in the worl...  \n",
       "8151                                        Information  \n",
       "8152  At other times you can apply for any governmen...  \n",
       "\n",
       "[8153 rows x 2 columns]"
      ]
     },
     "execution_count": 39,
     "metadata": {},
     "output_type": "execute_result"
    }
   ],
   "source": [
    "df"
   ]
  },
  {
   "cell_type": "code",
   "execution_count": 40,
   "id": "4068e46a-051a-4953-ba8c-8ed85509b386",
   "metadata": {},
   "outputs": [],
   "source": [
    "# df.drop(columns = ['level_0'], inplace = True)"
   ]
  },
  {
   "cell_type": "code",
   "execution_count": 41,
   "id": "33dcb612",
   "metadata": {
    "scrolled": true
   },
   "outputs": [],
   "source": [
    "df = st_pre(df)"
   ]
  },
  {
   "cell_type": "code",
   "execution_count": 42,
   "id": "8b01c21b",
   "metadata": {},
   "outputs": [
    {
     "data": {
      "text/html": [
       "<div>\n",
       "<style scoped>\n",
       "    .dataframe tbody tr th:only-of-type {\n",
       "        vertical-align: middle;\n",
       "    }\n",
       "\n",
       "    .dataframe tbody tr th {\n",
       "        vertical-align: top;\n",
       "    }\n",
       "\n",
       "    .dataframe thead th {\n",
       "        text-align: right;\n",
       "    }\n",
       "</style>\n",
       "<table border=\"1\" class=\"dataframe\">\n",
       "  <thead>\n",
       "    <tr style=\"text-align: right;\">\n",
       "      <th></th>\n",
       "      <th>file_name</th>\n",
       "      <th>transcription</th>\n",
       "    </tr>\n",
       "  </thead>\n",
       "  <tbody>\n",
       "    <tr>\n",
       "      <th>0</th>\n",
       "      <td>./LARGE DATA/larger sample/QF14/GK_swa_u0120_Q...</td>\n",
       "      <td>I can buy it because I also what phone theft t...</td>\n",
       "    </tr>\n",
       "    <tr>\n",
       "      <th>1</th>\n",
       "      <td>./LARGE DATA/larger sample/QF14/GK_swa_u0123_Q...</td>\n",
       "      <td>I would not tell them to</td>\n",
       "    </tr>\n",
       "    <tr>\n",
       "      <th>2</th>\n",
       "      <td>./LARGE DATA/larger sample/QF14/GK_swa_u0126_Q...</td>\n",
       "      <td>I would like to buy it because it would help m...</td>\n",
       "    </tr>\n",
       "    <tr>\n",
       "      <th>3</th>\n",
       "      <td>./LARGE DATA/larger sample/QF14/GK_swa_u0134_Q...</td>\n",
       "      <td>It is the responsibility of the internet servi...</td>\n",
       "    </tr>\n",
       "    <tr>\n",
       "      <th>4</th>\n",
       "      <td>./LARGE DATA/larger sample/QF14/GK_swa_u0136_Q...</td>\n",
       "      <td>If it is a tool that can help the I will buy.</td>\n",
       "    </tr>\n",
       "    <tr>\n",
       "      <th>...</th>\n",
       "      <td>...</td>\n",
       "      <td>...</td>\n",
       "    </tr>\n",
       "    <tr>\n",
       "      <th>8148</th>\n",
       "      <td>./Smaller instances/QE90/GK_swa_u0807_QE90.mp3</td>\n",
       "      <td>Once a month, it depends, if its Certificate o...</td>\n",
       "    </tr>\n",
       "    <tr>\n",
       "      <th>8149</th>\n",
       "      <td>./Smaller instances/QE90/GK_swa_u0809_QE90.mp3</td>\n",
       "      <td>I hardly use it, because E C I T I Z E N I reg...</td>\n",
       "    </tr>\n",
       "    <tr>\n",
       "      <th>8150</th>\n",
       "      <td>./Smaller instances/QE93/GK_swa_u0264_QE93.mp3</td>\n",
       "      <td>My doubt is that there are hackers in the worl...</td>\n",
       "    </tr>\n",
       "    <tr>\n",
       "      <th>8151</th>\n",
       "      <td>./Smaller instances/QE93/GK_swa_u0406_QE93.mp3</td>\n",
       "      <td>Information</td>\n",
       "    </tr>\n",
       "    <tr>\n",
       "      <th>8152</th>\n",
       "      <td>./Smaller instances/QE93/GK_swa_u0501_QE93.mp3</td>\n",
       "      <td>At other times you can apply for any governmen...</td>\n",
       "    </tr>\n",
       "  </tbody>\n",
       "</table>\n",
       "<p>8153 rows × 2 columns</p>\n",
       "</div>"
      ],
      "text/plain": [
       "                                              file_name  \\\n",
       "0     ./LARGE DATA/larger sample/QF14/GK_swa_u0120_Q...   \n",
       "1     ./LARGE DATA/larger sample/QF14/GK_swa_u0123_Q...   \n",
       "2     ./LARGE DATA/larger sample/QF14/GK_swa_u0126_Q...   \n",
       "3     ./LARGE DATA/larger sample/QF14/GK_swa_u0134_Q...   \n",
       "4     ./LARGE DATA/larger sample/QF14/GK_swa_u0136_Q...   \n",
       "...                                                 ...   \n",
       "8148     ./Smaller instances/QE90/GK_swa_u0807_QE90.mp3   \n",
       "8149     ./Smaller instances/QE90/GK_swa_u0809_QE90.mp3   \n",
       "8150     ./Smaller instances/QE93/GK_swa_u0264_QE93.mp3   \n",
       "8151     ./Smaller instances/QE93/GK_swa_u0406_QE93.mp3   \n",
       "8152     ./Smaller instances/QE93/GK_swa_u0501_QE93.mp3   \n",
       "\n",
       "                                          transcription  \n",
       "0     I can buy it because I also what phone theft t...  \n",
       "1                              I would not tell them to  \n",
       "2     I would like to buy it because it would help m...  \n",
       "3     It is the responsibility of the internet servi...  \n",
       "4         If it is a tool that can help the I will buy.  \n",
       "...                                                 ...  \n",
       "8148  Once a month, it depends, if its Certificate o...  \n",
       "8149  I hardly use it, because E C I T I Z E N I reg...  \n",
       "8150  My doubt is that there are hackers in the worl...  \n",
       "8151                                        Information  \n",
       "8152  At other times you can apply for any governmen...  \n",
       "\n",
       "[8153 rows x 2 columns]"
      ]
     },
     "execution_count": 42,
     "metadata": {},
     "output_type": "execute_result"
    }
   ],
   "source": [
    "df"
   ]
  },
  {
   "cell_type": "code",
   "execution_count": 43,
   "id": "6ea6394f-a3ea-4c26-b731-385f48a00839",
   "metadata": {},
   "outputs": [
    {
     "data": {
      "text/plain": [
       "1"
      ]
     },
     "execution_count": 43,
     "metadata": {},
     "output_type": "execute_result"
    }
   ],
   "source": [
    "j = 0\n",
    "for i in range(len(df)):\n",
    "    if df['transcription'][i] == '':\n",
    "        df.drop(i, inplace = True)\n",
    "        j+=1\n",
    "j"
   ]
  },
  {
   "cell_type": "code",
   "execution_count": 44,
   "id": "dc6c68ee-e804-451e-bdc4-f6f36ef64120",
   "metadata": {},
   "outputs": [],
   "source": [
    "df = df.reset_index()"
   ]
  },
  {
   "cell_type": "code",
   "execution_count": 45,
   "id": "72928829-0ae4-4b8d-ba92-80c90747e561",
   "metadata": {},
   "outputs": [],
   "source": [
    "df = df.drop(['index'], axis = 1)"
   ]
  },
  {
   "cell_type": "code",
   "execution_count": 46,
   "id": "49b7b4a8-0801-467d-93e9-4fb44b3b961f",
   "metadata": {},
   "outputs": [],
   "source": [
    "# df = df.drop('level_0', axis = 1)"
   ]
  },
  {
   "cell_type": "code",
   "execution_count": 47,
   "id": "2b4cd401-c74a-4610-bffc-5043acd02412",
   "metadata": {},
   "outputs": [
    {
     "data": {
      "text/html": [
       "<div>\n",
       "<style scoped>\n",
       "    .dataframe tbody tr th:only-of-type {\n",
       "        vertical-align: middle;\n",
       "    }\n",
       "\n",
       "    .dataframe tbody tr th {\n",
       "        vertical-align: top;\n",
       "    }\n",
       "\n",
       "    .dataframe thead th {\n",
       "        text-align: right;\n",
       "    }\n",
       "</style>\n",
       "<table border=\"1\" class=\"dataframe\">\n",
       "  <thead>\n",
       "    <tr style=\"text-align: right;\">\n",
       "      <th></th>\n",
       "      <th>file_name</th>\n",
       "      <th>transcription</th>\n",
       "    </tr>\n",
       "  </thead>\n",
       "  <tbody>\n",
       "    <tr>\n",
       "      <th>0</th>\n",
       "      <td>./LARGE DATA/larger sample/QF14/GK_swa_u0120_Q...</td>\n",
       "      <td>I can buy it because I also what phone theft t...</td>\n",
       "    </tr>\n",
       "    <tr>\n",
       "      <th>1</th>\n",
       "      <td>./LARGE DATA/larger sample/QF14/GK_swa_u0123_Q...</td>\n",
       "      <td>I would not tell them to</td>\n",
       "    </tr>\n",
       "    <tr>\n",
       "      <th>2</th>\n",
       "      <td>./LARGE DATA/larger sample/QF14/GK_swa_u0126_Q...</td>\n",
       "      <td>I would like to buy it because it would help m...</td>\n",
       "    </tr>\n",
       "    <tr>\n",
       "      <th>3</th>\n",
       "      <td>./LARGE DATA/larger sample/QF14/GK_swa_u0134_Q...</td>\n",
       "      <td>It is the responsibility of the internet servi...</td>\n",
       "    </tr>\n",
       "    <tr>\n",
       "      <th>4</th>\n",
       "      <td>./LARGE DATA/larger sample/QF14/GK_swa_u0136_Q...</td>\n",
       "      <td>If it is a tool that can help the I will buy.</td>\n",
       "    </tr>\n",
       "    <tr>\n",
       "      <th>...</th>\n",
       "      <td>...</td>\n",
       "      <td>...</td>\n",
       "    </tr>\n",
       "    <tr>\n",
       "      <th>8147</th>\n",
       "      <td>./Smaller instances/QE90/GK_swa_u0807_QE90.mp3</td>\n",
       "      <td>Once a month, it depends, if its Certificate o...</td>\n",
       "    </tr>\n",
       "    <tr>\n",
       "      <th>8148</th>\n",
       "      <td>./Smaller instances/QE90/GK_swa_u0809_QE90.mp3</td>\n",
       "      <td>I hardly use it, because E C I T I Z E N I reg...</td>\n",
       "    </tr>\n",
       "    <tr>\n",
       "      <th>8149</th>\n",
       "      <td>./Smaller instances/QE93/GK_swa_u0264_QE93.mp3</td>\n",
       "      <td>My doubt is that there are hackers in the worl...</td>\n",
       "    </tr>\n",
       "    <tr>\n",
       "      <th>8150</th>\n",
       "      <td>./Smaller instances/QE93/GK_swa_u0406_QE93.mp3</td>\n",
       "      <td>Information</td>\n",
       "    </tr>\n",
       "    <tr>\n",
       "      <th>8151</th>\n",
       "      <td>./Smaller instances/QE93/GK_swa_u0501_QE93.mp3</td>\n",
       "      <td>At other times you can apply for any governmen...</td>\n",
       "    </tr>\n",
       "  </tbody>\n",
       "</table>\n",
       "<p>8152 rows × 2 columns</p>\n",
       "</div>"
      ],
      "text/plain": [
       "                                              file_name  \\\n",
       "0     ./LARGE DATA/larger sample/QF14/GK_swa_u0120_Q...   \n",
       "1     ./LARGE DATA/larger sample/QF14/GK_swa_u0123_Q...   \n",
       "2     ./LARGE DATA/larger sample/QF14/GK_swa_u0126_Q...   \n",
       "3     ./LARGE DATA/larger sample/QF14/GK_swa_u0134_Q...   \n",
       "4     ./LARGE DATA/larger sample/QF14/GK_swa_u0136_Q...   \n",
       "...                                                 ...   \n",
       "8147     ./Smaller instances/QE90/GK_swa_u0807_QE90.mp3   \n",
       "8148     ./Smaller instances/QE90/GK_swa_u0809_QE90.mp3   \n",
       "8149     ./Smaller instances/QE93/GK_swa_u0264_QE93.mp3   \n",
       "8150     ./Smaller instances/QE93/GK_swa_u0406_QE93.mp3   \n",
       "8151     ./Smaller instances/QE93/GK_swa_u0501_QE93.mp3   \n",
       "\n",
       "                                          transcription  \n",
       "0     I can buy it because I also what phone theft t...  \n",
       "1                              I would not tell them to  \n",
       "2     I would like to buy it because it would help m...  \n",
       "3     It is the responsibility of the internet servi...  \n",
       "4         If it is a tool that can help the I will buy.  \n",
       "...                                                 ...  \n",
       "8147  Once a month, it depends, if its Certificate o...  \n",
       "8148  I hardly use it, because E C I T I Z E N I reg...  \n",
       "8149  My doubt is that there are hackers in the worl...  \n",
       "8150                                        Information  \n",
       "8151  At other times you can apply for any governmen...  \n",
       "\n",
       "[8152 rows x 2 columns]"
      ]
     },
     "execution_count": 47,
     "metadata": {},
     "output_type": "execute_result"
    }
   ],
   "source": [
    "df"
   ]
  },
  {
   "cell_type": "code",
   "execution_count": 48,
   "id": "47150dd5-ee75-4fcc-8853-c625e30f4cf7",
   "metadata": {},
   "outputs": [
    {
     "name": "stdout",
     "output_type": "stream",
     "text": [
      "./LARGE DATA/larger sample/QF14/GK_swa_u0754_QF14.mp3\n"
     ]
    },
    {
     "data": {
      "text/plain": [
       "\"I really have no idea about that, but I think, I don't know\""
      ]
     },
     "execution_count": 48,
     "metadata": {},
     "output_type": "execute_result"
    }
   ],
   "source": [
    "print(df['file_name'][200])\n",
    "df['transcription'][200]"
   ]
  },
  {
   "cell_type": "code",
   "execution_count": 49,
   "id": "25301959-6d0a-4906-b2e7-ac541e0d77a4",
   "metadata": {},
   "outputs": [
    {
     "name": "stdout",
     "output_type": "stream",
     "text": [
      "./LARGE DATA/larger sample/QH11/GK_swa_u0602_QH11.mp3\n"
     ]
    },
    {
     "data": {
      "text/plain": [
       "'Benefits are that it makes you it makes you exposed to many people In the whole country and the world so a lot of people could know Your products and decide to purchase them and also begin to believe that your products are good.'"
      ]
     },
     "execution_count": 49,
     "metadata": {},
     "output_type": "execute_result"
    }
   ],
   "source": [
    "print(df['file_name'][800])\n",
    "df['transcription'][800]"
   ]
  },
  {
   "cell_type": "code",
   "execution_count": 50,
   "id": "313ec692-c44c-4347-b0bd-d5fdaf5e0598",
   "metadata": {},
   "outputs": [
    {
     "name": "stdout",
     "output_type": "stream",
     "text": [
      "./LARGE DATA/larger sample/QH11/GK_swa_u0603_QH11.mp3\n"
     ]
    },
    {
     "data": {
      "text/plain": [
       "'I feel like they are there in the business to reach people and by the end of the day there is a purchase And people that sent the money were customers you had not planned for It has importance after all there are challenges But at the end of the day you will get clients'"
      ]
     },
     "execution_count": 50,
     "metadata": {},
     "output_type": "execute_result"
    }
   ],
   "source": [
    "print(df['file_name'][801])\n",
    "df['transcription'][801]"
   ]
  },
  {
   "cell_type": "code",
   "execution_count": 51,
   "id": "6c86dec5-42ce-48ff-b2b1-6bf00312227a",
   "metadata": {},
   "outputs": [
    {
     "name": "stdout",
     "output_type": "stream",
     "text": [
      "./LARGE DATA/larger sample/QG17/GK_swa_u0284_QG17.mp3\n"
     ]
    },
    {
     "data": {
      "text/plain": [
       "'I have an opinion that Moraa needs to repay her loan so that her limit increases She can get her limit has increased and be able to buy products to stock to her shop'"
      ]
     },
     "execution_count": 51,
     "metadata": {},
     "output_type": "execute_result"
    }
   ],
   "source": [
    "print(df['file_name'][501])\n",
    "df['transcription'][501]"
   ]
  },
  {
   "cell_type": "code",
   "execution_count": 52,
   "id": "7970addd-c39f-4a3a-88a7-f2618a27e341",
   "metadata": {},
   "outputs": [
    {
     "name": "stdout",
     "output_type": "stream",
     "text": [
      "./LARGE DATA/larger sample/QG17/GK_swa_u0774_QG17.mp3\n"
     ]
    },
    {
     "data": {
      "text/plain": [
       "\"I only find it as a reason, My opinion is that Moraa hasn't Has not been exposed. If she could be well conversant with business, she could have a 'Lipa na Mpesa'. If She had the 'Lipa na Mpesa', they would use the till number. That money Obviously can not be reversed because it goes to Safaricom. So, I think Moraa didn't use her mind when opening her business\""
      ]
     },
     "execution_count": 52,
     "metadata": {},
     "output_type": "execute_result"
    }
   ],
   "source": [
    "print(df['file_name'][666])\n",
    "df['transcription'][666]"
   ]
  },
  {
   "cell_type": "code",
   "execution_count": 53,
   "id": "55b0bb69",
   "metadata": {},
   "outputs": [
    {
     "name": "stdout",
     "output_type": "stream",
     "text": [
      "./LARGE DATA/larger sample/QF14/GK_swa_u0804_QF14.mp3\n"
     ]
    },
    {
     "data": {
      "text/plain": [
       "\"I haven't known about such a service\""
      ]
     },
     "execution_count": 53,
     "metadata": {},
     "output_type": "execute_result"
    }
   ],
   "source": [
    "print(df['file_name'][234])\n",
    "df['transcription'][234]"
   ]
  },
  {
   "cell_type": "code",
   "execution_count": 54,
   "id": "a1ba67c7",
   "metadata": {},
   "outputs": [
    {
     "name": "stdout",
     "output_type": "stream",
     "text": [
      "./LARGE DATA/larger sample/QF18/GK_swa_u0788_QF18.mp3\n"
     ]
    },
    {
     "data": {
      "text/plain": [
       "\"If I check, I can't say There are two different ways to check them. One, it will be okay to increase that loan because You'll find that they even give someone permission to borrow more. if I really have the ability to pay. If you look at it from the other side, it is not right to increase the limit Because that will now make a person have the desire to take more loans, and maybe he does not have the ability to pay\""
      ]
     },
     "execution_count": 54,
     "metadata": {},
     "output_type": "execute_result"
    }
   ],
   "source": [
    "print(df['file_name'][456])\n",
    "df['transcription'][456]"
   ]
  },
  {
   "cell_type": "code",
   "execution_count": 55,
   "id": "f2b4ccbf-aae8-484f-b470-a4749cdf0634",
   "metadata": {},
   "outputs": [
    {
     "data": {
      "text/plain": [
       "'y'"
      ]
     },
     "execution_count": 55,
     "metadata": {},
     "output_type": "execute_result"
    }
   ],
   "source": [
    "df['transcription'][456][-1]"
   ]
  },
  {
   "cell_type": "code",
   "execution_count": 56,
   "id": "0e8cab61-0a6b-453a-9991-54eabfbdd0ff",
   "metadata": {},
   "outputs": [
    {
     "data": {
      "text/html": [
       "<div>\n",
       "<style scoped>\n",
       "    .dataframe tbody tr th:only-of-type {\n",
       "        vertical-align: middle;\n",
       "    }\n",
       "\n",
       "    .dataframe tbody tr th {\n",
       "        vertical-align: top;\n",
       "    }\n",
       "\n",
       "    .dataframe thead th {\n",
       "        text-align: right;\n",
       "    }\n",
       "</style>\n",
       "<table border=\"1\" class=\"dataframe\">\n",
       "  <thead>\n",
       "    <tr style=\"text-align: right;\">\n",
       "      <th></th>\n",
       "      <th>file_name</th>\n",
       "      <th>transcription</th>\n",
       "    </tr>\n",
       "  </thead>\n",
       "  <tbody>\n",
       "    <tr>\n",
       "      <th>0</th>\n",
       "      <td>./LARGE DATA/larger sample/QF14/GK_swa_u0120_Q...</td>\n",
       "      <td>I can buy it because I also what phone theft t...</td>\n",
       "    </tr>\n",
       "    <tr>\n",
       "      <th>1</th>\n",
       "      <td>./LARGE DATA/larger sample/QF14/GK_swa_u0123_Q...</td>\n",
       "      <td>I would not tell them to</td>\n",
       "    </tr>\n",
       "    <tr>\n",
       "      <th>2</th>\n",
       "      <td>./LARGE DATA/larger sample/QF14/GK_swa_u0126_Q...</td>\n",
       "      <td>I would like to buy it because it would help m...</td>\n",
       "    </tr>\n",
       "    <tr>\n",
       "      <th>3</th>\n",
       "      <td>./LARGE DATA/larger sample/QF14/GK_swa_u0134_Q...</td>\n",
       "      <td>It is the responsibility of the internet servi...</td>\n",
       "    </tr>\n",
       "    <tr>\n",
       "      <th>4</th>\n",
       "      <td>./LARGE DATA/larger sample/QF14/GK_swa_u0136_Q...</td>\n",
       "      <td>If it is a tool that can help the I will buy.</td>\n",
       "    </tr>\n",
       "    <tr>\n",
       "      <th>...</th>\n",
       "      <td>...</td>\n",
       "      <td>...</td>\n",
       "    </tr>\n",
       "    <tr>\n",
       "      <th>8147</th>\n",
       "      <td>./Smaller instances/QE90/GK_swa_u0807_QE90.mp3</td>\n",
       "      <td>Once a month, it depends, if its Certificate o...</td>\n",
       "    </tr>\n",
       "    <tr>\n",
       "      <th>8148</th>\n",
       "      <td>./Smaller instances/QE90/GK_swa_u0809_QE90.mp3</td>\n",
       "      <td>I hardly use it, because E C I T I Z E N I reg...</td>\n",
       "    </tr>\n",
       "    <tr>\n",
       "      <th>8149</th>\n",
       "      <td>./Smaller instances/QE93/GK_swa_u0264_QE93.mp3</td>\n",
       "      <td>My doubt is that there are hackers in the worl...</td>\n",
       "    </tr>\n",
       "    <tr>\n",
       "      <th>8150</th>\n",
       "      <td>./Smaller instances/QE93/GK_swa_u0406_QE93.mp3</td>\n",
       "      <td>Information</td>\n",
       "    </tr>\n",
       "    <tr>\n",
       "      <th>8151</th>\n",
       "      <td>./Smaller instances/QE93/GK_swa_u0501_QE93.mp3</td>\n",
       "      <td>At other times you can apply for any governmen...</td>\n",
       "    </tr>\n",
       "  </tbody>\n",
       "</table>\n",
       "<p>8152 rows × 2 columns</p>\n",
       "</div>"
      ],
      "text/plain": [
       "                                              file_name  \\\n",
       "0     ./LARGE DATA/larger sample/QF14/GK_swa_u0120_Q...   \n",
       "1     ./LARGE DATA/larger sample/QF14/GK_swa_u0123_Q...   \n",
       "2     ./LARGE DATA/larger sample/QF14/GK_swa_u0126_Q...   \n",
       "3     ./LARGE DATA/larger sample/QF14/GK_swa_u0134_Q...   \n",
       "4     ./LARGE DATA/larger sample/QF14/GK_swa_u0136_Q...   \n",
       "...                                                 ...   \n",
       "8147     ./Smaller instances/QE90/GK_swa_u0807_QE90.mp3   \n",
       "8148     ./Smaller instances/QE90/GK_swa_u0809_QE90.mp3   \n",
       "8149     ./Smaller instances/QE93/GK_swa_u0264_QE93.mp3   \n",
       "8150     ./Smaller instances/QE93/GK_swa_u0406_QE93.mp3   \n",
       "8151     ./Smaller instances/QE93/GK_swa_u0501_QE93.mp3   \n",
       "\n",
       "                                          transcription  \n",
       "0     I can buy it because I also what phone theft t...  \n",
       "1                              I would not tell them to  \n",
       "2     I would like to buy it because it would help m...  \n",
       "3     It is the responsibility of the internet servi...  \n",
       "4         If it is a tool that can help the I will buy.  \n",
       "...                                                 ...  \n",
       "8147  Once a month, it depends, if its Certificate o...  \n",
       "8148  I hardly use it, because E C I T I Z E N I reg...  \n",
       "8149  My doubt is that there are hackers in the worl...  \n",
       "8150                                        Information  \n",
       "8151  At other times you can apply for any governmen...  \n",
       "\n",
       "[8152 rows x 2 columns]"
      ]
     },
     "execution_count": 56,
     "metadata": {},
     "output_type": "execute_result"
    }
   ],
   "source": [
    "df"
   ]
  },
  {
   "cell_type": "code",
   "execution_count": 57,
   "id": "42cfa7c8-0406-4694-a432-4f3c9d21a892",
   "metadata": {},
   "outputs": [],
   "source": [
    "df['transcription'].dropna(inplace=True)"
   ]
  },
  {
   "cell_type": "code",
   "execution_count": 58,
   "id": "ed627da2-6be4-42ed-a762-92bea0462fdd",
   "metadata": {},
   "outputs": [
    {
     "data": {
      "text/html": [
       "<div>\n",
       "<style scoped>\n",
       "    .dataframe tbody tr th:only-of-type {\n",
       "        vertical-align: middle;\n",
       "    }\n",
       "\n",
       "    .dataframe tbody tr th {\n",
       "        vertical-align: top;\n",
       "    }\n",
       "\n",
       "    .dataframe thead th {\n",
       "        text-align: right;\n",
       "    }\n",
       "</style>\n",
       "<table border=\"1\" class=\"dataframe\">\n",
       "  <thead>\n",
       "    <tr style=\"text-align: right;\">\n",
       "      <th></th>\n",
       "      <th>file_name</th>\n",
       "      <th>transcription</th>\n",
       "    </tr>\n",
       "  </thead>\n",
       "  <tbody>\n",
       "    <tr>\n",
       "      <th>0</th>\n",
       "      <td>./LARGE DATA/larger sample/QF14/GK_swa_u0120_Q...</td>\n",
       "      <td>I can buy it because I also what phone theft t...</td>\n",
       "    </tr>\n",
       "    <tr>\n",
       "      <th>1</th>\n",
       "      <td>./LARGE DATA/larger sample/QF14/GK_swa_u0123_Q...</td>\n",
       "      <td>I would not tell them to</td>\n",
       "    </tr>\n",
       "    <tr>\n",
       "      <th>2</th>\n",
       "      <td>./LARGE DATA/larger sample/QF14/GK_swa_u0126_Q...</td>\n",
       "      <td>I would like to buy it because it would help m...</td>\n",
       "    </tr>\n",
       "    <tr>\n",
       "      <th>3</th>\n",
       "      <td>./LARGE DATA/larger sample/QF14/GK_swa_u0134_Q...</td>\n",
       "      <td>It is the responsibility of the internet servi...</td>\n",
       "    </tr>\n",
       "    <tr>\n",
       "      <th>4</th>\n",
       "      <td>./LARGE DATA/larger sample/QF14/GK_swa_u0136_Q...</td>\n",
       "      <td>If it is a tool that can help the I will buy.</td>\n",
       "    </tr>\n",
       "    <tr>\n",
       "      <th>...</th>\n",
       "      <td>...</td>\n",
       "      <td>...</td>\n",
       "    </tr>\n",
       "    <tr>\n",
       "      <th>8147</th>\n",
       "      <td>./Smaller instances/QE90/GK_swa_u0807_QE90.mp3</td>\n",
       "      <td>Once a month, it depends, if its Certificate o...</td>\n",
       "    </tr>\n",
       "    <tr>\n",
       "      <th>8148</th>\n",
       "      <td>./Smaller instances/QE90/GK_swa_u0809_QE90.mp3</td>\n",
       "      <td>I hardly use it, because E C I T I Z E N I reg...</td>\n",
       "    </tr>\n",
       "    <tr>\n",
       "      <th>8149</th>\n",
       "      <td>./Smaller instances/QE93/GK_swa_u0264_QE93.mp3</td>\n",
       "      <td>My doubt is that there are hackers in the worl...</td>\n",
       "    </tr>\n",
       "    <tr>\n",
       "      <th>8150</th>\n",
       "      <td>./Smaller instances/QE93/GK_swa_u0406_QE93.mp3</td>\n",
       "      <td>Information</td>\n",
       "    </tr>\n",
       "    <tr>\n",
       "      <th>8151</th>\n",
       "      <td>./Smaller instances/QE93/GK_swa_u0501_QE93.mp3</td>\n",
       "      <td>At other times you can apply for any governmen...</td>\n",
       "    </tr>\n",
       "  </tbody>\n",
       "</table>\n",
       "<p>8152 rows × 2 columns</p>\n",
       "</div>"
      ],
      "text/plain": [
       "                                              file_name  \\\n",
       "0     ./LARGE DATA/larger sample/QF14/GK_swa_u0120_Q...   \n",
       "1     ./LARGE DATA/larger sample/QF14/GK_swa_u0123_Q...   \n",
       "2     ./LARGE DATA/larger sample/QF14/GK_swa_u0126_Q...   \n",
       "3     ./LARGE DATA/larger sample/QF14/GK_swa_u0134_Q...   \n",
       "4     ./LARGE DATA/larger sample/QF14/GK_swa_u0136_Q...   \n",
       "...                                                 ...   \n",
       "8147     ./Smaller instances/QE90/GK_swa_u0807_QE90.mp3   \n",
       "8148     ./Smaller instances/QE90/GK_swa_u0809_QE90.mp3   \n",
       "8149     ./Smaller instances/QE93/GK_swa_u0264_QE93.mp3   \n",
       "8150     ./Smaller instances/QE93/GK_swa_u0406_QE93.mp3   \n",
       "8151     ./Smaller instances/QE93/GK_swa_u0501_QE93.mp3   \n",
       "\n",
       "                                          transcription  \n",
       "0     I can buy it because I also what phone theft t...  \n",
       "1                              I would not tell them to  \n",
       "2     I would like to buy it because it would help m...  \n",
       "3     It is the responsibility of the internet servi...  \n",
       "4         If it is a tool that can help the I will buy.  \n",
       "...                                                 ...  \n",
       "8147  Once a month, it depends, if its Certificate o...  \n",
       "8148  I hardly use it, because E C I T I Z E N I reg...  \n",
       "8149  My doubt is that there are hackers in the worl...  \n",
       "8150                                        Information  \n",
       "8151  At other times you can apply for any governmen...  \n",
       "\n",
       "[8152 rows x 2 columns]"
      ]
     },
     "execution_count": 58,
     "metadata": {},
     "output_type": "execute_result"
    }
   ],
   "source": [
    "df"
   ]
  },
  {
   "cell_type": "code",
   "execution_count": 59,
   "id": "655db0e0-3208-4c37-a9fc-aff95ef0626b",
   "metadata": {},
   "outputs": [],
   "source": [
    "df.dropna(inplace = True)\n",
    "# df = df.reset_index()\n",
    "# df = df.drop(['index'], axis = 1)"
   ]
  },
  {
   "cell_type": "code",
   "execution_count": 60,
   "id": "f2e7bb62-9bd0-415d-baa6-e896fb9b5965",
   "metadata": {},
   "outputs": [
    {
     "name": "stdout",
     "output_type": "stream",
     "text": [
      "./Smaller instances/QA15/GK_swa_u0767_QA15.mp3\n"
     ]
    },
    {
     "data": {
      "text/plain": [
       "'Yes, I do go to work in other places as you cannot be in one place all the time'"
      ]
     },
     "execution_count": 60,
     "metadata": {},
     "output_type": "execute_result"
    }
   ],
   "source": [
    "print(df['file_name'][2340])\n",
    "df['transcription'][2340]"
   ]
  },
  {
   "cell_type": "code",
   "execution_count": 61,
   "id": "b398aebb-cf45-4c57-812b-7236ffafb711",
   "metadata": {},
   "outputs": [
    {
     "name": "stdout",
     "output_type": "stream",
     "text": [
      "./Smaller instances/QA19/GK_swa_u0731_QA19.mp3\n"
     ]
    },
    {
     "data": {
      "text/plain": [
       "'There 8 children, 5 go to school and 3 don’t go because of school fees'"
      ]
     },
     "execution_count": 61,
     "metadata": {},
     "output_type": "execute_result"
    }
   ],
   "source": [
    "print(df['file_name'][2899])\n",
    "df['transcription'][2899]"
   ]
  },
  {
   "cell_type": "code",
   "execution_count": 62,
   "id": "d14b7e7f-677e-4f33-8f7a-864d509606b5",
   "metadata": {},
   "outputs": [
    {
     "data": {
      "text/plain": [
       "'I can buy it because I also what phone theft to end'"
      ]
     },
     "execution_count": 62,
     "metadata": {},
     "output_type": "execute_result"
    }
   ],
   "source": [
    "df['transcription'][0]"
   ]
  },
  {
   "cell_type": "code",
   "execution_count": 63,
   "id": "8f82e330",
   "metadata": {},
   "outputs": [],
   "source": [
    "for i in range(len(df)):\n",
    "    if df['transcription'][i][-1] == ' ':\n",
    "        df['transcription'][i][-1] = '.' \n",
    "    elif df['transcription'][i][-1] != '.':\n",
    "        df['transcription'][i] = df['transcription'][i]+'.'\n",
    "    elif df['transcription'][i][0] == '.':\n",
    "        df['transcription'][i] = df['transcription'][i][1:]\n",
    "        "
   ]
  },
  {
   "cell_type": "code",
   "execution_count": 64,
   "id": "1c1b23e0-a6f9-4687-9b4c-2fc87a87a4e4",
   "metadata": {},
   "outputs": [
    {
     "name": "stdout",
     "output_type": "stream",
     "text": [
      "./Smaller instances/QD21/GK_swa_u0791_QD21.mp3\n"
     ]
    },
    {
     "data": {
      "text/plain": [
       "'Nothing.'"
      ]
     },
     "execution_count": 64,
     "metadata": {},
     "output_type": "execute_result"
    }
   ],
   "source": [
    "print(df['file_name'][6500])\n",
    "df['transcription'][6500]"
   ]
  },
  {
   "cell_type": "code",
   "execution_count": 65,
   "id": "d5f4bf35",
   "metadata": {},
   "outputs": [
    {
     "name": "stdout",
     "output_type": "stream",
     "text": [
      "./Smaller instances/QC12/GK_swa_u0225_QC12.mp3\n"
     ]
    },
    {
     "data": {
      "text/plain": [
       "'Several times in a day.'"
      ]
     },
     "execution_count": 65,
     "metadata": {},
     "output_type": "execute_result"
    }
   ],
   "source": [
    "print(df['file_name'][4500])\n",
    "df['transcription'][4500]"
   ]
  },
  {
   "cell_type": "code",
   "execution_count": 66,
   "id": "70ee28c1-799a-465e-9b4a-b805a240b1a3",
   "metadata": {},
   "outputs": [
    {
     "name": "stdout",
     "output_type": "stream",
     "text": [
      "./Smaller instances/QA53/GK_swa_u0680_QA53.mp3\n"
     ]
    },
    {
     "data": {
      "text/plain": [
       "'I always go to the side.'"
      ]
     },
     "execution_count": 66,
     "metadata": {},
     "output_type": "execute_result"
    }
   ],
   "source": [
    "print(df['file_name'][3999])\n",
    "df['transcription'][3999]"
   ]
  },
  {
   "cell_type": "code",
   "execution_count": 67,
   "id": "2ca91705-bc04-4ca3-a155-1c7083d80ece",
   "metadata": {},
   "outputs": [
    {
     "name": "stdout",
     "output_type": "stream",
     "text": [
      "./Smaller instances/QA18/GK_swa_u0581_QA18.mp3\n"
     ]
    },
    {
     "data": {
      "text/plain": [
       "'In a day is 200 shillings.'"
      ]
     },
     "execution_count": 67,
     "metadata": {},
     "output_type": "execute_result"
    }
   ],
   "source": [
    "print(df['file_name'][2500])\n",
    "df['transcription'][2500]"
   ]
  },
  {
   "cell_type": "code",
   "execution_count": 68,
   "id": "b5538571-c258-454b-b6ce-6a7ffb407b67",
   "metadata": {},
   "outputs": [
    {
     "name": "stdout",
     "output_type": "stream",
     "text": [
      "./LARGE DATA/larger sample/QH11/GK_swa_u0603_QH11.mp3\n"
     ]
    },
    {
     "data": {
      "text/plain": [
       "'I feel like they are there in the business to reach people and by the end of the day there is a purchase And people that sent the money were customers you had not planned for It has importance after all there are challenges But at the end of the day you will get clients.'"
      ]
     },
     "execution_count": 68,
     "metadata": {},
     "output_type": "execute_result"
    }
   ],
   "source": [
    "print(df['file_name'][801])\n",
    "df['transcription'][801]"
   ]
  },
  {
   "cell_type": "code",
   "execution_count": 69,
   "id": "76b3323e-f52a-4d8f-b898-4669c2f7fe08",
   "metadata": {},
   "outputs": [
    {
     "name": "stdout",
     "output_type": "stream",
     "text": [
      "./Swahili_STT/GK_swa_u0766_QA45.mp3\n"
     ]
    },
    {
     "data": {
      "text/plain": [
       "'My two Safaricom sim cards are well. I use them to call people. I use them like in M-pesa and the Telkom sim card that I have now, I use it for bundles because its bundles Are a little bit cheap and not like Airtel. I bought the Airtel sim card because I have clients that have Airtel So, I bought Airtel. I call Airtel customers with Airtel and Safaricom customers with Safaricom.'"
      ]
     },
     "execution_count": 69,
     "metadata": {},
     "output_type": "execute_result"
    }
   ],
   "source": [
    "print(df['file_name'][1170])\n",
    "df['transcription'][1170]"
   ]
  },
  {
   "cell_type": "code",
   "execution_count": 70,
   "id": "fb73a1ba-1203-4ccd-a6cd-fdd1d6fede28",
   "metadata": {},
   "outputs": [],
   "source": [
    "df = st_pre(df)"
   ]
  },
  {
   "cell_type": "code",
   "execution_count": 71,
   "id": "a383eb95-8b60-41cb-bba1-d40655b28180",
   "metadata": {},
   "outputs": [
    {
     "data": {
      "text/plain": [
       "0"
      ]
     },
     "execution_count": 71,
     "metadata": {},
     "output_type": "execute_result"
    }
   ],
   "source": [
    "j = 0\n",
    "for i in range(len(df)):\n",
    "    if df['transcription'][i] == '':\n",
    "        df.drop(i, inplace = True)\n",
    "        j+=1\n",
    "j"
   ]
  },
  {
   "cell_type": "code",
   "execution_count": 72,
   "id": "d7e49942-3a36-4eed-beb0-fb7458d3c9db",
   "metadata": {},
   "outputs": [],
   "source": [
    "df.reset_index(inplace=True)\n",
    "df.drop(columns = ['index'], inplace = True)"
   ]
  },
  {
   "cell_type": "code",
   "execution_count": 73,
   "id": "7fa5c100-8d95-4269-910e-1e7db5b16865",
   "metadata": {},
   "outputs": [],
   "source": [
    "# df.drop_duplicates(subset=['transcription'], keep='first', inplace = True)"
   ]
  },
  {
   "cell_type": "code",
   "execution_count": 74,
   "id": "ac7fd603-74ac-42c4-ac04-430eec8c9a89",
   "metadata": {},
   "outputs": [
    {
     "data": {
      "text/plain": [
       "Index(['file_name', 'transcription'], dtype='object')"
      ]
     },
     "execution_count": 74,
     "metadata": {},
     "output_type": "execute_result"
    }
   ],
   "source": [
    "df.columns"
   ]
  },
  {
   "cell_type": "code",
   "execution_count": 75,
   "id": "c1ce94d3-157d-4e44-b5ce-e0814f1fe52d",
   "metadata": {},
   "outputs": [
    {
     "data": {
      "text/html": [
       "<div>\n",
       "<style scoped>\n",
       "    .dataframe tbody tr th:only-of-type {\n",
       "        vertical-align: middle;\n",
       "    }\n",
       "\n",
       "    .dataframe tbody tr th {\n",
       "        vertical-align: top;\n",
       "    }\n",
       "\n",
       "    .dataframe thead th {\n",
       "        text-align: right;\n",
       "    }\n",
       "</style>\n",
       "<table border=\"1\" class=\"dataframe\">\n",
       "  <thead>\n",
       "    <tr style=\"text-align: right;\">\n",
       "      <th></th>\n",
       "      <th>file_name</th>\n",
       "      <th>transcription</th>\n",
       "    </tr>\n",
       "  </thead>\n",
       "  <tbody>\n",
       "    <tr>\n",
       "      <th>0</th>\n",
       "      <td>./LARGE DATA/larger sample/QF14/GK_swa_u0120_Q...</td>\n",
       "      <td>I can buy it because I also what phone theft t...</td>\n",
       "    </tr>\n",
       "    <tr>\n",
       "      <th>1</th>\n",
       "      <td>./LARGE DATA/larger sample/QF14/GK_swa_u0123_Q...</td>\n",
       "      <td>I would not tell them to.</td>\n",
       "    </tr>\n",
       "    <tr>\n",
       "      <th>2</th>\n",
       "      <td>./LARGE DATA/larger sample/QF14/GK_swa_u0126_Q...</td>\n",
       "      <td>I would like to buy it because it would help m...</td>\n",
       "    </tr>\n",
       "    <tr>\n",
       "      <th>3</th>\n",
       "      <td>./LARGE DATA/larger sample/QF14/GK_swa_u0134_Q...</td>\n",
       "      <td>It is the responsibility of the internet servi...</td>\n",
       "    </tr>\n",
       "    <tr>\n",
       "      <th>4</th>\n",
       "      <td>./LARGE DATA/larger sample/QF14/GK_swa_u0136_Q...</td>\n",
       "      <td>If it is a tool that can help the I will buy.</td>\n",
       "    </tr>\n",
       "    <tr>\n",
       "      <th>...</th>\n",
       "      <td>...</td>\n",
       "      <td>...</td>\n",
       "    </tr>\n",
       "    <tr>\n",
       "      <th>8147</th>\n",
       "      <td>./Smaller instances/QE90/GK_swa_u0807_QE90.mp3</td>\n",
       "      <td>Once a month, it depends, if its Certificate o...</td>\n",
       "    </tr>\n",
       "    <tr>\n",
       "      <th>8148</th>\n",
       "      <td>./Smaller instances/QE90/GK_swa_u0809_QE90.mp3</td>\n",
       "      <td>I hardly use it, because E C I T I Z E N I reg...</td>\n",
       "    </tr>\n",
       "    <tr>\n",
       "      <th>8149</th>\n",
       "      <td>./Smaller instances/QE93/GK_swa_u0264_QE93.mp3</td>\n",
       "      <td>My doubt is that there are hackers in the worl...</td>\n",
       "    </tr>\n",
       "    <tr>\n",
       "      <th>8150</th>\n",
       "      <td>./Smaller instances/QE93/GK_swa_u0406_QE93.mp3</td>\n",
       "      <td>Information.</td>\n",
       "    </tr>\n",
       "    <tr>\n",
       "      <th>8151</th>\n",
       "      <td>./Smaller instances/QE93/GK_swa_u0501_QE93.mp3</td>\n",
       "      <td>At other times you can apply for any governmen...</td>\n",
       "    </tr>\n",
       "  </tbody>\n",
       "</table>\n",
       "<p>8152 rows × 2 columns</p>\n",
       "</div>"
      ],
      "text/plain": [
       "                                              file_name  \\\n",
       "0     ./LARGE DATA/larger sample/QF14/GK_swa_u0120_Q...   \n",
       "1     ./LARGE DATA/larger sample/QF14/GK_swa_u0123_Q...   \n",
       "2     ./LARGE DATA/larger sample/QF14/GK_swa_u0126_Q...   \n",
       "3     ./LARGE DATA/larger sample/QF14/GK_swa_u0134_Q...   \n",
       "4     ./LARGE DATA/larger sample/QF14/GK_swa_u0136_Q...   \n",
       "...                                                 ...   \n",
       "8147     ./Smaller instances/QE90/GK_swa_u0807_QE90.mp3   \n",
       "8148     ./Smaller instances/QE90/GK_swa_u0809_QE90.mp3   \n",
       "8149     ./Smaller instances/QE93/GK_swa_u0264_QE93.mp3   \n",
       "8150     ./Smaller instances/QE93/GK_swa_u0406_QE93.mp3   \n",
       "8151     ./Smaller instances/QE93/GK_swa_u0501_QE93.mp3   \n",
       "\n",
       "                                          transcription  \n",
       "0     I can buy it because I also what phone theft t...  \n",
       "1                             I would not tell them to.  \n",
       "2     I would like to buy it because it would help m...  \n",
       "3     It is the responsibility of the internet servi...  \n",
       "4         If it is a tool that can help the I will buy.  \n",
       "...                                                 ...  \n",
       "8147  Once a month, it depends, if its Certificate o...  \n",
       "8148  I hardly use it, because E C I T I Z E N I reg...  \n",
       "8149  My doubt is that there are hackers in the worl...  \n",
       "8150                                       Information.  \n",
       "8151  At other times you can apply for any governmen...  \n",
       "\n",
       "[8152 rows x 2 columns]"
      ]
     },
     "execution_count": 75,
     "metadata": {},
     "output_type": "execute_result"
    }
   ],
   "source": [
    "df"
   ]
  },
  {
   "cell_type": "code",
   "execution_count": 76,
   "id": "ef028db8-fbc2-4fbc-9796-bbff24b8a968",
   "metadata": {},
   "outputs": [],
   "source": [
    "df.reset_index(inplace=True)\n",
    "df.drop(columns = ['index'], inplace = True)"
   ]
  },
  {
   "cell_type": "code",
   "execution_count": 77,
   "id": "b6c6d6b5-72b6-4dca-b5a7-6afbe46832be",
   "metadata": {},
   "outputs": [
    {
     "data": {
      "text/plain": [
       "0"
      ]
     },
     "execution_count": 77,
     "metadata": {},
     "output_type": "execute_result"
    }
   ],
   "source": [
    "j = 0\n",
    "for i in range(len(df)):\n",
    "    if df['transcription'][i] == \"\":\n",
    "        df.drop(i, inplace = True)\n",
    "        j+=1\n",
    "j"
   ]
  },
  {
   "cell_type": "code",
   "execution_count": 78,
   "id": "d82fdd20-2c9d-407c-96d0-003fee0c11ef",
   "metadata": {},
   "outputs": [
    {
     "data": {
      "text/plain": [
       "(array([], dtype=int64), array([], dtype=int64))"
      ]
     },
     "execution_count": 78,
     "metadata": {},
     "output_type": "execute_result"
    }
   ],
   "source": [
    "np.where(pd.isnull(df))"
   ]
  },
  {
   "cell_type": "code",
   "execution_count": 79,
   "id": "8953f38e-110e-4fb0-a0da-fe6bd28f968f",
   "metadata": {},
   "outputs": [
    {
     "data": {
      "text/html": [
       "<div>\n",
       "<style scoped>\n",
       "    .dataframe tbody tr th:only-of-type {\n",
       "        vertical-align: middle;\n",
       "    }\n",
       "\n",
       "    .dataframe tbody tr th {\n",
       "        vertical-align: top;\n",
       "    }\n",
       "\n",
       "    .dataframe thead th {\n",
       "        text-align: right;\n",
       "    }\n",
       "</style>\n",
       "<table border=\"1\" class=\"dataframe\">\n",
       "  <thead>\n",
       "    <tr style=\"text-align: right;\">\n",
       "      <th></th>\n",
       "      <th>file_name</th>\n",
       "      <th>transcription</th>\n",
       "    </tr>\n",
       "  </thead>\n",
       "  <tbody>\n",
       "    <tr>\n",
       "      <th>0</th>\n",
       "      <td>./LARGE DATA/larger sample/QF14/GK_swa_u0120_Q...</td>\n",
       "      <td>I can buy it because I also what phone theft t...</td>\n",
       "    </tr>\n",
       "    <tr>\n",
       "      <th>1</th>\n",
       "      <td>./LARGE DATA/larger sample/QF14/GK_swa_u0123_Q...</td>\n",
       "      <td>I would not tell them to.</td>\n",
       "    </tr>\n",
       "    <tr>\n",
       "      <th>2</th>\n",
       "      <td>./LARGE DATA/larger sample/QF14/GK_swa_u0126_Q...</td>\n",
       "      <td>I would like to buy it because it would help m...</td>\n",
       "    </tr>\n",
       "    <tr>\n",
       "      <th>3</th>\n",
       "      <td>./LARGE DATA/larger sample/QF14/GK_swa_u0134_Q...</td>\n",
       "      <td>It is the responsibility of the internet servi...</td>\n",
       "    </tr>\n",
       "    <tr>\n",
       "      <th>4</th>\n",
       "      <td>./LARGE DATA/larger sample/QF14/GK_swa_u0136_Q...</td>\n",
       "      <td>If it is a tool that can help the I will buy.</td>\n",
       "    </tr>\n",
       "    <tr>\n",
       "      <th>...</th>\n",
       "      <td>...</td>\n",
       "      <td>...</td>\n",
       "    </tr>\n",
       "    <tr>\n",
       "      <th>8147</th>\n",
       "      <td>./Smaller instances/QE90/GK_swa_u0807_QE90.mp3</td>\n",
       "      <td>Once a month, it depends, if its Certificate o...</td>\n",
       "    </tr>\n",
       "    <tr>\n",
       "      <th>8148</th>\n",
       "      <td>./Smaller instances/QE90/GK_swa_u0809_QE90.mp3</td>\n",
       "      <td>I hardly use it, because E C I T I Z E N I reg...</td>\n",
       "    </tr>\n",
       "    <tr>\n",
       "      <th>8149</th>\n",
       "      <td>./Smaller instances/QE93/GK_swa_u0264_QE93.mp3</td>\n",
       "      <td>My doubt is that there are hackers in the worl...</td>\n",
       "    </tr>\n",
       "    <tr>\n",
       "      <th>8150</th>\n",
       "      <td>./Smaller instances/QE93/GK_swa_u0406_QE93.mp3</td>\n",
       "      <td>Information.</td>\n",
       "    </tr>\n",
       "    <tr>\n",
       "      <th>8151</th>\n",
       "      <td>./Smaller instances/QE93/GK_swa_u0501_QE93.mp3</td>\n",
       "      <td>At other times you can apply for any governmen...</td>\n",
       "    </tr>\n",
       "  </tbody>\n",
       "</table>\n",
       "<p>8152 rows × 2 columns</p>\n",
       "</div>"
      ],
      "text/plain": [
       "                                              file_name  \\\n",
       "0     ./LARGE DATA/larger sample/QF14/GK_swa_u0120_Q...   \n",
       "1     ./LARGE DATA/larger sample/QF14/GK_swa_u0123_Q...   \n",
       "2     ./LARGE DATA/larger sample/QF14/GK_swa_u0126_Q...   \n",
       "3     ./LARGE DATA/larger sample/QF14/GK_swa_u0134_Q...   \n",
       "4     ./LARGE DATA/larger sample/QF14/GK_swa_u0136_Q...   \n",
       "...                                                 ...   \n",
       "8147     ./Smaller instances/QE90/GK_swa_u0807_QE90.mp3   \n",
       "8148     ./Smaller instances/QE90/GK_swa_u0809_QE90.mp3   \n",
       "8149     ./Smaller instances/QE93/GK_swa_u0264_QE93.mp3   \n",
       "8150     ./Smaller instances/QE93/GK_swa_u0406_QE93.mp3   \n",
       "8151     ./Smaller instances/QE93/GK_swa_u0501_QE93.mp3   \n",
       "\n",
       "                                          transcription  \n",
       "0     I can buy it because I also what phone theft t...  \n",
       "1                             I would not tell them to.  \n",
       "2     I would like to buy it because it would help m...  \n",
       "3     It is the responsibility of the internet servi...  \n",
       "4         If it is a tool that can help the I will buy.  \n",
       "...                                                 ...  \n",
       "8147  Once a month, it depends, if its Certificate o...  \n",
       "8148  I hardly use it, because E C I T I Z E N I reg...  \n",
       "8149  My doubt is that there are hackers in the worl...  \n",
       "8150                                       Information.  \n",
       "8151  At other times you can apply for any governmen...  \n",
       "\n",
       "[8152 rows x 2 columns]"
      ]
     },
     "execution_count": 79,
     "metadata": {},
     "output_type": "execute_result"
    }
   ],
   "source": [
    "df"
   ]
  },
  {
   "cell_type": "code",
   "execution_count": 80,
   "id": "277a8ca3-ef78-46ea-8091-2cbe946728a4",
   "metadata": {},
   "outputs": [
    {
     "name": "stdout",
     "output_type": "stream",
     "text": [
      "something\n",
      "something\n"
     ]
    }
   ],
   "source": [
    "for i in range(len(df)): \n",
    "    # print(i)\n",
    "    if df['transcription'][i] == '. . . . . . . . . . . . . . . . . . . . . . . . . . . . . . . . . . . . . . . . . .':\n",
    "        print(i)\n",
    "    elif df['transcription'][i] == '.':\n",
    "        print(\"something\")\n"
   ]
  },
  {
   "cell_type": "code",
   "execution_count": 81,
   "id": "676e886e-55a3-45ce-a439-830fcc74f5ff",
   "metadata": {},
   "outputs": [],
   "source": [
    "df.to_excel(\"Send_deco.xlsx\")"
   ]
  },
  {
   "cell_type": "code",
   "execution_count": 82,
   "id": "f1e66bb0-2525-4c40-99b5-592021e23f04",
   "metadata": {},
   "outputs": [
    {
     "data": {
      "text/plain": [
       "'. . . .'"
      ]
     },
     "execution_count": 82,
     "metadata": {},
     "output_type": "execute_result"
    }
   ],
   "source": [
    "df['transcription'][7989]"
   ]
  },
  {
   "cell_type": "code",
   "execution_count": 83,
   "id": "90c4c026-83e2-48ab-9d35-f15866ae23aa",
   "metadata": {},
   "outputs": [],
   "source": [
    "df.drop([7989], inplace = True)"
   ]
  },
  {
   "cell_type": "code",
   "execution_count": 84,
   "id": "786f9f9e-bc93-4141-9641-397995f79d4d",
   "metadata": {},
   "outputs": [
    {
     "data": {
      "text/html": [
       "<div>\n",
       "<style scoped>\n",
       "    .dataframe tbody tr th:only-of-type {\n",
       "        vertical-align: middle;\n",
       "    }\n",
       "\n",
       "    .dataframe tbody tr th {\n",
       "        vertical-align: top;\n",
       "    }\n",
       "\n",
       "    .dataframe thead th {\n",
       "        text-align: right;\n",
       "    }\n",
       "</style>\n",
       "<table border=\"1\" class=\"dataframe\">\n",
       "  <thead>\n",
       "    <tr style=\"text-align: right;\">\n",
       "      <th></th>\n",
       "      <th>file_name</th>\n",
       "      <th>transcription</th>\n",
       "    </tr>\n",
       "  </thead>\n",
       "  <tbody>\n",
       "    <tr>\n",
       "      <th>0</th>\n",
       "      <td>./LARGE DATA/larger sample/QF14/GK_swa_u0120_Q...</td>\n",
       "      <td>I can buy it because I also what phone theft t...</td>\n",
       "    </tr>\n",
       "    <tr>\n",
       "      <th>1</th>\n",
       "      <td>./LARGE DATA/larger sample/QF14/GK_swa_u0123_Q...</td>\n",
       "      <td>I would not tell them to.</td>\n",
       "    </tr>\n",
       "    <tr>\n",
       "      <th>2</th>\n",
       "      <td>./LARGE DATA/larger sample/QF14/GK_swa_u0126_Q...</td>\n",
       "      <td>I would like to buy it because it would help m...</td>\n",
       "    </tr>\n",
       "    <tr>\n",
       "      <th>3</th>\n",
       "      <td>./LARGE DATA/larger sample/QF14/GK_swa_u0134_Q...</td>\n",
       "      <td>It is the responsibility of the internet servi...</td>\n",
       "    </tr>\n",
       "    <tr>\n",
       "      <th>4</th>\n",
       "      <td>./LARGE DATA/larger sample/QF14/GK_swa_u0136_Q...</td>\n",
       "      <td>If it is a tool that can help the I will buy.</td>\n",
       "    </tr>\n",
       "    <tr>\n",
       "      <th>...</th>\n",
       "      <td>...</td>\n",
       "      <td>...</td>\n",
       "    </tr>\n",
       "    <tr>\n",
       "      <th>8146</th>\n",
       "      <td>./Smaller instances/QE90/GK_swa_u0807_QE90.mp3</td>\n",
       "      <td>Once a month, it depends, if its Certificate o...</td>\n",
       "    </tr>\n",
       "    <tr>\n",
       "      <th>8147</th>\n",
       "      <td>./Smaller instances/QE90/GK_swa_u0809_QE90.mp3</td>\n",
       "      <td>I hardly use it, because E C I T I Z E N I reg...</td>\n",
       "    </tr>\n",
       "    <tr>\n",
       "      <th>8148</th>\n",
       "      <td>./Smaller instances/QE93/GK_swa_u0264_QE93.mp3</td>\n",
       "      <td>My doubt is that there are hackers in the worl...</td>\n",
       "    </tr>\n",
       "    <tr>\n",
       "      <th>8149</th>\n",
       "      <td>./Smaller instances/QE93/GK_swa_u0406_QE93.mp3</td>\n",
       "      <td>Information.</td>\n",
       "    </tr>\n",
       "    <tr>\n",
       "      <th>8150</th>\n",
       "      <td>./Smaller instances/QE93/GK_swa_u0501_QE93.mp3</td>\n",
       "      <td>At other times you can apply for any governmen...</td>\n",
       "    </tr>\n",
       "  </tbody>\n",
       "</table>\n",
       "<p>8151 rows × 2 columns</p>\n",
       "</div>"
      ],
      "text/plain": [
       "                                              file_name  \\\n",
       "0     ./LARGE DATA/larger sample/QF14/GK_swa_u0120_Q...   \n",
       "1     ./LARGE DATA/larger sample/QF14/GK_swa_u0123_Q...   \n",
       "2     ./LARGE DATA/larger sample/QF14/GK_swa_u0126_Q...   \n",
       "3     ./LARGE DATA/larger sample/QF14/GK_swa_u0134_Q...   \n",
       "4     ./LARGE DATA/larger sample/QF14/GK_swa_u0136_Q...   \n",
       "...                                                 ...   \n",
       "8146     ./Smaller instances/QE90/GK_swa_u0807_QE90.mp3   \n",
       "8147     ./Smaller instances/QE90/GK_swa_u0809_QE90.mp3   \n",
       "8148     ./Smaller instances/QE93/GK_swa_u0264_QE93.mp3   \n",
       "8149     ./Smaller instances/QE93/GK_swa_u0406_QE93.mp3   \n",
       "8150     ./Smaller instances/QE93/GK_swa_u0501_QE93.mp3   \n",
       "\n",
       "                                          transcription  \n",
       "0     I can buy it because I also what phone theft t...  \n",
       "1                             I would not tell them to.  \n",
       "2     I would like to buy it because it would help m...  \n",
       "3     It is the responsibility of the internet servi...  \n",
       "4         If it is a tool that can help the I will buy.  \n",
       "...                                                 ...  \n",
       "8146  Once a month, it depends, if its Certificate o...  \n",
       "8147  I hardly use it, because E C I T I Z E N I reg...  \n",
       "8148  My doubt is that there are hackers in the worl...  \n",
       "8149                                       Information.  \n",
       "8150  At other times you can apply for any governmen...  \n",
       "\n",
       "[8151 rows x 2 columns]"
      ]
     },
     "execution_count": 84,
     "metadata": {},
     "output_type": "execute_result"
    }
   ],
   "source": [
    "df.reset_index(inplace=True)\n",
    "df.drop(columns = ['index'], inplace = True)\n",
    "df"
   ]
  },
  {
   "cell_type": "code",
   "execution_count": 85,
   "id": "6fc24906-f358-484f-89d3-a94d3e7baaa7",
   "metadata": {},
   "outputs": [],
   "source": [
    "from sklearn.model_selection import train_test_split\n",
    "\n",
    "train, test = train_test_split(df, test_size=0.15, shuffle = True)"
   ]
  },
  {
   "cell_type": "code",
   "execution_count": 86,
   "id": "fb766a4a-71e2-4c97-adc6-0cc489e3c363",
   "metadata": {},
   "outputs": [
    {
     "data": {
      "text/html": [
       "<div>\n",
       "<style scoped>\n",
       "    .dataframe tbody tr th:only-of-type {\n",
       "        vertical-align: middle;\n",
       "    }\n",
       "\n",
       "    .dataframe tbody tr th {\n",
       "        vertical-align: top;\n",
       "    }\n",
       "\n",
       "    .dataframe thead th {\n",
       "        text-align: right;\n",
       "    }\n",
       "</style>\n",
       "<table border=\"1\" class=\"dataframe\">\n",
       "  <thead>\n",
       "    <tr style=\"text-align: right;\">\n",
       "      <th></th>\n",
       "      <th>file_name</th>\n",
       "      <th>transcription</th>\n",
       "    </tr>\n",
       "  </thead>\n",
       "  <tbody>\n",
       "    <tr>\n",
       "      <th>6576</th>\n",
       "      <td>./Smaller instances/QD38/GK_swa_u0604_QD38.mp3</td>\n",
       "      <td>It's not a worry, but maybe it's just the cert...</td>\n",
       "    </tr>\n",
       "    <tr>\n",
       "      <th>483</th>\n",
       "      <td>./LARGE DATA/larger sample/QG17/GK_swa_u0207_Q...</td>\n",
       "      <td>She was afraid to receive money on phone becau...</td>\n",
       "    </tr>\n",
       "    <tr>\n",
       "      <th>7605</th>\n",
       "      <td>./Smaller instances/QE46/GK_swa_u0312_QE46.mp3</td>\n",
       "      <td>A few times in a week.</td>\n",
       "    </tr>\n",
       "    <tr>\n",
       "      <th>3936</th>\n",
       "      <td>./Smaller instances/QA49/GK_swa_u0486_QA49.mp3</td>\n",
       "      <td>There is none.</td>\n",
       "    </tr>\n",
       "    <tr>\n",
       "      <th>7070</th>\n",
       "      <td>./Smaller instances/QD82/GK_swa_u0303_QD82.mp3</td>\n",
       "      <td>The bad habit of people withdrawing money with...</td>\n",
       "    </tr>\n",
       "    <tr>\n",
       "      <th>...</th>\n",
       "      <td>...</td>\n",
       "      <td>...</td>\n",
       "    </tr>\n",
       "    <tr>\n",
       "      <th>247</th>\n",
       "      <td>./LARGE DATA/larger sample/QF18/GK_swa_u0177_Q...</td>\n",
       "      <td>I wouldn't say it is good but you get loan age...</td>\n",
       "    </tr>\n",
       "    <tr>\n",
       "      <th>5108</th>\n",
       "      <td>./Smaller instances/QC32/GK_swa_u0484_QC32.mp3</td>\n",
       "      <td>They are very annoying.</td>\n",
       "    </tr>\n",
       "    <tr>\n",
       "      <th>6142</th>\n",
       "      <td>./Smaller instances/QD11/GK_swa_u0284_QD11.mp3</td>\n",
       "      <td>Once a month.</td>\n",
       "    </tr>\n",
       "    <tr>\n",
       "      <th>865</th>\n",
       "      <td>./LARGE DATA/larger sample/QH11/GK_swa_u0728_Q...</td>\n",
       "      <td>If you look at this life we are living in noth...</td>\n",
       "    </tr>\n",
       "    <tr>\n",
       "      <th>761</th>\n",
       "      <td>./LARGE DATA/larger sample/QH11/GK_swa_u0482_Q...</td>\n",
       "      <td>the thin is because he goes through problems O...</td>\n",
       "    </tr>\n",
       "  </tbody>\n",
       "</table>\n",
       "<p>1223 rows × 2 columns</p>\n",
       "</div>"
      ],
      "text/plain": [
       "                                              file_name  \\\n",
       "6576     ./Smaller instances/QD38/GK_swa_u0604_QD38.mp3   \n",
       "483   ./LARGE DATA/larger sample/QG17/GK_swa_u0207_Q...   \n",
       "7605     ./Smaller instances/QE46/GK_swa_u0312_QE46.mp3   \n",
       "3936     ./Smaller instances/QA49/GK_swa_u0486_QA49.mp3   \n",
       "7070     ./Smaller instances/QD82/GK_swa_u0303_QD82.mp3   \n",
       "...                                                 ...   \n",
       "247   ./LARGE DATA/larger sample/QF18/GK_swa_u0177_Q...   \n",
       "5108     ./Smaller instances/QC32/GK_swa_u0484_QC32.mp3   \n",
       "6142     ./Smaller instances/QD11/GK_swa_u0284_QD11.mp3   \n",
       "865   ./LARGE DATA/larger sample/QH11/GK_swa_u0728_Q...   \n",
       "761   ./LARGE DATA/larger sample/QH11/GK_swa_u0482_Q...   \n",
       "\n",
       "                                          transcription  \n",
       "6576  It's not a worry, but maybe it's just the cert...  \n",
       "483   She was afraid to receive money on phone becau...  \n",
       "7605                             A few times in a week.  \n",
       "3936                                     There is none.  \n",
       "7070  The bad habit of people withdrawing money with...  \n",
       "...                                                 ...  \n",
       "247   I wouldn't say it is good but you get loan age...  \n",
       "5108                            They are very annoying.  \n",
       "6142                                      Once a month.  \n",
       "865   If you look at this life we are living in noth...  \n",
       "761   the thin is because he goes through problems O...  \n",
       "\n",
       "[1223 rows x 2 columns]"
      ]
     },
     "execution_count": 86,
     "metadata": {},
     "output_type": "execute_result"
    }
   ],
   "source": [
    "test"
   ]
  },
  {
   "cell_type": "code",
   "execution_count": 87,
   "id": "62ecc078-3ac1-4f7a-9161-20a3f1f172e5",
   "metadata": {},
   "outputs": [
    {
     "data": {
      "text/plain": [
       "1223"
      ]
     },
     "execution_count": 87,
     "metadata": {},
     "output_type": "execute_result"
    }
   ],
   "source": [
    "len(test)"
   ]
  },
  {
   "cell_type": "code",
   "execution_count": 88,
   "id": "561d5c34-75f6-4797-b3bd-0cbb117a206f",
   "metadata": {},
   "outputs": [],
   "source": [
    "test = test.drop_duplicates(subset=['transcription'], keep='first',)"
   ]
  },
  {
   "cell_type": "code",
   "execution_count": 89,
   "id": "f0c4ecc8-5315-444a-bbe8-2957e22e5b46",
   "metadata": {},
   "outputs": [
    {
     "data": {
      "text/plain": [
       "Index(['file_name', 'transcription'], dtype='object')"
      ]
     },
     "execution_count": 89,
     "metadata": {},
     "output_type": "execute_result"
    }
   ],
   "source": [
    "test.columns"
   ]
  },
  {
   "cell_type": "code",
   "execution_count": 90,
   "id": "2aadb5b3-6020-41d6-af22-d4791a68dccd",
   "metadata": {},
   "outputs": [],
   "source": [
    "# test.reset_index(inplace = True)\n",
    "# test.drop(columns = [\"index\"], inplace = True)"
   ]
  },
  {
   "cell_type": "code",
   "execution_count": 91,
   "id": "37636658-3c61-4510-9707-8b01c209ae0d",
   "metadata": {},
   "outputs": [
    {
     "data": {
      "text/plain": [
       "872"
      ]
     },
     "execution_count": 91,
     "metadata": {},
     "output_type": "execute_result"
    }
   ],
   "source": [
    "len(test)"
   ]
  },
  {
   "cell_type": "code",
   "execution_count": 92,
   "id": "b3cd7818-a0aa-43b5-be34-1c910b59c23d",
   "metadata": {},
   "outputs": [
    {
     "data": {
      "text/plain": [
       "872"
      ]
     },
     "execution_count": 92,
     "metadata": {},
     "output_type": "execute_result"
    }
   ],
   "source": [
    "len(test)"
   ]
  },
  {
   "cell_type": "markdown",
   "id": "d745a7b9",
   "metadata": {},
   "source": [
    "Custom Dataset using xlsx file"
   ]
  },
  {
   "cell_type": "code",
   "execution_count": 93,
   "id": "70468de2",
   "metadata": {},
   "outputs": [],
   "source": [
    "# os.environ['HF_DATASETS_CACHE'] = os.path.join(base_dir, 'data_rash')\n",
    "# os.environ['HF_DATASETS_OFFLINE'] = '0'\n",
    "\n",
    "\n",
    "# features = Features(\n",
    "#     {   \n",
    "#         # \"file_name\": Value('string'),\n",
    "#         \"file_name\": Audio(sampling_rate=16000),\n",
    "#         \"transcription\": Value(\"string\")\n",
    "#     }\n",
    "# )\n",
    "\n",
    "# swahili = Dataset.from_pandas(df, features = features, split = ['train', 'test'], \n",
    "# )\n",
    "# swahili"
   ]
  },
  {
   "cell_type": "code",
   "execution_count": 92,
   "id": "2d06cccf",
   "metadata": {},
   "outputs": [],
   "source": [
    "# swahili[49][\"transcription\"]"
   ]
  },
  {
   "cell_type": "code",
   "execution_count": 93,
   "id": "97a36b94",
   "metadata": {},
   "outputs": [],
   "source": [
    "# swahili[49][\"file_name\"]"
   ]
  },
  {
   "cell_type": "code",
   "execution_count": 94,
   "id": "8b29f8f6",
   "metadata": {},
   "outputs": [],
   "source": [
    "# print(\"Path: \", swahili[49][\"file_name\"]['path'])\n",
    "# print(\"Sampling rate: \", swahili[49][\"file_name\"]['sampling_rate'])"
   ]
  },
  {
   "cell_type": "markdown",
   "id": "af756b85",
   "metadata": {},
   "source": [
    "Dataset Understanding"
   ]
  },
  {
   "cell_type": "code",
   "execution_count": 95,
   "id": "b4dbda9a",
   "metadata": {},
   "outputs": [
    {
     "ename": "NameError",
     "evalue": "name 'swahili' is not defined",
     "output_type": "error",
     "traceback": [
      "\u001b[1;31m---------------------------------------------------------------------------\u001b[0m",
      "\u001b[1;31mNameError\u001b[0m                                 Traceback (most recent call last)",
      "Cell \u001b[1;32mIn[95], line 27\u001b[0m\n\u001b[0;32m     24\u001b[0m     \u001b[38;5;28mprint\u001b[39m(\u001b[38;5;124m\"\u001b[39m\u001b[38;5;124mMin size of string: \u001b[39m\u001b[38;5;124m\"\u001b[39m, \u001b[38;5;28mmin\u001b[39m(text_1))\n\u001b[0;32m     25\u001b[0m \u001b[38;5;66;03m#     print(\"Unique characters: \", )\u001b[39;00m\n\u001b[1;32m---> 27\u001b[0m duration_infor(\u001b[43mswahili\u001b[49m)\n",
      "\u001b[1;31mNameError\u001b[0m: name 'swahili' is not defined"
     ]
    }
   ],
   "source": [
    "def getWavDuration(fname):\n",
    "    audio = MP3(fname)\n",
    "    duration =  audio.info.length\n",
    "\n",
    "    return duration\n",
    "\n",
    "def duration_infor(dataset):\n",
    "    list_1 = []\n",
    "    list_2 = []\n",
    "    text_1 = []\n",
    "    for i in range(dataset.num_rows):\n",
    "        duration = getWavDuration(dataset[i]['file_name']['path'])\n",
    "        list_1.append(duration)\n",
    "        text_1.append(len(dataset[i]['transcription']))\n",
    "        if duration > 30:\n",
    "            list_2.append(duration)\n",
    "    print(\"Total Files: \", len(list_1))\n",
    "    print(\"Minimum length of audio in dataset: \", min(list_1))\n",
    "    print(\"Total audio time: \",  sum(list_1))\n",
    "    print(\"Average length of audio in dataset: \", sum(list_1)/len(list_1))\n",
    "    print(\"Maximum lenth of audio in dataset: \", max(list_1))\n",
    "    print(\"Audio files with more than 30 sec: \", len(list_2))\n",
    "    print(\"Max size of string: \", max(text_1))\n",
    "    print(\"Min size of string: \", min(text_1))\n",
    "#     print(\"Unique characters: \", )\n",
    "        \n",
    "duration_infor(swahili)"
   ]
  },
  {
   "cell_type": "code",
   "execution_count": 93,
   "id": "96c01ab3",
   "metadata": {},
   "outputs": [],
   "source": [
    "import IPython.display as ipd\n",
    "%matplotlib inline\n",
    "import matplotlib.pyplot as plt\n",
    "import librosa.display"
   ]
  },
  {
   "cell_type": "code",
   "execution_count": null,
   "id": "2c734efd",
   "metadata": {},
   "outputs": [],
   "source": [
    "which_file = 29\n",
    "filename = swahili[which_file][\"file_name\"]['path']\n",
    "y, sr = librosa.load(filename, sr = 16000)\n",
    "print(y)\n",
    "print(sr)\n",
    "tempo, beat_frames = librosa.beat.beat_track(y=y, sr=sr)\n",
    "print('Estimated tempo: {:.2f} beats per minute'.format(tempo))\n",
    "beat_times = librosa.frames_to_time(beat_frames, sr=sr)\n",
    "print(beat_times)"
   ]
  },
  {
   "cell_type": "code",
   "execution_count": null,
   "id": "724827ca",
   "metadata": {},
   "outputs": [],
   "source": [
    "ipd.Audio(y, rate=sr)"
   ]
  },
  {
   "cell_type": "code",
   "execution_count": null,
   "id": "01dc3623",
   "metadata": {},
   "outputs": [],
   "source": [
    "plt.figure(figsize=(15, 4), facecolor=(.9, .9, .9))\n",
    "librosa.display.waveshow(y, sr=sr, color='pink')"
   ]
  },
  {
   "cell_type": "markdown",
   "id": "28e844c2",
   "metadata": {},
   "source": [
    "Spectral Centroid"
   ]
  },
  {
   "cell_type": "code",
   "execution_count": null,
   "id": "67ee3bae",
   "metadata": {},
   "outputs": [],
   "source": [
    "# all_centroids = librosa.feature.spectral_centroid(y=y, sr=sr)\n",
    "# spectral_centroids = librosa.feature.spectral_centroid(y=y, sr=sr)[0]\n",
    "# spectral_centroids.shape\n",
    "# frames = range(len(spectral_centroids))\n",
    "# t = librosa.frames_to_time(frames)\n",
    "# def normalize(x, axis=0):\n",
    "#     return minmax_scale(x, axis=axis)\n",
    "# #Plotting the Spectral Centroid along the waveform\n",
    "# librosa.display.waveshow(y, sr=sr, alpha=0.4)\n",
    "# plt.plot(t, normalize(spectral_centroids), color='r')\n",
    "# #Plotting the Spectral Centroid along the waveform"
   ]
  },
  {
   "cell_type": "markdown",
   "id": "2fe47481",
   "metadata": {},
   "source": [
    "RMS ENERGY and LOG POWER SPECTOGRAM"
   ]
  },
  {
   "cell_type": "code",
   "execution_count": 92,
   "id": "bce8f172",
   "metadata": {},
   "outputs": [
    {
     "ename": "NameError",
     "evalue": "name 'y' is not defined",
     "output_type": "error",
     "traceback": [
      "\u001b[1;31m---------------------------------------------------------------------------\u001b[0m",
      "\u001b[1;31mNameError\u001b[0m                                 Traceback (most recent call last)",
      "Cell \u001b[1;32mIn[92], line 1\u001b[0m\n\u001b[1;32m----> 1\u001b[0m S, phase \u001b[38;5;241m=\u001b[39m librosa\u001b[38;5;241m.\u001b[39mmagphase(librosa\u001b[38;5;241m.\u001b[39mstft(\u001b[43my\u001b[49m))\n\u001b[0;32m      2\u001b[0m rms \u001b[38;5;241m=\u001b[39m librosa\u001b[38;5;241m.\u001b[39mfeature\u001b[38;5;241m.\u001b[39mrms(S\u001b[38;5;241m=\u001b[39mS)\n\u001b[0;32m      3\u001b[0m \u001b[38;5;28;01mimport\u001b[39;00m \u001b[38;5;21;01mmatplotlib\u001b[39;00m\u001b[38;5;21;01m.\u001b[39;00m\u001b[38;5;21;01mpyplot\u001b[39;00m \u001b[38;5;28;01mas\u001b[39;00m \u001b[38;5;21;01mplt\u001b[39;00m\n",
      "\u001b[1;31mNameError\u001b[0m: name 'y' is not defined"
     ]
    }
   ],
   "source": [
    "S, phase = librosa.magphase(librosa.stft(y))\n",
    "rms = librosa.feature.rms(S=S)\n",
    "import matplotlib.pyplot as plt\n",
    "fig, ax = plt.subplots(nrows=2, figsize=(20, 10), sharex=True)\n",
    "times = librosa.times_like(rms)\n",
    "ax[0].semilogy(times, rms[0], label='RMS Energy')\n",
    "ax[0].set(xticks=[])\n",
    "ax[0].legend()\n",
    "ax[0].label_outer()\n",
    "librosa.display.specshow(librosa.amplitude_to_db(S, ref=np.max), y_axis='log', x_axis='time', ax=ax[1])\n",
    "ax[1].set(title='log Power spectrogram')"
   ]
  },
  {
   "cell_type": "code",
   "execution_count": 93,
   "id": "3266ac24",
   "metadata": {},
   "outputs": [],
   "source": [
    "import re\n",
    "def remove_accented_chars(text):\n",
    "#     ```\n",
    "#     (NFKD) will apply the compatibility decomposition, i.e. \n",
    "#     replace all compatibility characters with their equivalents. \n",
    "#     ```\n",
    "    text = unicodedata.normalize('NFKD', text).encode('ascii', 'ignore').decode('utf-8', 'ignore')\n",
    "    return text"
   ]
  },
  {
   "cell_type": "code",
   "execution_count": 94,
   "id": "c6256e37",
   "metadata": {},
   "outputs": [],
   "source": [
    "# Regex for matching zero witdh joiner variations.\n",
    "STANDARDIZE_ZW = re.compile(r'(?<=\\u09b0)[\\u200c\\u200d]+(?=\\u09cd\\u09af)')\n",
    "\n",
    "# Regex for removing standardized zero width joiner, except in edge cases.\n",
    "DELETE_ZW = re.compile(r'(?<!\\u09b0)[\\u200c\\u200d](?!\\u09cd\\u09af)')\n",
    "\n",
    "## Regex matching punctuations to remove.\n",
    "# PUNC = re.compile(r'([\\?\\.।;:,!\"\\'])')\n",
    "## Keeps fullstop(.), dari(|), comma(,), exclamaition(!) and question mark(?) and removes all other punctuations (semicolon (;), colon (:), double quote (\") and single quote (')).\n",
    "PUNC = re.compile(r'([;:\"\\'])')\n",
    "\n",
    "def removeOptionalZW(text):\n",
    "    \"\"\"\n",
    "    Removes all optional occurrences of ZWNJ or ZWJ from Bangla text.\n",
    "    \"\"\"\n",
    "    text = STANDARDIZE_ZW.sub('\\u200D', text)\n",
    "    text = DELETE_ZW.sub('', text)\n",
    "    return text\n",
    "\n",
    "def removePunc(text):\n",
    "    \"\"\"\n",
    "    Remove for punctuations from text.\n",
    "    \"\"\"\n",
    "    text = PUNC.sub(r\"\", text)\n",
    "    return text"
   ]
  },
  {
   "cell_type": "markdown",
   "id": "031d5e41",
   "metadata": {},
   "source": [
    "Dataset Split"
   ]
  },
  {
   "cell_type": "code",
   "execution_count": 94,
   "id": "dd8bd376-2105-4c83-b52d-c86712f011c3",
   "metadata": {},
   "outputs": [],
   "source": [
    "# swahili = swahili.shuffle(seed = 420)"
   ]
  },
  {
   "cell_type": "code",
   "execution_count": 95,
   "id": "f2f0c79e",
   "metadata": {},
   "outputs": [],
   "source": [
    "# swahili_split = swahili.train_test_split(test_size=0.15)\n",
    "# swahili_split"
   ]
  },
  {
   "cell_type": "code",
   "execution_count": 95,
   "id": "22c1a590-0cd1-4472-ab3c-e5027a6c4280",
   "metadata": {},
   "outputs": [],
   "source": [
    "features = Features(\n",
    "    {   \n",
    "        # \"file_name\": Value('string'),\n",
    "        \"file_name\": Audio(sampling_rate=16000),\n",
    "        \"transcription\": Value(\"string\")\n",
    "    }\n",
    ")"
   ]
  },
  {
   "cell_type": "code",
   "execution_count": 96,
   "id": "707a4325-e8c6-472d-842d-f60029d6228c",
   "metadata": {},
   "outputs": [],
   "source": [
    "ds_dict = {'train' : Dataset.from_pandas(train, features = features, preserve_index = False),\n",
    "           'test' : Dataset.from_pandas(test, features = features, preserve_index = False)}"
   ]
  },
  {
   "cell_type": "code",
   "execution_count": 97,
   "id": "9712db24-5b1d-40a6-abd0-2496a1bed9f9",
   "metadata": {},
   "outputs": [],
   "source": [
    "from datasets import Dataset, DatasetDict\n",
    "\n",
    "swahili_split = DatasetDict(ds_dict)"
   ]
  },
  {
   "cell_type": "code",
   "execution_count": 98,
   "id": "fd127da8-3d3f-4afd-9b51-0fcfac2d4978",
   "metadata": {},
   "outputs": [
    {
     "data": {
      "text/plain": [
       "DatasetDict({\n",
       "    train: Dataset({\n",
       "        features: ['file_name', 'transcription'],\n",
       "        num_rows: 6928\n",
       "    })\n",
       "    test: Dataset({\n",
       "        features: ['file_name', 'transcription'],\n",
       "        num_rows: 872\n",
       "    })\n",
       "})"
      ]
     },
     "execution_count": 98,
     "metadata": {},
     "output_type": "execute_result"
    }
   ],
   "source": [
    "swahili_split"
   ]
  },
  {
   "cell_type": "code",
   "execution_count": 99,
   "id": "694793fe",
   "metadata": {},
   "outputs": [
    {
     "data": {
      "text/plain": [
       "{'path': './Smaller instances/QD11/GK_swa_u0595_QD11.mp3',\n",
       " 'array': array([ 7.27595761e-12, -1.63709046e-11, -4.18367563e-11, ...,\n",
       "         0.00000000e+00,  0.00000000e+00,  0.00000000e+00]),\n",
       " 'sampling_rate': 16000}"
      ]
     },
     "execution_count": 99,
     "metadata": {},
     "output_type": "execute_result"
    }
   ],
   "source": [
    "swahili_split['train'][0]['file_name']"
   ]
  },
  {
   "cell_type": "code",
   "execution_count": 100,
   "id": "c5bfd7be-dd80-4129-88f9-5a2fc198f657",
   "metadata": {},
   "outputs": [
    {
     "data": {
      "text/plain": [
       "'A few times in a week.'"
      ]
     },
     "execution_count": 100,
     "metadata": {},
     "output_type": "execute_result"
    }
   ],
   "source": [
    "swahili_split['train'][0]['transcription']"
   ]
  },
  {
   "cell_type": "markdown",
   "id": "271aa42a",
   "metadata": {},
   "source": [
    "Augmentations"
   ]
  },
  {
   "cell_type": "code",
   "execution_count": 101,
   "id": "01f251d8",
   "metadata": {},
   "outputs": [],
   "source": [
    "from audiomentations import (\n",
    "    AddBackgroundNoise, #Mixes in another sound to add background noise\n",
    "    AddGaussianNoise, #Adds gaussian noise to the audio samples\n",
    "    Compose,\n",
    "    Gain, #Multiplies the audio by a random gain factor\n",
    "    OneOf,\n",
    "    PitchShift, #Shifts the pitch up or down without changing the tempo\n",
    "    PolarityInversion, #Flips the audio samples upside down, reversing their polarity\n",
    "    Limiter, #Applies dynamic range compression limiting the audio signal\n",
    "    Mp3Compression, #Compresses the audio to lower the quality\n",
    "    PitchShift, # Shifts the pitch up or down without changing the tempo\n",
    "    RoomSimulator,# Simulates the effect of a room on an audio source\n",
    "    SpecFrequencyMask, # Applies a frequency mask to the spectrogram\n",
    "    TimeMask, #Makes a random part of the audio silent\n",
    "    TimeStretch, #Changes the speed without changing the pitch\n",
    "    Trim, #Trims leading and trailing silence from the audio\n",
    ")\n",
    "\n",
    "# define augmentation\n",
    "augmentation = Compose(\n",
    "    [\n",
    "        TimeStretch(min_rate=0.9, max_rate=1.1, p=0.3, leave_length_unchanged=True),\n",
    "        Gain(min_gain_in_db=-6, max_gain_in_db=6, p=0.1),\n",
    "        PitchShift(min_semitones=-4, max_semitones=4, p=0.1),\n",
    "        AddGaussianNoise(min_amplitude=0.005, \n",
    "                         max_amplitude=0.015, \n",
    "                         p=0.1),\n",
    "        Limiter(min_threshold_db=-16.0,\n",
    "                max_threshold_db=-6.0,\n",
    "                threshold_mode=\"relative_to_signal_peak\",\n",
    "                p=0.1,),\n",
    "        # RoomSimulator(min_size_x = 2, max_size_x = 10,\n",
    "        #              min_size_y = 2, min_size_y = 15,\n",
    "        #              min_size_y = 7, min_size_y = 12,\n",
    "        #              min_absorption_value = 0.10,\n",
    "        #              max_absorption_value = 0.50, p =0.2),\n",
    "        Trim(top_db=20.0,p=0.1),\n",
    "        Mp3Compression(),\n",
    "    ]\n",
    ")"
   ]
  },
  {
   "cell_type": "code",
   "execution_count": 102,
   "id": "d3a358f9-ce89-4605-bdeb-371242d65f94",
   "metadata": {},
   "outputs": [
    {
     "data": {
      "text/plain": [
       "DatasetDict({\n",
       "    train: Dataset({\n",
       "        features: ['file_name', 'transcription'],\n",
       "        num_rows: 6928\n",
       "    })\n",
       "    test: Dataset({\n",
       "        features: ['file_name', 'transcription'],\n",
       "        num_rows: 872\n",
       "    })\n",
       "})"
      ]
     },
     "execution_count": 102,
     "metadata": {},
     "output_type": "execute_result"
    }
   ],
   "source": [
    "swahili_split"
   ]
  },
  {
   "cell_type": "code",
   "execution_count": 103,
   "id": "6322ee86",
   "metadata": {},
   "outputs": [],
   "source": [
    "def augment_dataset(batch):\n",
    "    # load and (possibly) resample audio data to 16kHz\n",
    "    sample = batch['file_name']\n",
    "\n",
    "    # apply augmentation\n",
    "    augmented_waveform = augmentation(sample[\"array\"], sample_rate=sample[\"sampling_rate\"])\n",
    "    batch[\"file_name\"][\"array\"] = augmented_waveform\n",
    "    return batch\n"
   ]
  },
  {
   "cell_type": "code",
   "execution_count": 104,
   "id": "5553edc0",
   "metadata": {},
   "outputs": [],
   "source": [
    "# torch.set_num_threads(1)\n",
    "augmented_raw_training_dataset = swahili_split[\"train\"].map(\n",
    "    augment_dataset, \n",
    "    num_proc= 1, \n",
    "    desc=\"augment train dataset\",\n",
    "    load_from_cache_file=True,\n",
    "    # batched = True,\n",
    "    # writer_batch_size=3_000,\n",
    "    cache_file_name=os.path.join(base_dir, \"./Data_aug_dont_drop.arrow\")\n",
    ")"
   ]
  },
  {
   "cell_type": "code",
   "execution_count": 105,
   "id": "ef6beafa-b5e7-4c18-b8db-23299c24e21d",
   "metadata": {},
   "outputs": [],
   "source": [
    "# augmented_raw_training_dataset"
   ]
  },
  {
   "cell_type": "code",
   "execution_count": 106,
   "id": "f70b6a52",
   "metadata": {},
   "outputs": [
    {
     "name": "stdout",
     "output_type": "stream",
     "text": [
      "\n",
      " COMBINING Augmented Dataset with Normal Dataset..... \n",
      "\n"
     ]
    }
   ],
   "source": [
    "print(\"\\n COMBINING Augmented Dataset with Normal Dataset..... \\n\")\n",
    "# combine\n",
    "swahili_split[\"train\"] = concatenate_datasets([swahili_split[\"train\"], augmented_raw_training_dataset])\n"
   ]
  },
  {
   "cell_type": "code",
   "execution_count": 107,
   "id": "b421fdd0",
   "metadata": {},
   "outputs": [
    {
     "name": "stdout",
     "output_type": "stream",
     "text": [
      "\n",
      "\n",
      " AFTER AUGMENTATION, FINAL train and validation sets are: \n",
      "\n",
      " FINAL DATASET: \n",
      "\n",
      "DatasetDict({\n",
      "    train: Dataset({\n",
      "        features: ['file_name', 'transcription'],\n",
      "        num_rows: 13856\n",
      "    })\n",
      "    test: Dataset({\n",
      "        features: ['file_name', 'transcription'],\n",
      "        num_rows: 872\n",
      "    })\n",
      "})\n"
     ]
    }
   ],
   "source": [
    "print(\"\\n\\n AFTER AUGMENTATION, FINAL train and validation sets are: \")\n",
    "print(\"\\n FINAL DATASET: \\n\")\n",
    "swahili_split[\"train\"] = swahili_split[\"train\"].shuffle(seed=42)\n",
    "print(swahili_split)"
   ]
  },
  {
   "cell_type": "code",
   "execution_count": 108,
   "id": "44c99ec1",
   "metadata": {},
   "outputs": [],
   "source": [
    "def print_model_size(mdl):\n",
    "    torch.save(mdl.state_dict(), \"tmp.pt\")\n",
    "    print(\"%.2f MB\" %(os.path.getsize(\"tmp.pt\")/1e6))\n",
    "    os.remove('tmp.pt')"
   ]
  },
  {
   "cell_type": "code",
   "execution_count": 109,
   "id": "27a62d4c",
   "metadata": {},
   "outputs": [
    {
     "data": {
      "text/plain": [
       "{'file_name': {'path': None,\n",
       "  'array': array([0., 0., 0., ..., 0., 0., 0.]),\n",
       "  'sampling_rate': 16000},\n",
       " 'transcription': 'Several times a day.'}"
      ]
     },
     "execution_count": 109,
     "metadata": {},
     "output_type": "execute_result"
    }
   ],
   "source": [
    "swahili_split['train'][0]"
   ]
  },
  {
   "cell_type": "code",
   "execution_count": 110,
   "id": "531b4d32",
   "metadata": {},
   "outputs": [
    {
     "name": "stdout",
     "output_type": "stream",
     "text": [
      "Parameters:  241734912\n"
     ]
    },
    {
     "data": {
      "text/plain": [
       "WhisperForConditionalGeneration(\n",
       "  (model): WhisperModel(\n",
       "    (encoder): WhisperEncoder(\n",
       "      (conv1): Conv1d(80, 768, kernel_size=(3,), stride=(1,), padding=(1,))\n",
       "      (conv2): Conv1d(768, 768, kernel_size=(3,), stride=(2,), padding=(1,))\n",
       "      (embed_positions): Embedding(1500, 768)\n",
       "      (layers): ModuleList(\n",
       "        (0-11): 12 x WhisperEncoderLayer(\n",
       "          (self_attn): WhisperAttention(\n",
       "            (k_proj): Linear(in_features=768, out_features=768, bias=False)\n",
       "            (v_proj): Linear(in_features=768, out_features=768, bias=True)\n",
       "            (q_proj): Linear(in_features=768, out_features=768, bias=True)\n",
       "            (out_proj): Linear(in_features=768, out_features=768, bias=True)\n",
       "          )\n",
       "          (self_attn_layer_norm): LayerNorm((768,), eps=1e-05, elementwise_affine=True)\n",
       "          (activation_fn): GELUActivation()\n",
       "          (fc1): Linear(in_features=768, out_features=3072, bias=True)\n",
       "          (fc2): Linear(in_features=3072, out_features=768, bias=True)\n",
       "          (final_layer_norm): LayerNorm((768,), eps=1e-05, elementwise_affine=True)\n",
       "        )\n",
       "      )\n",
       "      (layer_norm): LayerNorm((768,), eps=1e-05, elementwise_affine=True)\n",
       "    )\n",
       "    (decoder): WhisperDecoder(\n",
       "      (embed_tokens): Embedding(51865, 768, padding_idx=50257)\n",
       "      (embed_positions): WhisperPositionalEmbedding(448, 768)\n",
       "      (layers): ModuleList(\n",
       "        (0-11): 12 x WhisperDecoderLayer(\n",
       "          (self_attn): WhisperAttention(\n",
       "            (k_proj): Linear(in_features=768, out_features=768, bias=False)\n",
       "            (v_proj): Linear(in_features=768, out_features=768, bias=True)\n",
       "            (q_proj): Linear(in_features=768, out_features=768, bias=True)\n",
       "            (out_proj): Linear(in_features=768, out_features=768, bias=True)\n",
       "          )\n",
       "          (activation_fn): GELUActivation()\n",
       "          (self_attn_layer_norm): LayerNorm((768,), eps=1e-05, elementwise_affine=True)\n",
       "          (encoder_attn): WhisperAttention(\n",
       "            (k_proj): Linear(in_features=768, out_features=768, bias=False)\n",
       "            (v_proj): Linear(in_features=768, out_features=768, bias=True)\n",
       "            (q_proj): Linear(in_features=768, out_features=768, bias=True)\n",
       "            (out_proj): Linear(in_features=768, out_features=768, bias=True)\n",
       "          )\n",
       "          (encoder_attn_layer_norm): LayerNorm((768,), eps=1e-05, elementwise_affine=True)\n",
       "          (fc1): Linear(in_features=768, out_features=3072, bias=True)\n",
       "          (fc2): Linear(in_features=3072, out_features=768, bias=True)\n",
       "          (final_layer_norm): LayerNorm((768,), eps=1e-05, elementwise_affine=True)\n",
       "        )\n",
       "      )\n",
       "      (layer_norm): LayerNorm((768,), eps=1e-05, elementwise_affine=True)\n",
       "    )\n",
       "  )\n",
       "  (proj_out): Linear(in_features=768, out_features=51865, bias=False)\n",
       ")"
      ]
     },
     "execution_count": 110,
     "metadata": {},
     "output_type": "execute_result"
    }
   ],
   "source": [
    "from transformers import WhisperProcessor, WhisperForConditionalGeneration\n",
    "\n",
    "processor = WhisperProcessor.from_pretrained(\"openai/whisper-small\", language=\"Swahili\", task=\"translate\")\n",
    "model = WhisperForConditionalGeneration.from_pretrained(\"openai/whisper-small\")\n",
    "forced_decoder_ids = processor.get_decoder_prompt_ids(language=\"Swahili\", task=\"translate\")\n",
    "# max_length = model.max_length()\n",
    "#Model Architecture and parameters\n",
    "print(\"Parameters: \", model.num_parameters())\n",
    "# size = print_model_size(model)\n",
    "# print(size[0])\n",
    "model"
   ]
  },
  {
   "cell_type": "code",
   "execution_count": 111,
   "id": "cae07aa3-65c5-4ea3-a0d5-be6c21ba9276",
   "metadata": {},
   "outputs": [],
   "source": [
    "# from transformers import WhisperProcessor, WhisperForConditionalGeneration\n",
    "\n",
    "# processor = WhisperProcessor.from_pretrained(\"openai/whisper-small\", language=\"Arabic\", task=\"translate\")\n",
    "# model = WhisperForConditionalGeneration.from_pretrained(\"openai/whisper-small\", load_in_8bit = True, device_map=\"auto\")\n",
    "# forced_decoder_ids = processor.get_decoder_prompt_ids(language=\"Arabic\", task=\"translate\")\n",
    "# # max_length = model.max_length()\n",
    "# #Model Architecture and parameters\n",
    "# print(\"Parameters: \", model.num_parameters())\n",
    "# # size = print_model_size(model)\n",
    "# # print(size[0])\n",
    "# model"
   ]
  },
  {
   "cell_type": "code",
   "execution_count": 111,
   "id": "1d4c0a5f-d388-4b78-bc5b-581e83d3d6b7",
   "metadata": {},
   "outputs": [
    {
     "data": {
      "text/plain": [
       "[(1, 50318), (2, 50358), (3, 50363)]"
      ]
     },
     "execution_count": 111,
     "metadata": {},
     "output_type": "execute_result"
    }
   ],
   "source": [
    "forced_decoder_ids"
   ]
  },
  {
   "cell_type": "code",
   "execution_count": 112,
   "id": "6da33abc-13df-46cc-a91c-8aab01d0aba9",
   "metadata": {},
   "outputs": [],
   "source": [
    "# forced_decoder_ids = None\n",
    "# from functools import partial\n",
    "# model.generate = partial(model.generate, language=\"Arabic\", task=\"translate\")"
   ]
  },
  {
   "cell_type": "code",
   "execution_count": 113,
   "id": "6c0bf3cf",
   "metadata": {},
   "outputs": [
    {
     "data": {
      "text/plain": [
       "'swahili'"
      ]
     },
     "execution_count": 113,
     "metadata": {},
     "output_type": "execute_result"
    }
   ],
   "source": [
    "processor.tokenizer.language"
   ]
  },
  {
   "cell_type": "code",
   "execution_count": 114,
   "id": "e5aaf4be-91d4-44db-ad9e-92970ae14440",
   "metadata": {},
   "outputs": [],
   "source": [
    "# model.config.apply_spec_augment = True"
   ]
  },
  {
   "cell_type": "code",
   "execution_count": 115,
   "id": "9ca56b9e",
   "metadata": {},
   "outputs": [],
   "source": [
    "max_label_length = model.config.max_length\n",
    "generation_max_length = max_label_length"
   ]
  },
  {
   "cell_type": "code",
   "execution_count": 116,
   "id": "e85388b4",
   "metadata": {},
   "outputs": [
    {
     "data": {
      "text/plain": [
       "448"
      ]
     },
     "execution_count": 116,
     "metadata": {},
     "output_type": "execute_result"
    }
   ],
   "source": [
    "generation_max_length"
   ]
  },
  {
   "cell_type": "code",
   "execution_count": 117,
   "id": "6c936cea",
   "metadata": {},
   "outputs": [],
   "source": [
    "model.config.apply_spec_augment = True\n",
    "# model.config.mask_time_prob = 0.1\n",
    "# model.config.mask_feature_prob = 0.1\n",
    "model.config.max_length = generation_max_length\n",
    "model.config.dropout = 0.1\n",
    "model.config.forced_decoder_ids = forced_decoder_ids\n",
    "model.config.suppress_tokens = []\n",
    "# if gradient_checkpointing:\n",
    "#     model.config.use_cache = False\n",
    "# if freeze_feature_encoder:\n",
    "#     model.freeze_feature_encoder()\n",
    "# model.config.activation_dropout=0.055,\n",
    "    # attention_dropout=0.094,\n",
    "model.generation_config.max_length = generation_max_length"
   ]
  },
  {
   "cell_type": "code",
   "execution_count": 119,
   "id": "e5bb792d",
   "metadata": {},
   "outputs": [],
   "source": [
    "# inputs = processor.feature_extractor(\n",
    "#         swahili_split['train']['file_name'][0][\"array\"], \n",
    "#         sampling_rate=swahili_split['train']['file_name'][0][\"sampling_rate\"], \n",
    "#         return_attention_mask=apply_spec_augment,\n",
    "#         )\n",
    "# inputs"
   ]
  },
  {
   "cell_type": "code",
   "execution_count": 118,
   "id": "a5a06618",
   "metadata": {},
   "outputs": [],
   "source": [
    "apply_spec_augment = True\n",
    "\n",
    "def prepare_dataset(batch):\n",
    "    # load and (possibly) resample audio data to 16kHz\n",
    "    audio = batch[\"file_name\"]\n",
    "\n",
    "    # compute log-Mel input features from input audio array \n",
    "    inputs = processor.feature_extractor(\n",
    "        audio[\"array\"], \n",
    "        sampling_rate=audio[\"sampling_rate\"], \n",
    "        return_attention_mask=apply_spec_augment,\n",
    "        )\n",
    "    batch[\"input_features\"] = inputs.input_features[0]\n",
    "\n",
    "    # compute input length\n",
    "    batch[\"input_length\"] = len(audio[\"array\"]) / audio[\"sampling_rate\"]\n",
    "    \n",
    "    # if spec augmentation applied, get attention_mask to guide the mask along time axis\n",
    "    if apply_spec_augment:\n",
    "        batch[\"attention_mask\"] = inputs.get(\"attention_mask\")[0]\n",
    "    \n",
    "    \n",
    "    # optional pre-processing steps\n",
    "    transcription = batch[\"transcription\"]\n",
    "#     if do_lower_case:\n",
    "#         transcription = transcription.lower()\n",
    "#     if do_remove_punctuation:\n",
    "#         transcription = normalizer(transcription).strip()\n",
    "#     if do_bangla_unicode_normalization:\n",
    "#         _words = [bangla_normalizer(word)['normalized'] for word in transcription.split()]\n",
    "#         transcription = \" \".join([word for word in _words if word is not None])\n",
    "#         transcription = transcription.replace(\"\\u2047\", \"-\")\n",
    "#         transcription = transcription.replace(u\"\\u098c\", u\"\\u09ef\")\n",
    "#         transcription = unicodedata.normalize(\"NFC\", transcription)\n",
    "#         transcription = removeOptionalZW(transcription)\n",
    "    \n",
    "    # encode target text to label ids\n",
    "    batch[\"labels\"] = processor.tokenizer(transcription).input_ids\n",
    "    \n",
    "     # compute labels length **with** special tokens! -> total label length\n",
    "    batch[\"labels_length\"] = len(batch[\"labels\"])\n",
    "    \n",
    "    return batch"
   ]
  },
  {
   "cell_type": "code",
   "execution_count": 119,
   "id": "fcfd8ffc-a32a-4dcd-a9e4-a4c5ab10a102",
   "metadata": {},
   "outputs": [
    {
     "data": {
      "text/plain": [
       "DatasetDict({\n",
       "    train: Dataset({\n",
       "        features: ['file_name', 'transcription'],\n",
       "        num_rows: 13856\n",
       "    })\n",
       "    test: Dataset({\n",
       "        features: ['file_name', 'transcription'],\n",
       "        num_rows: 872\n",
       "    })\n",
       "})"
      ]
     },
     "execution_count": 119,
     "metadata": {},
     "output_type": "execute_result"
    }
   ],
   "source": [
    "swahili_split"
   ]
  },
  {
   "cell_type": "code",
   "execution_count": 120,
   "id": "740f22de",
   "metadata": {},
   "outputs": [],
   "source": [
    "# from datasets import set_caching_enabled\n",
    "# set_caching_enabled(False)\n",
    "processed_swahili =  swahili_split.map(prepare_dataset, \n",
    "                            num_proc= 1, # if num_proc>1, then mapping might get stuck. use num_proc=1 in that case.\n",
    "                            load_from_cache_file=True,\n",
    "                            cache_file_names={\n",
    "                                \"train\" : os.path.join(base_dir)+'/complete_data_dondrop.arrow',\n",
    "                                \"test\" : os.path.join(base_dir)+'/complete_data_test_dondrop.arrow', }\n",
    "                            )"
   ]
  },
  {
   "cell_type": "code",
   "execution_count": 121,
   "id": "a9088c3b",
   "metadata": {},
   "outputs": [
    {
     "data": {
      "text/plain": [
       "DatasetDict({\n",
       "    train: Dataset({\n",
       "        features: ['file_name', 'transcription', 'input_features', 'input_length', 'attention_mask', 'labels', 'labels_length'],\n",
       "        num_rows: 13856\n",
       "    })\n",
       "    test: Dataset({\n",
       "        features: ['file_name', 'transcription', 'input_features', 'input_length', 'attention_mask', 'labels', 'labels_length'],\n",
       "        num_rows: 872\n",
       "    })\n",
       "})"
      ]
     },
     "execution_count": 121,
     "metadata": {},
     "output_type": "execute_result"
    }
   ],
   "source": [
    "processed_swahili"
   ]
  },
  {
   "cell_type": "code",
   "execution_count": 122,
   "id": "70c2cbac",
   "metadata": {},
   "outputs": [
    {
     "data": {
      "text/plain": [
       "5.688"
      ]
     },
     "execution_count": 122,
     "metadata": {},
     "output_type": "execute_result"
    }
   ],
   "source": [
    "processed_swahili['train']['input_length'][45]"
   ]
  },
  {
   "cell_type": "code",
   "execution_count": 123,
   "id": "70195e0e",
   "metadata": {},
   "outputs": [
    {
     "data": {
      "text/plain": [
       "'3500 shillings.'"
      ]
     },
     "execution_count": 123,
     "metadata": {},
     "output_type": "execute_result"
    }
   ],
   "source": [
    "processed_swahili['train']['transcription'][45]"
   ]
  },
  {
   "cell_type": "code",
   "execution_count": 124,
   "id": "675f3029",
   "metadata": {},
   "outputs": [
    {
     "data": {
      "text/plain": [
       "DatasetDict({\n",
       "    train: Dataset({\n",
       "        features: ['file_name', 'transcription', 'input_features', 'input_length', 'attention_mask', 'labels', 'labels_length'],\n",
       "        num_rows: 13856\n",
       "    })\n",
       "    test: Dataset({\n",
       "        features: ['file_name', 'transcription', 'input_features', 'input_length', 'attention_mask', 'labels', 'labels_length'],\n",
       "        num_rows: 872\n",
       "    })\n",
       "})"
      ]
     },
     "execution_count": 124,
     "metadata": {},
     "output_type": "execute_result"
    }
   ],
   "source": [
    "processed_swahili"
   ]
  },
  {
   "cell_type": "code",
   "execution_count": 125,
   "id": "a8ab63ad",
   "metadata": {},
   "outputs": [
    {
     "name": "stderr",
     "output_type": "stream",
     "text": [
      "Filter: 100%|█████████████████████████████████████████████████████████| 13856/13856 [00:00<00:00, 602484.70 examples/s]\n",
      "Filter: 100%|██████████████████████████████████████████████████████████████| 872/872 [00:00<00:00, 67071.94 examples/s]\n"
     ]
    }
   ],
   "source": [
    "def filter_labels(labels_length):\n",
    "    \"\"\"Filter label sequences longer than max length (448)\"\"\"\n",
    "    return labels_length < max_label_length\n",
    "\n",
    "swahili_f = processed_swahili.filter(filter_labels, input_columns=[\"labels_length\"])"
   ]
  },
  {
   "cell_type": "code",
   "execution_count": 126,
   "id": "e6147743",
   "metadata": {},
   "outputs": [
    {
     "data": {
      "text/plain": [
       "DatasetDict({\n",
       "    train: Dataset({\n",
       "        features: ['file_name', 'transcription', 'input_features', 'input_length', 'attention_mask', 'labels', 'labels_length'],\n",
       "        num_rows: 13854\n",
       "    })\n",
       "    test: Dataset({\n",
       "        features: ['file_name', 'transcription', 'input_features', 'input_length', 'attention_mask', 'labels', 'labels_length'],\n",
       "        num_rows: 872\n",
       "    })\n",
       "})"
      ]
     },
     "execution_count": 126,
     "metadata": {},
     "output_type": "execute_result"
    }
   ],
   "source": [
    "swahili_f"
   ]
  },
  {
   "cell_type": "code",
   "execution_count": 127,
   "id": "8baefc86",
   "metadata": {},
   "outputs": [
    {
     "name": "stderr",
     "output_type": "stream",
     "text": [
      "Filter: 100%|██████████████████████████████████████████████████████████| 13854/13854 [00:00<00:00, 73346.13 examples/s]\n",
      "Filter: 100%|██████████████████████████████████████████████████████████████| 872/872 [00:00<00:00, 34544.82 examples/s]\n"
     ]
    }
   ],
   "source": [
    "max_input_length = 30.0\n",
    "min_input_length = 1.0\n",
    "\n",
    "def is_audio_in_length_range(length):\n",
    "    return length < max_input_length and length > min_input_length\n",
    "swahili_final = swahili_f.filter(is_audio_in_length_range, input_columns=[\"input_length\"]\n",
    "                               )"
   ]
  },
  {
   "cell_type": "code",
   "execution_count": 128,
   "id": "434b1fc4",
   "metadata": {},
   "outputs": [
    {
     "data": {
      "text/plain": [
       "DatasetDict({\n",
       "    train: Dataset({\n",
       "        features: ['file_name', 'transcription', 'input_features', 'input_length', 'attention_mask', 'labels', 'labels_length'],\n",
       "        num_rows: 12960\n",
       "    })\n",
       "    test: Dataset({\n",
       "        features: ['file_name', 'transcription', 'input_features', 'input_length', 'attention_mask', 'labels', 'labels_length'],\n",
       "        num_rows: 807\n",
       "    })\n",
       "})"
      ]
     },
     "execution_count": 128,
     "metadata": {},
     "output_type": "execute_result"
    }
   ],
   "source": [
    "swahili_final"
   ]
  },
  {
   "cell_type": "code",
   "execution_count": 131,
   "id": "1a8a7784",
   "metadata": {},
   "outputs": [],
   "source": [
    "# MAX_DURATION_IN_SECONDS = 30.0\n",
    "# max_input_length = MAX_DURATION_IN_SECONDS * 16000\n",
    "\n",
    "# def filter_inputs(input_length):\n",
    "#     \"\"\"Filter inputs with zero input length or longer than 30s\"\"\"\n",
    "#     return 0 < input_length < max_input_length\n",
    "\n",
    "# swahili_f = processed_swahili.filter(filter_inputs, input_columns=[\"input_length\"])"
   ]
  },
  {
   "cell_type": "code",
   "execution_count": 133,
   "id": "86718164",
   "metadata": {},
   "outputs": [],
   "source": [
    "# def filter_labels(labels_length):\n",
    "#     \"\"\"Filter label sequences longer than max length (448)\"\"\"\n",
    "#     return labels_length < max_label_length\n",
    "\n",
    "# swahili_final = swahili_f.filter(filter_labels, input_columns=[\"labels_length\"])"
   ]
  },
  {
   "cell_type": "code",
   "execution_count": 129,
   "id": "53393d4a",
   "metadata": {},
   "outputs": [],
   "source": [
    "from dataclasses import dataclass\n",
    "from typing import Any, Dict, List, Union\n",
    "\n",
    "@dataclass\n",
    "class DataCollatorSpeechSeq2SeqWithPadding:\n",
    "    processor: Any\n",
    "    forward_attention_mask: bool\n",
    "\n",
    "    def __call__(self, features: List[Dict[str, Union[List[int], torch.Tensor]]]) -> Dict[str, torch.Tensor]:\n",
    "        # split inputs and labels since they have to be of different lengths and need different padding methods\n",
    "        # first treat the audio inputs by simply returning torch tensors\n",
    "        input_features = [{\"input_features\": feature[\"input_features\"]} for feature in features]\n",
    "        batch = self.processor.feature_extractor.pad(input_features, return_tensors=\"pt\")\n",
    "\n",
    "        if self.forward_attention_mask:\n",
    "            batch[\"attention_mask\"] = torch.LongTensor([feature[\"attention_mask\"] for feature in features])\n",
    "        \n",
    "        # get the tokenized label sequences\n",
    "        label_features = [{\"input_ids\": feature[\"labels\"]} for feature in features]\n",
    "        # pad the labels to max length\n",
    "        labels_batch = self.processor.tokenizer.pad(label_features, return_tensors=\"pt\")\n",
    "\n",
    "        # replace padding with -100 to ignore loss correctly\n",
    "        labels = labels_batch[\"input_ids\"].masked_fill(labels_batch.attention_mask.ne(1), -100)\n",
    "\n",
    "        # if bos token is appended in previous tokenization step,\n",
    "        # cut bos token here as it's append later anyways\n",
    "        if (labels[:, 0] == self.processor.tokenizer.bos_token_id).all().cpu().item():\n",
    "            labels = labels[:, 1:]\n",
    "\n",
    "        batch[\"labels\"] = labels\n",
    "\n",
    "        return batch"
   ]
  },
  {
   "cell_type": "code",
   "execution_count": 130,
   "id": "da3da894",
   "metadata": {},
   "outputs": [],
   "source": [
    "data_collator = DataCollatorSpeechSeq2SeqWithPadding(processor=processor, forward_attention_mask=apply_spec_augment)"
   ]
  },
  {
   "cell_type": "code",
   "execution_count": 132,
   "id": "8751d3a6-a85e-4daf-9a42-1d1f275ab08e",
   "metadata": {},
   "outputs": [
    {
     "name": "stdout",
     "output_type": "stream",
     "text": [
      "\n",
      "===================================BUG REPORT===================================\n",
      "Welcome to bitsandbytes. For bug reports, please submit your error trace to: https://github.com/TimDettmers/bitsandbytes/issues\n",
      "================================================================================\n",
      "binary_path: D:\\Downloads\\Swahili-translation-English-STT--main\\ASR\\lib\\site-packages\\bitsandbytes\\cuda_setup\\libbitsandbytes_cuda116.dll\n",
      "CUDA SETUP: Loading binary D:\\Downloads\\Swahili-translation-English-STT--main\\ASR\\lib\\site-packages\\bitsandbytes\\cuda_setup\\libbitsandbytes_cuda116.dll...\n"
     ]
    },
    {
     "name": "stderr",
     "output_type": "stream",
     "text": [
      "D:\\Downloads\\Swahili-translation-English-STT--main\\ASR\\lib\\site-packages\\peft\\utils\\other.py:122: FutureWarning: prepare_model_for_int8_training is deprecated and will be removed in a future version. Use prepare_model_for_kbit_training instead.\n",
      "  warnings.warn(\n"
     ]
    }
   ],
   "source": [
    "from peft import prepare_model_for_int8_training\n",
    "model.enable_input_require_grads()\n",
    "model = prepare_model_for_int8_training(model)"
   ]
  },
  {
   "cell_type": "code",
   "execution_count": 133,
   "id": "5e77cca6",
   "metadata": {},
   "outputs": [
    {
     "name": "stdout",
     "output_type": "stream",
     "text": [
      "trainable params: 7,077,888 || all params: 248,812,800 || trainable%: 2.8446639401188363\n"
     ]
    }
   ],
   "source": [
    "from peft import LoraConfig, PeftModel, LoraModel, LoraConfig, get_peft_model\n",
    "\n",
    "config = LoraConfig(r=64, lora_alpha=128, target_modules=[\"q_proj\", \"v_proj\"], lora_dropout=0.1, bias=\"none\")\n",
    "\n",
    "model = get_peft_model(model, config)\n",
    "model.print_trainable_parameters()"
   ]
  },
  {
   "cell_type": "code",
   "execution_count": 134,
   "id": "6201f045",
   "metadata": {},
   "outputs": [],
   "source": [
    "from transformers import Seq2SeqTrainingArguments\n",
    "\n",
    "peft_args = Seq2SeqTrainingArguments(\n",
    "    output_dir=\"./whisper_small/peft_large\",\n",
    "    overwrite_output_dir=True,\n",
    "    max_steps= 12000,\n",
    "    # num_train_epochs = 15,\n",
    "    per_device_train_batch_size=1,\n",
    "    per_device_eval_batch_size=1,\n",
    "    gradient_accumulation_steps=20,\n",
    "    gradient_checkpointing=True,\n",
    "    evaluation_strategy= 'steps',\n",
    "    eval_steps= 400,\n",
    "    save_strategy='steps',\n",
    "    save_steps= 400,\n",
    "    save_total_limit= 5,\n",
    "    learning_rate=1e-4,\n",
    "    lr_scheduler_type = \"cosine\", # \"constant\", \"constant_with_warmup\", \"cosine\", \"cosine_with_restarts\", \"linear\"(default), \"polynomial\", \"inverse_sqrt\"\n",
    "    warmup_steps= 600,\n",
    "    logging_steps= 5,\n",
    "    weight_decay=0.01,\n",
    "    load_best_model_at_end=True,\n",
    "    # metric_for_best_model= \"bleu\",\n",
    "    # greater_is_better=True,\n",
    "    # bf16= True,\n",
    "#     tf32= True,\n",
    "    # fp16 = True,\n",
    "    optim=\"adamw_hf\",\n",
    "    torch_compile = False,\n",
    "    generation_max_length=max_label_length,\n",
    "    report_to=['tensorboard'],\n",
    "    # generation_num_beams = 4,\n",
    "#     fsdp ,\n",
    "#     fsdp_config,\n",
    "#   deepspeed\n",
    "    #eval_delay=\n",
    "    data_seed = 420,\n",
    "    logging_dir = \"./whisper_small/peft_large/logs\",\n",
    "    seed = 420,\n",
    "    remove_unused_columns = False,\n",
    "    label_names=[\"labels\"],  # same reason as above\n",
    "\n",
    "    # predict_with_generate= True,\n",
    "#     push_to_hub=push_to_hub,\n",
    ")\n",
    "model.config.use_cache = False  # silence the warnings. Please re-enable for inference!"
   ]
  },
  {
   "cell_type": "code",
   "execution_count": 135,
   "id": "3fecb555",
   "metadata": {},
   "outputs": [
    {
     "name": "stdout",
     "output_type": "stream",
     "text": [
      "\n",
      "\n",
      " Training STARTED..\n",
      "\n",
      "\n"
     ]
    },
    {
     "name": "stderr",
     "output_type": "stream",
     "text": [
      "D:\\Downloads\\Swahili-translation-English-STT--main\\ASR\\lib\\site-packages\\transformers\\optimization.py:429: FutureWarning: This implementation of AdamW is deprecated and will be removed in a future version. Use the PyTorch implementation torch.optim.AdamW instead, or set `no_deprecation_warning=True` to disable this warning\n",
      "  warnings.warn(\n",
      "D:\\Downloads\\Swahili-translation-English-STT--main\\ASR\\lib\\site-packages\\torch\\utils\\checkpoint.py:429: UserWarning: torch.utils.checkpoint: please pass in use_reentrant=True or use_reentrant=False explicitly. The default value of use_reentrant will be updated to be False in the future. To maintain current behavior, pass use_reentrant=True. It is recommended that you use use_reentrant=False. Refer to docs for more details on the differences between the two variants.\n",
      "  warnings.warn(\n",
      "D:\\Downloads\\Swahili-translation-English-STT--main\\ASR\\lib\\site-packages\\torch\\utils\\checkpoint.py:61: UserWarning: None of the inputs have requires_grad=True. Gradients will be None\n",
      "  warnings.warn(\n"
     ]
    },
    {
     "data": {
      "text/html": [
       "\n",
       "    <div>\n",
       "      \n",
       "      <progress value='7200' max='12000' style='width:300px; height:20px; vertical-align: middle;'></progress>\n",
       "      [ 7200/12000 16:25:41 < 10:57:18, 0.12 it/s, Epoch 11/19]\n",
       "    </div>\n",
       "    <table border=\"1\" class=\"dataframe\">\n",
       "  <thead>\n",
       " <tr style=\"text-align: left;\">\n",
       "      <th>Step</th>\n",
       "      <th>Training Loss</th>\n",
       "      <th>Validation Loss</th>\n",
       "    </tr>\n",
       "  </thead>\n",
       "  <tbody>\n",
       "    <tr>\n",
       "      <td>400</td>\n",
       "      <td>1.655900</td>\n",
       "      <td>2.087300</td>\n",
       "    </tr>\n",
       "    <tr>\n",
       "      <td>800</td>\n",
       "      <td>1.317400</td>\n",
       "      <td>1.905172</td>\n",
       "    </tr>\n",
       "    <tr>\n",
       "      <td>1200</td>\n",
       "      <td>1.208500</td>\n",
       "      <td>1.797060</td>\n",
       "    </tr>\n",
       "    <tr>\n",
       "      <td>1600</td>\n",
       "      <td>1.303600</td>\n",
       "      <td>1.742837</td>\n",
       "    </tr>\n",
       "    <tr>\n",
       "      <td>2000</td>\n",
       "      <td>1.106500</td>\n",
       "      <td>1.715279</td>\n",
       "    </tr>\n",
       "    <tr>\n",
       "      <td>2400</td>\n",
       "      <td>0.873500</td>\n",
       "      <td>1.687788</td>\n",
       "    </tr>\n",
       "    <tr>\n",
       "      <td>2800</td>\n",
       "      <td>0.740700</td>\n",
       "      <td>1.691673</td>\n",
       "    </tr>\n",
       "    <tr>\n",
       "      <td>3200</td>\n",
       "      <td>0.801200</td>\n",
       "      <td>1.681026</td>\n",
       "    </tr>\n",
       "    <tr>\n",
       "      <td>3600</td>\n",
       "      <td>0.860900</td>\n",
       "      <td>1.710523</td>\n",
       "    </tr>\n",
       "    <tr>\n",
       "      <td>4000</td>\n",
       "      <td>0.504100</td>\n",
       "      <td>1.725510</td>\n",
       "    </tr>\n",
       "    <tr>\n",
       "      <td>4400</td>\n",
       "      <td>0.856600</td>\n",
       "      <td>1.727511</td>\n",
       "    </tr>\n",
       "    <tr>\n",
       "      <td>4800</td>\n",
       "      <td>0.781100</td>\n",
       "      <td>1.768187</td>\n",
       "    </tr>\n",
       "    <tr>\n",
       "      <td>5200</td>\n",
       "      <td>0.533300</td>\n",
       "      <td>1.793285</td>\n",
       "    </tr>\n",
       "    <tr>\n",
       "      <td>5600</td>\n",
       "      <td>0.656100</td>\n",
       "      <td>1.810979</td>\n",
       "    </tr>\n",
       "    <tr>\n",
       "      <td>6000</td>\n",
       "      <td>0.580900</td>\n",
       "      <td>1.825893</td>\n",
       "    </tr>\n",
       "    <tr>\n",
       "      <td>6400</td>\n",
       "      <td>0.535200</td>\n",
       "      <td>1.829976</td>\n",
       "    </tr>\n",
       "    <tr>\n",
       "      <td>6800</td>\n",
       "      <td>0.469200</td>\n",
       "      <td>1.853380</td>\n",
       "    </tr>\n",
       "    <tr>\n",
       "      <td>7200</td>\n",
       "      <td>0.552500</td>\n",
       "      <td>1.876045</td>\n",
       "    </tr>\n",
       "  </tbody>\n",
       "</table><p>"
      ],
      "text/plain": [
       "<IPython.core.display.HTML object>"
      ]
     },
     "metadata": {},
     "output_type": "display_data"
    },
    {
     "name": "stderr",
     "output_type": "stream",
     "text": [
      "D:\\Downloads\\Swahili-translation-English-STT--main\\ASR\\lib\\site-packages\\torch\\utils\\checkpoint.py:429: UserWarning: torch.utils.checkpoint: please pass in use_reentrant=True or use_reentrant=False explicitly. The default value of use_reentrant will be updated to be False in the future. To maintain current behavior, pass use_reentrant=True. It is recommended that you use use_reentrant=False. Refer to docs for more details on the differences between the two variants.\n",
      "  warnings.warn(\n",
      "D:\\Downloads\\Swahili-translation-English-STT--main\\ASR\\lib\\site-packages\\torch\\utils\\checkpoint.py:61: UserWarning: None of the inputs have requires_grad=True. Gradients will be None\n",
      "  warnings.warn(\n",
      "D:\\Downloads\\Swahili-translation-English-STT--main\\ASR\\lib\\site-packages\\torch\\utils\\checkpoint.py:429: UserWarning: torch.utils.checkpoint: please pass in use_reentrant=True or use_reentrant=False explicitly. The default value of use_reentrant will be updated to be False in the future. To maintain current behavior, pass use_reentrant=True. It is recommended that you use use_reentrant=False. Refer to docs for more details on the differences between the two variants.\n",
      "  warnings.warn(\n",
      "D:\\Downloads\\Swahili-translation-English-STT--main\\ASR\\lib\\site-packages\\torch\\utils\\checkpoint.py:61: UserWarning: None of the inputs have requires_grad=True. Gradients will be None\n",
      "  warnings.warn(\n",
      "D:\\Downloads\\Swahili-translation-English-STT--main\\ASR\\lib\\site-packages\\torch\\utils\\checkpoint.py:429: UserWarning: torch.utils.checkpoint: please pass in use_reentrant=True or use_reentrant=False explicitly. The default value of use_reentrant will be updated to be False in the future. To maintain current behavior, pass use_reentrant=True. It is recommended that you use use_reentrant=False. Refer to docs for more details on the differences between the two variants.\n",
      "  warnings.warn(\n",
      "D:\\Downloads\\Swahili-translation-English-STT--main\\ASR\\lib\\site-packages\\torch\\utils\\checkpoint.py:61: UserWarning: None of the inputs have requires_grad=True. Gradients will be None\n",
      "  warnings.warn(\n",
      "D:\\Downloads\\Swahili-translation-English-STT--main\\ASR\\lib\\site-packages\\torch\\utils\\checkpoint.py:429: UserWarning: torch.utils.checkpoint: please pass in use_reentrant=True or use_reentrant=False explicitly. The default value of use_reentrant will be updated to be False in the future. To maintain current behavior, pass use_reentrant=True. It is recommended that you use use_reentrant=False. Refer to docs for more details on the differences between the two variants.\n",
      "  warnings.warn(\n",
      "D:\\Downloads\\Swahili-translation-English-STT--main\\ASR\\lib\\site-packages\\torch\\utils\\checkpoint.py:61: UserWarning: None of the inputs have requires_grad=True. Gradients will be None\n",
      "  warnings.warn(\n",
      "D:\\Downloads\\Swahili-translation-English-STT--main\\ASR\\lib\\site-packages\\torch\\utils\\checkpoint.py:429: UserWarning: torch.utils.checkpoint: please pass in use_reentrant=True or use_reentrant=False explicitly. The default value of use_reentrant will be updated to be False in the future. To maintain current behavior, pass use_reentrant=True. It is recommended that you use use_reentrant=False. Refer to docs for more details on the differences between the two variants.\n",
      "  warnings.warn(\n",
      "D:\\Downloads\\Swahili-translation-English-STT--main\\ASR\\lib\\site-packages\\torch\\utils\\checkpoint.py:61: UserWarning: None of the inputs have requires_grad=True. Gradients will be None\n",
      "  warnings.warn(\n",
      "D:\\Downloads\\Swahili-translation-English-STT--main\\ASR\\lib\\site-packages\\torch\\utils\\checkpoint.py:429: UserWarning: torch.utils.checkpoint: please pass in use_reentrant=True or use_reentrant=False explicitly. The default value of use_reentrant will be updated to be False in the future. To maintain current behavior, pass use_reentrant=True. It is recommended that you use use_reentrant=False. Refer to docs for more details on the differences between the two variants.\n",
      "  warnings.warn(\n",
      "D:\\Downloads\\Swahili-translation-English-STT--main\\ASR\\lib\\site-packages\\torch\\utils\\checkpoint.py:61: UserWarning: None of the inputs have requires_grad=True. Gradients will be None\n",
      "  warnings.warn(\n",
      "D:\\Downloads\\Swahili-translation-English-STT--main\\ASR\\lib\\site-packages\\torch\\utils\\checkpoint.py:429: UserWarning: torch.utils.checkpoint: please pass in use_reentrant=True or use_reentrant=False explicitly. The default value of use_reentrant will be updated to be False in the future. To maintain current behavior, pass use_reentrant=True. It is recommended that you use use_reentrant=False. Refer to docs for more details on the differences between the two variants.\n",
      "  warnings.warn(\n",
      "D:\\Downloads\\Swahili-translation-English-STT--main\\ASR\\lib\\site-packages\\torch\\utils\\checkpoint.py:61: UserWarning: None of the inputs have requires_grad=True. Gradients will be None\n",
      "  warnings.warn(\n",
      "D:\\Downloads\\Swahili-translation-English-STT--main\\ASR\\lib\\site-packages\\torch\\utils\\checkpoint.py:429: UserWarning: torch.utils.checkpoint: please pass in use_reentrant=True or use_reentrant=False explicitly. The default value of use_reentrant will be updated to be False in the future. To maintain current behavior, pass use_reentrant=True. It is recommended that you use use_reentrant=False. Refer to docs for more details on the differences between the two variants.\n",
      "  warnings.warn(\n",
      "D:\\Downloads\\Swahili-translation-English-STT--main\\ASR\\lib\\site-packages\\torch\\utils\\checkpoint.py:61: UserWarning: None of the inputs have requires_grad=True. Gradients will be None\n",
      "  warnings.warn(\n",
      "D:\\Downloads\\Swahili-translation-English-STT--main\\ASR\\lib\\site-packages\\torch\\utils\\checkpoint.py:429: UserWarning: torch.utils.checkpoint: please pass in use_reentrant=True or use_reentrant=False explicitly. The default value of use_reentrant will be updated to be False in the future. To maintain current behavior, pass use_reentrant=True. It is recommended that you use use_reentrant=False. Refer to docs for more details on the differences between the two variants.\n",
      "  warnings.warn(\n",
      "D:\\Downloads\\Swahili-translation-English-STT--main\\ASR\\lib\\site-packages\\torch\\utils\\checkpoint.py:61: UserWarning: None of the inputs have requires_grad=True. Gradients will be None\n",
      "  warnings.warn(\n",
      "D:\\Downloads\\Swahili-translation-English-STT--main\\ASR\\lib\\site-packages\\torch\\utils\\checkpoint.py:429: UserWarning: torch.utils.checkpoint: please pass in use_reentrant=True or use_reentrant=False explicitly. The default value of use_reentrant will be updated to be False in the future. To maintain current behavior, pass use_reentrant=True. It is recommended that you use use_reentrant=False. Refer to docs for more details on the differences between the two variants.\n",
      "  warnings.warn(\n",
      "D:\\Downloads\\Swahili-translation-English-STT--main\\ASR\\lib\\site-packages\\torch\\utils\\checkpoint.py:61: UserWarning: None of the inputs have requires_grad=True. Gradients will be None\n",
      "  warnings.warn(\n",
      "D:\\Downloads\\Swahili-translation-English-STT--main\\ASR\\lib\\site-packages\\torch\\utils\\checkpoint.py:429: UserWarning: torch.utils.checkpoint: please pass in use_reentrant=True or use_reentrant=False explicitly. The default value of use_reentrant will be updated to be False in the future. To maintain current behavior, pass use_reentrant=True. It is recommended that you use use_reentrant=False. Refer to docs for more details on the differences between the two variants.\n",
      "  warnings.warn(\n",
      "D:\\Downloads\\Swahili-translation-English-STT--main\\ASR\\lib\\site-packages\\torch\\utils\\checkpoint.py:61: UserWarning: None of the inputs have requires_grad=True. Gradients will be None\n",
      "  warnings.warn(\n",
      "D:\\Downloads\\Swahili-translation-English-STT--main\\ASR\\lib\\site-packages\\torch\\utils\\checkpoint.py:429: UserWarning: torch.utils.checkpoint: please pass in use_reentrant=True or use_reentrant=False explicitly. The default value of use_reentrant will be updated to be False in the future. To maintain current behavior, pass use_reentrant=True. It is recommended that you use use_reentrant=False. Refer to docs for more details on the differences between the two variants.\n",
      "  warnings.warn(\n",
      "D:\\Downloads\\Swahili-translation-English-STT--main\\ASR\\lib\\site-packages\\torch\\utils\\checkpoint.py:61: UserWarning: None of the inputs have requires_grad=True. Gradients will be None\n",
      "  warnings.warn(\n",
      "D:\\Downloads\\Swahili-translation-English-STT--main\\ASR\\lib\\site-packages\\torch\\utils\\checkpoint.py:429: UserWarning: torch.utils.checkpoint: please pass in use_reentrant=True or use_reentrant=False explicitly. The default value of use_reentrant will be updated to be False in the future. To maintain current behavior, pass use_reentrant=True. It is recommended that you use use_reentrant=False. Refer to docs for more details on the differences between the two variants.\n",
      "  warnings.warn(\n",
      "D:\\Downloads\\Swahili-translation-English-STT--main\\ASR\\lib\\site-packages\\torch\\utils\\checkpoint.py:61: UserWarning: None of the inputs have requires_grad=True. Gradients will be None\n",
      "  warnings.warn(\n",
      "D:\\Downloads\\Swahili-translation-English-STT--main\\ASR\\lib\\site-packages\\torch\\utils\\checkpoint.py:429: UserWarning: torch.utils.checkpoint: please pass in use_reentrant=True or use_reentrant=False explicitly. The default value of use_reentrant will be updated to be False in the future. To maintain current behavior, pass use_reentrant=True. It is recommended that you use use_reentrant=False. Refer to docs for more details on the differences between the two variants.\n",
      "  warnings.warn(\n",
      "D:\\Downloads\\Swahili-translation-English-STT--main\\ASR\\lib\\site-packages\\torch\\utils\\checkpoint.py:61: UserWarning: None of the inputs have requires_grad=True. Gradients will be None\n",
      "  warnings.warn(\n",
      "D:\\Downloads\\Swahili-translation-English-STT--main\\ASR\\lib\\site-packages\\torch\\utils\\checkpoint.py:429: UserWarning: torch.utils.checkpoint: please pass in use_reentrant=True or use_reentrant=False explicitly. The default value of use_reentrant will be updated to be False in the future. To maintain current behavior, pass use_reentrant=True. It is recommended that you use use_reentrant=False. Refer to docs for more details on the differences between the two variants.\n",
      "  warnings.warn(\n",
      "D:\\Downloads\\Swahili-translation-English-STT--main\\ASR\\lib\\site-packages\\torch\\utils\\checkpoint.py:61: UserWarning: None of the inputs have requires_grad=True. Gradients will be None\n",
      "  warnings.warn(\n",
      "D:\\Downloads\\Swahili-translation-English-STT--main\\ASR\\lib\\site-packages\\torch\\utils\\checkpoint.py:429: UserWarning: torch.utils.checkpoint: please pass in use_reentrant=True or use_reentrant=False explicitly. The default value of use_reentrant will be updated to be False in the future. To maintain current behavior, pass use_reentrant=True. It is recommended that you use use_reentrant=False. Refer to docs for more details on the differences between the two variants.\n",
      "  warnings.warn(\n",
      "D:\\Downloads\\Swahili-translation-English-STT--main\\ASR\\lib\\site-packages\\torch\\utils\\checkpoint.py:61: UserWarning: None of the inputs have requires_grad=True. Gradients will be None\n",
      "  warnings.warn(\n",
      "D:\\Downloads\\Swahili-translation-English-STT--main\\ASR\\lib\\site-packages\\torch\\utils\\checkpoint.py:429: UserWarning: torch.utils.checkpoint: please pass in use_reentrant=True or use_reentrant=False explicitly. The default value of use_reentrant will be updated to be False in the future. To maintain current behavior, pass use_reentrant=True. It is recommended that you use use_reentrant=False. Refer to docs for more details on the differences between the two variants.\n",
      "  warnings.warn(\n",
      "D:\\Downloads\\Swahili-translation-English-STT--main\\ASR\\lib\\site-packages\\torch\\utils\\checkpoint.py:61: UserWarning: None of the inputs have requires_grad=True. Gradients will be None\n",
      "  warnings.warn(\n"
     ]
    },
    {
     "name": "stdout",
     "output_type": "stream",
     "text": [
      "\n",
      "\n",
      " Training COMPLETED...\n",
      "\n",
      "\n",
      "\n",
      "\n",
      " Evaluating Model & Saving Metrics...\n",
      "\n",
      "\n"
     ]
    },
    {
     "data": {
      "text/html": [
       "\n",
       "    <div>\n",
       "      \n",
       "      <progress value='807' max='807' style='width:300px; height:20px; vertical-align: middle;'></progress>\n",
       "      [807/807 04:19]\n",
       "    </div>\n",
       "    "
      ],
      "text/plain": [
       "<IPython.core.display.HTML object>"
      ]
     },
     "metadata": {},
     "output_type": "display_data"
    }
   ],
   "source": [
    "from transformers import Seq2SeqTrainer\n",
    "import transformers as tf\n",
    "early_stopping_patience = 10\n",
    "trainer = Seq2SeqTrainer(\n",
    "    args=peft_args,\n",
    "    model=model,\n",
    "    train_dataset=swahili_final[\"train\"],\n",
    "    eval_dataset=swahili_final[\"test\"],\n",
    "    data_collator=data_collator,\n",
    "    # compute_metrics=compute_metrics,\n",
    "    tokenizer=processor.feature_extractor,\n",
    "    callbacks=[tf.EarlyStoppingCallback(early_stopping_patience=early_stopping_patience)],\n",
    ")\n",
    "\n",
    "processor.save_pretrained(\"./whisper_small/peft/50_dataset_processor\")\n",
    "\n",
    "\n",
    "## 17. Training\n",
    "print(\"\\n\\n Training STARTED..\\n\\n\")\n",
    "\n",
    "train_result = trainer.train()\n",
    "\n",
    "## resume from the latest checkpoint\n",
    "# train_result = trainer.train(resume_from_checkpoint=True)\n",
    "\n",
    "## resume training from the specific checkpoint in the directory passed\n",
    "# train_result = trainer.train(resume_from_checkpoint=\"checkpoint-4000\")\n",
    "\n",
    "print(\"\\n\\n Training COMPLETED...\\n\\n\")\n",
    "\n",
    "\n",
    "## 18. Evaluating & Saving Metrics & Model\n",
    "print(\"\\n\\n Evaluating Model & Saving Metrics...\\n\\n\")\n",
    "\n",
    "processor.save_pretrained(save_directory=\"./whisper-small/peft/50_dataset_processor/again\")\n",
    "# trainer.save_model() \n",
    "\n",
    "metrics = train_result.metrics\n",
    "trainer.save_metrics(\"train\", metrics)\n",
    "trainer.save_state()\n",
    "\n",
    "metrics = trainer.evaluate(\n",
    "    metric_key_prefix=\"eval\",\n",
    "    max_length= peft_args.generation_max_length,\n",
    "    num_beams= peft_args.generation_num_beams,\n",
    ")\n",
    "\n",
    "trainer.save_metrics(\"eval\", metrics)"
   ]
  },
  {
   "cell_type": "code",
   "execution_count": null,
   "id": "afc6dcde-6f68-408c-9a03-d9047ba8f7a5",
   "metadata": {},
   "outputs": [],
   "source": [
    "from peft import PeftModel, PeftConfig\n",
    "from transformers import WhisperForConditionalGeneration, Seq2SeqTrainer\n",
    "\n",
    "peft_model_id = \"./whisper_small/complete_data_2/checkpoint-6800\"\n",
    "peft_config = PeftConfig.from_pretrained(peft_model_id)\n",
    "model = WhisperForConditionalGeneration.from_pretrained(\n",
    "    peft_config.base_model_name_or_path, load_in_8bit=True, device_map=\"auto\"\n",
    ")\n",
    "model = PeftModel.from_pretrained(model, peft_model_id)"
   ]
  },
  {
   "cell_type": "code",
   "execution_count": null,
   "id": "589a087f-2851-401e-9d39-5c9f79fbbcbe",
   "metadata": {},
   "outputs": [],
   "source": [
    "from torch.utils.data import DataLoader\n",
    "from tqdm import tqdm\n",
    "import numpy as np\n",
    "import gc\n",
    "\n",
    "eval_dataloader = DataLoader(swahili_final[\"test\"], batch_size=8, collate_fn=data_collator)\n",
    "\n",
    "model.eval()\n",
    "for step, batch in enumerate(tqdm(eval_dataloader)):\n",
    "    with torch.cuda.amp.autocast():\n",
    "        with torch.no_grad():\n",
    "            generated_tokens = (\n",
    "                model.generate(\n",
    "                    input_features=batch[\"input_features\"].to(\"cuda\"),\n",
    "                    decoder_input_ids=batch[\"labels\"][:, :4].to(\"cuda\"),\n",
    "                    max_new_tokens=255,\n",
    "                )\n",
    "                .cpu()\n",
    "                .numpy()\n",
    "            )\n",
    "            labels = batch[\"labels\"].cpu().numpy()\n",
    "            labels = np.where(labels != -100, labels, tokenizer.pad_token_id)\n",
    "            decoded_preds = tokenizer.batch_decode(generated_tokens, skip_special_tokens=True)\n",
    "            decoded_labels = tokenizer.batch_decode(labels, skip_special_tokens=True)\n",
    "            metric.add_batch(\n",
    "                predictions=decoded_preds,\n",
    "                references=decoded_labels,\n",
    "            )\n",
    "    del generated_tokens, labels, batch\n",
    "    gc.collect()\n",
    "wer = 100 * metric.compute()\n",
    "print(f\"{wer=}\")"
   ]
  }
 ],
 "metadata": {
  "kernelspec": {
   "display_name": "Python 3 (ipykernel)",
   "language": "python",
   "name": "python3"
  },
  "language_info": {
   "codemirror_mode": {
    "name": "ipython",
    "version": 3
   },
   "file_extension": ".py",
   "mimetype": "text/x-python",
   "name": "python",
   "nbconvert_exporter": "python",
   "pygments_lexer": "ipython3",
   "version": "3.9.2"
  }
 },
 "nbformat": 4,
 "nbformat_minor": 5
}
