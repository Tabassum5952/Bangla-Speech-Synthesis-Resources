{
 "cells": [
  {
   "cell_type": "code",
   "execution_count": 4,
   "id": "2bd31253",
   "metadata": {},
   "outputs": [
    {
     "name": "stdout",
     "output_type": "stream",
     "text": [
      "The autotime extension is already loaded. To reload it, use:\n",
      "  %reload_ext autotime\n",
      "time: 0 ns (started: 2024-02-09 19:41:52 +06:00)\n"
     ]
    }
   ],
   "source": [
    "%load_ext autotime"
   ]
  },
  {
   "cell_type": "code",
   "execution_count": 5,
   "id": "ce246f18",
   "metadata": {},
   "outputs": [
    {
     "name": "stdout",
     "output_type": "stream",
     "text": [
      "time: 20.1 s (started: 2024-02-09 19:44:19 +06:00)\n"
     ]
    }
   ],
   "source": [
    "import torch \n",
    "from transformers import pipeline"
   ]
  },
  {
   "cell_type": "code",
   "execution_count": null,
   "id": "011990c2",
   "metadata": {},
   "outputs": [],
   "source": [
    "pipe = pipeline(\"automatic-speech-recognition\", \"openai/whisper-large-v2\", device=\"cuda:0\")\n"
   ]
  },
  {
   "cell_type": "code",
   "execution_count": null,
   "id": "2def1fd9",
   "metadata": {},
   "outputs": [],
   "source": [
    "outputs = pipe(\"sam_altman_lex_podcast_367.flac\", chunk_length_s=30)\n"
   ]
  },
  {
   "cell_type": "markdown",
   "id": "6af1ebce",
   "metadata": {},
   "source": [
    "Batching"
   ]
  },
  {
   "cell_type": "code",
   "execution_count": null,
   "id": "1c8bca6a",
   "metadata": {},
   "outputs": [],
   "source": [
    "outputs = pipe(\"sam_altman_lex_podcast_367.flac\", chunk_length_s=30, batch_size=8)\n",
    "outputs[\"text\"][:200]"
   ]
  },
  {
   "cell_type": "markdown",
   "id": "4e769184",
   "metadata": {},
   "source": [
    "FP16"
   ]
  },
  {
   "cell_type": "code",
   "execution_count": null,
   "id": "eab50665",
   "metadata": {},
   "outputs": [],
   "source": [
    "pipe = pipeline(\"automatic-speech-recognition\", \"openai/whisper-large-v2\", torch_dtype=torch.float16, device=\"cuda:0\")\n",
    "outputs = pipe(\"sam_altman_lex_podcast_367.flac\", chunk_length_s=30, batch_size=16, return_timestamps=True)\n",
    "outputs[\"text\"][:200]\n"
   ]
  },
  {
   "cell_type": "markdown",
   "id": "d43ec510",
   "metadata": {},
   "source": [
    "Better Transformer"
   ]
  },
  {
   "cell_type": "code",
   "execution_count": null,
   "id": "64bd3ec3",
   "metadata": {},
   "outputs": [],
   "source": [
    "pipe = pipeline(\"automatic-speech-recognition\", \"openai/whisper-large-v2\", torch_dtype=torch.float16, device=\"cuda:0\") \n",
    "pipe.model = pipe.model.to_bettertransformer()\n",
    "outputs = pipe(\"sam_altman_lex_podcast_367.flac\", chunk_length_s=30, batch_size=16, return_timestamps=True)\n",
    "outputs[\"text\"][:200]"
   ]
  },
  {
   "cell_type": "markdown",
   "id": "9bd75ddf",
   "metadata": {},
   "source": [
    "Better Transformer + higher batch size"
   ]
  },
  {
   "cell_type": "code",
   "execution_count": null,
   "id": "41cbb3a6",
   "metadata": {},
   "outputs": [],
   "source": [
    "outputs = pipe(\"sam_altman_lex_podcast_367.flac\", chunk_length_s=30, batch_size=24, return_timestamps=True)\n"
   ]
  },
  {
   "cell_type": "markdown",
   "id": "c04ac0e0",
   "metadata": {},
   "source": [
    "Flash Attention"
   ]
  },
  {
   "cell_type": "code",
   "execution_count": null,
   "id": "2b93459f",
   "metadata": {},
   "outputs": [],
   "source": [
    "model = AutoModelForCausalLM.from_pretrained(\n",
    "    model_id, \n",
    "    torch_dtype=torch.bfloat16, \n",
    "    attn_implementation=\"flash_attention_2\",\n",
    ")"
   ]
  }
 ],
 "metadata": {
  "kernelspec": {
   "display_name": "Python 3 (ipykernel)",
   "language": "python",
   "name": "python3"
  },
  "language_info": {
   "codemirror_mode": {
    "name": "ipython",
    "version": 3
   },
   "file_extension": ".py",
   "mimetype": "text/x-python",
   "name": "python",
   "nbconvert_exporter": "python",
   "pygments_lexer": "ipython3",
   "version": "3.9.2"
  }
 },
 "nbformat": 4,
 "nbformat_minor": 5
}
