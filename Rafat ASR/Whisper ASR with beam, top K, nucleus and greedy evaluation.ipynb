{
 "cells": [
  {
   "cell_type": "code",
   "execution_count": 1,
   "id": "99a31ad4",
   "metadata": {},
   "outputs": [
    {
     "name": "stderr",
     "output_type": "stream",
     "text": [
      "D:\\Downloads\\Swahili-translation-English-STT--main\\ASR\\lib\\site-packages\\tqdm\\auto.py:21: TqdmWarning: IProgress not found. Please update jupyter and ipywidgets. See https://ipywidgets.readthedocs.io/en/stable/user_install.html\n",
      "  from .autonotebook import tqdm as notebook_tqdm\n"
     ]
    },
    {
     "data": {
      "text/plain": [
       "20"
      ]
     },
     "execution_count": 1,
     "metadata": {},
     "output_type": "execute_result"
    }
   ],
   "source": [
    "import torch\n",
    "import pandas as pd\n",
    "import os\n",
    "import librosa\n",
    "import contextlib\n",
    "from mutagen.mp3 import MP3\n",
    "from datasets import load_dataset, Value, Features, Audio, Dataset, concatenate_datasets\n",
    "from sklearn.preprocessing import minmax_scale\n",
    "import numpy as np\n",
    "import evaluate\n",
    "import texthero as hero\n",
    "from transformers import set_seed\n",
    "torch.cuda.empty_cache()\n",
    "set_seed(42)\n",
    "# Details: https://huggingface.co/docs/diffusers/optimization/fp16#enable-cudnn-autotuner\n",
    "torch.backends.cudnn.benchmark = True\n",
    "torch.backends.cuda.matmul.allow_tf32 = True\n",
    "from transformers import pipeline\n",
    "os.cpu_count()"
   ]
  },
  {
   "cell_type": "code",
   "execution_count": 2,
   "id": "d25b8ad7",
   "metadata": {},
   "outputs": [
    {
     "name": "stdout",
     "output_type": "stream",
     "text": [
      "True\n",
      "1\n",
      "NVIDIA GeForce RTX 3070 Ti\n",
      "Connected to a GPU!\n"
     ]
    }
   ],
   "source": [
    "print(torch.cuda.is_available())\n",
    "print(torch.cuda.device_count())\n",
    "# print(torch.cuda.current_device())\n",
    "# print(torch.cuda.device(0))\n",
    "print(torch.cuda.get_device_name(0))\n",
    "gpu_info = !nvidia-smi\n",
    "gpu_info = '\\n'.join(gpu_info)\n",
    "if gpu_info.find('failed') >= 0:\n",
    "  print('NOT connected to a GPU!. Will use CPU!')\n",
    "else:\n",
    "  print('Connected to a GPU!')"
   ]
  },
  {
   "cell_type": "code",
   "execution_count": 3,
   "id": "b46e9615",
   "metadata": {},
   "outputs": [],
   "source": [
    "# !pip install huggingface_hub\n",
    "# !pip install ipywidgets\n",
    "# !pip install git+https://github.com/huggingface/datasets\n",
    "# !pip install git+https://github.com/huggingface/transformers\n",
    "# !pip install librosa\n",
    "# !pip install pandas openpyxl\n",
    "# !pip install numpy\n",
    "# !pip install audiomentations\n",
    "# !pip install mutagen"
   ]
  },
  {
   "cell_type": "markdown",
   "id": "d685aeb9",
   "metadata": {},
   "source": [
    "Make Dataset"
   ]
  },
  {
   "cell_type": "code",
   "execution_count": 4,
   "id": "d8e058fb",
   "metadata": {},
   "outputs": [],
   "source": [
    "# abs_path = \".\\\\LARGE DATA\\\\larger sample\\\\\"\n",
    "# df = pd.ExcelFile(\".\\LARGE DATA\\larger sample\\Compiled data - submission 1.xlsx\")\n",
    "# df1 = pd.read_excel(df, 'QF14')\n",
    "# df2 = pd.read_excel(df, 'QF18')\n",
    "# df3 = pd.read_excel(df, 'QG17')\n",
    "# df4 = pd.read_excel(df, 'QH11')\n",
    "# df5 = pd.read_excel(df, 'QH12')\n",
    "\n",
    "# df = pd.concat([df1, df2, df3, df4, df5], ignore_index = True)\n",
    "# df"
   ]
  },
  {
   "cell_type": "code",
   "execution_count": 5,
   "id": "12958742",
   "metadata": {},
   "outputs": [],
   "source": [
    "# for i in range(len(df)):\n",
    "#     if \"QF14\" in df['File name'][i]:\n",
    "#         df['File name'][i] = abs_path+\"QF14\\\\\"+df['File name'][i]\n",
    "#     elif \"QF18\" in df['File name'][i]:\n",
    "#         df['File name'][i] = abs_path+\"QF18\\\\\"+df['File name'][i]\n",
    "#     elif \"QG17\" in df['File name'][i]:\n",
    "#         df['File name'][i] = abs_path+\"QG17\\\\\"+df['File name'][i]\n",
    "#     elif \"QH11\" in df['File name'][i]:\n",
    "#         df['File name'][i] = abs_path+\"QH11\\\\\"+df['File name'][i]\n",
    "#     elif \"QH12\" in df['File name'][i]:\n",
    "#         df['File name'][i] = abs_path+\"QH12\\\\\"+df['File name'][i]\n",
    "# df['File name'][225]"
   ]
  },
  {
   "cell_type": "code",
   "execution_count": 6,
   "id": "3c3bb047-b35f-4dc4-9166-2ef320493e3a",
   "metadata": {},
   "outputs": [],
   "source": [
    "# # df.to_excel('Swahili_QF.xlsx', index=False)\n",
    "# df.rename(columns={'File name': 'file_name'}, inplace=True)"
   ]
  },
  {
   "cell_type": "code",
   "execution_count": 7,
   "id": "6ffe6784-7b3f-4f13-8f52-c6ccefccd58c",
   "metadata": {},
   "outputs": [],
   "source": [
    "df = pd.read_excel(\"./real_data.xlsx\")"
   ]
  },
  {
   "cell_type": "code",
   "execution_count": 8,
   "id": "a0728d18-9cff-4e36-a51b-ef8a290bc6a7",
   "metadata": {},
   "outputs": [
    {
     "data": {
      "text/plain": [
       "(1184, 2)"
      ]
     },
     "execution_count": 8,
     "metadata": {},
     "output_type": "execute_result"
    }
   ],
   "source": [
    "df.shape"
   ]
  },
  {
   "cell_type": "code",
   "execution_count": 9,
   "id": "c273e5a6",
   "metadata": {},
   "outputs": [
    {
     "name": "stdout",
     "output_type": "stream",
     "text": [
      "./LARGE DATA/larger sample/QG17/GK_swa_u0709_QG17.mp3\n"
     ]
    },
    {
     "data": {
      "text/plain": [
       "\"Moraa should have just agreed to be paid through the method of The phone so that her debt can be deducted and get exhausted and then Should opt out from the loans she has because she ends up losing clients When it's something simple. You can just pay your loan and then just opt ������out. You get yourself off that [?]Go on with your life as usual instead of [p]\""
      ]
     },
     "execution_count": 9,
     "metadata": {},
     "output_type": "execute_result"
    }
   ],
   "source": [
    "print(df['file_name'][642])\n",
    "df['transcription'][642]"
   ]
  },
  {
   "cell_type": "code",
   "execution_count": 10,
   "id": "87fc9ac8",
   "metadata": {},
   "outputs": [
    {
     "name": "stdout",
     "output_type": "stream",
     "text": [
      "./LARGE DATA/larger sample/QG17/GK_swa_u0479_QG17.mp3\n"
     ]
    },
    {
     "data": {
      "text/plain": [
       "'In my opinion Moraa finds it difficult to pay the debt she took Through her phone and maybe she did not have enough so she feels if she is paid through the phone The money will be taken to pay off the debt and she will not be able to stock up [null]'"
      ]
     },
     "execution_count": 10,
     "metadata": {},
     "output_type": "execute_result"
    }
   ],
   "source": [
    "print(df['file_name'][555])\n",
    "df['transcription'][555]"
   ]
  },
  {
   "cell_type": "code",
   "execution_count": 11,
   "id": "0e869095",
   "metadata": {},
   "outputs": [
    {
     "name": "stdout",
     "output_type": "stream",
     "text": [
      "./LARGE DATA/larger sample/QF18/GK_swa_u0525_QF18.mp3\n"
     ]
    },
    {
     "data": {
      "text/plain": [
       "'It is good if my credit increases'"
      ]
     },
     "execution_count": 11,
     "metadata": {},
     "output_type": "execute_result"
    }
   ],
   "source": [
    "print(df['file_name'][331])\n",
    "df['transcription'][331]"
   ]
  },
  {
   "cell_type": "code",
   "execution_count": 12,
   "id": "0a520833-c8ef-4ac5-86a3-cc8853f6e3c7",
   "metadata": {},
   "outputs": [],
   "source": [
    "# sf = pd.read_excel(\".\\real_data.xlsx\")\n",
    "# # sf = pd.read_excel(\".\\\\Swahili_QF_new.xlsx\")"
   ]
  },
  {
   "cell_type": "code",
   "execution_count": 13,
   "id": "cc984b7f-6829-498c-bfbe-979f4eb1fc6e",
   "metadata": {},
   "outputs": [
    {
     "data": {
      "text/plain": [
       "str"
      ]
     },
     "execution_count": 13,
     "metadata": {},
     "output_type": "execute_result"
    }
   ],
   "source": [
    "type(df['transcription'][22])"
   ]
  },
  {
   "cell_type": "code",
   "execution_count": 14,
   "id": "fd06c919-9045-4564-8f73-6eb0442cb32a",
   "metadata": {},
   "outputs": [
    {
     "name": "stdout",
     "output_type": "stream",
     "text": [
      "./LARGE DATA/larger sample/QG17/GK_swa_u0731_QG17.mp3\n"
     ]
    },
    {
     "data": {
      "text/plain": [
       "\"I think she should come up with Pochi la biashara or till number whereby The money I won't be charged. [?] I can use but still, I don't have any debt. The money isn't deducted. They don't rhyme.\""
      ]
     },
     "execution_count": 14,
     "metadata": {},
     "output_type": "execute_result"
    }
   ],
   "source": [
    "print(df['file_name'][655])\n",
    "df['transcription'][655]"
   ]
  },
  {
   "cell_type": "code",
   "execution_count": 15,
   "id": "abb6b267-9ca6-4c7f-b0d3-b31e2fc337c8",
   "metadata": {},
   "outputs": [
    {
     "name": "stdout",
     "output_type": "stream",
     "text": [
      "./LARGE DATA/larger sample/QF14/GK_swa_u0257_QF14.mp3\n"
     ]
    },
    {
     "data": {
      "text/plain": [
       "'The first is to protect yourself against fraud, the second'"
      ]
     },
     "execution_count": 15,
     "metadata": {},
     "output_type": "execute_result"
    }
   ],
   "source": [
    "print(df['file_name'][27])\n",
    "df['transcription'][27]"
   ]
  },
  {
   "cell_type": "code",
   "execution_count": 16,
   "id": "d3b6a192",
   "metadata": {},
   "outputs": [],
   "source": [
    "audio_dir = \"/Swahili_STT\"\n",
    "csv_dir = \"Swahili_QF.xlsx\"\n",
    "audio_t = \".mp3\"\n",
    "base_dir = \"./caches_large\""
   ]
  },
  {
   "cell_type": "code",
   "execution_count": 17,
   "id": "a58bfea1",
   "metadata": {},
   "outputs": [],
   "source": [
    "import re\n",
    "def st_pre(df):\n",
    "    df['transcription'] = hero.remove_diacritics(df['transcription'])\n",
    "    df['transcription'] = hero.remove_whitespace(df['transcription'])\n",
    "    for i in range(len(df)):\n",
    "        df['transcription'][i] = re.sub(\"[\\(\\[].*?[\\)\\]]\", \"\", df['transcription'][i])\n",
    "        df['transcription'][i] = re.sub(r\"(?<=\\w)([A-Z])()\", r\" \\1\", df['transcription'][i])\n",
    "    df['transcription'] = hero.remove_whitespace(df['transcription'])\n",
    "    return df"
   ]
  },
  {
   "cell_type": "code",
   "execution_count": 18,
   "id": "1c86b2d0-c34d-49ae-a3c4-d1e051fa5321",
   "metadata": {},
   "outputs": [],
   "source": [
    "for i in range(len(df)):\n",
    "    if df['transcription'][i] == 'nan':\n",
    "        df['transcription'][i] = None\n",
    "    elif df['transcription'][i] == '[foreign]':\n",
    "        df['transcription'][i] = None\n",
    "    elif df['transcription'][i] == '[null]':\n",
    "        df['transcription'][i] = None\n",
    "    elif df['transcription'][i] == '[?]':\n",
    "        df['transcription'][i] =  None\n",
    "    elif '�' in df['transcription'][i]:\n",
    "        df['transcription'][i] =  None\n",
    "\n"
   ]
  },
  {
   "cell_type": "code",
   "execution_count": 19,
   "id": "e7e77a42-8271-4839-bd52-c8c404434753",
   "metadata": {},
   "outputs": [
    {
     "name": "stdout",
     "output_type": "stream",
     "text": [
      "./LARGE DATA/larger sample/QG17/GK_swa_u0709_QG17.mp3\n",
      "None\n"
     ]
    }
   ],
   "source": [
    "# df = pd.read_excel('complete_compiled.xlsx')\n",
    "print(df['file_name'][642])\n",
    "print(df['transcription'][642])"
   ]
  },
  {
   "cell_type": "code",
   "execution_count": 20,
   "id": "71784d5b-ef7f-4485-ad65-38c2299bd637",
   "metadata": {},
   "outputs": [
    {
     "data": {
      "text/plain": [
       "0"
      ]
     },
     "execution_count": 20,
     "metadata": {},
     "output_type": "execute_result"
    }
   ],
   "source": [
    "j = 0\n",
    "for i in range(len(df)):\n",
    "    if df['transcription'][i] == '':\n",
    "        df.drop(i, inplace = True)\n",
    "        j+=1\n",
    "j"
   ]
  },
  {
   "cell_type": "code",
   "execution_count": 21,
   "id": "67121829-791e-4242-9938-362f541ab238",
   "metadata": {},
   "outputs": [
    {
     "data": {
      "text/html": [
       "<div>\n",
       "<style scoped>\n",
       "    .dataframe tbody tr th:only-of-type {\n",
       "        vertical-align: middle;\n",
       "    }\n",
       "\n",
       "    .dataframe tbody tr th {\n",
       "        vertical-align: top;\n",
       "    }\n",
       "\n",
       "    .dataframe thead th {\n",
       "        text-align: right;\n",
       "    }\n",
       "</style>\n",
       "<table border=\"1\" class=\"dataframe\">\n",
       "  <thead>\n",
       "    <tr style=\"text-align: right;\">\n",
       "      <th></th>\n",
       "      <th>file_name</th>\n",
       "      <th>transcription</th>\n",
       "    </tr>\n",
       "  </thead>\n",
       "  <tbody>\n",
       "    <tr>\n",
       "      <th>0</th>\n",
       "      <td>./LARGE DATA/larger sample/QF14/GK_swa_u0120_Q...</td>\n",
       "      <td>[foreign-luo] I can buy it because I also what...</td>\n",
       "    </tr>\n",
       "    <tr>\n",
       "      <th>1</th>\n",
       "      <td>./LARGE DATA/larger sample/QF14/GK_swa_u0123_Q...</td>\n",
       "      <td>[?] I would not tell them to [?]</td>\n",
       "    </tr>\n",
       "    <tr>\n",
       "      <th>2</th>\n",
       "      <td>./LARGE DATA/larger sample/QF14/GK_swa_u0126_Q...</td>\n",
       "      <td>I would like to buy it because [p] it would he...</td>\n",
       "    </tr>\n",
       "    <tr>\n",
       "      <th>3</th>\n",
       "      <td>./LARGE DATA/larger sample/QF14/GK_swa_u0134_Q...</td>\n",
       "      <td>It is the responsibility of the internet servi...</td>\n",
       "    </tr>\n",
       "    <tr>\n",
       "      <th>4</th>\n",
       "      <td>./LARGE DATA/larger sample/QF14/GK_swa_u0136_Q...</td>\n",
       "      <td>If it is a tool that can help the I will buy.</td>\n",
       "    </tr>\n",
       "    <tr>\n",
       "      <th>...</th>\n",
       "      <td>...</td>\n",
       "      <td>...</td>\n",
       "    </tr>\n",
       "    <tr>\n",
       "      <th>1179</th>\n",
       "      <td>./Swahili_STT/GK_swa_u0709_QA45.mp3</td>\n",
       "      <td>Safaricom is for Mpesa deposit then Airtel is ...</td>\n",
       "    </tr>\n",
       "    <tr>\n",
       "      <th>1180</th>\n",
       "      <td>./Swahili_STT/GK_swa_u0722_QA45.mp3</td>\n",
       "      <td>Safaricom sim card is for receiving money or d...</td>\n",
       "    </tr>\n",
       "    <tr>\n",
       "      <th>1181</th>\n",
       "      <td>./Swahili_STT/GK_swa_u0750_QA45.mp3</td>\n",
       "      <td>[p] [um] I use one sim card for transactions a...</td>\n",
       "    </tr>\n",
       "    <tr>\n",
       "      <th>1182</th>\n",
       "      <td>./Swahili_STT/GK_swa_u0766_QA44.mp3</td>\n",
       "      <td>Although I have two Safaricoms, they are all o...</td>\n",
       "    </tr>\n",
       "    <tr>\n",
       "      <th>1183</th>\n",
       "      <td>./Swahili_STT/GK_swa_u0766_QA45.mp3</td>\n",
       "      <td>My two Safaricom sim cards are well. I use the...</td>\n",
       "    </tr>\n",
       "  </tbody>\n",
       "</table>\n",
       "<p>1184 rows × 2 columns</p>\n",
       "</div>"
      ],
      "text/plain": [
       "                                              file_name  \\\n",
       "0     ./LARGE DATA/larger sample/QF14/GK_swa_u0120_Q...   \n",
       "1     ./LARGE DATA/larger sample/QF14/GK_swa_u0123_Q...   \n",
       "2     ./LARGE DATA/larger sample/QF14/GK_swa_u0126_Q...   \n",
       "3     ./LARGE DATA/larger sample/QF14/GK_swa_u0134_Q...   \n",
       "4     ./LARGE DATA/larger sample/QF14/GK_swa_u0136_Q...   \n",
       "...                                                 ...   \n",
       "1179                ./Swahili_STT/GK_swa_u0709_QA45.mp3   \n",
       "1180                ./Swahili_STT/GK_swa_u0722_QA45.mp3   \n",
       "1181                ./Swahili_STT/GK_swa_u0750_QA45.mp3   \n",
       "1182                ./Swahili_STT/GK_swa_u0766_QA44.mp3   \n",
       "1183                ./Swahili_STT/GK_swa_u0766_QA45.mp3   \n",
       "\n",
       "                                          transcription  \n",
       "0     [foreign-luo] I can buy it because I also what...  \n",
       "1                      [?] I would not tell them to [?]  \n",
       "2     I would like to buy it because [p] it would he...  \n",
       "3     It is the responsibility of the internet servi...  \n",
       "4         If it is a tool that can help the I will buy.  \n",
       "...                                                 ...  \n",
       "1179  Safaricom is for Mpesa deposit then Airtel is ...  \n",
       "1180  Safaricom sim card is for receiving money or d...  \n",
       "1181  [p] [um] I use one sim card for transactions a...  \n",
       "1182  Although I have two Safaricoms, they are all o...  \n",
       "1183  My two Safaricom sim cards are well. I use the...  \n",
       "\n",
       "[1184 rows x 2 columns]"
      ]
     },
     "execution_count": 21,
     "metadata": {},
     "output_type": "execute_result"
    }
   ],
   "source": [
    "df"
   ]
  },
  {
   "cell_type": "code",
   "execution_count": 22,
   "id": "3ade3a1e",
   "metadata": {},
   "outputs": [],
   "source": [
    "df.dropna(inplace = True)"
   ]
  },
  {
   "cell_type": "code",
   "execution_count": 23,
   "id": "04f0bdfd",
   "metadata": {},
   "outputs": [
    {
     "data": {
      "text/html": [
       "<div>\n",
       "<style scoped>\n",
       "    .dataframe tbody tr th:only-of-type {\n",
       "        vertical-align: middle;\n",
       "    }\n",
       "\n",
       "    .dataframe tbody tr th {\n",
       "        vertical-align: top;\n",
       "    }\n",
       "\n",
       "    .dataframe thead th {\n",
       "        text-align: right;\n",
       "    }\n",
       "</style>\n",
       "<table border=\"1\" class=\"dataframe\">\n",
       "  <thead>\n",
       "    <tr style=\"text-align: right;\">\n",
       "      <th></th>\n",
       "      <th>file_name</th>\n",
       "      <th>transcription</th>\n",
       "    </tr>\n",
       "  </thead>\n",
       "  <tbody>\n",
       "    <tr>\n",
       "      <th>0</th>\n",
       "      <td>./LARGE DATA/larger sample/QF14/GK_swa_u0120_Q...</td>\n",
       "      <td>[foreign-luo] I can buy it because I also what...</td>\n",
       "    </tr>\n",
       "    <tr>\n",
       "      <th>1</th>\n",
       "      <td>./LARGE DATA/larger sample/QF14/GK_swa_u0123_Q...</td>\n",
       "      <td>[?] I would not tell them to [?]</td>\n",
       "    </tr>\n",
       "    <tr>\n",
       "      <th>2</th>\n",
       "      <td>./LARGE DATA/larger sample/QF14/GK_swa_u0126_Q...</td>\n",
       "      <td>I would like to buy it because [p] it would he...</td>\n",
       "    </tr>\n",
       "    <tr>\n",
       "      <th>3</th>\n",
       "      <td>./LARGE DATA/larger sample/QF14/GK_swa_u0134_Q...</td>\n",
       "      <td>It is the responsibility of the internet servi...</td>\n",
       "    </tr>\n",
       "    <tr>\n",
       "      <th>4</th>\n",
       "      <td>./LARGE DATA/larger sample/QF14/GK_swa_u0136_Q...</td>\n",
       "      <td>If it is a tool that can help the I will buy.</td>\n",
       "    </tr>\n",
       "    <tr>\n",
       "      <th>...</th>\n",
       "      <td>...</td>\n",
       "      <td>...</td>\n",
       "    </tr>\n",
       "    <tr>\n",
       "      <th>1179</th>\n",
       "      <td>./Swahili_STT/GK_swa_u0709_QA45.mp3</td>\n",
       "      <td>Safaricom is for Mpesa deposit then Airtel is ...</td>\n",
       "    </tr>\n",
       "    <tr>\n",
       "      <th>1180</th>\n",
       "      <td>./Swahili_STT/GK_swa_u0722_QA45.mp3</td>\n",
       "      <td>Safaricom sim card is for receiving money or d...</td>\n",
       "    </tr>\n",
       "    <tr>\n",
       "      <th>1181</th>\n",
       "      <td>./Swahili_STT/GK_swa_u0750_QA45.mp3</td>\n",
       "      <td>[p] [um] I use one sim card for transactions a...</td>\n",
       "    </tr>\n",
       "    <tr>\n",
       "      <th>1182</th>\n",
       "      <td>./Swahili_STT/GK_swa_u0766_QA44.mp3</td>\n",
       "      <td>Although I have two Safaricoms, they are all o...</td>\n",
       "    </tr>\n",
       "    <tr>\n",
       "      <th>1183</th>\n",
       "      <td>./Swahili_STT/GK_swa_u0766_QA45.mp3</td>\n",
       "      <td>My two Safaricom sim cards are well. I use the...</td>\n",
       "    </tr>\n",
       "  </tbody>\n",
       "</table>\n",
       "<p>1183 rows × 2 columns</p>\n",
       "</div>"
      ],
      "text/plain": [
       "                                              file_name  \\\n",
       "0     ./LARGE DATA/larger sample/QF14/GK_swa_u0120_Q...   \n",
       "1     ./LARGE DATA/larger sample/QF14/GK_swa_u0123_Q...   \n",
       "2     ./LARGE DATA/larger sample/QF14/GK_swa_u0126_Q...   \n",
       "3     ./LARGE DATA/larger sample/QF14/GK_swa_u0134_Q...   \n",
       "4     ./LARGE DATA/larger sample/QF14/GK_swa_u0136_Q...   \n",
       "...                                                 ...   \n",
       "1179                ./Swahili_STT/GK_swa_u0709_QA45.mp3   \n",
       "1180                ./Swahili_STT/GK_swa_u0722_QA45.mp3   \n",
       "1181                ./Swahili_STT/GK_swa_u0750_QA45.mp3   \n",
       "1182                ./Swahili_STT/GK_swa_u0766_QA44.mp3   \n",
       "1183                ./Swahili_STT/GK_swa_u0766_QA45.mp3   \n",
       "\n",
       "                                          transcription  \n",
       "0     [foreign-luo] I can buy it because I also what...  \n",
       "1                      [?] I would not tell them to [?]  \n",
       "2     I would like to buy it because [p] it would he...  \n",
       "3     It is the responsibility of the internet servi...  \n",
       "4         If it is a tool that can help the I will buy.  \n",
       "...                                                 ...  \n",
       "1179  Safaricom is for Mpesa deposit then Airtel is ...  \n",
       "1180  Safaricom sim card is for receiving money or d...  \n",
       "1181  [p] [um] I use one sim card for transactions a...  \n",
       "1182  Although I have two Safaricoms, they are all o...  \n",
       "1183  My two Safaricom sim cards are well. I use the...  \n",
       "\n",
       "[1183 rows x 2 columns]"
      ]
     },
     "execution_count": 23,
     "metadata": {},
     "output_type": "execute_result"
    }
   ],
   "source": [
    "df"
   ]
  },
  {
   "cell_type": "code",
   "execution_count": 24,
   "id": "5fb83aaa-8e22-48d4-950e-97cda43187f7",
   "metadata": {},
   "outputs": [],
   "source": [
    "# j = 0\n",
    "# for i in range(len(df)):\n",
    "#     if df['transcription'][i] == '':\n",
    "#         j+=1\n",
    "# j"
   ]
  },
  {
   "cell_type": "code",
   "execution_count": 25,
   "id": "945caba9-12e3-449e-8789-9e816827da80",
   "metadata": {},
   "outputs": [],
   "source": [
    "df.dropna(inplace = True)"
   ]
  },
  {
   "cell_type": "code",
   "execution_count": 26,
   "id": "0d5fd271",
   "metadata": {},
   "outputs": [],
   "source": [
    "df = df.reset_index()\n",
    "df.drop(columns = ['index'], inplace = True)"
   ]
  },
  {
   "cell_type": "code",
   "execution_count": 27,
   "id": "18893491-031b-4813-a9a4-b95ff033b711",
   "metadata": {},
   "outputs": [
    {
     "data": {
      "text/plain": [
       "32"
      ]
     },
     "execution_count": 27,
     "metadata": {},
     "output_type": "execute_result"
    }
   ],
   "source": [
    "# df.drop(columns = ['index'], inplace = True)\n",
    "len(df['transcription'][1])"
   ]
  },
  {
   "cell_type": "code",
   "execution_count": 28,
   "id": "cfa2442e-8606-49d9-a261-1c7a1c5cb250",
   "metadata": {},
   "outputs": [
    {
     "data": {
      "text/html": [
       "<div>\n",
       "<style scoped>\n",
       "    .dataframe tbody tr th:only-of-type {\n",
       "        vertical-align: middle;\n",
       "    }\n",
       "\n",
       "    .dataframe tbody tr th {\n",
       "        vertical-align: top;\n",
       "    }\n",
       "\n",
       "    .dataframe thead th {\n",
       "        text-align: right;\n",
       "    }\n",
       "</style>\n",
       "<table border=\"1\" class=\"dataframe\">\n",
       "  <thead>\n",
       "    <tr style=\"text-align: right;\">\n",
       "      <th></th>\n",
       "      <th>file_name</th>\n",
       "      <th>transcription</th>\n",
       "    </tr>\n",
       "  </thead>\n",
       "  <tbody>\n",
       "    <tr>\n",
       "      <th>0</th>\n",
       "      <td>./LARGE DATA/larger sample/QF14/GK_swa_u0120_Q...</td>\n",
       "      <td>[foreign-luo] I can buy it because I also what...</td>\n",
       "    </tr>\n",
       "    <tr>\n",
       "      <th>1</th>\n",
       "      <td>./LARGE DATA/larger sample/QF14/GK_swa_u0123_Q...</td>\n",
       "      <td>[?] I would not tell them to [?]</td>\n",
       "    </tr>\n",
       "    <tr>\n",
       "      <th>2</th>\n",
       "      <td>./LARGE DATA/larger sample/QF14/GK_swa_u0126_Q...</td>\n",
       "      <td>I would like to buy it because [p] it would he...</td>\n",
       "    </tr>\n",
       "    <tr>\n",
       "      <th>3</th>\n",
       "      <td>./LARGE DATA/larger sample/QF14/GK_swa_u0134_Q...</td>\n",
       "      <td>It is the responsibility of the internet servi...</td>\n",
       "    </tr>\n",
       "    <tr>\n",
       "      <th>4</th>\n",
       "      <td>./LARGE DATA/larger sample/QF14/GK_swa_u0136_Q...</td>\n",
       "      <td>If it is a tool that can help the I will buy.</td>\n",
       "    </tr>\n",
       "    <tr>\n",
       "      <th>...</th>\n",
       "      <td>...</td>\n",
       "      <td>...</td>\n",
       "    </tr>\n",
       "    <tr>\n",
       "      <th>1178</th>\n",
       "      <td>./Swahili_STT/GK_swa_u0709_QA45.mp3</td>\n",
       "      <td>Safaricom is for Mpesa deposit then Airtel is ...</td>\n",
       "    </tr>\n",
       "    <tr>\n",
       "      <th>1179</th>\n",
       "      <td>./Swahili_STT/GK_swa_u0722_QA45.mp3</td>\n",
       "      <td>Safaricom sim card is for receiving money or d...</td>\n",
       "    </tr>\n",
       "    <tr>\n",
       "      <th>1180</th>\n",
       "      <td>./Swahili_STT/GK_swa_u0750_QA45.mp3</td>\n",
       "      <td>[p] [um] I use one sim card for transactions a...</td>\n",
       "    </tr>\n",
       "    <tr>\n",
       "      <th>1181</th>\n",
       "      <td>./Swahili_STT/GK_swa_u0766_QA44.mp3</td>\n",
       "      <td>Although I have two Safaricoms, they are all o...</td>\n",
       "    </tr>\n",
       "    <tr>\n",
       "      <th>1182</th>\n",
       "      <td>./Swahili_STT/GK_swa_u0766_QA45.mp3</td>\n",
       "      <td>My two Safaricom sim cards are well. I use the...</td>\n",
       "    </tr>\n",
       "  </tbody>\n",
       "</table>\n",
       "<p>1183 rows × 2 columns</p>\n",
       "</div>"
      ],
      "text/plain": [
       "                                              file_name  \\\n",
       "0     ./LARGE DATA/larger sample/QF14/GK_swa_u0120_Q...   \n",
       "1     ./LARGE DATA/larger sample/QF14/GK_swa_u0123_Q...   \n",
       "2     ./LARGE DATA/larger sample/QF14/GK_swa_u0126_Q...   \n",
       "3     ./LARGE DATA/larger sample/QF14/GK_swa_u0134_Q...   \n",
       "4     ./LARGE DATA/larger sample/QF14/GK_swa_u0136_Q...   \n",
       "...                                                 ...   \n",
       "1178                ./Swahili_STT/GK_swa_u0709_QA45.mp3   \n",
       "1179                ./Swahili_STT/GK_swa_u0722_QA45.mp3   \n",
       "1180                ./Swahili_STT/GK_swa_u0750_QA45.mp3   \n",
       "1181                ./Swahili_STT/GK_swa_u0766_QA44.mp3   \n",
       "1182                ./Swahili_STT/GK_swa_u0766_QA45.mp3   \n",
       "\n",
       "                                          transcription  \n",
       "0     [foreign-luo] I can buy it because I also what...  \n",
       "1                      [?] I would not tell them to [?]  \n",
       "2     I would like to buy it because [p] it would he...  \n",
       "3     It is the responsibility of the internet servi...  \n",
       "4         If it is a tool that can help the I will buy.  \n",
       "...                                                 ...  \n",
       "1178  Safaricom is for Mpesa deposit then Airtel is ...  \n",
       "1179  Safaricom sim card is for receiving money or d...  \n",
       "1180  [p] [um] I use one sim card for transactions a...  \n",
       "1181  Although I have two Safaricoms, they are all o...  \n",
       "1182  My two Safaricom sim cards are well. I use the...  \n",
       "\n",
       "[1183 rows x 2 columns]"
      ]
     },
     "execution_count": 28,
     "metadata": {},
     "output_type": "execute_result"
    }
   ],
   "source": [
    "df"
   ]
  },
  {
   "cell_type": "code",
   "execution_count": 29,
   "id": "2922e8c1-706c-4648-979c-a1ed00330ca6",
   "metadata": {},
   "outputs": [],
   "source": [
    "for i in range(len(df)):\n",
    "    if df['transcription'][i].count(\" \") < 5:\n",
    "        df.drop(i, inplace = True)"
   ]
  },
  {
   "cell_type": "code",
   "execution_count": 30,
   "id": "f4b5f1d8-ef7f-4c31-8187-23f9626b2e68",
   "metadata": {},
   "outputs": [
    {
     "data": {
      "text/html": [
       "<div>\n",
       "<style scoped>\n",
       "    .dataframe tbody tr th:only-of-type {\n",
       "        vertical-align: middle;\n",
       "    }\n",
       "\n",
       "    .dataframe tbody tr th {\n",
       "        vertical-align: top;\n",
       "    }\n",
       "\n",
       "    .dataframe thead th {\n",
       "        text-align: right;\n",
       "    }\n",
       "</style>\n",
       "<table border=\"1\" class=\"dataframe\">\n",
       "  <thead>\n",
       "    <tr style=\"text-align: right;\">\n",
       "      <th></th>\n",
       "      <th>file_name</th>\n",
       "      <th>transcription</th>\n",
       "    </tr>\n",
       "  </thead>\n",
       "  <tbody>\n",
       "    <tr>\n",
       "      <th>0</th>\n",
       "      <td>./LARGE DATA/larger sample/QF14/GK_swa_u0120_Q...</td>\n",
       "      <td>[foreign-luo] I can buy it because I also what...</td>\n",
       "    </tr>\n",
       "    <tr>\n",
       "      <th>1</th>\n",
       "      <td>./LARGE DATA/larger sample/QF14/GK_swa_u0123_Q...</td>\n",
       "      <td>[?] I would not tell them to [?]</td>\n",
       "    </tr>\n",
       "    <tr>\n",
       "      <th>2</th>\n",
       "      <td>./LARGE DATA/larger sample/QF14/GK_swa_u0126_Q...</td>\n",
       "      <td>I would like to buy it because [p] it would he...</td>\n",
       "    </tr>\n",
       "    <tr>\n",
       "      <th>3</th>\n",
       "      <td>./LARGE DATA/larger sample/QF14/GK_swa_u0134_Q...</td>\n",
       "      <td>It is the responsibility of the internet servi...</td>\n",
       "    </tr>\n",
       "    <tr>\n",
       "      <th>4</th>\n",
       "      <td>./LARGE DATA/larger sample/QF14/GK_swa_u0136_Q...</td>\n",
       "      <td>If it is a tool that can help the I will buy.</td>\n",
       "    </tr>\n",
       "    <tr>\n",
       "      <th>...</th>\n",
       "      <td>...</td>\n",
       "      <td>...</td>\n",
       "    </tr>\n",
       "    <tr>\n",
       "      <th>1178</th>\n",
       "      <td>./Swahili_STT/GK_swa_u0709_QA45.mp3</td>\n",
       "      <td>Safaricom is for Mpesa deposit then Airtel is ...</td>\n",
       "    </tr>\n",
       "    <tr>\n",
       "      <th>1179</th>\n",
       "      <td>./Swahili_STT/GK_swa_u0722_QA45.mp3</td>\n",
       "      <td>Safaricom sim card is for receiving money or d...</td>\n",
       "    </tr>\n",
       "    <tr>\n",
       "      <th>1180</th>\n",
       "      <td>./Swahili_STT/GK_swa_u0750_QA45.mp3</td>\n",
       "      <td>[p] [um] I use one sim card for transactions a...</td>\n",
       "    </tr>\n",
       "    <tr>\n",
       "      <th>1181</th>\n",
       "      <td>./Swahili_STT/GK_swa_u0766_QA44.mp3</td>\n",
       "      <td>Although I have two Safaricoms, they are all o...</td>\n",
       "    </tr>\n",
       "    <tr>\n",
       "      <th>1182</th>\n",
       "      <td>./Swahili_STT/GK_swa_u0766_QA45.mp3</td>\n",
       "      <td>My two Safaricom sim cards are well. I use the...</td>\n",
       "    </tr>\n",
       "  </tbody>\n",
       "</table>\n",
       "<p>1172 rows × 2 columns</p>\n",
       "</div>"
      ],
      "text/plain": [
       "                                              file_name  \\\n",
       "0     ./LARGE DATA/larger sample/QF14/GK_swa_u0120_Q...   \n",
       "1     ./LARGE DATA/larger sample/QF14/GK_swa_u0123_Q...   \n",
       "2     ./LARGE DATA/larger sample/QF14/GK_swa_u0126_Q...   \n",
       "3     ./LARGE DATA/larger sample/QF14/GK_swa_u0134_Q...   \n",
       "4     ./LARGE DATA/larger sample/QF14/GK_swa_u0136_Q...   \n",
       "...                                                 ...   \n",
       "1178                ./Swahili_STT/GK_swa_u0709_QA45.mp3   \n",
       "1179                ./Swahili_STT/GK_swa_u0722_QA45.mp3   \n",
       "1180                ./Swahili_STT/GK_swa_u0750_QA45.mp3   \n",
       "1181                ./Swahili_STT/GK_swa_u0766_QA44.mp3   \n",
       "1182                ./Swahili_STT/GK_swa_u0766_QA45.mp3   \n",
       "\n",
       "                                          transcription  \n",
       "0     [foreign-luo] I can buy it because I also what...  \n",
       "1                      [?] I would not tell them to [?]  \n",
       "2     I would like to buy it because [p] it would he...  \n",
       "3     It is the responsibility of the internet servi...  \n",
       "4         If it is a tool that can help the I will buy.  \n",
       "...                                                 ...  \n",
       "1178  Safaricom is for Mpesa deposit then Airtel is ...  \n",
       "1179  Safaricom sim card is for receiving money or d...  \n",
       "1180  [p] [um] I use one sim card for transactions a...  \n",
       "1181  Although I have two Safaricoms, they are all o...  \n",
       "1182  My two Safaricom sim cards are well. I use the...  \n",
       "\n",
       "[1172 rows x 2 columns]"
      ]
     },
     "execution_count": 30,
     "metadata": {},
     "output_type": "execute_result"
    }
   ],
   "source": [
    "df"
   ]
  },
  {
   "cell_type": "code",
   "execution_count": 31,
   "id": "ff12579a",
   "metadata": {},
   "outputs": [],
   "source": [
    "df = df.reset_index()"
   ]
  },
  {
   "cell_type": "code",
   "execution_count": 32,
   "id": "ce2bb1c7-ee0f-44a2-b978-796341ab7a97",
   "metadata": {},
   "outputs": [
    {
     "data": {
      "text/plain": [
       "\"In my opinion, I see that she should repay the loan because now it looks like she will lose because no customer She won't allow payment via the phone because of her debt. It would have been better if she repays the debt or she just agrees to repay the debt[?] so that she can look for more customers\""
      ]
     },
     "execution_count": 32,
     "metadata": {},
     "output_type": "execute_result"
    }
   ],
   "source": [
    "df['transcription'][642]"
   ]
  },
  {
   "cell_type": "code",
   "execution_count": 33,
   "id": "5c03bb3a",
   "metadata": {},
   "outputs": [],
   "source": [
    "df.drop(columns = ['index'], inplace = True)"
   ]
  },
  {
   "cell_type": "code",
   "execution_count": 34,
   "id": "8f2ad536-c646-434b-9473-e3cb95b8dddf",
   "metadata": {},
   "outputs": [
    {
     "data": {
      "text/html": [
       "<div>\n",
       "<style scoped>\n",
       "    .dataframe tbody tr th:only-of-type {\n",
       "        vertical-align: middle;\n",
       "    }\n",
       "\n",
       "    .dataframe tbody tr th {\n",
       "        vertical-align: top;\n",
       "    }\n",
       "\n",
       "    .dataframe thead th {\n",
       "        text-align: right;\n",
       "    }\n",
       "</style>\n",
       "<table border=\"1\" class=\"dataframe\">\n",
       "  <thead>\n",
       "    <tr style=\"text-align: right;\">\n",
       "      <th></th>\n",
       "      <th>Unnamed: 0</th>\n",
       "      <th>file_name</th>\n",
       "      <th>transcription</th>\n",
       "    </tr>\n",
       "  </thead>\n",
       "  <tbody>\n",
       "    <tr>\n",
       "      <th>0</th>\n",
       "      <td>0</td>\n",
       "      <td>./Smaller instances/QA10/GK_swa_u0120_QA10.mp3</td>\n",
       "      <td>1984</td>\n",
       "    </tr>\n",
       "    <tr>\n",
       "      <th>1</th>\n",
       "      <td>1</td>\n",
       "      <td>./Smaller instances/QA10/GK_swa_u0123_QA10.mp3</td>\n",
       "      <td>1986</td>\n",
       "    </tr>\n",
       "    <tr>\n",
       "      <th>2</th>\n",
       "      <td>2</td>\n",
       "      <td>./Smaller instances/QA10/GK_swa_u0126_QA10.mp3</td>\n",
       "      <td>1986</td>\n",
       "    </tr>\n",
       "    <tr>\n",
       "      <th>3</th>\n",
       "      <td>3</td>\n",
       "      <td>./Smaller instances/QA10/GK_swa_u0130_QA10.mp3</td>\n",
       "      <td>1992</td>\n",
       "    </tr>\n",
       "    <tr>\n",
       "      <th>4</th>\n",
       "      <td>4</td>\n",
       "      <td>./Smaller instances/QA10/GK_swa_u0134_QA10.mp3</td>\n",
       "      <td>1995</td>\n",
       "    </tr>\n",
       "    <tr>\n",
       "      <th>...</th>\n",
       "      <td>...</td>\n",
       "      <td>...</td>\n",
       "      <td>...</td>\n",
       "    </tr>\n",
       "    <tr>\n",
       "      <th>6986</th>\n",
       "      <td>6986</td>\n",
       "      <td>./Smaller instances/QE90/GK_swa_u0807_QE90.mp3</td>\n",
       "      <td>Once a month, it depends, if its Certificate o...</td>\n",
       "    </tr>\n",
       "    <tr>\n",
       "      <th>6987</th>\n",
       "      <td>6987</td>\n",
       "      <td>./Smaller instances/QE90/GK_swa_u0809_QE90.mp3</td>\n",
       "      <td>I hardly use it, because E C I T I Z E N I reg...</td>\n",
       "    </tr>\n",
       "    <tr>\n",
       "      <th>6988</th>\n",
       "      <td>6988</td>\n",
       "      <td>./Smaller instances/QE93/GK_swa_u0264_QE93.mp3</td>\n",
       "      <td>My doubt is that there are hackers in the worl...</td>\n",
       "    </tr>\n",
       "    <tr>\n",
       "      <th>6989</th>\n",
       "      <td>6989</td>\n",
       "      <td>./Smaller instances/QE93/GK_swa_u0406_QE93.mp3</td>\n",
       "      <td>Information</td>\n",
       "    </tr>\n",
       "    <tr>\n",
       "      <th>6990</th>\n",
       "      <td>6990</td>\n",
       "      <td>./Smaller instances/QE93/GK_swa_u0501_QE93.mp3</td>\n",
       "      <td>At other times you can apply for any governmen...</td>\n",
       "    </tr>\n",
       "  </tbody>\n",
       "</table>\n",
       "<p>6991 rows × 3 columns</p>\n",
       "</div>"
      ],
      "text/plain": [
       "      Unnamed: 0                                       file_name  \\\n",
       "0              0  ./Smaller instances/QA10/GK_swa_u0120_QA10.mp3   \n",
       "1              1  ./Smaller instances/QA10/GK_swa_u0123_QA10.mp3   \n",
       "2              2  ./Smaller instances/QA10/GK_swa_u0126_QA10.mp3   \n",
       "3              3  ./Smaller instances/QA10/GK_swa_u0130_QA10.mp3   \n",
       "4              4  ./Smaller instances/QA10/GK_swa_u0134_QA10.mp3   \n",
       "...          ...                                             ...   \n",
       "6986        6986  ./Smaller instances/QE90/GK_swa_u0807_QE90.mp3   \n",
       "6987        6987  ./Smaller instances/QE90/GK_swa_u0809_QE90.mp3   \n",
       "6988        6988  ./Smaller instances/QE93/GK_swa_u0264_QE93.mp3   \n",
       "6989        6989  ./Smaller instances/QE93/GK_swa_u0406_QE93.mp3   \n",
       "6990        6990  ./Smaller instances/QE93/GK_swa_u0501_QE93.mp3   \n",
       "\n",
       "                                          transcription  \n",
       "0                                                  1984  \n",
       "1                                                  1986  \n",
       "2                                                  1986  \n",
       "3                                                  1992  \n",
       "4                                                  1995  \n",
       "...                                                 ...  \n",
       "6986  Once a month, it depends, if its Certificate o...  \n",
       "6987  I hardly use it, because E C I T I Z E N I reg...  \n",
       "6988  My doubt is that there are hackers in the worl...  \n",
       "6989                                        Information  \n",
       "6990  At other times you can apply for any governmen...  \n",
       "\n",
       "[6991 rows x 3 columns]"
      ]
     },
     "execution_count": 34,
     "metadata": {},
     "output_type": "execute_result"
    }
   ],
   "source": [
    "sf = pd.read_excel(\"large_subset_small_instance.xlsx\")\n",
    "sf"
   ]
  },
  {
   "cell_type": "code",
   "execution_count": 35,
   "id": "4ee4732c-a04e-447e-aa28-30b8c974820a",
   "metadata": {},
   "outputs": [
    {
     "data": {
      "text/html": [
       "<div>\n",
       "<style scoped>\n",
       "    .dataframe tbody tr th:only-of-type {\n",
       "        vertical-align: middle;\n",
       "    }\n",
       "\n",
       "    .dataframe tbody tr th {\n",
       "        vertical-align: top;\n",
       "    }\n",
       "\n",
       "    .dataframe thead th {\n",
       "        text-align: right;\n",
       "    }\n",
       "</style>\n",
       "<table border=\"1\" class=\"dataframe\">\n",
       "  <thead>\n",
       "    <tr style=\"text-align: right;\">\n",
       "      <th></th>\n",
       "      <th>file_name</th>\n",
       "      <th>transcription</th>\n",
       "    </tr>\n",
       "  </thead>\n",
       "  <tbody>\n",
       "    <tr>\n",
       "      <th>0</th>\n",
       "      <td>./Smaller instances/QA10/GK_swa_u0120_QA10.mp3</td>\n",
       "      <td>1984</td>\n",
       "    </tr>\n",
       "    <tr>\n",
       "      <th>1</th>\n",
       "      <td>./Smaller instances/QA10/GK_swa_u0123_QA10.mp3</td>\n",
       "      <td>1986</td>\n",
       "    </tr>\n",
       "    <tr>\n",
       "      <th>2</th>\n",
       "      <td>./Smaller instances/QA10/GK_swa_u0126_QA10.mp3</td>\n",
       "      <td>1986</td>\n",
       "    </tr>\n",
       "    <tr>\n",
       "      <th>3</th>\n",
       "      <td>./Smaller instances/QA10/GK_swa_u0130_QA10.mp3</td>\n",
       "      <td>1992</td>\n",
       "    </tr>\n",
       "    <tr>\n",
       "      <th>4</th>\n",
       "      <td>./Smaller instances/QA10/GK_swa_u0134_QA10.mp3</td>\n",
       "      <td>1995</td>\n",
       "    </tr>\n",
       "    <tr>\n",
       "      <th>...</th>\n",
       "      <td>...</td>\n",
       "      <td>...</td>\n",
       "    </tr>\n",
       "    <tr>\n",
       "      <th>6986</th>\n",
       "      <td>./Smaller instances/QE90/GK_swa_u0807_QE90.mp3</td>\n",
       "      <td>Once a month, it depends, if its Certificate o...</td>\n",
       "    </tr>\n",
       "    <tr>\n",
       "      <th>6987</th>\n",
       "      <td>./Smaller instances/QE90/GK_swa_u0809_QE90.mp3</td>\n",
       "      <td>I hardly use it, because E C I T I Z E N I reg...</td>\n",
       "    </tr>\n",
       "    <tr>\n",
       "      <th>6988</th>\n",
       "      <td>./Smaller instances/QE93/GK_swa_u0264_QE93.mp3</td>\n",
       "      <td>My doubt is that there are hackers in the worl...</td>\n",
       "    </tr>\n",
       "    <tr>\n",
       "      <th>6989</th>\n",
       "      <td>./Smaller instances/QE93/GK_swa_u0406_QE93.mp3</td>\n",
       "      <td>Information</td>\n",
       "    </tr>\n",
       "    <tr>\n",
       "      <th>6990</th>\n",
       "      <td>./Smaller instances/QE93/GK_swa_u0501_QE93.mp3</td>\n",
       "      <td>At other times you can apply for any governmen...</td>\n",
       "    </tr>\n",
       "  </tbody>\n",
       "</table>\n",
       "<p>6991 rows × 2 columns</p>\n",
       "</div>"
      ],
      "text/plain": [
       "                                           file_name  \\\n",
       "0     ./Smaller instances/QA10/GK_swa_u0120_QA10.mp3   \n",
       "1     ./Smaller instances/QA10/GK_swa_u0123_QA10.mp3   \n",
       "2     ./Smaller instances/QA10/GK_swa_u0126_QA10.mp3   \n",
       "3     ./Smaller instances/QA10/GK_swa_u0130_QA10.mp3   \n",
       "4     ./Smaller instances/QA10/GK_swa_u0134_QA10.mp3   \n",
       "...                                              ...   \n",
       "6986  ./Smaller instances/QE90/GK_swa_u0807_QE90.mp3   \n",
       "6987  ./Smaller instances/QE90/GK_swa_u0809_QE90.mp3   \n",
       "6988  ./Smaller instances/QE93/GK_swa_u0264_QE93.mp3   \n",
       "6989  ./Smaller instances/QE93/GK_swa_u0406_QE93.mp3   \n",
       "6990  ./Smaller instances/QE93/GK_swa_u0501_QE93.mp3   \n",
       "\n",
       "                                          transcription  \n",
       "0                                                  1984  \n",
       "1                                                  1986  \n",
       "2                                                  1986  \n",
       "3                                                  1992  \n",
       "4                                                  1995  \n",
       "...                                                 ...  \n",
       "6986  Once a month, it depends, if its Certificate o...  \n",
       "6987  I hardly use it, because E C I T I Z E N I reg...  \n",
       "6988  My doubt is that there are hackers in the worl...  \n",
       "6989                                        Information  \n",
       "6990  At other times you can apply for any governmen...  \n",
       "\n",
       "[6991 rows x 2 columns]"
      ]
     },
     "execution_count": 35,
     "metadata": {},
     "output_type": "execute_result"
    }
   ],
   "source": [
    "sf.drop(columns = ['Unnamed: 0'], inplace = True)\n",
    "sf"
   ]
  },
  {
   "cell_type": "code",
   "execution_count": 36,
   "id": "b35a3d32-dbb7-4a80-bd10-baaed8e2f73b",
   "metadata": {},
   "outputs": [
    {
     "name": "stdout",
     "output_type": "stream",
     "text": [
      "n\n",
      "n\n",
      "n\n",
      "n\n",
      "n\n",
      "s\n",
      "n\n",
      "n\n",
      "n\n",
      "n\n"
     ]
    }
   ],
   "source": [
    "for i in range(len(sf)):\n",
    "    if sf['transcription'][i] == '.':\n",
    "        sf.drop(i, inplace = True)\n",
    "        print(\"n\")\n",
    "    elif sf['transcription'][i] == '. . . . . . . . . . . . . . . . . . . . . . . . . . . . . . . . . . . . . . . . . .':\n",
    "        sf.drop(i, inplace = True)\n",
    "        print('s')"
   ]
  },
  {
   "cell_type": "code",
   "execution_count": 37,
   "id": "40f94877-f071-41fd-ac0b-2da9a8fff0dc",
   "metadata": {},
   "outputs": [],
   "source": [
    "sf.reset_index(inplace = True)\n",
    "sf.drop(columns = ['index'], inplace = True)"
   ]
  },
  {
   "cell_type": "code",
   "execution_count": 38,
   "id": "6bbff5b3-63e5-49b7-b61c-4101f21f7d7c",
   "metadata": {},
   "outputs": [],
   "source": [
    "df = pd.concat([df, sf], ignore_index = True)\n",
    "df.reset_index(inplace = True)\n",
    "df.drop(columns = ['index'], inplace = True)"
   ]
  },
  {
   "cell_type": "code",
   "execution_count": 39,
   "id": "9ea36e42-6795-4cb4-ad36-0173409883ac",
   "metadata": {},
   "outputs": [
    {
     "data": {
      "text/html": [
       "<div>\n",
       "<style scoped>\n",
       "    .dataframe tbody tr th:only-of-type {\n",
       "        vertical-align: middle;\n",
       "    }\n",
       "\n",
       "    .dataframe tbody tr th {\n",
       "        vertical-align: top;\n",
       "    }\n",
       "\n",
       "    .dataframe thead th {\n",
       "        text-align: right;\n",
       "    }\n",
       "</style>\n",
       "<table border=\"1\" class=\"dataframe\">\n",
       "  <thead>\n",
       "    <tr style=\"text-align: right;\">\n",
       "      <th></th>\n",
       "      <th>file_name</th>\n",
       "      <th>transcription</th>\n",
       "    </tr>\n",
       "  </thead>\n",
       "  <tbody>\n",
       "    <tr>\n",
       "      <th>0</th>\n",
       "      <td>./LARGE DATA/larger sample/QF14/GK_swa_u0120_Q...</td>\n",
       "      <td>[foreign-luo] I can buy it because I also what...</td>\n",
       "    </tr>\n",
       "    <tr>\n",
       "      <th>1</th>\n",
       "      <td>./LARGE DATA/larger sample/QF14/GK_swa_u0123_Q...</td>\n",
       "      <td>[?] I would not tell them to [?]</td>\n",
       "    </tr>\n",
       "    <tr>\n",
       "      <th>2</th>\n",
       "      <td>./LARGE DATA/larger sample/QF14/GK_swa_u0126_Q...</td>\n",
       "      <td>I would like to buy it because [p] it would he...</td>\n",
       "    </tr>\n",
       "    <tr>\n",
       "      <th>3</th>\n",
       "      <td>./LARGE DATA/larger sample/QF14/GK_swa_u0134_Q...</td>\n",
       "      <td>It is the responsibility of the internet servi...</td>\n",
       "    </tr>\n",
       "    <tr>\n",
       "      <th>4</th>\n",
       "      <td>./LARGE DATA/larger sample/QF14/GK_swa_u0136_Q...</td>\n",
       "      <td>If it is a tool that can help the I will buy.</td>\n",
       "    </tr>\n",
       "    <tr>\n",
       "      <th>...</th>\n",
       "      <td>...</td>\n",
       "      <td>...</td>\n",
       "    </tr>\n",
       "    <tr>\n",
       "      <th>8148</th>\n",
       "      <td>./Smaller instances/QE90/GK_swa_u0807_QE90.mp3</td>\n",
       "      <td>Once a month, it depends, if its Certificate o...</td>\n",
       "    </tr>\n",
       "    <tr>\n",
       "      <th>8149</th>\n",
       "      <td>./Smaller instances/QE90/GK_swa_u0809_QE90.mp3</td>\n",
       "      <td>I hardly use it, because E C I T I Z E N I reg...</td>\n",
       "    </tr>\n",
       "    <tr>\n",
       "      <th>8150</th>\n",
       "      <td>./Smaller instances/QE93/GK_swa_u0264_QE93.mp3</td>\n",
       "      <td>My doubt is that there are hackers in the worl...</td>\n",
       "    </tr>\n",
       "    <tr>\n",
       "      <th>8151</th>\n",
       "      <td>./Smaller instances/QE93/GK_swa_u0406_QE93.mp3</td>\n",
       "      <td>Information</td>\n",
       "    </tr>\n",
       "    <tr>\n",
       "      <th>8152</th>\n",
       "      <td>./Smaller instances/QE93/GK_swa_u0501_QE93.mp3</td>\n",
       "      <td>At other times you can apply for any governmen...</td>\n",
       "    </tr>\n",
       "  </tbody>\n",
       "</table>\n",
       "<p>8153 rows × 2 columns</p>\n",
       "</div>"
      ],
      "text/plain": [
       "                                              file_name  \\\n",
       "0     ./LARGE DATA/larger sample/QF14/GK_swa_u0120_Q...   \n",
       "1     ./LARGE DATA/larger sample/QF14/GK_swa_u0123_Q...   \n",
       "2     ./LARGE DATA/larger sample/QF14/GK_swa_u0126_Q...   \n",
       "3     ./LARGE DATA/larger sample/QF14/GK_swa_u0134_Q...   \n",
       "4     ./LARGE DATA/larger sample/QF14/GK_swa_u0136_Q...   \n",
       "...                                                 ...   \n",
       "8148     ./Smaller instances/QE90/GK_swa_u0807_QE90.mp3   \n",
       "8149     ./Smaller instances/QE90/GK_swa_u0809_QE90.mp3   \n",
       "8150     ./Smaller instances/QE93/GK_swa_u0264_QE93.mp3   \n",
       "8151     ./Smaller instances/QE93/GK_swa_u0406_QE93.mp3   \n",
       "8152     ./Smaller instances/QE93/GK_swa_u0501_QE93.mp3   \n",
       "\n",
       "                                          transcription  \n",
       "0     [foreign-luo] I can buy it because I also what...  \n",
       "1                      [?] I would not tell them to [?]  \n",
       "2     I would like to buy it because [p] it would he...  \n",
       "3     It is the responsibility of the internet servi...  \n",
       "4         If it is a tool that can help the I will buy.  \n",
       "...                                                 ...  \n",
       "8148  Once a month, it depends, if its Certificate o...  \n",
       "8149  I hardly use it, because E C I T I Z E N I reg...  \n",
       "8150  My doubt is that there are hackers in the worl...  \n",
       "8151                                        Information  \n",
       "8152  At other times you can apply for any governmen...  \n",
       "\n",
       "[8153 rows x 2 columns]"
      ]
     },
     "execution_count": 39,
     "metadata": {},
     "output_type": "execute_result"
    }
   ],
   "source": [
    "df"
   ]
  },
  {
   "cell_type": "code",
   "execution_count": 40,
   "id": "4068e46a-051a-4953-ba8c-8ed85509b386",
   "metadata": {},
   "outputs": [],
   "source": [
    "# df.drop(columns = ['level_0'], inplace = True)"
   ]
  },
  {
   "cell_type": "code",
   "execution_count": 41,
   "id": "33dcb612",
   "metadata": {
    "scrolled": true
   },
   "outputs": [],
   "source": [
    "df = st_pre(df)"
   ]
  },
  {
   "cell_type": "code",
   "execution_count": 42,
   "id": "8b01c21b",
   "metadata": {},
   "outputs": [
    {
     "data": {
      "text/html": [
       "<div>\n",
       "<style scoped>\n",
       "    .dataframe tbody tr th:only-of-type {\n",
       "        vertical-align: middle;\n",
       "    }\n",
       "\n",
       "    .dataframe tbody tr th {\n",
       "        vertical-align: top;\n",
       "    }\n",
       "\n",
       "    .dataframe thead th {\n",
       "        text-align: right;\n",
       "    }\n",
       "</style>\n",
       "<table border=\"1\" class=\"dataframe\">\n",
       "  <thead>\n",
       "    <tr style=\"text-align: right;\">\n",
       "      <th></th>\n",
       "      <th>file_name</th>\n",
       "      <th>transcription</th>\n",
       "    </tr>\n",
       "  </thead>\n",
       "  <tbody>\n",
       "    <tr>\n",
       "      <th>0</th>\n",
       "      <td>./LARGE DATA/larger sample/QF14/GK_swa_u0120_Q...</td>\n",
       "      <td>I can buy it because I also what phone theft t...</td>\n",
       "    </tr>\n",
       "    <tr>\n",
       "      <th>1</th>\n",
       "      <td>./LARGE DATA/larger sample/QF14/GK_swa_u0123_Q...</td>\n",
       "      <td>I would not tell them to</td>\n",
       "    </tr>\n",
       "    <tr>\n",
       "      <th>2</th>\n",
       "      <td>./LARGE DATA/larger sample/QF14/GK_swa_u0126_Q...</td>\n",
       "      <td>I would like to buy it because it would help m...</td>\n",
       "    </tr>\n",
       "    <tr>\n",
       "      <th>3</th>\n",
       "      <td>./LARGE DATA/larger sample/QF14/GK_swa_u0134_Q...</td>\n",
       "      <td>It is the responsibility of the internet servi...</td>\n",
       "    </tr>\n",
       "    <tr>\n",
       "      <th>4</th>\n",
       "      <td>./LARGE DATA/larger sample/QF14/GK_swa_u0136_Q...</td>\n",
       "      <td>If it is a tool that can help the I will buy.</td>\n",
       "    </tr>\n",
       "    <tr>\n",
       "      <th>...</th>\n",
       "      <td>...</td>\n",
       "      <td>...</td>\n",
       "    </tr>\n",
       "    <tr>\n",
       "      <th>8148</th>\n",
       "      <td>./Smaller instances/QE90/GK_swa_u0807_QE90.mp3</td>\n",
       "      <td>Once a month, it depends, if its Certificate o...</td>\n",
       "    </tr>\n",
       "    <tr>\n",
       "      <th>8149</th>\n",
       "      <td>./Smaller instances/QE90/GK_swa_u0809_QE90.mp3</td>\n",
       "      <td>I hardly use it, because E C I T I Z E N I reg...</td>\n",
       "    </tr>\n",
       "    <tr>\n",
       "      <th>8150</th>\n",
       "      <td>./Smaller instances/QE93/GK_swa_u0264_QE93.mp3</td>\n",
       "      <td>My doubt is that there are hackers in the worl...</td>\n",
       "    </tr>\n",
       "    <tr>\n",
       "      <th>8151</th>\n",
       "      <td>./Smaller instances/QE93/GK_swa_u0406_QE93.mp3</td>\n",
       "      <td>Information</td>\n",
       "    </tr>\n",
       "    <tr>\n",
       "      <th>8152</th>\n",
       "      <td>./Smaller instances/QE93/GK_swa_u0501_QE93.mp3</td>\n",
       "      <td>At other times you can apply for any governmen...</td>\n",
       "    </tr>\n",
       "  </tbody>\n",
       "</table>\n",
       "<p>8153 rows × 2 columns</p>\n",
       "</div>"
      ],
      "text/plain": [
       "                                              file_name  \\\n",
       "0     ./LARGE DATA/larger sample/QF14/GK_swa_u0120_Q...   \n",
       "1     ./LARGE DATA/larger sample/QF14/GK_swa_u0123_Q...   \n",
       "2     ./LARGE DATA/larger sample/QF14/GK_swa_u0126_Q...   \n",
       "3     ./LARGE DATA/larger sample/QF14/GK_swa_u0134_Q...   \n",
       "4     ./LARGE DATA/larger sample/QF14/GK_swa_u0136_Q...   \n",
       "...                                                 ...   \n",
       "8148     ./Smaller instances/QE90/GK_swa_u0807_QE90.mp3   \n",
       "8149     ./Smaller instances/QE90/GK_swa_u0809_QE90.mp3   \n",
       "8150     ./Smaller instances/QE93/GK_swa_u0264_QE93.mp3   \n",
       "8151     ./Smaller instances/QE93/GK_swa_u0406_QE93.mp3   \n",
       "8152     ./Smaller instances/QE93/GK_swa_u0501_QE93.mp3   \n",
       "\n",
       "                                          transcription  \n",
       "0     I can buy it because I also what phone theft t...  \n",
       "1                              I would not tell them to  \n",
       "2     I would like to buy it because it would help m...  \n",
       "3     It is the responsibility of the internet servi...  \n",
       "4         If it is a tool that can help the I will buy.  \n",
       "...                                                 ...  \n",
       "8148  Once a month, it depends, if its Certificate o...  \n",
       "8149  I hardly use it, because E C I T I Z E N I reg...  \n",
       "8150  My doubt is that there are hackers in the worl...  \n",
       "8151                                        Information  \n",
       "8152  At other times you can apply for any governmen...  \n",
       "\n",
       "[8153 rows x 2 columns]"
      ]
     },
     "execution_count": 42,
     "metadata": {},
     "output_type": "execute_result"
    }
   ],
   "source": [
    "df"
   ]
  },
  {
   "cell_type": "code",
   "execution_count": 43,
   "id": "6ea6394f-a3ea-4c26-b731-385f48a00839",
   "metadata": {},
   "outputs": [
    {
     "data": {
      "text/plain": [
       "1"
      ]
     },
     "execution_count": 43,
     "metadata": {},
     "output_type": "execute_result"
    }
   ],
   "source": [
    "j = 0\n",
    "for i in range(len(df)):\n",
    "    if df['transcription'][i] == '':\n",
    "        df.drop(i, inplace = True)\n",
    "        j+=1\n",
    "j"
   ]
  },
  {
   "cell_type": "code",
   "execution_count": 44,
   "id": "dc6c68ee-e804-451e-bdc4-f6f36ef64120",
   "metadata": {},
   "outputs": [],
   "source": [
    "df = df.reset_index()"
   ]
  },
  {
   "cell_type": "code",
   "execution_count": 45,
   "id": "72928829-0ae4-4b8d-ba92-80c90747e561",
   "metadata": {},
   "outputs": [],
   "source": [
    "df = df.drop(['index'], axis = 1)"
   ]
  },
  {
   "cell_type": "code",
   "execution_count": 46,
   "id": "49b7b4a8-0801-467d-93e9-4fb44b3b961f",
   "metadata": {},
   "outputs": [],
   "source": [
    "# df = df.drop('level_0', axis = 1)"
   ]
  },
  {
   "cell_type": "code",
   "execution_count": 47,
   "id": "2b4cd401-c74a-4610-bffc-5043acd02412",
   "metadata": {},
   "outputs": [
    {
     "data": {
      "text/html": [
       "<div>\n",
       "<style scoped>\n",
       "    .dataframe tbody tr th:only-of-type {\n",
       "        vertical-align: middle;\n",
       "    }\n",
       "\n",
       "    .dataframe tbody tr th {\n",
       "        vertical-align: top;\n",
       "    }\n",
       "\n",
       "    .dataframe thead th {\n",
       "        text-align: right;\n",
       "    }\n",
       "</style>\n",
       "<table border=\"1\" class=\"dataframe\">\n",
       "  <thead>\n",
       "    <tr style=\"text-align: right;\">\n",
       "      <th></th>\n",
       "      <th>file_name</th>\n",
       "      <th>transcription</th>\n",
       "    </tr>\n",
       "  </thead>\n",
       "  <tbody>\n",
       "    <tr>\n",
       "      <th>0</th>\n",
       "      <td>./LARGE DATA/larger sample/QF14/GK_swa_u0120_Q...</td>\n",
       "      <td>I can buy it because I also what phone theft t...</td>\n",
       "    </tr>\n",
       "    <tr>\n",
       "      <th>1</th>\n",
       "      <td>./LARGE DATA/larger sample/QF14/GK_swa_u0123_Q...</td>\n",
       "      <td>I would not tell them to</td>\n",
       "    </tr>\n",
       "    <tr>\n",
       "      <th>2</th>\n",
       "      <td>./LARGE DATA/larger sample/QF14/GK_swa_u0126_Q...</td>\n",
       "      <td>I would like to buy it because it would help m...</td>\n",
       "    </tr>\n",
       "    <tr>\n",
       "      <th>3</th>\n",
       "      <td>./LARGE DATA/larger sample/QF14/GK_swa_u0134_Q...</td>\n",
       "      <td>It is the responsibility of the internet servi...</td>\n",
       "    </tr>\n",
       "    <tr>\n",
       "      <th>4</th>\n",
       "      <td>./LARGE DATA/larger sample/QF14/GK_swa_u0136_Q...</td>\n",
       "      <td>If it is a tool that can help the I will buy.</td>\n",
       "    </tr>\n",
       "    <tr>\n",
       "      <th>...</th>\n",
       "      <td>...</td>\n",
       "      <td>...</td>\n",
       "    </tr>\n",
       "    <tr>\n",
       "      <th>8147</th>\n",
       "      <td>./Smaller instances/QE90/GK_swa_u0807_QE90.mp3</td>\n",
       "      <td>Once a month, it depends, if its Certificate o...</td>\n",
       "    </tr>\n",
       "    <tr>\n",
       "      <th>8148</th>\n",
       "      <td>./Smaller instances/QE90/GK_swa_u0809_QE90.mp3</td>\n",
       "      <td>I hardly use it, because E C I T I Z E N I reg...</td>\n",
       "    </tr>\n",
       "    <tr>\n",
       "      <th>8149</th>\n",
       "      <td>./Smaller instances/QE93/GK_swa_u0264_QE93.mp3</td>\n",
       "      <td>My doubt is that there are hackers in the worl...</td>\n",
       "    </tr>\n",
       "    <tr>\n",
       "      <th>8150</th>\n",
       "      <td>./Smaller instances/QE93/GK_swa_u0406_QE93.mp3</td>\n",
       "      <td>Information</td>\n",
       "    </tr>\n",
       "    <tr>\n",
       "      <th>8151</th>\n",
       "      <td>./Smaller instances/QE93/GK_swa_u0501_QE93.mp3</td>\n",
       "      <td>At other times you can apply for any governmen...</td>\n",
       "    </tr>\n",
       "  </tbody>\n",
       "</table>\n",
       "<p>8152 rows × 2 columns</p>\n",
       "</div>"
      ],
      "text/plain": [
       "                                              file_name  \\\n",
       "0     ./LARGE DATA/larger sample/QF14/GK_swa_u0120_Q...   \n",
       "1     ./LARGE DATA/larger sample/QF14/GK_swa_u0123_Q...   \n",
       "2     ./LARGE DATA/larger sample/QF14/GK_swa_u0126_Q...   \n",
       "3     ./LARGE DATA/larger sample/QF14/GK_swa_u0134_Q...   \n",
       "4     ./LARGE DATA/larger sample/QF14/GK_swa_u0136_Q...   \n",
       "...                                                 ...   \n",
       "8147     ./Smaller instances/QE90/GK_swa_u0807_QE90.mp3   \n",
       "8148     ./Smaller instances/QE90/GK_swa_u0809_QE90.mp3   \n",
       "8149     ./Smaller instances/QE93/GK_swa_u0264_QE93.mp3   \n",
       "8150     ./Smaller instances/QE93/GK_swa_u0406_QE93.mp3   \n",
       "8151     ./Smaller instances/QE93/GK_swa_u0501_QE93.mp3   \n",
       "\n",
       "                                          transcription  \n",
       "0     I can buy it because I also what phone theft t...  \n",
       "1                              I would not tell them to  \n",
       "2     I would like to buy it because it would help m...  \n",
       "3     It is the responsibility of the internet servi...  \n",
       "4         If it is a tool that can help the I will buy.  \n",
       "...                                                 ...  \n",
       "8147  Once a month, it depends, if its Certificate o...  \n",
       "8148  I hardly use it, because E C I T I Z E N I reg...  \n",
       "8149  My doubt is that there are hackers in the worl...  \n",
       "8150                                        Information  \n",
       "8151  At other times you can apply for any governmen...  \n",
       "\n",
       "[8152 rows x 2 columns]"
      ]
     },
     "execution_count": 47,
     "metadata": {},
     "output_type": "execute_result"
    }
   ],
   "source": [
    "df"
   ]
  },
  {
   "cell_type": "code",
   "execution_count": 48,
   "id": "47150dd5-ee75-4fcc-8853-c625e30f4cf7",
   "metadata": {},
   "outputs": [
    {
     "name": "stdout",
     "output_type": "stream",
     "text": [
      "./LARGE DATA/larger sample/QF14/GK_swa_u0754_QF14.mp3\n"
     ]
    },
    {
     "data": {
      "text/plain": [
       "\"I really have no idea about that, but I think, I don't know\""
      ]
     },
     "execution_count": 48,
     "metadata": {},
     "output_type": "execute_result"
    }
   ],
   "source": [
    "print(df['file_name'][200])\n",
    "df['transcription'][200]"
   ]
  },
  {
   "cell_type": "code",
   "execution_count": 49,
   "id": "25301959-6d0a-4906-b2e7-ac541e0d77a4",
   "metadata": {},
   "outputs": [
    {
     "name": "stdout",
     "output_type": "stream",
     "text": [
      "./LARGE DATA/larger sample/QH11/GK_swa_u0602_QH11.mp3\n"
     ]
    },
    {
     "data": {
      "text/plain": [
       "'Benefits are that it makes you it makes you exposed to many people In the whole country and the world so a lot of people could know Your products and decide to purchase them and also begin to believe that your products are good.'"
      ]
     },
     "execution_count": 49,
     "metadata": {},
     "output_type": "execute_result"
    }
   ],
   "source": [
    "print(df['file_name'][800])\n",
    "df['transcription'][800]"
   ]
  },
  {
   "cell_type": "code",
   "execution_count": 50,
   "id": "313ec692-c44c-4347-b0bd-d5fdaf5e0598",
   "metadata": {},
   "outputs": [
    {
     "name": "stdout",
     "output_type": "stream",
     "text": [
      "./LARGE DATA/larger sample/QH11/GK_swa_u0603_QH11.mp3\n"
     ]
    },
    {
     "data": {
      "text/plain": [
       "'I feel like they are there in the business to reach people and by the end of the day there is a purchase And people that sent the money were customers you had not planned for It has importance after all there are challenges But at the end of the day you will get clients'"
      ]
     },
     "execution_count": 50,
     "metadata": {},
     "output_type": "execute_result"
    }
   ],
   "source": [
    "print(df['file_name'][801])\n",
    "df['transcription'][801]"
   ]
  },
  {
   "cell_type": "code",
   "execution_count": 51,
   "id": "6c86dec5-42ce-48ff-b2b1-6bf00312227a",
   "metadata": {},
   "outputs": [
    {
     "name": "stdout",
     "output_type": "stream",
     "text": [
      "./LARGE DATA/larger sample/QG17/GK_swa_u0284_QG17.mp3\n"
     ]
    },
    {
     "data": {
      "text/plain": [
       "'I have an opinion that Moraa needs to repay her loan so that her limit increases She can get her limit has increased and be able to buy products to stock to her shop'"
      ]
     },
     "execution_count": 51,
     "metadata": {},
     "output_type": "execute_result"
    }
   ],
   "source": [
    "print(df['file_name'][501])\n",
    "df['transcription'][501]"
   ]
  },
  {
   "cell_type": "code",
   "execution_count": 52,
   "id": "7970addd-c39f-4a3a-88a7-f2618a27e341",
   "metadata": {},
   "outputs": [
    {
     "name": "stdout",
     "output_type": "stream",
     "text": [
      "./LARGE DATA/larger sample/QG17/GK_swa_u0774_QG17.mp3\n"
     ]
    },
    {
     "data": {
      "text/plain": [
       "\"I only find it as a reason, My opinion is that Moraa hasn't Has not been exposed. If she could be well conversant with business, she could have a 'Lipa na Mpesa'. If She had the 'Lipa na Mpesa', they would use the till number. That money Obviously can not be reversed because it goes to Safaricom. So, I think Moraa didn't use her mind when opening her business\""
      ]
     },
     "execution_count": 52,
     "metadata": {},
     "output_type": "execute_result"
    }
   ],
   "source": [
    "print(df['file_name'][666])\n",
    "df['transcription'][666]"
   ]
  },
  {
   "cell_type": "code",
   "execution_count": 53,
   "id": "55b0bb69",
   "metadata": {},
   "outputs": [
    {
     "name": "stdout",
     "output_type": "stream",
     "text": [
      "./LARGE DATA/larger sample/QF14/GK_swa_u0804_QF14.mp3\n"
     ]
    },
    {
     "data": {
      "text/plain": [
       "\"I haven't known about such a service\""
      ]
     },
     "execution_count": 53,
     "metadata": {},
     "output_type": "execute_result"
    }
   ],
   "source": [
    "print(df['file_name'][234])\n",
    "df['transcription'][234]"
   ]
  },
  {
   "cell_type": "code",
   "execution_count": 54,
   "id": "a1ba67c7",
   "metadata": {},
   "outputs": [
    {
     "name": "stdout",
     "output_type": "stream",
     "text": [
      "./LARGE DATA/larger sample/QF18/GK_swa_u0788_QF18.mp3\n"
     ]
    },
    {
     "data": {
      "text/plain": [
       "\"If I check, I can't say There are two different ways to check them. One, it will be okay to increase that loan because You'll find that they even give someone permission to borrow more. if I really have the ability to pay. If you look at it from the other side, it is not right to increase the limit Because that will now make a person have the desire to take more loans, and maybe he does not have the ability to pay\""
      ]
     },
     "execution_count": 54,
     "metadata": {},
     "output_type": "execute_result"
    }
   ],
   "source": [
    "print(df['file_name'][456])\n",
    "df['transcription'][456]"
   ]
  },
  {
   "cell_type": "code",
   "execution_count": 55,
   "id": "f2b4ccbf-aae8-484f-b470-a4749cdf0634",
   "metadata": {},
   "outputs": [
    {
     "data": {
      "text/plain": [
       "'y'"
      ]
     },
     "execution_count": 55,
     "metadata": {},
     "output_type": "execute_result"
    }
   ],
   "source": [
    "df['transcription'][456][-1]"
   ]
  },
  {
   "cell_type": "code",
   "execution_count": 56,
   "id": "0e8cab61-0a6b-453a-9991-54eabfbdd0ff",
   "metadata": {},
   "outputs": [
    {
     "data": {
      "text/html": [
       "<div>\n",
       "<style scoped>\n",
       "    .dataframe tbody tr th:only-of-type {\n",
       "        vertical-align: middle;\n",
       "    }\n",
       "\n",
       "    .dataframe tbody tr th {\n",
       "        vertical-align: top;\n",
       "    }\n",
       "\n",
       "    .dataframe thead th {\n",
       "        text-align: right;\n",
       "    }\n",
       "</style>\n",
       "<table border=\"1\" class=\"dataframe\">\n",
       "  <thead>\n",
       "    <tr style=\"text-align: right;\">\n",
       "      <th></th>\n",
       "      <th>file_name</th>\n",
       "      <th>transcription</th>\n",
       "    </tr>\n",
       "  </thead>\n",
       "  <tbody>\n",
       "    <tr>\n",
       "      <th>0</th>\n",
       "      <td>./LARGE DATA/larger sample/QF14/GK_swa_u0120_Q...</td>\n",
       "      <td>I can buy it because I also what phone theft t...</td>\n",
       "    </tr>\n",
       "    <tr>\n",
       "      <th>1</th>\n",
       "      <td>./LARGE DATA/larger sample/QF14/GK_swa_u0123_Q...</td>\n",
       "      <td>I would not tell them to</td>\n",
       "    </tr>\n",
       "    <tr>\n",
       "      <th>2</th>\n",
       "      <td>./LARGE DATA/larger sample/QF14/GK_swa_u0126_Q...</td>\n",
       "      <td>I would like to buy it because it would help m...</td>\n",
       "    </tr>\n",
       "    <tr>\n",
       "      <th>3</th>\n",
       "      <td>./LARGE DATA/larger sample/QF14/GK_swa_u0134_Q...</td>\n",
       "      <td>It is the responsibility of the internet servi...</td>\n",
       "    </tr>\n",
       "    <tr>\n",
       "      <th>4</th>\n",
       "      <td>./LARGE DATA/larger sample/QF14/GK_swa_u0136_Q...</td>\n",
       "      <td>If it is a tool that can help the I will buy.</td>\n",
       "    </tr>\n",
       "    <tr>\n",
       "      <th>...</th>\n",
       "      <td>...</td>\n",
       "      <td>...</td>\n",
       "    </tr>\n",
       "    <tr>\n",
       "      <th>8147</th>\n",
       "      <td>./Smaller instances/QE90/GK_swa_u0807_QE90.mp3</td>\n",
       "      <td>Once a month, it depends, if its Certificate o...</td>\n",
       "    </tr>\n",
       "    <tr>\n",
       "      <th>8148</th>\n",
       "      <td>./Smaller instances/QE90/GK_swa_u0809_QE90.mp3</td>\n",
       "      <td>I hardly use it, because E C I T I Z E N I reg...</td>\n",
       "    </tr>\n",
       "    <tr>\n",
       "      <th>8149</th>\n",
       "      <td>./Smaller instances/QE93/GK_swa_u0264_QE93.mp3</td>\n",
       "      <td>My doubt is that there are hackers in the worl...</td>\n",
       "    </tr>\n",
       "    <tr>\n",
       "      <th>8150</th>\n",
       "      <td>./Smaller instances/QE93/GK_swa_u0406_QE93.mp3</td>\n",
       "      <td>Information</td>\n",
       "    </tr>\n",
       "    <tr>\n",
       "      <th>8151</th>\n",
       "      <td>./Smaller instances/QE93/GK_swa_u0501_QE93.mp3</td>\n",
       "      <td>At other times you can apply for any governmen...</td>\n",
       "    </tr>\n",
       "  </tbody>\n",
       "</table>\n",
       "<p>8152 rows × 2 columns</p>\n",
       "</div>"
      ],
      "text/plain": [
       "                                              file_name  \\\n",
       "0     ./LARGE DATA/larger sample/QF14/GK_swa_u0120_Q...   \n",
       "1     ./LARGE DATA/larger sample/QF14/GK_swa_u0123_Q...   \n",
       "2     ./LARGE DATA/larger sample/QF14/GK_swa_u0126_Q...   \n",
       "3     ./LARGE DATA/larger sample/QF14/GK_swa_u0134_Q...   \n",
       "4     ./LARGE DATA/larger sample/QF14/GK_swa_u0136_Q...   \n",
       "...                                                 ...   \n",
       "8147     ./Smaller instances/QE90/GK_swa_u0807_QE90.mp3   \n",
       "8148     ./Smaller instances/QE90/GK_swa_u0809_QE90.mp3   \n",
       "8149     ./Smaller instances/QE93/GK_swa_u0264_QE93.mp3   \n",
       "8150     ./Smaller instances/QE93/GK_swa_u0406_QE93.mp3   \n",
       "8151     ./Smaller instances/QE93/GK_swa_u0501_QE93.mp3   \n",
       "\n",
       "                                          transcription  \n",
       "0     I can buy it because I also what phone theft t...  \n",
       "1                              I would not tell them to  \n",
       "2     I would like to buy it because it would help m...  \n",
       "3     It is the responsibility of the internet servi...  \n",
       "4         If it is a tool that can help the I will buy.  \n",
       "...                                                 ...  \n",
       "8147  Once a month, it depends, if its Certificate o...  \n",
       "8148  I hardly use it, because E C I T I Z E N I reg...  \n",
       "8149  My doubt is that there are hackers in the worl...  \n",
       "8150                                        Information  \n",
       "8151  At other times you can apply for any governmen...  \n",
       "\n",
       "[8152 rows x 2 columns]"
      ]
     },
     "execution_count": 56,
     "metadata": {},
     "output_type": "execute_result"
    }
   ],
   "source": [
    "df"
   ]
  },
  {
   "cell_type": "code",
   "execution_count": 57,
   "id": "42cfa7c8-0406-4694-a432-4f3c9d21a892",
   "metadata": {},
   "outputs": [],
   "source": [
    "df['transcription'].dropna(inplace=True)"
   ]
  },
  {
   "cell_type": "code",
   "execution_count": 58,
   "id": "ed627da2-6be4-42ed-a762-92bea0462fdd",
   "metadata": {},
   "outputs": [
    {
     "data": {
      "text/html": [
       "<div>\n",
       "<style scoped>\n",
       "    .dataframe tbody tr th:only-of-type {\n",
       "        vertical-align: middle;\n",
       "    }\n",
       "\n",
       "    .dataframe tbody tr th {\n",
       "        vertical-align: top;\n",
       "    }\n",
       "\n",
       "    .dataframe thead th {\n",
       "        text-align: right;\n",
       "    }\n",
       "</style>\n",
       "<table border=\"1\" class=\"dataframe\">\n",
       "  <thead>\n",
       "    <tr style=\"text-align: right;\">\n",
       "      <th></th>\n",
       "      <th>file_name</th>\n",
       "      <th>transcription</th>\n",
       "    </tr>\n",
       "  </thead>\n",
       "  <tbody>\n",
       "    <tr>\n",
       "      <th>0</th>\n",
       "      <td>./LARGE DATA/larger sample/QF14/GK_swa_u0120_Q...</td>\n",
       "      <td>I can buy it because I also what phone theft t...</td>\n",
       "    </tr>\n",
       "    <tr>\n",
       "      <th>1</th>\n",
       "      <td>./LARGE DATA/larger sample/QF14/GK_swa_u0123_Q...</td>\n",
       "      <td>I would not tell them to</td>\n",
       "    </tr>\n",
       "    <tr>\n",
       "      <th>2</th>\n",
       "      <td>./LARGE DATA/larger sample/QF14/GK_swa_u0126_Q...</td>\n",
       "      <td>I would like to buy it because it would help m...</td>\n",
       "    </tr>\n",
       "    <tr>\n",
       "      <th>3</th>\n",
       "      <td>./LARGE DATA/larger sample/QF14/GK_swa_u0134_Q...</td>\n",
       "      <td>It is the responsibility of the internet servi...</td>\n",
       "    </tr>\n",
       "    <tr>\n",
       "      <th>4</th>\n",
       "      <td>./LARGE DATA/larger sample/QF14/GK_swa_u0136_Q...</td>\n",
       "      <td>If it is a tool that can help the I will buy.</td>\n",
       "    </tr>\n",
       "    <tr>\n",
       "      <th>...</th>\n",
       "      <td>...</td>\n",
       "      <td>...</td>\n",
       "    </tr>\n",
       "    <tr>\n",
       "      <th>8147</th>\n",
       "      <td>./Smaller instances/QE90/GK_swa_u0807_QE90.mp3</td>\n",
       "      <td>Once a month, it depends, if its Certificate o...</td>\n",
       "    </tr>\n",
       "    <tr>\n",
       "      <th>8148</th>\n",
       "      <td>./Smaller instances/QE90/GK_swa_u0809_QE90.mp3</td>\n",
       "      <td>I hardly use it, because E C I T I Z E N I reg...</td>\n",
       "    </tr>\n",
       "    <tr>\n",
       "      <th>8149</th>\n",
       "      <td>./Smaller instances/QE93/GK_swa_u0264_QE93.mp3</td>\n",
       "      <td>My doubt is that there are hackers in the worl...</td>\n",
       "    </tr>\n",
       "    <tr>\n",
       "      <th>8150</th>\n",
       "      <td>./Smaller instances/QE93/GK_swa_u0406_QE93.mp3</td>\n",
       "      <td>Information</td>\n",
       "    </tr>\n",
       "    <tr>\n",
       "      <th>8151</th>\n",
       "      <td>./Smaller instances/QE93/GK_swa_u0501_QE93.mp3</td>\n",
       "      <td>At other times you can apply for any governmen...</td>\n",
       "    </tr>\n",
       "  </tbody>\n",
       "</table>\n",
       "<p>8152 rows × 2 columns</p>\n",
       "</div>"
      ],
      "text/plain": [
       "                                              file_name  \\\n",
       "0     ./LARGE DATA/larger sample/QF14/GK_swa_u0120_Q...   \n",
       "1     ./LARGE DATA/larger sample/QF14/GK_swa_u0123_Q...   \n",
       "2     ./LARGE DATA/larger sample/QF14/GK_swa_u0126_Q...   \n",
       "3     ./LARGE DATA/larger sample/QF14/GK_swa_u0134_Q...   \n",
       "4     ./LARGE DATA/larger sample/QF14/GK_swa_u0136_Q...   \n",
       "...                                                 ...   \n",
       "8147     ./Smaller instances/QE90/GK_swa_u0807_QE90.mp3   \n",
       "8148     ./Smaller instances/QE90/GK_swa_u0809_QE90.mp3   \n",
       "8149     ./Smaller instances/QE93/GK_swa_u0264_QE93.mp3   \n",
       "8150     ./Smaller instances/QE93/GK_swa_u0406_QE93.mp3   \n",
       "8151     ./Smaller instances/QE93/GK_swa_u0501_QE93.mp3   \n",
       "\n",
       "                                          transcription  \n",
       "0     I can buy it because I also what phone theft t...  \n",
       "1                              I would not tell them to  \n",
       "2     I would like to buy it because it would help m...  \n",
       "3     It is the responsibility of the internet servi...  \n",
       "4         If it is a tool that can help the I will buy.  \n",
       "...                                                 ...  \n",
       "8147  Once a month, it depends, if its Certificate o...  \n",
       "8148  I hardly use it, because E C I T I Z E N I reg...  \n",
       "8149  My doubt is that there are hackers in the worl...  \n",
       "8150                                        Information  \n",
       "8151  At other times you can apply for any governmen...  \n",
       "\n",
       "[8152 rows x 2 columns]"
      ]
     },
     "execution_count": 58,
     "metadata": {},
     "output_type": "execute_result"
    }
   ],
   "source": [
    "df"
   ]
  },
  {
   "cell_type": "code",
   "execution_count": 59,
   "id": "655db0e0-3208-4c37-a9fc-aff95ef0626b",
   "metadata": {},
   "outputs": [],
   "source": [
    "df.dropna(inplace = True)\n",
    "# df = df.reset_index()\n",
    "# df = df.drop(['index'], axis = 1)"
   ]
  },
  {
   "cell_type": "code",
   "execution_count": 60,
   "id": "f2e7bb62-9bd0-415d-baa6-e896fb9b5965",
   "metadata": {},
   "outputs": [
    {
     "name": "stdout",
     "output_type": "stream",
     "text": [
      "./Smaller instances/QA15/GK_swa_u0767_QA15.mp3\n"
     ]
    },
    {
     "data": {
      "text/plain": [
       "'Yes, I do go to work in other places as you cannot be in one place all the time'"
      ]
     },
     "execution_count": 60,
     "metadata": {},
     "output_type": "execute_result"
    }
   ],
   "source": [
    "print(df['file_name'][2340])\n",
    "df['transcription'][2340]"
   ]
  },
  {
   "cell_type": "code",
   "execution_count": 61,
   "id": "b398aebb-cf45-4c57-812b-7236ffafb711",
   "metadata": {},
   "outputs": [
    {
     "name": "stdout",
     "output_type": "stream",
     "text": [
      "./Smaller instances/QA19/GK_swa_u0731_QA19.mp3\n"
     ]
    },
    {
     "data": {
      "text/plain": [
       "'There 8 children, 5 go to school and 3 don’t go because of school fees'"
      ]
     },
     "execution_count": 61,
     "metadata": {},
     "output_type": "execute_result"
    }
   ],
   "source": [
    "print(df['file_name'][2899])\n",
    "df['transcription'][2899]"
   ]
  },
  {
   "cell_type": "code",
   "execution_count": 62,
   "id": "d14b7e7f-677e-4f33-8f7a-864d509606b5",
   "metadata": {},
   "outputs": [
    {
     "data": {
      "text/plain": [
       "'I can buy it because I also what phone theft to end'"
      ]
     },
     "execution_count": 62,
     "metadata": {},
     "output_type": "execute_result"
    }
   ],
   "source": [
    "df['transcription'][0]"
   ]
  },
  {
   "cell_type": "code",
   "execution_count": 63,
   "id": "8f82e330",
   "metadata": {},
   "outputs": [],
   "source": [
    "for i in range(len(df)):\n",
    "    if df['transcription'][i][-1] == ' ':\n",
    "        df['transcription'][i][-1] = '.' \n",
    "    elif df['transcription'][i][-1] != '.':\n",
    "        df['transcription'][i] = df['transcription'][i]+'.'\n",
    "    elif df['transcription'][i][0] == '.':\n",
    "        df['transcription'][i] = df['transcription'][i][1:]\n",
    "        "
   ]
  },
  {
   "cell_type": "code",
   "execution_count": 64,
   "id": "1c1b23e0-a6f9-4687-9b4c-2fc87a87a4e4",
   "metadata": {},
   "outputs": [
    {
     "name": "stdout",
     "output_type": "stream",
     "text": [
      "./Smaller instances/QD21/GK_swa_u0791_QD21.mp3\n"
     ]
    },
    {
     "data": {
      "text/plain": [
       "'Nothing.'"
      ]
     },
     "execution_count": 64,
     "metadata": {},
     "output_type": "execute_result"
    }
   ],
   "source": [
    "print(df['file_name'][6500])\n",
    "df['transcription'][6500]"
   ]
  },
  {
   "cell_type": "code",
   "execution_count": 65,
   "id": "d5f4bf35",
   "metadata": {},
   "outputs": [
    {
     "name": "stdout",
     "output_type": "stream",
     "text": [
      "./Smaller instances/QC12/GK_swa_u0225_QC12.mp3\n"
     ]
    },
    {
     "data": {
      "text/plain": [
       "'Several times in a day.'"
      ]
     },
     "execution_count": 65,
     "metadata": {},
     "output_type": "execute_result"
    }
   ],
   "source": [
    "print(df['file_name'][4500])\n",
    "df['transcription'][4500]"
   ]
  },
  {
   "cell_type": "code",
   "execution_count": 66,
   "id": "70ee28c1-799a-465e-9b4a-b805a240b1a3",
   "metadata": {},
   "outputs": [
    {
     "name": "stdout",
     "output_type": "stream",
     "text": [
      "./Smaller instances/QA53/GK_swa_u0680_QA53.mp3\n"
     ]
    },
    {
     "data": {
      "text/plain": [
       "'I always go to the side.'"
      ]
     },
     "execution_count": 66,
     "metadata": {},
     "output_type": "execute_result"
    }
   ],
   "source": [
    "print(df['file_name'][3999])\n",
    "df['transcription'][3999]"
   ]
  },
  {
   "cell_type": "code",
   "execution_count": 67,
   "id": "2ca91705-bc04-4ca3-a155-1c7083d80ece",
   "metadata": {},
   "outputs": [
    {
     "name": "stdout",
     "output_type": "stream",
     "text": [
      "./Smaller instances/QA18/GK_swa_u0581_QA18.mp3\n"
     ]
    },
    {
     "data": {
      "text/plain": [
       "'In a day is 200 shillings.'"
      ]
     },
     "execution_count": 67,
     "metadata": {},
     "output_type": "execute_result"
    }
   ],
   "source": [
    "print(df['file_name'][2500])\n",
    "df['transcription'][2500]"
   ]
  },
  {
   "cell_type": "code",
   "execution_count": 68,
   "id": "b5538571-c258-454b-b6ce-6a7ffb407b67",
   "metadata": {},
   "outputs": [
    {
     "name": "stdout",
     "output_type": "stream",
     "text": [
      "./LARGE DATA/larger sample/QH11/GK_swa_u0603_QH11.mp3\n"
     ]
    },
    {
     "data": {
      "text/plain": [
       "'I feel like they are there in the business to reach people and by the end of the day there is a purchase And people that sent the money were customers you had not planned for It has importance after all there are challenges But at the end of the day you will get clients.'"
      ]
     },
     "execution_count": 68,
     "metadata": {},
     "output_type": "execute_result"
    }
   ],
   "source": [
    "print(df['file_name'][801])\n",
    "df['transcription'][801]"
   ]
  },
  {
   "cell_type": "code",
   "execution_count": 69,
   "id": "76b3323e-f52a-4d8f-b898-4669c2f7fe08",
   "metadata": {},
   "outputs": [
    {
     "name": "stdout",
     "output_type": "stream",
     "text": [
      "./Swahili_STT/GK_swa_u0766_QA45.mp3\n"
     ]
    },
    {
     "data": {
      "text/plain": [
       "'My two Safaricom sim cards are well. I use them to call people. I use them like in M-pesa and the Telkom sim card that I have now, I use it for bundles because its bundles Are a little bit cheap and not like Airtel. I bought the Airtel sim card because I have clients that have Airtel So, I bought Airtel. I call Airtel customers with Airtel and Safaricom customers with Safaricom.'"
      ]
     },
     "execution_count": 69,
     "metadata": {},
     "output_type": "execute_result"
    }
   ],
   "source": [
    "print(df['file_name'][1170])\n",
    "df['transcription'][1170]"
   ]
  },
  {
   "cell_type": "code",
   "execution_count": 70,
   "id": "fb73a1ba-1203-4ccd-a6cd-fdd1d6fede28",
   "metadata": {},
   "outputs": [],
   "source": [
    "df = st_pre(df)"
   ]
  },
  {
   "cell_type": "code",
   "execution_count": 71,
   "id": "a383eb95-8b60-41cb-bba1-d40655b28180",
   "metadata": {},
   "outputs": [
    {
     "data": {
      "text/plain": [
       "0"
      ]
     },
     "execution_count": 71,
     "metadata": {},
     "output_type": "execute_result"
    }
   ],
   "source": [
    "j = 0\n",
    "for i in range(len(df)):\n",
    "    if df['transcription'][i] == '':\n",
    "        df.drop(i, inplace = True)\n",
    "        j+=1\n",
    "j"
   ]
  },
  {
   "cell_type": "code",
   "execution_count": 72,
   "id": "d7e49942-3a36-4eed-beb0-fb7458d3c9db",
   "metadata": {},
   "outputs": [],
   "source": [
    "df.reset_index(inplace=True)\n",
    "df.drop(columns = ['index'], inplace = True)"
   ]
  },
  {
   "cell_type": "code",
   "execution_count": 73,
   "id": "7fa5c100-8d95-4269-910e-1e7db5b16865",
   "metadata": {},
   "outputs": [],
   "source": [
    "# df.drop_duplicates(subset=['transcription'], keep='first', inplace = True)"
   ]
  },
  {
   "cell_type": "code",
   "execution_count": 74,
   "id": "ac7fd603-74ac-42c4-ac04-430eec8c9a89",
   "metadata": {},
   "outputs": [
    {
     "data": {
      "text/plain": [
       "Index(['file_name', 'transcription'], dtype='object')"
      ]
     },
     "execution_count": 74,
     "metadata": {},
     "output_type": "execute_result"
    }
   ],
   "source": [
    "df.columns"
   ]
  },
  {
   "cell_type": "code",
   "execution_count": 75,
   "id": "c1ce94d3-157d-4e44-b5ce-e0814f1fe52d",
   "metadata": {},
   "outputs": [
    {
     "data": {
      "text/html": [
       "<div>\n",
       "<style scoped>\n",
       "    .dataframe tbody tr th:only-of-type {\n",
       "        vertical-align: middle;\n",
       "    }\n",
       "\n",
       "    .dataframe tbody tr th {\n",
       "        vertical-align: top;\n",
       "    }\n",
       "\n",
       "    .dataframe thead th {\n",
       "        text-align: right;\n",
       "    }\n",
       "</style>\n",
       "<table border=\"1\" class=\"dataframe\">\n",
       "  <thead>\n",
       "    <tr style=\"text-align: right;\">\n",
       "      <th></th>\n",
       "      <th>file_name</th>\n",
       "      <th>transcription</th>\n",
       "    </tr>\n",
       "  </thead>\n",
       "  <tbody>\n",
       "    <tr>\n",
       "      <th>0</th>\n",
       "      <td>./LARGE DATA/larger sample/QF14/GK_swa_u0120_Q...</td>\n",
       "      <td>I can buy it because I also what phone theft t...</td>\n",
       "    </tr>\n",
       "    <tr>\n",
       "      <th>1</th>\n",
       "      <td>./LARGE DATA/larger sample/QF14/GK_swa_u0123_Q...</td>\n",
       "      <td>I would not tell them to.</td>\n",
       "    </tr>\n",
       "    <tr>\n",
       "      <th>2</th>\n",
       "      <td>./LARGE DATA/larger sample/QF14/GK_swa_u0126_Q...</td>\n",
       "      <td>I would like to buy it because it would help m...</td>\n",
       "    </tr>\n",
       "    <tr>\n",
       "      <th>3</th>\n",
       "      <td>./LARGE DATA/larger sample/QF14/GK_swa_u0134_Q...</td>\n",
       "      <td>It is the responsibility of the internet servi...</td>\n",
       "    </tr>\n",
       "    <tr>\n",
       "      <th>4</th>\n",
       "      <td>./LARGE DATA/larger sample/QF14/GK_swa_u0136_Q...</td>\n",
       "      <td>If it is a tool that can help the I will buy.</td>\n",
       "    </tr>\n",
       "    <tr>\n",
       "      <th>...</th>\n",
       "      <td>...</td>\n",
       "      <td>...</td>\n",
       "    </tr>\n",
       "    <tr>\n",
       "      <th>8147</th>\n",
       "      <td>./Smaller instances/QE90/GK_swa_u0807_QE90.mp3</td>\n",
       "      <td>Once a month, it depends, if its Certificate o...</td>\n",
       "    </tr>\n",
       "    <tr>\n",
       "      <th>8148</th>\n",
       "      <td>./Smaller instances/QE90/GK_swa_u0809_QE90.mp3</td>\n",
       "      <td>I hardly use it, because E C I T I Z E N I reg...</td>\n",
       "    </tr>\n",
       "    <tr>\n",
       "      <th>8149</th>\n",
       "      <td>./Smaller instances/QE93/GK_swa_u0264_QE93.mp3</td>\n",
       "      <td>My doubt is that there are hackers in the worl...</td>\n",
       "    </tr>\n",
       "    <tr>\n",
       "      <th>8150</th>\n",
       "      <td>./Smaller instances/QE93/GK_swa_u0406_QE93.mp3</td>\n",
       "      <td>Information.</td>\n",
       "    </tr>\n",
       "    <tr>\n",
       "      <th>8151</th>\n",
       "      <td>./Smaller instances/QE93/GK_swa_u0501_QE93.mp3</td>\n",
       "      <td>At other times you can apply for any governmen...</td>\n",
       "    </tr>\n",
       "  </tbody>\n",
       "</table>\n",
       "<p>8152 rows × 2 columns</p>\n",
       "</div>"
      ],
      "text/plain": [
       "                                              file_name  \\\n",
       "0     ./LARGE DATA/larger sample/QF14/GK_swa_u0120_Q...   \n",
       "1     ./LARGE DATA/larger sample/QF14/GK_swa_u0123_Q...   \n",
       "2     ./LARGE DATA/larger sample/QF14/GK_swa_u0126_Q...   \n",
       "3     ./LARGE DATA/larger sample/QF14/GK_swa_u0134_Q...   \n",
       "4     ./LARGE DATA/larger sample/QF14/GK_swa_u0136_Q...   \n",
       "...                                                 ...   \n",
       "8147     ./Smaller instances/QE90/GK_swa_u0807_QE90.mp3   \n",
       "8148     ./Smaller instances/QE90/GK_swa_u0809_QE90.mp3   \n",
       "8149     ./Smaller instances/QE93/GK_swa_u0264_QE93.mp3   \n",
       "8150     ./Smaller instances/QE93/GK_swa_u0406_QE93.mp3   \n",
       "8151     ./Smaller instances/QE93/GK_swa_u0501_QE93.mp3   \n",
       "\n",
       "                                          transcription  \n",
       "0     I can buy it because I also what phone theft t...  \n",
       "1                             I would not tell them to.  \n",
       "2     I would like to buy it because it would help m...  \n",
       "3     It is the responsibility of the internet servi...  \n",
       "4         If it is a tool that can help the I will buy.  \n",
       "...                                                 ...  \n",
       "8147  Once a month, it depends, if its Certificate o...  \n",
       "8148  I hardly use it, because E C I T I Z E N I reg...  \n",
       "8149  My doubt is that there are hackers in the worl...  \n",
       "8150                                       Information.  \n",
       "8151  At other times you can apply for any governmen...  \n",
       "\n",
       "[8152 rows x 2 columns]"
      ]
     },
     "execution_count": 75,
     "metadata": {},
     "output_type": "execute_result"
    }
   ],
   "source": [
    "df"
   ]
  },
  {
   "cell_type": "code",
   "execution_count": 76,
   "id": "ef028db8-fbc2-4fbc-9796-bbff24b8a968",
   "metadata": {},
   "outputs": [],
   "source": [
    "df.reset_index(inplace=True)\n",
    "df.drop(columns = ['index'], inplace = True)"
   ]
  },
  {
   "cell_type": "code",
   "execution_count": 77,
   "id": "b6c6d6b5-72b6-4dca-b5a7-6afbe46832be",
   "metadata": {},
   "outputs": [
    {
     "data": {
      "text/plain": [
       "0"
      ]
     },
     "execution_count": 77,
     "metadata": {},
     "output_type": "execute_result"
    }
   ],
   "source": [
    "j = 0\n",
    "for i in range(len(df)):\n",
    "    if df['transcription'][i] == \"\":\n",
    "        df.drop(i, inplace = True)\n",
    "        j+=1\n",
    "j"
   ]
  },
  {
   "cell_type": "code",
   "execution_count": 78,
   "id": "d82fdd20-2c9d-407c-96d0-003fee0c11ef",
   "metadata": {},
   "outputs": [
    {
     "data": {
      "text/plain": [
       "(array([], dtype=int64), array([], dtype=int64))"
      ]
     },
     "execution_count": 78,
     "metadata": {},
     "output_type": "execute_result"
    }
   ],
   "source": [
    "np.where(pd.isnull(df))"
   ]
  },
  {
   "cell_type": "code",
   "execution_count": 79,
   "id": "8953f38e-110e-4fb0-a0da-fe6bd28f968f",
   "metadata": {},
   "outputs": [
    {
     "data": {
      "text/html": [
       "<div>\n",
       "<style scoped>\n",
       "    .dataframe tbody tr th:only-of-type {\n",
       "        vertical-align: middle;\n",
       "    }\n",
       "\n",
       "    .dataframe tbody tr th {\n",
       "        vertical-align: top;\n",
       "    }\n",
       "\n",
       "    .dataframe thead th {\n",
       "        text-align: right;\n",
       "    }\n",
       "</style>\n",
       "<table border=\"1\" class=\"dataframe\">\n",
       "  <thead>\n",
       "    <tr style=\"text-align: right;\">\n",
       "      <th></th>\n",
       "      <th>file_name</th>\n",
       "      <th>transcription</th>\n",
       "    </tr>\n",
       "  </thead>\n",
       "  <tbody>\n",
       "    <tr>\n",
       "      <th>0</th>\n",
       "      <td>./LARGE DATA/larger sample/QF14/GK_swa_u0120_Q...</td>\n",
       "      <td>I can buy it because I also what phone theft t...</td>\n",
       "    </tr>\n",
       "    <tr>\n",
       "      <th>1</th>\n",
       "      <td>./LARGE DATA/larger sample/QF14/GK_swa_u0123_Q...</td>\n",
       "      <td>I would not tell them to.</td>\n",
       "    </tr>\n",
       "    <tr>\n",
       "      <th>2</th>\n",
       "      <td>./LARGE DATA/larger sample/QF14/GK_swa_u0126_Q...</td>\n",
       "      <td>I would like to buy it because it would help m...</td>\n",
       "    </tr>\n",
       "    <tr>\n",
       "      <th>3</th>\n",
       "      <td>./LARGE DATA/larger sample/QF14/GK_swa_u0134_Q...</td>\n",
       "      <td>It is the responsibility of the internet servi...</td>\n",
       "    </tr>\n",
       "    <tr>\n",
       "      <th>4</th>\n",
       "      <td>./LARGE DATA/larger sample/QF14/GK_swa_u0136_Q...</td>\n",
       "      <td>If it is a tool that can help the I will buy.</td>\n",
       "    </tr>\n",
       "    <tr>\n",
       "      <th>...</th>\n",
       "      <td>...</td>\n",
       "      <td>...</td>\n",
       "    </tr>\n",
       "    <tr>\n",
       "      <th>8147</th>\n",
       "      <td>./Smaller instances/QE90/GK_swa_u0807_QE90.mp3</td>\n",
       "      <td>Once a month, it depends, if its Certificate o...</td>\n",
       "    </tr>\n",
       "    <tr>\n",
       "      <th>8148</th>\n",
       "      <td>./Smaller instances/QE90/GK_swa_u0809_QE90.mp3</td>\n",
       "      <td>I hardly use it, because E C I T I Z E N I reg...</td>\n",
       "    </tr>\n",
       "    <tr>\n",
       "      <th>8149</th>\n",
       "      <td>./Smaller instances/QE93/GK_swa_u0264_QE93.mp3</td>\n",
       "      <td>My doubt is that there are hackers in the worl...</td>\n",
       "    </tr>\n",
       "    <tr>\n",
       "      <th>8150</th>\n",
       "      <td>./Smaller instances/QE93/GK_swa_u0406_QE93.mp3</td>\n",
       "      <td>Information.</td>\n",
       "    </tr>\n",
       "    <tr>\n",
       "      <th>8151</th>\n",
       "      <td>./Smaller instances/QE93/GK_swa_u0501_QE93.mp3</td>\n",
       "      <td>At other times you can apply for any governmen...</td>\n",
       "    </tr>\n",
       "  </tbody>\n",
       "</table>\n",
       "<p>8152 rows × 2 columns</p>\n",
       "</div>"
      ],
      "text/plain": [
       "                                              file_name  \\\n",
       "0     ./LARGE DATA/larger sample/QF14/GK_swa_u0120_Q...   \n",
       "1     ./LARGE DATA/larger sample/QF14/GK_swa_u0123_Q...   \n",
       "2     ./LARGE DATA/larger sample/QF14/GK_swa_u0126_Q...   \n",
       "3     ./LARGE DATA/larger sample/QF14/GK_swa_u0134_Q...   \n",
       "4     ./LARGE DATA/larger sample/QF14/GK_swa_u0136_Q...   \n",
       "...                                                 ...   \n",
       "8147     ./Smaller instances/QE90/GK_swa_u0807_QE90.mp3   \n",
       "8148     ./Smaller instances/QE90/GK_swa_u0809_QE90.mp3   \n",
       "8149     ./Smaller instances/QE93/GK_swa_u0264_QE93.mp3   \n",
       "8150     ./Smaller instances/QE93/GK_swa_u0406_QE93.mp3   \n",
       "8151     ./Smaller instances/QE93/GK_swa_u0501_QE93.mp3   \n",
       "\n",
       "                                          transcription  \n",
       "0     I can buy it because I also what phone theft t...  \n",
       "1                             I would not tell them to.  \n",
       "2     I would like to buy it because it would help m...  \n",
       "3     It is the responsibility of the internet servi...  \n",
       "4         If it is a tool that can help the I will buy.  \n",
       "...                                                 ...  \n",
       "8147  Once a month, it depends, if its Certificate o...  \n",
       "8148  I hardly use it, because E C I T I Z E N I reg...  \n",
       "8149  My doubt is that there are hackers in the worl...  \n",
       "8150                                       Information.  \n",
       "8151  At other times you can apply for any governmen...  \n",
       "\n",
       "[8152 rows x 2 columns]"
      ]
     },
     "execution_count": 79,
     "metadata": {},
     "output_type": "execute_result"
    }
   ],
   "source": [
    "df"
   ]
  },
  {
   "cell_type": "code",
   "execution_count": 80,
   "id": "277a8ca3-ef78-46ea-8091-2cbe946728a4",
   "metadata": {},
   "outputs": [
    {
     "name": "stdout",
     "output_type": "stream",
     "text": [
      "something\n",
      "something\n"
     ]
    }
   ],
   "source": [
    "for i in range(len(df)): \n",
    "    # print(i)\n",
    "    if df['transcription'][i] == '. . . . . . . . . . . . . . . . . . . . . . . . . . . . . . . . . . . . . . . . . .':\n",
    "        print(i)\n",
    "    elif df['transcription'][i] == '.':\n",
    "        print(\"something\")\n"
   ]
  },
  {
   "cell_type": "code",
   "execution_count": 81,
   "id": "676e886e-55a3-45ce-a439-830fcc74f5ff",
   "metadata": {},
   "outputs": [],
   "source": [
    "df.to_excel(\"Send_deco.xlsx\")"
   ]
  },
  {
   "cell_type": "code",
   "execution_count": 82,
   "id": "f1e66bb0-2525-4c40-99b5-592021e23f04",
   "metadata": {},
   "outputs": [
    {
     "data": {
      "text/plain": [
       "'. . . .'"
      ]
     },
     "execution_count": 82,
     "metadata": {},
     "output_type": "execute_result"
    }
   ],
   "source": [
    "df['transcription'][7989]"
   ]
  },
  {
   "cell_type": "code",
   "execution_count": 83,
   "id": "90c4c026-83e2-48ab-9d35-f15866ae23aa",
   "metadata": {},
   "outputs": [],
   "source": [
    "df.drop([7989], inplace = True)"
   ]
  },
  {
   "cell_type": "code",
   "execution_count": 84,
   "id": "786f9f9e-bc93-4141-9641-397995f79d4d",
   "metadata": {},
   "outputs": [
    {
     "data": {
      "text/html": [
       "<div>\n",
       "<style scoped>\n",
       "    .dataframe tbody tr th:only-of-type {\n",
       "        vertical-align: middle;\n",
       "    }\n",
       "\n",
       "    .dataframe tbody tr th {\n",
       "        vertical-align: top;\n",
       "    }\n",
       "\n",
       "    .dataframe thead th {\n",
       "        text-align: right;\n",
       "    }\n",
       "</style>\n",
       "<table border=\"1\" class=\"dataframe\">\n",
       "  <thead>\n",
       "    <tr style=\"text-align: right;\">\n",
       "      <th></th>\n",
       "      <th>file_name</th>\n",
       "      <th>transcription</th>\n",
       "    </tr>\n",
       "  </thead>\n",
       "  <tbody>\n",
       "    <tr>\n",
       "      <th>0</th>\n",
       "      <td>./LARGE DATA/larger sample/QF14/GK_swa_u0120_Q...</td>\n",
       "      <td>I can buy it because I also what phone theft t...</td>\n",
       "    </tr>\n",
       "    <tr>\n",
       "      <th>1</th>\n",
       "      <td>./LARGE DATA/larger sample/QF14/GK_swa_u0123_Q...</td>\n",
       "      <td>I would not tell them to.</td>\n",
       "    </tr>\n",
       "    <tr>\n",
       "      <th>2</th>\n",
       "      <td>./LARGE DATA/larger sample/QF14/GK_swa_u0126_Q...</td>\n",
       "      <td>I would like to buy it because it would help m...</td>\n",
       "    </tr>\n",
       "    <tr>\n",
       "      <th>3</th>\n",
       "      <td>./LARGE DATA/larger sample/QF14/GK_swa_u0134_Q...</td>\n",
       "      <td>It is the responsibility of the internet servi...</td>\n",
       "    </tr>\n",
       "    <tr>\n",
       "      <th>4</th>\n",
       "      <td>./LARGE DATA/larger sample/QF14/GK_swa_u0136_Q...</td>\n",
       "      <td>If it is a tool that can help the I will buy.</td>\n",
       "    </tr>\n",
       "    <tr>\n",
       "      <th>...</th>\n",
       "      <td>...</td>\n",
       "      <td>...</td>\n",
       "    </tr>\n",
       "    <tr>\n",
       "      <th>8146</th>\n",
       "      <td>./Smaller instances/QE90/GK_swa_u0807_QE90.mp3</td>\n",
       "      <td>Once a month, it depends, if its Certificate o...</td>\n",
       "    </tr>\n",
       "    <tr>\n",
       "      <th>8147</th>\n",
       "      <td>./Smaller instances/QE90/GK_swa_u0809_QE90.mp3</td>\n",
       "      <td>I hardly use it, because E C I T I Z E N I reg...</td>\n",
       "    </tr>\n",
       "    <tr>\n",
       "      <th>8148</th>\n",
       "      <td>./Smaller instances/QE93/GK_swa_u0264_QE93.mp3</td>\n",
       "      <td>My doubt is that there are hackers in the worl...</td>\n",
       "    </tr>\n",
       "    <tr>\n",
       "      <th>8149</th>\n",
       "      <td>./Smaller instances/QE93/GK_swa_u0406_QE93.mp3</td>\n",
       "      <td>Information.</td>\n",
       "    </tr>\n",
       "    <tr>\n",
       "      <th>8150</th>\n",
       "      <td>./Smaller instances/QE93/GK_swa_u0501_QE93.mp3</td>\n",
       "      <td>At other times you can apply for any governmen...</td>\n",
       "    </tr>\n",
       "  </tbody>\n",
       "</table>\n",
       "<p>8151 rows × 2 columns</p>\n",
       "</div>"
      ],
      "text/plain": [
       "                                              file_name  \\\n",
       "0     ./LARGE DATA/larger sample/QF14/GK_swa_u0120_Q...   \n",
       "1     ./LARGE DATA/larger sample/QF14/GK_swa_u0123_Q...   \n",
       "2     ./LARGE DATA/larger sample/QF14/GK_swa_u0126_Q...   \n",
       "3     ./LARGE DATA/larger sample/QF14/GK_swa_u0134_Q...   \n",
       "4     ./LARGE DATA/larger sample/QF14/GK_swa_u0136_Q...   \n",
       "...                                                 ...   \n",
       "8146     ./Smaller instances/QE90/GK_swa_u0807_QE90.mp3   \n",
       "8147     ./Smaller instances/QE90/GK_swa_u0809_QE90.mp3   \n",
       "8148     ./Smaller instances/QE93/GK_swa_u0264_QE93.mp3   \n",
       "8149     ./Smaller instances/QE93/GK_swa_u0406_QE93.mp3   \n",
       "8150     ./Smaller instances/QE93/GK_swa_u0501_QE93.mp3   \n",
       "\n",
       "                                          transcription  \n",
       "0     I can buy it because I also what phone theft t...  \n",
       "1                             I would not tell them to.  \n",
       "2     I would like to buy it because it would help m...  \n",
       "3     It is the responsibility of the internet servi...  \n",
       "4         If it is a tool that can help the I will buy.  \n",
       "...                                                 ...  \n",
       "8146  Once a month, it depends, if its Certificate o...  \n",
       "8147  I hardly use it, because E C I T I Z E N I reg...  \n",
       "8148  My doubt is that there are hackers in the worl...  \n",
       "8149                                       Information.  \n",
       "8150  At other times you can apply for any governmen...  \n",
       "\n",
       "[8151 rows x 2 columns]"
      ]
     },
     "execution_count": 84,
     "metadata": {},
     "output_type": "execute_result"
    }
   ],
   "source": [
    "df.reset_index(inplace=True)\n",
    "df.drop(columns = ['index'], inplace = True)\n",
    "df"
   ]
  },
  {
   "cell_type": "code",
   "execution_count": 85,
   "id": "6fc24906-f358-484f-89d3-a94d3e7baaa7",
   "metadata": {},
   "outputs": [],
   "source": [
    "from sklearn.model_selection import train_test_split\n",
    "\n",
    "train, test = train_test_split(df, test_size=0.15, shuffle = True)"
   ]
  },
  {
   "cell_type": "code",
   "execution_count": 86,
   "id": "fb766a4a-71e2-4c97-adc6-0cc489e3c363",
   "metadata": {},
   "outputs": [
    {
     "data": {
      "text/html": [
       "<div>\n",
       "<style scoped>\n",
       "    .dataframe tbody tr th:only-of-type {\n",
       "        vertical-align: middle;\n",
       "    }\n",
       "\n",
       "    .dataframe tbody tr th {\n",
       "        vertical-align: top;\n",
       "    }\n",
       "\n",
       "    .dataframe thead th {\n",
       "        text-align: right;\n",
       "    }\n",
       "</style>\n",
       "<table border=\"1\" class=\"dataframe\">\n",
       "  <thead>\n",
       "    <tr style=\"text-align: right;\">\n",
       "      <th></th>\n",
       "      <th>file_name</th>\n",
       "      <th>transcription</th>\n",
       "    </tr>\n",
       "  </thead>\n",
       "  <tbody>\n",
       "    <tr>\n",
       "      <th>6576</th>\n",
       "      <td>./Smaller instances/QD38/GK_swa_u0604_QD38.mp3</td>\n",
       "      <td>It's not a worry, but maybe it's just the cert...</td>\n",
       "    </tr>\n",
       "    <tr>\n",
       "      <th>483</th>\n",
       "      <td>./LARGE DATA/larger sample/QG17/GK_swa_u0207_Q...</td>\n",
       "      <td>She was afraid to receive money on phone becau...</td>\n",
       "    </tr>\n",
       "    <tr>\n",
       "      <th>7605</th>\n",
       "      <td>./Smaller instances/QE46/GK_swa_u0312_QE46.mp3</td>\n",
       "      <td>A few times in a week.</td>\n",
       "    </tr>\n",
       "    <tr>\n",
       "      <th>3936</th>\n",
       "      <td>./Smaller instances/QA49/GK_swa_u0486_QA49.mp3</td>\n",
       "      <td>There is none.</td>\n",
       "    </tr>\n",
       "    <tr>\n",
       "      <th>7070</th>\n",
       "      <td>./Smaller instances/QD82/GK_swa_u0303_QD82.mp3</td>\n",
       "      <td>The bad habit of people withdrawing money with...</td>\n",
       "    </tr>\n",
       "    <tr>\n",
       "      <th>...</th>\n",
       "      <td>...</td>\n",
       "      <td>...</td>\n",
       "    </tr>\n",
       "    <tr>\n",
       "      <th>247</th>\n",
       "      <td>./LARGE DATA/larger sample/QF18/GK_swa_u0177_Q...</td>\n",
       "      <td>I wouldn't say it is good but you get loan age...</td>\n",
       "    </tr>\n",
       "    <tr>\n",
       "      <th>5108</th>\n",
       "      <td>./Smaller instances/QC32/GK_swa_u0484_QC32.mp3</td>\n",
       "      <td>They are very annoying.</td>\n",
       "    </tr>\n",
       "    <tr>\n",
       "      <th>6142</th>\n",
       "      <td>./Smaller instances/QD11/GK_swa_u0284_QD11.mp3</td>\n",
       "      <td>Once a month.</td>\n",
       "    </tr>\n",
       "    <tr>\n",
       "      <th>865</th>\n",
       "      <td>./LARGE DATA/larger sample/QH11/GK_swa_u0728_Q...</td>\n",
       "      <td>If you look at this life we are living in noth...</td>\n",
       "    </tr>\n",
       "    <tr>\n",
       "      <th>761</th>\n",
       "      <td>./LARGE DATA/larger sample/QH11/GK_swa_u0482_Q...</td>\n",
       "      <td>the thin is because he goes through problems O...</td>\n",
       "    </tr>\n",
       "  </tbody>\n",
       "</table>\n",
       "<p>1223 rows × 2 columns</p>\n",
       "</div>"
      ],
      "text/plain": [
       "                                              file_name  \\\n",
       "6576     ./Smaller instances/QD38/GK_swa_u0604_QD38.mp3   \n",
       "483   ./LARGE DATA/larger sample/QG17/GK_swa_u0207_Q...   \n",
       "7605     ./Smaller instances/QE46/GK_swa_u0312_QE46.mp3   \n",
       "3936     ./Smaller instances/QA49/GK_swa_u0486_QA49.mp3   \n",
       "7070     ./Smaller instances/QD82/GK_swa_u0303_QD82.mp3   \n",
       "...                                                 ...   \n",
       "247   ./LARGE DATA/larger sample/QF18/GK_swa_u0177_Q...   \n",
       "5108     ./Smaller instances/QC32/GK_swa_u0484_QC32.mp3   \n",
       "6142     ./Smaller instances/QD11/GK_swa_u0284_QD11.mp3   \n",
       "865   ./LARGE DATA/larger sample/QH11/GK_swa_u0728_Q...   \n",
       "761   ./LARGE DATA/larger sample/QH11/GK_swa_u0482_Q...   \n",
       "\n",
       "                                          transcription  \n",
       "6576  It's not a worry, but maybe it's just the cert...  \n",
       "483   She was afraid to receive money on phone becau...  \n",
       "7605                             A few times in a week.  \n",
       "3936                                     There is none.  \n",
       "7070  The bad habit of people withdrawing money with...  \n",
       "...                                                 ...  \n",
       "247   I wouldn't say it is good but you get loan age...  \n",
       "5108                            They are very annoying.  \n",
       "6142                                      Once a month.  \n",
       "865   If you look at this life we are living in noth...  \n",
       "761   the thin is because he goes through problems O...  \n",
       "\n",
       "[1223 rows x 2 columns]"
      ]
     },
     "execution_count": 86,
     "metadata": {},
     "output_type": "execute_result"
    }
   ],
   "source": [
    "test"
   ]
  },
  {
   "cell_type": "code",
   "execution_count": 87,
   "id": "62ecc078-3ac1-4f7a-9161-20a3f1f172e5",
   "metadata": {},
   "outputs": [
    {
     "data": {
      "text/plain": [
       "1223"
      ]
     },
     "execution_count": 87,
     "metadata": {},
     "output_type": "execute_result"
    }
   ],
   "source": [
    "len(test)"
   ]
  },
  {
   "cell_type": "code",
   "execution_count": 88,
   "id": "561d5c34-75f6-4797-b3bd-0cbb117a206f",
   "metadata": {},
   "outputs": [],
   "source": [
    "test = test.drop_duplicates(subset=['transcription'], keep='first',)"
   ]
  },
  {
   "cell_type": "code",
   "execution_count": 89,
   "id": "f0c4ecc8-5315-444a-bbe8-2957e22e5b46",
   "metadata": {},
   "outputs": [
    {
     "data": {
      "text/plain": [
       "Index(['file_name', 'transcription'], dtype='object')"
      ]
     },
     "execution_count": 89,
     "metadata": {},
     "output_type": "execute_result"
    }
   ],
   "source": [
    "test.columns"
   ]
  },
  {
   "cell_type": "code",
   "execution_count": 90,
   "id": "2aadb5b3-6020-41d6-af22-d4791a68dccd",
   "metadata": {},
   "outputs": [],
   "source": [
    "# test.reset_index(inplace = True)\n",
    "# test.drop(columns = [\"index\"], inplace = True)"
   ]
  },
  {
   "cell_type": "code",
   "execution_count": 91,
   "id": "37636658-3c61-4510-9707-8b01c209ae0d",
   "metadata": {},
   "outputs": [
    {
     "data": {
      "text/plain": [
       "872"
      ]
     },
     "execution_count": 91,
     "metadata": {},
     "output_type": "execute_result"
    }
   ],
   "source": [
    "len(test)"
   ]
  },
  {
   "cell_type": "code",
   "execution_count": 92,
   "id": "b3cd7818-a0aa-43b5-be34-1c910b59c23d",
   "metadata": {},
   "outputs": [
    {
     "data": {
      "text/plain": [
       "872"
      ]
     },
     "execution_count": 92,
     "metadata": {},
     "output_type": "execute_result"
    }
   ],
   "source": [
    "len(test)"
   ]
  },
  {
   "cell_type": "markdown",
   "id": "d745a7b9",
   "metadata": {},
   "source": [
    "Custom Dataset using xlsx file"
   ]
  },
  {
   "cell_type": "code",
   "execution_count": 93,
   "id": "70468de2",
   "metadata": {},
   "outputs": [],
   "source": [
    "# os.environ['HF_DATASETS_CACHE'] = os.path.join(base_dir, 'data_rash')\n",
    "# os.environ['HF_DATASETS_OFFLINE'] = '0'\n",
    "\n",
    "\n",
    "# features = Features(\n",
    "#     {   \n",
    "#         # \"file_name\": Value('string'),\n",
    "#         \"file_name\": Audio(sampling_rate=16000),\n",
    "#         \"transcription\": Value(\"string\")\n",
    "#     }\n",
    "# )\n",
    "\n",
    "# swahili = Dataset.from_pandas(df, features = features, split = ['train', 'test'], \n",
    "# )\n",
    "# swahili"
   ]
  },
  {
   "cell_type": "code",
   "execution_count": 92,
   "id": "2d06cccf",
   "metadata": {},
   "outputs": [],
   "source": [
    "# swahili[49][\"transcription\"]"
   ]
  },
  {
   "cell_type": "code",
   "execution_count": 93,
   "id": "97a36b94",
   "metadata": {},
   "outputs": [],
   "source": [
    "# swahili[49][\"file_name\"]"
   ]
  },
  {
   "cell_type": "code",
   "execution_count": 94,
   "id": "8b29f8f6",
   "metadata": {},
   "outputs": [],
   "source": [
    "# print(\"Path: \", swahili[49][\"file_name\"]['path'])\n",
    "# print(\"Sampling rate: \", swahili[49][\"file_name\"]['sampling_rate'])"
   ]
  },
  {
   "cell_type": "markdown",
   "id": "af756b85",
   "metadata": {},
   "source": [
    "Dataset Understanding"
   ]
  },
  {
   "cell_type": "code",
   "execution_count": 95,
   "id": "b4dbda9a",
   "metadata": {},
   "outputs": [
    {
     "ename": "NameError",
     "evalue": "name 'swahili' is not defined",
     "output_type": "error",
     "traceback": [
      "\u001b[1;31m---------------------------------------------------------------------------\u001b[0m",
      "\u001b[1;31mNameError\u001b[0m                                 Traceback (most recent call last)",
      "Cell \u001b[1;32mIn[95], line 27\u001b[0m\n\u001b[0;32m     24\u001b[0m     \u001b[38;5;28mprint\u001b[39m(\u001b[38;5;124m\"\u001b[39m\u001b[38;5;124mMin size of string: \u001b[39m\u001b[38;5;124m\"\u001b[39m, \u001b[38;5;28mmin\u001b[39m(text_1))\n\u001b[0;32m     25\u001b[0m \u001b[38;5;66;03m#     print(\"Unique characters: \", )\u001b[39;00m\n\u001b[1;32m---> 27\u001b[0m duration_infor(\u001b[43mswahili\u001b[49m)\n",
      "\u001b[1;31mNameError\u001b[0m: name 'swahili' is not defined"
     ]
    }
   ],
   "source": [
    "def getWavDuration(fname):\n",
    "    audio = MP3(fname)\n",
    "    duration =  audio.info.length\n",
    "\n",
    "    return duration\n",
    "\n",
    "def duration_infor(dataset):\n",
    "    list_1 = []\n",
    "    list_2 = []\n",
    "    text_1 = []\n",
    "    for i in range(dataset.num_rows):\n",
    "        duration = getWavDuration(dataset[i]['file_name']['path'])\n",
    "        list_1.append(duration)\n",
    "        text_1.append(len(dataset[i]['transcription']))\n",
    "        if duration > 30:\n",
    "            list_2.append(duration)\n",
    "    print(\"Total Files: \", len(list_1))\n",
    "    print(\"Minimum length of audio in dataset: \", min(list_1))\n",
    "    print(\"Total audio time: \",  sum(list_1))\n",
    "    print(\"Average length of audio in dataset: \", sum(list_1)/len(list_1))\n",
    "    print(\"Maximum lenth of audio in dataset: \", max(list_1))\n",
    "    print(\"Audio files with more than 30 sec: \", len(list_2))\n",
    "    print(\"Max size of string: \", max(text_1))\n",
    "    print(\"Min size of string: \", min(text_1))\n",
    "#     print(\"Unique characters: \", )\n",
    "        \n",
    "duration_infor(swahili)"
   ]
  },
  {
   "cell_type": "code",
   "execution_count": 93,
   "id": "96c01ab3",
   "metadata": {},
   "outputs": [],
   "source": [
    "import IPython.display as ipd\n",
    "%matplotlib inline\n",
    "import matplotlib.pyplot as plt\n",
    "import librosa.display"
   ]
  },
  {
   "cell_type": "code",
   "execution_count": null,
   "id": "2c734efd",
   "metadata": {},
   "outputs": [],
   "source": [
    "which_file = 29\n",
    "filename = swahili[which_file][\"file_name\"]['path']\n",
    "y, sr = librosa.load(filename, sr = 16000)\n",
    "print(y)\n",
    "print(sr)\n",
    "tempo, beat_frames = librosa.beat.beat_track(y=y, sr=sr)\n",
    "print('Estimated tempo: {:.2f} beats per minute'.format(tempo))\n",
    "beat_times = librosa.frames_to_time(beat_frames, sr=sr)\n",
    "print(beat_times)"
   ]
  },
  {
   "cell_type": "code",
   "execution_count": null,
   "id": "724827ca",
   "metadata": {},
   "outputs": [],
   "source": [
    "ipd.Audio(y, rate=sr)"
   ]
  },
  {
   "cell_type": "code",
   "execution_count": null,
   "id": "01dc3623",
   "metadata": {},
   "outputs": [],
   "source": [
    "plt.figure(figsize=(15, 4), facecolor=(.9, .9, .9))\n",
    "librosa.display.waveshow(y, sr=sr, color='pink')"
   ]
  },
  {
   "cell_type": "markdown",
   "id": "28e844c2",
   "metadata": {},
   "source": [
    "Spectral Centroid"
   ]
  },
  {
   "cell_type": "code",
   "execution_count": null,
   "id": "67ee3bae",
   "metadata": {},
   "outputs": [],
   "source": [
    "# all_centroids = librosa.feature.spectral_centroid(y=y, sr=sr)\n",
    "# spectral_centroids = librosa.feature.spectral_centroid(y=y, sr=sr)[0]\n",
    "# spectral_centroids.shape\n",
    "# frames = range(len(spectral_centroids))\n",
    "# t = librosa.frames_to_time(frames)\n",
    "# def normalize(x, axis=0):\n",
    "#     return minmax_scale(x, axis=axis)\n",
    "# #Plotting the Spectral Centroid along the waveform\n",
    "# librosa.display.waveshow(y, sr=sr, alpha=0.4)\n",
    "# plt.plot(t, normalize(spectral_centroids), color='r')\n",
    "# #Plotting the Spectral Centroid along the waveform"
   ]
  },
  {
   "cell_type": "markdown",
   "id": "2fe47481",
   "metadata": {},
   "source": [
    "RMS ENERGY and LOG POWER SPECTOGRAM"
   ]
  },
  {
   "cell_type": "code",
   "execution_count": 92,
   "id": "bce8f172",
   "metadata": {},
   "outputs": [
    {
     "ename": "NameError",
     "evalue": "name 'y' is not defined",
     "output_type": "error",
     "traceback": [
      "\u001b[1;31m---------------------------------------------------------------------------\u001b[0m",
      "\u001b[1;31mNameError\u001b[0m                                 Traceback (most recent call last)",
      "Cell \u001b[1;32mIn[92], line 1\u001b[0m\n\u001b[1;32m----> 1\u001b[0m S, phase \u001b[38;5;241m=\u001b[39m librosa\u001b[38;5;241m.\u001b[39mmagphase(librosa\u001b[38;5;241m.\u001b[39mstft(\u001b[43my\u001b[49m))\n\u001b[0;32m      2\u001b[0m rms \u001b[38;5;241m=\u001b[39m librosa\u001b[38;5;241m.\u001b[39mfeature\u001b[38;5;241m.\u001b[39mrms(S\u001b[38;5;241m=\u001b[39mS)\n\u001b[0;32m      3\u001b[0m \u001b[38;5;28;01mimport\u001b[39;00m \u001b[38;5;21;01mmatplotlib\u001b[39;00m\u001b[38;5;21;01m.\u001b[39;00m\u001b[38;5;21;01mpyplot\u001b[39;00m \u001b[38;5;28;01mas\u001b[39;00m \u001b[38;5;21;01mplt\u001b[39;00m\n",
      "\u001b[1;31mNameError\u001b[0m: name 'y' is not defined"
     ]
    }
   ],
   "source": [
    "S, phase = librosa.magphase(librosa.stft(y))\n",
    "rms = librosa.feature.rms(S=S)\n",
    "import matplotlib.pyplot as plt\n",
    "fig, ax = plt.subplots(nrows=2, figsize=(20, 10), sharex=True)\n",
    "times = librosa.times_like(rms)\n",
    "ax[0].semilogy(times, rms[0], label='RMS Energy')\n",
    "ax[0].set(xticks=[])\n",
    "ax[0].legend()\n",
    "ax[0].label_outer()\n",
    "librosa.display.specshow(librosa.amplitude_to_db(S, ref=np.max), y_axis='log', x_axis='time', ax=ax[1])\n",
    "ax[1].set(title='log Power spectrogram')"
   ]
  },
  {
   "cell_type": "code",
   "execution_count": 93,
   "id": "3266ac24",
   "metadata": {},
   "outputs": [],
   "source": [
    "import re\n",
    "def remove_accented_chars(text):\n",
    "#     ```\n",
    "#     (NFKD) will apply the compatibility decomposition, i.e. \n",
    "#     replace all compatibility characters with their equivalents. \n",
    "#     ```\n",
    "    text = unicodedata.normalize('NFKD', text).encode('ascii', 'ignore').decode('utf-8', 'ignore')\n",
    "    return text"
   ]
  },
  {
   "cell_type": "code",
   "execution_count": 94,
   "id": "c6256e37",
   "metadata": {},
   "outputs": [],
   "source": [
    "# Regex for matching zero witdh joiner variations.\n",
    "STANDARDIZE_ZW = re.compile(r'(?<=\\u09b0)[\\u200c\\u200d]+(?=\\u09cd\\u09af)')\n",
    "\n",
    "# Regex for removing standardized zero width joiner, except in edge cases.\n",
    "DELETE_ZW = re.compile(r'(?<!\\u09b0)[\\u200c\\u200d](?!\\u09cd\\u09af)')\n",
    "\n",
    "## Regex matching punctuations to remove.\n",
    "# PUNC = re.compile(r'([\\?\\.।;:,!\"\\'])')\n",
    "## Keeps fullstop(.), dari(|), comma(,), exclamaition(!) and question mark(?) and removes all other punctuations (semicolon (;), colon (:), double quote (\") and single quote (')).\n",
    "PUNC = re.compile(r'([;:\"\\'])')\n",
    "\n",
    "def removeOptionalZW(text):\n",
    "    \"\"\"\n",
    "    Removes all optional occurrences of ZWNJ or ZWJ from Bangla text.\n",
    "    \"\"\"\n",
    "    text = STANDARDIZE_ZW.sub('\\u200D', text)\n",
    "    text = DELETE_ZW.sub('', text)\n",
    "    return text\n",
    "\n",
    "def removePunc(text):\n",
    "    \"\"\"\n",
    "    Remove for punctuations from text.\n",
    "    \"\"\"\n",
    "    text = PUNC.sub(r\"\", text)\n",
    "    return text"
   ]
  },
  {
   "cell_type": "markdown",
   "id": "031d5e41",
   "metadata": {},
   "source": [
    "Dataset Split"
   ]
  },
  {
   "cell_type": "code",
   "execution_count": 94,
   "id": "dd8bd376-2105-4c83-b52d-c86712f011c3",
   "metadata": {},
   "outputs": [],
   "source": [
    "# swahili = swahili.shuffle(seed = 420)"
   ]
  },
  {
   "cell_type": "code",
   "execution_count": 95,
   "id": "f2f0c79e",
   "metadata": {},
   "outputs": [],
   "source": [
    "# swahili_split = swahili.train_test_split(test_size=0.15)\n",
    "# swahili_split"
   ]
  },
  {
   "cell_type": "code",
   "execution_count": 95,
   "id": "22c1a590-0cd1-4472-ab3c-e5027a6c4280",
   "metadata": {},
   "outputs": [],
   "source": [
    "features = Features(\n",
    "    {   \n",
    "        # \"file_name\": Value('string'),\n",
    "        \"file_name\": Audio(sampling_rate=16000),\n",
    "        \"transcription\": Value(\"string\")\n",
    "    }\n",
    ")"
   ]
  },
  {
   "cell_type": "code",
   "execution_count": 96,
   "id": "707a4325-e8c6-472d-842d-f60029d6228c",
   "metadata": {},
   "outputs": [],
   "source": [
    "ds_dict = {'train' : Dataset.from_pandas(train, features = features, preserve_index = False),\n",
    "           'test' : Dataset.from_pandas(test, features = features, preserve_index = False)}"
   ]
  },
  {
   "cell_type": "code",
   "execution_count": 97,
   "id": "9712db24-5b1d-40a6-abd0-2496a1bed9f9",
   "metadata": {},
   "outputs": [],
   "source": [
    "from datasets import Dataset, DatasetDict\n",
    "\n",
    "swahili_split = DatasetDict(ds_dict)"
   ]
  },
  {
   "cell_type": "code",
   "execution_count": 98,
   "id": "fd127da8-3d3f-4afd-9b51-0fcfac2d4978",
   "metadata": {},
   "outputs": [
    {
     "data": {
      "text/plain": [
       "DatasetDict({\n",
       "    train: Dataset({\n",
       "        features: ['file_name', 'transcription'],\n",
       "        num_rows: 6928\n",
       "    })\n",
       "    test: Dataset({\n",
       "        features: ['file_name', 'transcription'],\n",
       "        num_rows: 872\n",
       "    })\n",
       "})"
      ]
     },
     "execution_count": 98,
     "metadata": {},
     "output_type": "execute_result"
    }
   ],
   "source": [
    "swahili_split"
   ]
  },
  {
   "cell_type": "code",
   "execution_count": 99,
   "id": "694793fe",
   "metadata": {},
   "outputs": [
    {
     "data": {
      "text/plain": [
       "{'path': './Smaller instances/QD11/GK_swa_u0595_QD11.mp3',\n",
       " 'array': array([ 7.27595761e-12, -1.63709046e-11, -4.18367563e-11, ...,\n",
       "         0.00000000e+00,  0.00000000e+00,  0.00000000e+00]),\n",
       " 'sampling_rate': 16000}"
      ]
     },
     "execution_count": 99,
     "metadata": {},
     "output_type": "execute_result"
    }
   ],
   "source": [
    "swahili_split['train'][0]['file_name']"
   ]
  },
  {
   "cell_type": "code",
   "execution_count": 100,
   "id": "c5bfd7be-dd80-4129-88f9-5a2fc198f657",
   "metadata": {},
   "outputs": [
    {
     "data": {
      "text/plain": [
       "'A few times in a week.'"
      ]
     },
     "execution_count": 100,
     "metadata": {},
     "output_type": "execute_result"
    }
   ],
   "source": [
    "swahili_split['train'][0]['transcription']"
   ]
  },
  {
   "cell_type": "markdown",
   "id": "271aa42a",
   "metadata": {},
   "source": [
    "Augmentations"
   ]
  },
  {
   "cell_type": "code",
   "execution_count": 101,
   "id": "01f251d8",
   "metadata": {},
   "outputs": [],
   "source": [
    "from audiomentations import (\n",
    "    AddBackgroundNoise, #Mixes in another sound to add background noise\n",
    "    AddGaussianNoise, #Adds gaussian noise to the audio samples\n",
    "    Compose,\n",
    "    Gain, #Multiplies the audio by a random gain factor\n",
    "    OneOf,\n",
    "    PitchShift, #Shifts the pitch up or down without changing the tempo\n",
    "    PolarityInversion, #Flips the audio samples upside down, reversing their polarity\n",
    "    Limiter, #Applies dynamic range compression limiting the audio signal\n",
    "    Mp3Compression, #Compresses the audio to lower the quality\n",
    "    PitchShift, # Shifts the pitch up or down without changing the tempo\n",
    "    RoomSimulator,# Simulates the effect of a room on an audio source\n",
    "    SpecFrequencyMask, # Applies a frequency mask to the spectrogram\n",
    "    TimeMask, #Makes a random part of the audio silent\n",
    "    TimeStretch, #Changes the speed without changing the pitch\n",
    "    Trim, #Trims leading and trailing silence from the audio\n",
    ")\n",
    "\n",
    "# define augmentation\n",
    "augmentation = Compose(\n",
    "    [\n",
    "        TimeStretch(min_rate=0.9, max_rate=1.1, p=0.3, leave_length_unchanged=True),\n",
    "        Gain(min_gain_in_db=-6, max_gain_in_db=6, p=0.1),\n",
    "        PitchShift(min_semitones=-4, max_semitones=4, p=0.1),\n",
    "        AddGaussianNoise(min_amplitude=0.005, \n",
    "                         max_amplitude=0.015, \n",
    "                         p=0.1),\n",
    "        Limiter(min_threshold_db=-16.0,\n",
    "                max_threshold_db=-6.0,\n",
    "                threshold_mode=\"relative_to_signal_peak\",\n",
    "                p=0.1,),\n",
    "        # RoomSimulator(min_size_x = 2, max_size_x = 10,\n",
    "        #              min_size_y = 2, min_size_y = 15,\n",
    "        #              min_size_y = 7, min_size_y = 12,\n",
    "        #              min_absorption_value = 0.10,\n",
    "        #              max_absorption_value = 0.50, p =0.2),\n",
    "        Trim(top_db=20.0,p=0.1),\n",
    "        Mp3Compression(),\n",
    "    ]\n",
    ")"
   ]
  },
  {
   "cell_type": "code",
   "execution_count": 102,
   "id": "d3a358f9-ce89-4605-bdeb-371242d65f94",
   "metadata": {},
   "outputs": [
    {
     "data": {
      "text/plain": [
       "DatasetDict({\n",
       "    train: Dataset({\n",
       "        features: ['file_name', 'transcription'],\n",
       "        num_rows: 6928\n",
       "    })\n",
       "    test: Dataset({\n",
       "        features: ['file_name', 'transcription'],\n",
       "        num_rows: 872\n",
       "    })\n",
       "})"
      ]
     },
     "execution_count": 102,
     "metadata": {},
     "output_type": "execute_result"
    }
   ],
   "source": [
    "swahili_split"
   ]
  },
  {
   "cell_type": "code",
   "execution_count": 103,
   "id": "6322ee86",
   "metadata": {},
   "outputs": [],
   "source": [
    "def augment_dataset(batch):\n",
    "    # load and (possibly) resample audio data to 16kHz\n",
    "    sample = batch['file_name']\n",
    "\n",
    "    # apply augmentation\n",
    "    augmented_waveform = augmentation(sample[\"array\"], sample_rate=sample[\"sampling_rate\"])\n",
    "    batch[\"file_name\"][\"array\"] = augmented_waveform\n",
    "    return batch\n"
   ]
  },
  {
   "cell_type": "code",
   "execution_count": 104,
   "id": "5553edc0",
   "metadata": {},
   "outputs": [],
   "source": [
    "# torch.set_num_threads(1)\n",
    "augmented_raw_training_dataset = swahili_split[\"train\"].map(\n",
    "    augment_dataset, \n",
    "    num_proc= 1, \n",
    "    desc=\"augment train dataset\",\n",
    "    load_from_cache_file=True,\n",
    "    # batched = True,\n",
    "    # writer_batch_size=3_000,\n",
    "    cache_file_name=os.path.join(base_dir, \"./Data_aug_dont_drop.arrow\")\n",
    ")"
   ]
  },
  {
   "cell_type": "code",
   "execution_count": 105,
   "id": "ef6beafa-b5e7-4c18-b8db-23299c24e21d",
   "metadata": {},
   "outputs": [],
   "source": [
    "# augmented_raw_training_dataset"
   ]
  },
  {
   "cell_type": "code",
   "execution_count": 106,
   "id": "f70b6a52",
   "metadata": {},
   "outputs": [
    {
     "name": "stdout",
     "output_type": "stream",
     "text": [
      "\n",
      " COMBINING Augmented Dataset with Normal Dataset..... \n",
      "\n"
     ]
    }
   ],
   "source": [
    "print(\"\\n COMBINING Augmented Dataset with Normal Dataset..... \\n\")\n",
    "# combine\n",
    "swahili_split[\"train\"] = concatenate_datasets([swahili_split[\"train\"], augmented_raw_training_dataset])\n"
   ]
  },
  {
   "cell_type": "code",
   "execution_count": 107,
   "id": "b421fdd0",
   "metadata": {},
   "outputs": [
    {
     "name": "stdout",
     "output_type": "stream",
     "text": [
      "\n",
      "\n",
      " AFTER AUGMENTATION, FINAL train and validation sets are: \n",
      "\n",
      " FINAL DATASET: \n",
      "\n",
      "DatasetDict({\n",
      "    train: Dataset({\n",
      "        features: ['file_name', 'transcription'],\n",
      "        num_rows: 13856\n",
      "    })\n",
      "    test: Dataset({\n",
      "        features: ['file_name', 'transcription'],\n",
      "        num_rows: 872\n",
      "    })\n",
      "})\n"
     ]
    }
   ],
   "source": [
    "print(\"\\n\\n AFTER AUGMENTATION, FINAL train and validation sets are: \")\n",
    "print(\"\\n FINAL DATASET: \\n\")\n",
    "swahili_split[\"train\"] = swahili_split[\"train\"].shuffle(seed=42)\n",
    "print(swahili_split)"
   ]
  },
  {
   "cell_type": "code",
   "execution_count": 108,
   "id": "44c99ec1",
   "metadata": {},
   "outputs": [],
   "source": [
    "def print_model_size(mdl):\n",
    "    torch.save(mdl.state_dict(), \"tmp.pt\")\n",
    "    print(\"%.2f MB\" %(os.path.getsize(\"tmp.pt\")/1e6))\n",
    "    os.remove('tmp.pt')"
   ]
  },
  {
   "cell_type": "code",
   "execution_count": 109,
   "id": "27a62d4c",
   "metadata": {},
   "outputs": [
    {
     "data": {
      "text/plain": [
       "{'file_name': {'path': None,\n",
       "  'array': array([0., 0., 0., ..., 0., 0., 0.]),\n",
       "  'sampling_rate': 16000},\n",
       " 'transcription': 'Several times a day.'}"
      ]
     },
     "execution_count": 109,
     "metadata": {},
     "output_type": "execute_result"
    }
   ],
   "source": [
    "swahili_split['train'][0]"
   ]
  },
  {
   "cell_type": "code",
   "execution_count": 110,
   "id": "531b4d32",
   "metadata": {},
   "outputs": [
    {
     "name": "stdout",
     "output_type": "stream",
     "text": [
      "Parameters:  241734912\n"
     ]
    },
    {
     "data": {
      "text/plain": [
       "WhisperForConditionalGeneration(\n",
       "  (model): WhisperModel(\n",
       "    (encoder): WhisperEncoder(\n",
       "      (conv1): Conv1d(80, 768, kernel_size=(3,), stride=(1,), padding=(1,))\n",
       "      (conv2): Conv1d(768, 768, kernel_size=(3,), stride=(2,), padding=(1,))\n",
       "      (embed_positions): Embedding(1500, 768)\n",
       "      (layers): ModuleList(\n",
       "        (0-11): 12 x WhisperEncoderLayer(\n",
       "          (self_attn): WhisperAttention(\n",
       "            (k_proj): Linear(in_features=768, out_features=768, bias=False)\n",
       "            (v_proj): Linear(in_features=768, out_features=768, bias=True)\n",
       "            (q_proj): Linear(in_features=768, out_features=768, bias=True)\n",
       "            (out_proj): Linear(in_features=768, out_features=768, bias=True)\n",
       "          )\n",
       "          (self_attn_layer_norm): LayerNorm((768,), eps=1e-05, elementwise_affine=True)\n",
       "          (activation_fn): GELUActivation()\n",
       "          (fc1): Linear(in_features=768, out_features=3072, bias=True)\n",
       "          (fc2): Linear(in_features=3072, out_features=768, bias=True)\n",
       "          (final_layer_norm): LayerNorm((768,), eps=1e-05, elementwise_affine=True)\n",
       "        )\n",
       "      )\n",
       "      (layer_norm): LayerNorm((768,), eps=1e-05, elementwise_affine=True)\n",
       "    )\n",
       "    (decoder): WhisperDecoder(\n",
       "      (embed_tokens): Embedding(51865, 768, padding_idx=50257)\n",
       "      (embed_positions): WhisperPositionalEmbedding(448, 768)\n",
       "      (layers): ModuleList(\n",
       "        (0-11): 12 x WhisperDecoderLayer(\n",
       "          (self_attn): WhisperAttention(\n",
       "            (k_proj): Linear(in_features=768, out_features=768, bias=False)\n",
       "            (v_proj): Linear(in_features=768, out_features=768, bias=True)\n",
       "            (q_proj): Linear(in_features=768, out_features=768, bias=True)\n",
       "            (out_proj): Linear(in_features=768, out_features=768, bias=True)\n",
       "          )\n",
       "          (activation_fn): GELUActivation()\n",
       "          (self_attn_layer_norm): LayerNorm((768,), eps=1e-05, elementwise_affine=True)\n",
       "          (encoder_attn): WhisperAttention(\n",
       "            (k_proj): Linear(in_features=768, out_features=768, bias=False)\n",
       "            (v_proj): Linear(in_features=768, out_features=768, bias=True)\n",
       "            (q_proj): Linear(in_features=768, out_features=768, bias=True)\n",
       "            (out_proj): Linear(in_features=768, out_features=768, bias=True)\n",
       "          )\n",
       "          (encoder_attn_layer_norm): LayerNorm((768,), eps=1e-05, elementwise_affine=True)\n",
       "          (fc1): Linear(in_features=768, out_features=3072, bias=True)\n",
       "          (fc2): Linear(in_features=3072, out_features=768, bias=True)\n",
       "          (final_layer_norm): LayerNorm((768,), eps=1e-05, elementwise_affine=True)\n",
       "        )\n",
       "      )\n",
       "      (layer_norm): LayerNorm((768,), eps=1e-05, elementwise_affine=True)\n",
       "    )\n",
       "  )\n",
       "  (proj_out): Linear(in_features=768, out_features=51865, bias=False)\n",
       ")"
      ]
     },
     "execution_count": 110,
     "metadata": {},
     "output_type": "execute_result"
    }
   ],
   "source": [
    "from transformers import WhisperProcessor, WhisperForConditionalGeneration\n",
    "\n",
    "processor = WhisperProcessor.from_pretrained(\"openai/whisper-small\", language=\"Swahili\", task=\"translate\")\n",
    "model = WhisperForConditionalGeneration.from_pretrained(\"openai/whisper-small\")\n",
    "forced_decoder_ids = processor.get_decoder_prompt_ids(language=\"Swahili\", task=\"translate\")\n",
    "# max_length = model.max_length()\n",
    "#Model Architecture and parameters\n",
    "print(\"Parameters: \", model.num_parameters())\n",
    "# size = print_model_size(model)\n",
    "# print(size[0])\n",
    "model"
   ]
  },
  {
   "cell_type": "code",
   "execution_count": 111,
   "id": "cae07aa3-65c5-4ea3-a0d5-be6c21ba9276",
   "metadata": {},
   "outputs": [],
   "source": [
    "# from transformers import WhisperProcessor, WhisperForConditionalGeneration\n",
    "\n",
    "# processor = WhisperProcessor.from_pretrained(\"openai/whisper-small\", language=\"Arabic\", task=\"translate\")\n",
    "# model = WhisperForConditionalGeneration.from_pretrained(\"openai/whisper-small\", load_in_8bit = True, device_map=\"auto\")\n",
    "# forced_decoder_ids = processor.get_decoder_prompt_ids(language=\"Arabic\", task=\"translate\")\n",
    "# # max_length = model.max_length()\n",
    "# #Model Architecture and parameters\n",
    "# print(\"Parameters: \", model.num_parameters())\n",
    "# # size = print_model_size(model)\n",
    "# # print(size[0])\n",
    "# model"
   ]
  },
  {
   "cell_type": "code",
   "execution_count": 111,
   "id": "1d4c0a5f-d388-4b78-bc5b-581e83d3d6b7",
   "metadata": {},
   "outputs": [
    {
     "data": {
      "text/plain": [
       "[(1, 50318), (2, 50358), (3, 50363)]"
      ]
     },
     "execution_count": 111,
     "metadata": {},
     "output_type": "execute_result"
    }
   ],
   "source": [
    "forced_decoder_ids"
   ]
  },
  {
   "cell_type": "code",
   "execution_count": 112,
   "id": "6da33abc-13df-46cc-a91c-8aab01d0aba9",
   "metadata": {},
   "outputs": [],
   "source": [
    "# forced_decoder_ids = None\n",
    "# from functools import partial\n",
    "# model.generate = partial(model.generate, language=\"Arabic\", task=\"translate\")"
   ]
  },
  {
   "cell_type": "code",
   "execution_count": 113,
   "id": "6c0bf3cf",
   "metadata": {},
   "outputs": [
    {
     "data": {
      "text/plain": [
       "'swahili'"
      ]
     },
     "execution_count": 113,
     "metadata": {},
     "output_type": "execute_result"
    }
   ],
   "source": [
    "processor.tokenizer.language"
   ]
  },
  {
   "cell_type": "code",
   "execution_count": 114,
   "id": "e5aaf4be-91d4-44db-ad9e-92970ae14440",
   "metadata": {},
   "outputs": [],
   "source": [
    "# model.config.apply_spec_augment = True"
   ]
  },
  {
   "cell_type": "code",
   "execution_count": 115,
   "id": "9ca56b9e",
   "metadata": {},
   "outputs": [],
   "source": [
    "max_label_length = model.config.max_length\n",
    "generation_max_length = max_label_length"
   ]
  },
  {
   "cell_type": "code",
   "execution_count": 116,
   "id": "e85388b4",
   "metadata": {},
   "outputs": [
    {
     "data": {
      "text/plain": [
       "448"
      ]
     },
     "execution_count": 116,
     "metadata": {},
     "output_type": "execute_result"
    }
   ],
   "source": [
    "generation_max_length"
   ]
  },
  {
   "cell_type": "code",
   "execution_count": 117,
   "id": "6c936cea",
   "metadata": {},
   "outputs": [],
   "source": [
    "model.config.apply_spec_augment = True\n",
    "# model.config.mask_time_prob = 0.1\n",
    "# model.config.mask_feature_prob = 0.1\n",
    "model.config.max_length = generation_max_length\n",
    "model.config.dropout = 0.1\n",
    "model.config.forced_decoder_ids = forced_decoder_ids\n",
    "model.config.suppress_tokens = []\n",
    "# if gradient_checkpointing:\n",
    "#     model.config.use_cache = False\n",
    "# if freeze_feature_encoder:\n",
    "#     model.freeze_feature_encoder()\n",
    "# model.config.activation_dropout=0.055,\n",
    "    # attention_dropout=0.094,\n",
    "model.generation_config.max_length = generation_max_length"
   ]
  },
  {
   "cell_type": "code",
   "execution_count": 119,
   "id": "e5bb792d",
   "metadata": {},
   "outputs": [],
   "source": [
    "# inputs = processor.feature_extractor(\n",
    "#         swahili_split['train']['file_name'][0][\"array\"], \n",
    "#         sampling_rate=swahili_split['train']['file_name'][0][\"sampling_rate\"], \n",
    "#         return_attention_mask=apply_spec_augment,\n",
    "#         )\n",
    "# inputs"
   ]
  },
  {
   "cell_type": "code",
   "execution_count": 118,
   "id": "a5a06618",
   "metadata": {},
   "outputs": [],
   "source": [
    "apply_spec_augment = True\n",
    "\n",
    "def prepare_dataset(batch):\n",
    "    # load and (possibly) resample audio data to 16kHz\n",
    "    audio = batch[\"file_name\"]\n",
    "\n",
    "    # compute log-Mel input features from input audio array \n",
    "    inputs = processor.feature_extractor(\n",
    "        audio[\"array\"], \n",
    "        sampling_rate=audio[\"sampling_rate\"], \n",
    "        return_attention_mask=apply_spec_augment,\n",
    "        )\n",
    "    batch[\"input_features\"] = inputs.input_features[0]\n",
    "\n",
    "    # compute input length\n",
    "    batch[\"input_length\"] = len(audio[\"array\"]) / audio[\"sampling_rate\"]\n",
    "    \n",
    "    # if spec augmentation applied, get attention_mask to guide the mask along time axis\n",
    "    if apply_spec_augment:\n",
    "        batch[\"attention_mask\"] = inputs.get(\"attention_mask\")[0]\n",
    "    \n",
    "    \n",
    "    # optional pre-processing steps\n",
    "    transcription = batch[\"transcription\"]\n",
    "#     if do_lower_case:\n",
    "#         transcription = transcription.lower()\n",
    "#     if do_remove_punctuation:\n",
    "#         transcription = normalizer(transcription).strip()\n",
    "#     if do_bangla_unicode_normalization:\n",
    "#         _words = [bangla_normalizer(word)['normalized'] for word in transcription.split()]\n",
    "#         transcription = \" \".join([word for word in _words if word is not None])\n",
    "#         transcription = transcription.replace(\"\\u2047\", \"-\")\n",
    "#         transcription = transcription.replace(u\"\\u098c\", u\"\\u09ef\")\n",
    "#         transcription = unicodedata.normalize(\"NFC\", transcription)\n",
    "#         transcription = removeOptionalZW(transcription)\n",
    "    \n",
    "    # encode target text to label ids\n",
    "    batch[\"labels\"] = processor.tokenizer(transcription).input_ids\n",
    "    \n",
    "     # compute labels length **with** special tokens! -> total label length\n",
    "    batch[\"labels_length\"] = len(batch[\"labels\"])\n",
    "    \n",
    "    return batch"
   ]
  },
  {
   "cell_type": "code",
   "execution_count": 119,
   "id": "fcfd8ffc-a32a-4dcd-a9e4-a4c5ab10a102",
   "metadata": {},
   "outputs": [
    {
     "data": {
      "text/plain": [
       "DatasetDict({\n",
       "    train: Dataset({\n",
       "        features: ['file_name', 'transcription'],\n",
       "        num_rows: 13856\n",
       "    })\n",
       "    test: Dataset({\n",
       "        features: ['file_name', 'transcription'],\n",
       "        num_rows: 872\n",
       "    })\n",
       "})"
      ]
     },
     "execution_count": 119,
     "metadata": {},
     "output_type": "execute_result"
    }
   ],
   "source": [
    "swahili_split"
   ]
  },
  {
   "cell_type": "code",
   "execution_count": 120,
   "id": "740f22de",
   "metadata": {},
   "outputs": [],
   "source": [
    "# from datasets import set_caching_enabled\n",
    "# set_caching_enabled(False)\n",
    "processed_swahili =  swahili_split.map(prepare_dataset, \n",
    "                            num_proc= 1, # if num_proc>1, then mapping might get stuck. use num_proc=1 in that case.\n",
    "                            load_from_cache_file=True,\n",
    "                            cache_file_names={\n",
    "                                \"train\" : os.path.join(base_dir)+'/complete_data_dondrop.arrow',\n",
    "                                \"test\" : os.path.join(base_dir)+'/complete_data_test_dondrop.arrow', }\n",
    "                            )"
   ]
  },
  {
   "cell_type": "code",
   "execution_count": 121,
   "id": "a9088c3b",
   "metadata": {},
   "outputs": [
    {
     "data": {
      "text/plain": [
       "DatasetDict({\n",
       "    train: Dataset({\n",
       "        features: ['file_name', 'transcription', 'input_features', 'input_length', 'attention_mask', 'labels', 'labels_length'],\n",
       "        num_rows: 13856\n",
       "    })\n",
       "    test: Dataset({\n",
       "        features: ['file_name', 'transcription', 'input_features', 'input_length', 'attention_mask', 'labels', 'labels_length'],\n",
       "        num_rows: 872\n",
       "    })\n",
       "})"
      ]
     },
     "execution_count": 121,
     "metadata": {},
     "output_type": "execute_result"
    }
   ],
   "source": [
    "processed_swahili"
   ]
  },
  {
   "cell_type": "code",
   "execution_count": 122,
   "id": "70c2cbac",
   "metadata": {},
   "outputs": [
    {
     "data": {
      "text/plain": [
       "5.688"
      ]
     },
     "execution_count": 122,
     "metadata": {},
     "output_type": "execute_result"
    }
   ],
   "source": [
    "processed_swahili['train']['input_length'][45]"
   ]
  },
  {
   "cell_type": "code",
   "execution_count": 123,
   "id": "70195e0e",
   "metadata": {},
   "outputs": [
    {
     "data": {
      "text/plain": [
       "'3500 shillings.'"
      ]
     },
     "execution_count": 123,
     "metadata": {},
     "output_type": "execute_result"
    }
   ],
   "source": [
    "processed_swahili['train']['transcription'][45]"
   ]
  },
  {
   "cell_type": "code",
   "execution_count": 124,
   "id": "675f3029",
   "metadata": {},
   "outputs": [
    {
     "data": {
      "text/plain": [
       "DatasetDict({\n",
       "    train: Dataset({\n",
       "        features: ['file_name', 'transcription', 'input_features', 'input_length', 'attention_mask', 'labels', 'labels_length'],\n",
       "        num_rows: 13856\n",
       "    })\n",
       "    test: Dataset({\n",
       "        features: ['file_name', 'transcription', 'input_features', 'input_length', 'attention_mask', 'labels', 'labels_length'],\n",
       "        num_rows: 872\n",
       "    })\n",
       "})"
      ]
     },
     "execution_count": 124,
     "metadata": {},
     "output_type": "execute_result"
    }
   ],
   "source": [
    "processed_swahili"
   ]
  },
  {
   "cell_type": "code",
   "execution_count": 125,
   "id": "a8ab63ad",
   "metadata": {},
   "outputs": [
    {
     "name": "stderr",
     "output_type": "stream",
     "text": [
      "Filter: 100%|█████████████████████████████████████████████████████████| 13856/13856 [00:00<00:00, 602484.70 examples/s]\n",
      "Filter: 100%|██████████████████████████████████████████████████████████████| 872/872 [00:00<00:00, 67071.94 examples/s]\n"
     ]
    }
   ],
   "source": [
    "def filter_labels(labels_length):\n",
    "    \"\"\"Filter label sequences longer than max length (448)\"\"\"\n",
    "    return labels_length < max_label_length\n",
    "\n",
    "swahili_f = processed_swahili.filter(filter_labels, input_columns=[\"labels_length\"])"
   ]
  },
  {
   "cell_type": "code",
   "execution_count": 126,
   "id": "e6147743",
   "metadata": {},
   "outputs": [
    {
     "data": {
      "text/plain": [
       "DatasetDict({\n",
       "    train: Dataset({\n",
       "        features: ['file_name', 'transcription', 'input_features', 'input_length', 'attention_mask', 'labels', 'labels_length'],\n",
       "        num_rows: 13854\n",
       "    })\n",
       "    test: Dataset({\n",
       "        features: ['file_name', 'transcription', 'input_features', 'input_length', 'attention_mask', 'labels', 'labels_length'],\n",
       "        num_rows: 872\n",
       "    })\n",
       "})"
      ]
     },
     "execution_count": 126,
     "metadata": {},
     "output_type": "execute_result"
    }
   ],
   "source": [
    "swahili_f"
   ]
  },
  {
   "cell_type": "code",
   "execution_count": 127,
   "id": "8baefc86",
   "metadata": {},
   "outputs": [
    {
     "name": "stderr",
     "output_type": "stream",
     "text": [
      "Filter: 100%|██████████████████████████████████████████████████████████| 13854/13854 [00:00<00:00, 73346.13 examples/s]\n",
      "Filter: 100%|██████████████████████████████████████████████████████████████| 872/872 [00:00<00:00, 34544.82 examples/s]\n"
     ]
    }
   ],
   "source": [
    "max_input_length = 30.0\n",
    "min_input_length = 1.0\n",
    "\n",
    "def is_audio_in_length_range(length):\n",
    "    return length < max_input_length and length > min_input_length\n",
    "swahili_final = swahili_f.filter(is_audio_in_length_range, input_columns=[\"input_length\"]\n",
    "                               )"
   ]
  },
  {
   "cell_type": "code",
   "execution_count": 128,
   "id": "434b1fc4",
   "metadata": {},
   "outputs": [
    {
     "data": {
      "text/plain": [
       "DatasetDict({\n",
       "    train: Dataset({\n",
       "        features: ['file_name', 'transcription', 'input_features', 'input_length', 'attention_mask', 'labels', 'labels_length'],\n",
       "        num_rows: 12960\n",
       "    })\n",
       "    test: Dataset({\n",
       "        features: ['file_name', 'transcription', 'input_features', 'input_length', 'attention_mask', 'labels', 'labels_length'],\n",
       "        num_rows: 807\n",
       "    })\n",
       "})"
      ]
     },
     "execution_count": 128,
     "metadata": {},
     "output_type": "execute_result"
    }
   ],
   "source": [
    "swahili_final"
   ]
  },
  {
   "cell_type": "code",
   "execution_count": 131,
   "id": "1a8a7784",
   "metadata": {},
   "outputs": [],
   "source": [
    "# MAX_DURATION_IN_SECONDS = 30.0\n",
    "# max_input_length = MAX_DURATION_IN_SECONDS * 16000\n",
    "\n",
    "# def filter_inputs(input_length):\n",
    "#     \"\"\"Filter inputs with zero input length or longer than 30s\"\"\"\n",
    "#     return 0 < input_length < max_input_length\n",
    "\n",
    "# swahili_f = processed_swahili.filter(filter_inputs, input_columns=[\"input_length\"])"
   ]
  },
  {
   "cell_type": "code",
   "execution_count": 133,
   "id": "86718164",
   "metadata": {},
   "outputs": [],
   "source": [
    "# def filter_labels(labels_length):\n",
    "#     \"\"\"Filter label sequences longer than max length (448)\"\"\"\n",
    "#     return labels_length < max_label_length\n",
    "\n",
    "# swahili_final = swahili_f.filter(filter_labels, input_columns=[\"labels_length\"])"
   ]
  },
  {
   "cell_type": "code",
   "execution_count": 129,
   "id": "53393d4a",
   "metadata": {},
   "outputs": [],
   "source": [
    "from dataclasses import dataclass\n",
    "from typing import Any, Dict, List, Union\n",
    "\n",
    "@dataclass\n",
    "class DataCollatorSpeechSeq2SeqWithPadding:\n",
    "    processor: Any\n",
    "    forward_attention_mask: bool\n",
    "\n",
    "    def __call__(self, features: List[Dict[str, Union[List[int], torch.Tensor]]]) -> Dict[str, torch.Tensor]:\n",
    "        # split inputs and labels since they have to be of different lengths and need different padding methods\n",
    "        # first treat the audio inputs by simply returning torch tensors\n",
    "        input_features = [{\"input_features\": feature[\"input_features\"]} for feature in features]\n",
    "        batch = self.processor.feature_extractor.pad(input_features, return_tensors=\"pt\")\n",
    "\n",
    "        if self.forward_attention_mask:\n",
    "            batch[\"attention_mask\"] = torch.LongTensor([feature[\"attention_mask\"] for feature in features])\n",
    "        \n",
    "        # get the tokenized label sequences\n",
    "        label_features = [{\"input_ids\": feature[\"labels\"]} for feature in features]\n",
    "        # pad the labels to max length\n",
    "        labels_batch = self.processor.tokenizer.pad(label_features, return_tensors=\"pt\")\n",
    "\n",
    "        # replace padding with -100 to ignore loss correctly\n",
    "        labels = labels_batch[\"input_ids\"].masked_fill(labels_batch.attention_mask.ne(1), -100)\n",
    "\n",
    "        # if bos token is appended in previous tokenization step,\n",
    "        # cut bos token here as it's append later anyways\n",
    "        if (labels[:, 0] == self.processor.tokenizer.bos_token_id).all().cpu().item():\n",
    "            labels = labels[:, 1:]\n",
    "\n",
    "        batch[\"labels\"] = labels\n",
    "\n",
    "        return batch"
   ]
  },
  {
   "cell_type": "code",
   "execution_count": 130,
   "id": "da3da894",
   "metadata": {},
   "outputs": [],
   "source": [
    "data_collator = DataCollatorSpeechSeq2SeqWithPadding(processor=processor, forward_attention_mask=apply_spec_augment)"
   ]
  },
  {
   "cell_type": "code",
   "execution_count": 132,
   "id": "6c3941d8",
   "metadata": {},
   "outputs": [],
   "source": [
    "from transformers import Seq2SeqTrainingArguments\n",
    "\n",
    "training_args = Seq2SeqTrainingArguments(\n",
    "    output_dir=\"./whisper_small/complete_data_3\",\n",
    "    overwrite_output_dir=True,\n",
    "    max_steps= 8000,\n",
    "    # num_train_epochs = 15,\n",
    "    per_device_train_batch_size=1,\n",
    "    per_device_eval_batch_size=1,\n",
    "    gradient_accumulation_steps=20,\n",
    "    gradient_checkpointing=True,\n",
    "    evaluation_strategy= 'steps',\n",
    "    eval_steps= 400,\n",
    "    save_strategy='steps',\n",
    "    save_steps= 400,\n",
    "    save_total_limit= 5,\n",
    "    learning_rate=1e-5,\n",
    "    lr_scheduler_type = \"cosine\", # \"constant\", \"constant_with_warmup\", \"cosine\", \"cosine_with_restarts\", \"linear\"(default), \"polynomial\", \"inverse_sqrt\"\n",
    "    warmup_steps= 600,\n",
    "    logging_steps= 5,\n",
    "    weight_decay=0.01,\n",
    "    load_best_model_at_end=True,\n",
    "    metric_for_best_model= \"bleu\",\n",
    "    greater_is_better=True,\n",
    "    # bf16= True,\n",
    "#     tf32= True,\n",
    "    # fp16 = True,\n",
    "    optim=\"adamw_hf\",\n",
    "    torch_compile = False,\n",
    "    generation_max_length=max_label_length,\n",
    "    report_to=['tensorboard'],\n",
    "    # generation_num_beams = 4,\n",
    "#     fsdp ,\n",
    "#     fsdp_config,\n",
    "#   deepspeed\n",
    "    #eval_delay=\n",
    "    data_seed = 420,\n",
    "    logging_dir = \"./whisper_small/complete_data_3/logs\",\n",
    "    seed = 420,\n",
    "    remove_unused_columns = True,\n",
    "    predict_with_generate= True,\n",
    "#     push_to_hub=push_to_hub,\n",
    ")"
   ]
  },
  {
   "cell_type": "code",
   "execution_count": 131,
   "id": "259117e2",
   "metadata": {},
   "outputs": [],
   "source": [
    "from transformers.models.whisper.english_normalizer import BasicTextNormalizer\n",
    "normalizer = BasicTextNormalizer()"
   ]
  },
  {
   "cell_type": "code",
   "execution_count": 132,
   "id": "a0c43e61",
   "metadata": {},
   "outputs": [],
   "source": [
    "wer_metric = evaluate.load(\"wer\")\n",
    "cer_metric = evaluate.load(\"cer\")\n",
    "bleu = evaluate.load(\"bleu\")\n",
    "do_normalize_eval = True\n",
    "\n",
    "def compute_metrics(pred):\n",
    "    pred_ids = pred.predictions\n",
    "    label_ids = pred.label_ids\n",
    "\n",
    "    label_ids[label_ids == -100] = processor.tokenizer.pad_token_id\n",
    "\n",
    "    pred_str = processor.tokenizer.batch_decode(pred_ids, skip_special_tokens=True)\n",
    "    label_str = processor.tokenizer.batch_decode(label_ids, skip_special_tokens=True)\n",
    "\n",
    "    if do_normalize_eval:\n",
    "       pred_str = [normalizer(pred) for pred in pred_str]\n",
    "       label_str = [normalizer(label) for label in label_str]\n",
    "\n",
    "    print(pred_str)\n",
    "    print(label_str)\n",
    "    wer = 100*wer_metric.compute(predictions=pred_str, references=label_str)\n",
    "    cer = 100*cer_metric.compute(predictions=pred_str, references=label_str)\n",
    "    bleu_m = bleu.compute(predictions=pred_str, references=label_str)['bleu']\n",
    "    return {\"cer\": cer, \"wer\": wer, \"bleu\": bleu_m}"
   ]
  },
  {
   "cell_type": "code",
   "execution_count": 134,
   "id": "66916a96",
   "metadata": {
    "scrolled": true
   },
   "outputs": [
    {
     "name": "stdout",
     "output_type": "stream",
     "text": [
      "\n",
      "===================================BUG REPORT===================================\n",
      "Welcome to bitsandbytes. For bug reports, please submit your error trace to: https://github.com/TimDettmers/bitsandbytes/issues\n",
      "================================================================================\n",
      "binary_path: D:\\Downloads\\Swahili-translation-English-STT--main\\ASR\\lib\\site-packages\\bitsandbytes\\cuda_setup\\libbitsandbytes_cuda116.dll\n",
      "CUDA SETUP: Loading binary D:\\Downloads\\Swahili-translation-English-STT--main\\ASR\\lib\\site-packages\\bitsandbytes\\cuda_setup\\libbitsandbytes_cuda116.dll...\n",
      "\n",
      "\n",
      " Training STARTED..\n",
      "\n",
      "\n"
     ]
    },
    {
     "name": "stderr",
     "output_type": "stream",
     "text": [
      "D:\\Downloads\\Swahili-translation-English-STT--main\\ASR\\lib\\site-packages\\transformers\\optimization.py:411: FutureWarning: This implementation of AdamW is deprecated and will be removed in a future version. Use the PyTorch implementation torch.optim.AdamW instead, or set `no_deprecation_warning=True` to disable this warning\n",
      "  warnings.warn(\n",
      "D:\\Downloads\\Swahili-translation-English-STT--main\\ASR\\lib\\site-packages\\torch\\utils\\checkpoint.py:429: UserWarning: torch.utils.checkpoint: please pass in use_reentrant=True or use_reentrant=False explicitly. The default value of use_reentrant will be updated to be False in the future. To maintain current behavior, pass use_reentrant=True. It is recommended that you use use_reentrant=False. Refer to docs for more details on the differences between the two variants.\n",
      "  warnings.warn(\n",
      "`use_cache = True` is incompatible with gradient checkpointing. Setting `use_cache = False`...\n"
     ]
    },
    {
     "data": {
      "text/html": [
       "\n",
       "    <div>\n",
       "      \n",
       "      <progress value='3' max='8000' style='width:300px; height:20px; vertical-align: middle;'></progress>\n",
       "      [   3/8000 00:08 < 19:40:58, 0.11 it/s, Epoch 0.00/13]\n",
       "    </div>\n",
       "    <table border=\"1\" class=\"dataframe\">\n",
       "  <thead>\n",
       " <tr style=\"text-align: left;\">\n",
       "      <th>Step</th>\n",
       "      <th>Training Loss</th>\n",
       "      <th>Validation Loss</th>\n",
       "    </tr>\n",
       "  </thead>\n",
       "  <tbody>\n",
       "  </tbody>\n",
       "</table><p>"
      ],
      "text/plain": [
       "<IPython.core.display.HTML object>"
      ]
     },
     "metadata": {},
     "output_type": "display_data"
    },
    {
     "ename": "KeyboardInterrupt",
     "evalue": "",
     "output_type": "error",
     "traceback": [
      "\u001b[1;31m---------------------------------------------------------------------------\u001b[0m",
      "\u001b[1;31mKeyboardInterrupt\u001b[0m                         Traceback (most recent call last)",
      "Cell \u001b[1;32mIn[134], line 21\u001b[0m\n\u001b[0;32m     15\u001b[0m \u001b[38;5;66;03m# processor.save_pretrained(\"./whisper-small_real/50-data_processor\")\u001b[39;00m\n\u001b[0;32m     16\u001b[0m \n\u001b[0;32m     17\u001b[0m \n\u001b[0;32m     18\u001b[0m \u001b[38;5;66;03m## 17. Training\u001b[39;00m\n\u001b[0;32m     19\u001b[0m \u001b[38;5;28mprint\u001b[39m(\u001b[38;5;124m\"\u001b[39m\u001b[38;5;130;01m\\n\u001b[39;00m\u001b[38;5;130;01m\\n\u001b[39;00m\u001b[38;5;124m Training STARTED..\u001b[39m\u001b[38;5;130;01m\\n\u001b[39;00m\u001b[38;5;130;01m\\n\u001b[39;00m\u001b[38;5;124m\"\u001b[39m)\n\u001b[1;32m---> 21\u001b[0m train_result \u001b[38;5;241m=\u001b[39m \u001b[43mtrainer\u001b[49m\u001b[38;5;241;43m.\u001b[39;49m\u001b[43mtrain\u001b[49m\u001b[43m(\u001b[49m\u001b[43m)\u001b[49m\n\u001b[0;32m     23\u001b[0m \u001b[38;5;66;03m## resume from the latest checkpoint\u001b[39;00m\n\u001b[0;32m     24\u001b[0m \u001b[38;5;66;03m# train_result = trainer.train(resume_from_checkpoint=True)\u001b[39;00m\n\u001b[0;32m     25\u001b[0m \n\u001b[0;32m     26\u001b[0m \u001b[38;5;66;03m## resume training from the specific checkpoint in the directory passed\u001b[39;00m\n\u001b[0;32m     27\u001b[0m \u001b[38;5;66;03m# train_result = trainer.train(resume_from_checkpoint=\"checkpoint-4000\")\u001b[39;00m\n\u001b[0;32m     29\u001b[0m \u001b[38;5;28mprint\u001b[39m(\u001b[38;5;124m\"\u001b[39m\u001b[38;5;130;01m\\n\u001b[39;00m\u001b[38;5;130;01m\\n\u001b[39;00m\u001b[38;5;124m Training COMPLETED...\u001b[39m\u001b[38;5;130;01m\\n\u001b[39;00m\u001b[38;5;130;01m\\n\u001b[39;00m\u001b[38;5;124m\"\u001b[39m)\n",
      "File \u001b[1;32mD:\\Downloads\\Swahili-translation-English-STT--main\\ASR\\lib\\site-packages\\transformers\\trainer.py:1539\u001b[0m, in \u001b[0;36mTrainer.train\u001b[1;34m(self, resume_from_checkpoint, trial, ignore_keys_for_eval, **kwargs)\u001b[0m\n\u001b[0;32m   1534\u001b[0m     \u001b[38;5;28mself\u001b[39m\u001b[38;5;241m.\u001b[39mmodel_wrapped \u001b[38;5;241m=\u001b[39m \u001b[38;5;28mself\u001b[39m\u001b[38;5;241m.\u001b[39mmodel\n\u001b[0;32m   1536\u001b[0m inner_training_loop \u001b[38;5;241m=\u001b[39m find_executable_batch_size(\n\u001b[0;32m   1537\u001b[0m     \u001b[38;5;28mself\u001b[39m\u001b[38;5;241m.\u001b[39m_inner_training_loop, \u001b[38;5;28mself\u001b[39m\u001b[38;5;241m.\u001b[39m_train_batch_size, args\u001b[38;5;241m.\u001b[39mauto_find_batch_size\n\u001b[0;32m   1538\u001b[0m )\n\u001b[1;32m-> 1539\u001b[0m \u001b[38;5;28;01mreturn\u001b[39;00m \u001b[43minner_training_loop\u001b[49m\u001b[43m(\u001b[49m\n\u001b[0;32m   1540\u001b[0m \u001b[43m    \u001b[49m\u001b[43margs\u001b[49m\u001b[38;5;241;43m=\u001b[39;49m\u001b[43margs\u001b[49m\u001b[43m,\u001b[49m\n\u001b[0;32m   1541\u001b[0m \u001b[43m    \u001b[49m\u001b[43mresume_from_checkpoint\u001b[49m\u001b[38;5;241;43m=\u001b[39;49m\u001b[43mresume_from_checkpoint\u001b[49m\u001b[43m,\u001b[49m\n\u001b[0;32m   1542\u001b[0m \u001b[43m    \u001b[49m\u001b[43mtrial\u001b[49m\u001b[38;5;241;43m=\u001b[39;49m\u001b[43mtrial\u001b[49m\u001b[43m,\u001b[49m\n\u001b[0;32m   1543\u001b[0m \u001b[43m    \u001b[49m\u001b[43mignore_keys_for_eval\u001b[49m\u001b[38;5;241;43m=\u001b[39;49m\u001b[43mignore_keys_for_eval\u001b[49m\u001b[43m,\u001b[49m\n\u001b[0;32m   1544\u001b[0m \u001b[43m\u001b[49m\u001b[43m)\u001b[49m\n",
      "File \u001b[1;32mD:\\Downloads\\Swahili-translation-English-STT--main\\ASR\\lib\\site-packages\\transformers\\trainer.py:1787\u001b[0m, in \u001b[0;36mTrainer._inner_training_loop\u001b[1;34m(self, batch_size, args, resume_from_checkpoint, trial, ignore_keys_for_eval)\u001b[0m\n\u001b[0;32m   1784\u001b[0m     rng_to_sync \u001b[38;5;241m=\u001b[39m \u001b[38;5;28;01mTrue\u001b[39;00m\n\u001b[0;32m   1786\u001b[0m step \u001b[38;5;241m=\u001b[39m \u001b[38;5;241m-\u001b[39m\u001b[38;5;241m1\u001b[39m\n\u001b[1;32m-> 1787\u001b[0m \u001b[38;5;28;01mfor\u001b[39;00m step, inputs \u001b[38;5;129;01min\u001b[39;00m \u001b[38;5;28menumerate\u001b[39m(epoch_iterator):\n\u001b[0;32m   1788\u001b[0m     total_batched_samples \u001b[38;5;241m+\u001b[39m\u001b[38;5;241m=\u001b[39m \u001b[38;5;241m1\u001b[39m\n\u001b[0;32m   1789\u001b[0m     \u001b[38;5;28;01mif\u001b[39;00m rng_to_sync:\n",
      "File \u001b[1;32mD:\\Downloads\\Swahili-translation-English-STT--main\\ASR\\lib\\site-packages\\accelerate\\data_loader.py:394\u001b[0m, in \u001b[0;36mDataLoaderShard.__iter__\u001b[1;34m(self)\u001b[0m\n\u001b[0;32m    392\u001b[0m \u001b[38;5;28;01mif\u001b[39;00m \u001b[38;5;28mself\u001b[39m\u001b[38;5;241m.\u001b[39mdevice \u001b[38;5;129;01mis\u001b[39;00m \u001b[38;5;129;01mnot\u001b[39;00m \u001b[38;5;28;01mNone\u001b[39;00m:\n\u001b[0;32m    393\u001b[0m     current_batch \u001b[38;5;241m=\u001b[39m send_to_device(current_batch, \u001b[38;5;28mself\u001b[39m\u001b[38;5;241m.\u001b[39mdevice)\n\u001b[1;32m--> 394\u001b[0m next_batch \u001b[38;5;241m=\u001b[39m \u001b[38;5;28;43mnext\u001b[39;49m\u001b[43m(\u001b[49m\u001b[43mdataloader_iter\u001b[49m\u001b[43m)\u001b[49m\n\u001b[0;32m    395\u001b[0m \u001b[38;5;28;01mif\u001b[39;00m batch_index \u001b[38;5;241m>\u001b[39m\u001b[38;5;241m=\u001b[39m \u001b[38;5;28mself\u001b[39m\u001b[38;5;241m.\u001b[39mskip_batches:\n\u001b[0;32m    396\u001b[0m     \u001b[38;5;28;01myield\u001b[39;00m current_batch\n",
      "File \u001b[1;32mD:\\Downloads\\Swahili-translation-English-STT--main\\ASR\\lib\\site-packages\\torch\\utils\\data\\dataloader.py:630\u001b[0m, in \u001b[0;36m_BaseDataLoaderIter.__next__\u001b[1;34m(self)\u001b[0m\n\u001b[0;32m    627\u001b[0m \u001b[38;5;28;01mif\u001b[39;00m \u001b[38;5;28mself\u001b[39m\u001b[38;5;241m.\u001b[39m_sampler_iter \u001b[38;5;129;01mis\u001b[39;00m \u001b[38;5;28;01mNone\u001b[39;00m:\n\u001b[0;32m    628\u001b[0m     \u001b[38;5;66;03m# TODO(https://github.com/pytorch/pytorch/issues/76750)\u001b[39;00m\n\u001b[0;32m    629\u001b[0m     \u001b[38;5;28mself\u001b[39m\u001b[38;5;241m.\u001b[39m_reset()  \u001b[38;5;66;03m# type: ignore[call-arg]\u001b[39;00m\n\u001b[1;32m--> 630\u001b[0m data \u001b[38;5;241m=\u001b[39m \u001b[38;5;28;43mself\u001b[39;49m\u001b[38;5;241;43m.\u001b[39;49m\u001b[43m_next_data\u001b[49m\u001b[43m(\u001b[49m\u001b[43m)\u001b[49m\n\u001b[0;32m    631\u001b[0m \u001b[38;5;28mself\u001b[39m\u001b[38;5;241m.\u001b[39m_num_yielded \u001b[38;5;241m+\u001b[39m\u001b[38;5;241m=\u001b[39m \u001b[38;5;241m1\u001b[39m\n\u001b[0;32m    632\u001b[0m \u001b[38;5;28;01mif\u001b[39;00m \u001b[38;5;28mself\u001b[39m\u001b[38;5;241m.\u001b[39m_dataset_kind \u001b[38;5;241m==\u001b[39m _DatasetKind\u001b[38;5;241m.\u001b[39mIterable \u001b[38;5;129;01mand\u001b[39;00m \\\n\u001b[0;32m    633\u001b[0m         \u001b[38;5;28mself\u001b[39m\u001b[38;5;241m.\u001b[39m_IterableDataset_len_called \u001b[38;5;129;01mis\u001b[39;00m \u001b[38;5;129;01mnot\u001b[39;00m \u001b[38;5;28;01mNone\u001b[39;00m \u001b[38;5;129;01mand\u001b[39;00m \\\n\u001b[0;32m    634\u001b[0m         \u001b[38;5;28mself\u001b[39m\u001b[38;5;241m.\u001b[39m_num_yielded \u001b[38;5;241m>\u001b[39m \u001b[38;5;28mself\u001b[39m\u001b[38;5;241m.\u001b[39m_IterableDataset_len_called:\n",
      "File \u001b[1;32mD:\\Downloads\\Swahili-translation-English-STT--main\\ASR\\lib\\site-packages\\torch\\utils\\data\\dataloader.py:674\u001b[0m, in \u001b[0;36m_SingleProcessDataLoaderIter._next_data\u001b[1;34m(self)\u001b[0m\n\u001b[0;32m    672\u001b[0m \u001b[38;5;28;01mdef\u001b[39;00m \u001b[38;5;21m_next_data\u001b[39m(\u001b[38;5;28mself\u001b[39m):\n\u001b[0;32m    673\u001b[0m     index \u001b[38;5;241m=\u001b[39m \u001b[38;5;28mself\u001b[39m\u001b[38;5;241m.\u001b[39m_next_index()  \u001b[38;5;66;03m# may raise StopIteration\u001b[39;00m\n\u001b[1;32m--> 674\u001b[0m     data \u001b[38;5;241m=\u001b[39m \u001b[38;5;28;43mself\u001b[39;49m\u001b[38;5;241;43m.\u001b[39;49m\u001b[43m_dataset_fetcher\u001b[49m\u001b[38;5;241;43m.\u001b[39;49m\u001b[43mfetch\u001b[49m\u001b[43m(\u001b[49m\u001b[43mindex\u001b[49m\u001b[43m)\u001b[49m  \u001b[38;5;66;03m# may raise StopIteration\u001b[39;00m\n\u001b[0;32m    675\u001b[0m     \u001b[38;5;28;01mif\u001b[39;00m \u001b[38;5;28mself\u001b[39m\u001b[38;5;241m.\u001b[39m_pin_memory:\n\u001b[0;32m    676\u001b[0m         data \u001b[38;5;241m=\u001b[39m _utils\u001b[38;5;241m.\u001b[39mpin_memory\u001b[38;5;241m.\u001b[39mpin_memory(data, \u001b[38;5;28mself\u001b[39m\u001b[38;5;241m.\u001b[39m_pin_memory_device)\n",
      "File \u001b[1;32mD:\\Downloads\\Swahili-translation-English-STT--main\\ASR\\lib\\site-packages\\torch\\utils\\data\\_utils\\fetch.py:49\u001b[0m, in \u001b[0;36m_MapDatasetFetcher.fetch\u001b[1;34m(self, possibly_batched_index)\u001b[0m\n\u001b[0;32m     47\u001b[0m \u001b[38;5;28;01mif\u001b[39;00m \u001b[38;5;28mself\u001b[39m\u001b[38;5;241m.\u001b[39mauto_collation:\n\u001b[0;32m     48\u001b[0m     \u001b[38;5;28;01mif\u001b[39;00m \u001b[38;5;28mhasattr\u001b[39m(\u001b[38;5;28mself\u001b[39m\u001b[38;5;241m.\u001b[39mdataset, \u001b[38;5;124m\"\u001b[39m\u001b[38;5;124m__getitems__\u001b[39m\u001b[38;5;124m\"\u001b[39m) \u001b[38;5;129;01mand\u001b[39;00m \u001b[38;5;28mself\u001b[39m\u001b[38;5;241m.\u001b[39mdataset\u001b[38;5;241m.\u001b[39m__getitems__:\n\u001b[1;32m---> 49\u001b[0m         data \u001b[38;5;241m=\u001b[39m \u001b[38;5;28;43mself\u001b[39;49m\u001b[38;5;241;43m.\u001b[39;49m\u001b[43mdataset\u001b[49m\u001b[38;5;241;43m.\u001b[39;49m\u001b[43m__getitems__\u001b[49m\u001b[43m(\u001b[49m\u001b[43mpossibly_batched_index\u001b[49m\u001b[43m)\u001b[49m\n\u001b[0;32m     50\u001b[0m     \u001b[38;5;28;01melse\u001b[39;00m:\n\u001b[0;32m     51\u001b[0m         data \u001b[38;5;241m=\u001b[39m [\u001b[38;5;28mself\u001b[39m\u001b[38;5;241m.\u001b[39mdataset[idx] \u001b[38;5;28;01mfor\u001b[39;00m idx \u001b[38;5;129;01min\u001b[39;00m possibly_batched_index]\n",
      "File \u001b[1;32mD:\\Downloads\\Swahili-translation-English-STT--main\\ASR\\lib\\site-packages\\datasets\\arrow_dataset.py:2807\u001b[0m, in \u001b[0;36mDataset.__getitems__\u001b[1;34m(self, keys)\u001b[0m\n\u001b[0;32m   2805\u001b[0m \u001b[38;5;28;01mdef\u001b[39;00m \u001b[38;5;21m__getitems__\u001b[39m(\u001b[38;5;28mself\u001b[39m, keys: List) \u001b[38;5;241m-\u001b[39m\u001b[38;5;241m>\u001b[39m List:\n\u001b[0;32m   2806\u001b[0m \u001b[38;5;250m    \u001b[39m\u001b[38;5;124;03m\"\"\"Can be used to get a batch using a list of integers indices.\"\"\"\u001b[39;00m\n\u001b[1;32m-> 2807\u001b[0m     batch \u001b[38;5;241m=\u001b[39m \u001b[38;5;28;43mself\u001b[39;49m\u001b[38;5;241;43m.\u001b[39;49m\u001b[38;5;21;43m__getitem__\u001b[39;49m\u001b[43m(\u001b[49m\u001b[43mkeys\u001b[49m\u001b[43m)\u001b[49m\n\u001b[0;32m   2808\u001b[0m     n_examples \u001b[38;5;241m=\u001b[39m \u001b[38;5;28mlen\u001b[39m(batch[\u001b[38;5;28mnext\u001b[39m(\u001b[38;5;28miter\u001b[39m(batch))])\n\u001b[0;32m   2809\u001b[0m     \u001b[38;5;28;01mreturn\u001b[39;00m [{col: array[i] \u001b[38;5;28;01mfor\u001b[39;00m col, array \u001b[38;5;129;01min\u001b[39;00m batch\u001b[38;5;241m.\u001b[39mitems()} \u001b[38;5;28;01mfor\u001b[39;00m i \u001b[38;5;129;01min\u001b[39;00m \u001b[38;5;28mrange\u001b[39m(n_examples)]\n",
      "File \u001b[1;32mD:\\Downloads\\Swahili-translation-English-STT--main\\ASR\\lib\\site-packages\\datasets\\arrow_dataset.py:2803\u001b[0m, in \u001b[0;36mDataset.__getitem__\u001b[1;34m(self, key)\u001b[0m\n\u001b[0;32m   2801\u001b[0m \u001b[38;5;28;01mdef\u001b[39;00m \u001b[38;5;21m__getitem__\u001b[39m(\u001b[38;5;28mself\u001b[39m, key):  \u001b[38;5;66;03m# noqa: F811\u001b[39;00m\n\u001b[0;32m   2802\u001b[0m \u001b[38;5;250m    \u001b[39m\u001b[38;5;124;03m\"\"\"Can be used to index columns (by string names) or rows (by integer index or iterable of indices or bools).\"\"\"\u001b[39;00m\n\u001b[1;32m-> 2803\u001b[0m     \u001b[38;5;28;01mreturn\u001b[39;00m \u001b[38;5;28;43mself\u001b[39;49m\u001b[38;5;241;43m.\u001b[39;49m\u001b[43m_getitem\u001b[49m\u001b[43m(\u001b[49m\u001b[43mkey\u001b[49m\u001b[43m)\u001b[49m\n",
      "File \u001b[1;32mD:\\Downloads\\Swahili-translation-English-STT--main\\ASR\\lib\\site-packages\\datasets\\arrow_dataset.py:2788\u001b[0m, in \u001b[0;36mDataset._getitem\u001b[1;34m(self, key, **kwargs)\u001b[0m\n\u001b[0;32m   2786\u001b[0m formatter \u001b[38;5;241m=\u001b[39m get_formatter(format_type, features\u001b[38;5;241m=\u001b[39m\u001b[38;5;28mself\u001b[39m\u001b[38;5;241m.\u001b[39m_info\u001b[38;5;241m.\u001b[39mfeatures, \u001b[38;5;241m*\u001b[39m\u001b[38;5;241m*\u001b[39mformat_kwargs)\n\u001b[0;32m   2787\u001b[0m pa_subtable \u001b[38;5;241m=\u001b[39m query_table(\u001b[38;5;28mself\u001b[39m\u001b[38;5;241m.\u001b[39m_data, key, indices\u001b[38;5;241m=\u001b[39m\u001b[38;5;28mself\u001b[39m\u001b[38;5;241m.\u001b[39m_indices \u001b[38;5;28;01mif\u001b[39;00m \u001b[38;5;28mself\u001b[39m\u001b[38;5;241m.\u001b[39m_indices \u001b[38;5;129;01mis\u001b[39;00m \u001b[38;5;129;01mnot\u001b[39;00m \u001b[38;5;28;01mNone\u001b[39;00m \u001b[38;5;28;01melse\u001b[39;00m \u001b[38;5;28;01mNone\u001b[39;00m)\n\u001b[1;32m-> 2788\u001b[0m formatted_output \u001b[38;5;241m=\u001b[39m \u001b[43mformat_table\u001b[49m\u001b[43m(\u001b[49m\n\u001b[0;32m   2789\u001b[0m \u001b[43m    \u001b[49m\u001b[43mpa_subtable\u001b[49m\u001b[43m,\u001b[49m\u001b[43m \u001b[49m\u001b[43mkey\u001b[49m\u001b[43m,\u001b[49m\u001b[43m \u001b[49m\u001b[43mformatter\u001b[49m\u001b[38;5;241;43m=\u001b[39;49m\u001b[43mformatter\u001b[49m\u001b[43m,\u001b[49m\u001b[43m \u001b[49m\u001b[43mformat_columns\u001b[49m\u001b[38;5;241;43m=\u001b[39;49m\u001b[43mformat_columns\u001b[49m\u001b[43m,\u001b[49m\u001b[43m \u001b[49m\u001b[43moutput_all_columns\u001b[49m\u001b[38;5;241;43m=\u001b[39;49m\u001b[43moutput_all_columns\u001b[49m\n\u001b[0;32m   2790\u001b[0m \u001b[43m\u001b[49m\u001b[43m)\u001b[49m\n\u001b[0;32m   2791\u001b[0m \u001b[38;5;28;01mreturn\u001b[39;00m formatted_output\n",
      "File \u001b[1;32mD:\\Downloads\\Swahili-translation-English-STT--main\\ASR\\lib\\site-packages\\datasets\\formatting\\formatting.py:637\u001b[0m, in \u001b[0;36mformat_table\u001b[1;34m(table, key, formatter, format_columns, output_all_columns)\u001b[0m\n\u001b[0;32m    635\u001b[0m \u001b[38;5;28;01melse\u001b[39;00m:\n\u001b[0;32m    636\u001b[0m     pa_table_to_format \u001b[38;5;241m=\u001b[39m pa_table\u001b[38;5;241m.\u001b[39mdrop(col \u001b[38;5;28;01mfor\u001b[39;00m col \u001b[38;5;129;01min\u001b[39;00m pa_table\u001b[38;5;241m.\u001b[39mcolumn_names \u001b[38;5;28;01mif\u001b[39;00m col \u001b[38;5;129;01mnot\u001b[39;00m \u001b[38;5;129;01min\u001b[39;00m format_columns)\n\u001b[1;32m--> 637\u001b[0m     formatted_output \u001b[38;5;241m=\u001b[39m \u001b[43mformatter\u001b[49m\u001b[43m(\u001b[49m\u001b[43mpa_table_to_format\u001b[49m\u001b[43m,\u001b[49m\u001b[43m \u001b[49m\u001b[43mquery_type\u001b[49m\u001b[38;5;241;43m=\u001b[39;49m\u001b[43mquery_type\u001b[49m\u001b[43m)\u001b[49m\n\u001b[0;32m    638\u001b[0m     \u001b[38;5;28;01mif\u001b[39;00m output_all_columns:\n\u001b[0;32m    639\u001b[0m         \u001b[38;5;28;01mif\u001b[39;00m \u001b[38;5;28misinstance\u001b[39m(formatted_output, MutableMapping):\n",
      "File \u001b[1;32mD:\\Downloads\\Swahili-translation-English-STT--main\\ASR\\lib\\site-packages\\datasets\\formatting\\formatting.py:400\u001b[0m, in \u001b[0;36mFormatter.__call__\u001b[1;34m(self, pa_table, query_type)\u001b[0m\n\u001b[0;32m    398\u001b[0m     \u001b[38;5;28;01mreturn\u001b[39;00m \u001b[38;5;28mself\u001b[39m\u001b[38;5;241m.\u001b[39mformat_column(pa_table)\n\u001b[0;32m    399\u001b[0m \u001b[38;5;28;01melif\u001b[39;00m query_type \u001b[38;5;241m==\u001b[39m \u001b[38;5;124m\"\u001b[39m\u001b[38;5;124mbatch\u001b[39m\u001b[38;5;124m\"\u001b[39m:\n\u001b[1;32m--> 400\u001b[0m     \u001b[38;5;28;01mreturn\u001b[39;00m \u001b[38;5;28;43mself\u001b[39;49m\u001b[38;5;241;43m.\u001b[39;49m\u001b[43mformat_batch\u001b[49m\u001b[43m(\u001b[49m\u001b[43mpa_table\u001b[49m\u001b[43m)\u001b[49m\n",
      "File \u001b[1;32mD:\\Downloads\\Swahili-translation-English-STT--main\\ASR\\lib\\site-packages\\datasets\\formatting\\formatting.py:448\u001b[0m, in \u001b[0;36mPythonFormatter.format_batch\u001b[1;34m(self, pa_table)\u001b[0m\n\u001b[0;32m    446\u001b[0m \u001b[38;5;28;01mif\u001b[39;00m \u001b[38;5;28mself\u001b[39m\u001b[38;5;241m.\u001b[39mlazy:\n\u001b[0;32m    447\u001b[0m     \u001b[38;5;28;01mreturn\u001b[39;00m LazyBatch(pa_table, \u001b[38;5;28mself\u001b[39m)\n\u001b[1;32m--> 448\u001b[0m batch \u001b[38;5;241m=\u001b[39m \u001b[38;5;28;43mself\u001b[39;49m\u001b[38;5;241;43m.\u001b[39;49m\u001b[43mpython_arrow_extractor\u001b[49m\u001b[43m(\u001b[49m\u001b[43m)\u001b[49m\u001b[38;5;241;43m.\u001b[39;49m\u001b[43mextract_batch\u001b[49m\u001b[43m(\u001b[49m\u001b[43mpa_table\u001b[49m\u001b[43m)\u001b[49m\n\u001b[0;32m    449\u001b[0m batch \u001b[38;5;241m=\u001b[39m \u001b[38;5;28mself\u001b[39m\u001b[38;5;241m.\u001b[39mpython_features_decoder\u001b[38;5;241m.\u001b[39mdecode_batch(batch)\n\u001b[0;32m    450\u001b[0m \u001b[38;5;28;01mreturn\u001b[39;00m batch\n",
      "\u001b[1;31mKeyboardInterrupt\u001b[0m: "
     ]
    }
   ],
   "source": [
    "from transformers import Seq2SeqTrainer\n",
    "import transformers as tf\n",
    "early_stopping_patience = 10\n",
    "trainer = Seq2SeqTrainer(\n",
    "    args=training_args,\n",
    "    model=model,\n",
    "    train_dataset=swahili_final[\"train\"],\n",
    "    eval_dataset=swahili_final[\"test\"],\n",
    "    data_collator=data_collator,\n",
    "    compute_metrics=compute_metrics,\n",
    "    tokenizer=processor.feature_extractor,\n",
    "    callbacks=[tf.EarlyStoppingCallback(early_stopping_patience=early_stopping_patience)],\n",
    ")\n",
    "\n",
    "# processor.save_pretrained(\"./whisper-small_real/50-data_processor\")\n",
    "\n",
    "\n",
    "## 17. Training\n",
    "print(\"\\n\\n Training STARTED..\\n\\n\")\n",
    "\n",
    "train_result = trainer.train()\n",
    "\n",
    "## resume from the latest checkpoint\n",
    "# train_result = trainer.train(resume_from_checkpoint=True)\n",
    "\n",
    "## resume training from the specific checkpoint in the directory passed\n",
    "# train_result = trainer.train(resume_from_checkpoint=\"checkpoint-4000\")\n",
    "\n",
    "print(\"\\n\\n Training COMPLETED...\\n\\n\")\n",
    "\n",
    "\n",
    "## 18. Evaluating & Saving Metrics & Model\n",
    "print(\"\\n\\n Evaluating Model & Saving Metrics...\\n\\n\")\n",
    "\n",
    "processor.save_pretrained(\"./whisper-small/largest_split\")\n",
    "# trainer.save_model()Sace\n",
    "\n",
    "metrics = train_result.metrics\n",
    "trainer.save_metrics(\"train\", metrics)\n",
    "trainer.save_state()\n",
    "\n",
    "metrics = trainer.evaluate(\n",
    "    metric_key_prefix=\"eval\",\n",
    "    max_length=training_args.generation_max_length,\n",
    "    num_beams=training_args.generation_num_beams,\n",
    ")\n",
    "\n",
    "trainer.save_metrics(\"eval\", metrics) #1.5 minutes"
   ]
  },
  {
   "cell_type": "code",
   "execution_count": 132,
   "id": "e20d75a0-9536-4bdf-8058-3d56e6c7cb1b",
   "metadata": {
    "scrolled": true
   },
   "outputs": [
    {
     "name": "stdout",
     "output_type": "stream",
     "text": [
      "['i would have taken the money from the phone i had borrowed ', 'a few times in a week ', 'there is none ', 'it is better for people to withdraw money through the members to know what is happening ', 'one is work and the other one is paid daily and can make 500 shillings the other one doesnt work and is paid 1000 shillings ', 'once a week ', 'a few times ', 'to call people ', 'one is a teacher and the other is a teacher ', 'yes ', 'okay it is our responsibility as as we do not believe each other when you will be to trust someone you will be told that you have not used your money even if you do your best to be honest you will be given a loss so at this time you want to be given another loss you must first be honest in order to repay that money so that you are not to be believed or lost in other matters ', 'it is the responsibility of the company the company that gives those offers of doing online work to ensure that those people don t see it everyone is safe ', 'i would buy my sim card because many people will see it and will lose a lot of money in the future so i would buy that ', 'business ', 'i dont know ', 'i haven t posted anything online ', 'i fear ', 'we meet once a month and we usually contribute five hundred to the internet when you borrow you will borrow according to the time you ve been given a loan if you ve been given a loan of fifteen thousand you can get a loan of ten thousand or twenty thousand ', 'am a cobler ', 'no one uses it ', 'several times in a day ', 'when someone borrows and fails to repay his loan at that time it is good ', 'i use true caller to call me ', 'at other times i can send money to a wrong number or buy credit from a wrong number ', 'those videos are very annoying at times so i don t like them at all ', 'i share with friends and my siblings ', 'my job is farming and i sell vegetables ', 'they make no money they find work ', 'sometimes maybe you can pay in cash if you want to pay on time ', 'data bundles ', 'there are many benefits than those challenges ', 'beatles and things ', '1986 ', 'once a month ', 'i use whats app to check up on friends or to send messages ', '1997 ', 'mostly its once a month ', 'several times a day ', 'there 6 children and all 6 go to school ', 'i have three sim cards i have one that i have use to register till then i have one that is empty then i have airtel i have three ', 'in my opinion she should know that there is a police station where you put human rights if people do business they are supposed to be bought by that person you can t stop them from being afraid of those human rights people who can rob people ', 'to receive information ', 'several times a month ', 'there 2 children and all 2 go to school ', 'several times a month ', 'there is a sim card for making calls a sim card for work a sim card for communication and there is a sim card for making calls to receive but my contact list and my relatives number are not available ', 'i am a teacher ', '1000 shillings ', 'okay you go to school in the house and then you are given the opportunity to go to school in the house you must go to school in the house ', 'i use it anytime i want to take a photo any time i want to take a photo any time i want to take a photo any time i want to take a photo any time i want to take a photo any time i want to take a photo any time i want to take a photo any time i want to take a photo any time i want to take a photo any time i want to take a photo any time i want to take a photo any time i want to take a photo any time i want to take a photo any time i want to take a photo any time i want to take a photo any time i want to take a photo any time i want ', 'i would not watch them ', 'yes i do use ', 'friends ', 'my mother is not working while father works in farmington county and he is paid 500 shillings per month ', 'for communication and to post the people i want are the people i know ', 'sometimes i can borrow money with interest and sometimes i can borrow money sometimes i get cheated by people sometimes i get cheated by people sometimes i get cheated by people sometimes i get cheated by people ', 'i have three of them ', 'am not working am a volunteer and there is no amount of money available ', 'most of them are like a suggestion of what i watch so if i realise that they are related to what i m watching then i just go on and watch them it is very important ', '1987 ', 'no ', 'i use data bundles or wi fi wherever i go whenever i don t have wi fi ', 'as a child i had bundles ', 'business ', 'no ', 'there are two sim cards and one for everyone ', 'two i always use ', 'farming ', ' buy the service that you have been given is good but you must know that it is good because you will be given a loss if you don t use the service the service will help you a lot you must be able to understand it so that you can say that if i was you i would buy something for you ', 'you will miss the money and you will have to pay it back at times you will miss it a lot of time at times you will miss it or you will have to work to finish the money ', 'swahili ', 'i can t stop myself from watching my friends videos ', 'i use it mostly for cyber or if i put it on the phone for my smartphone i use data bundles and for cyber i use wi fi themselves to look at what s happening ', 'i do business and in a day i can make between 1000 to 1500 shillings ', 'one is employed by kisipiki language and the other one is paid 1000 shillings per month at the end of the month ', 'i look for work ', 'a few times in a day ', 'at other times i get bored with it i go to other places but at times i stay even more than one thousand ', 'i think the interest is much more because having an online business is okay and you ll have more customers than the internet so the benefits are much more than other interests ', 'at times a day ', 'it depends on how i have found out ', 'am a hair dresser i make business out of it ', 'there are no children ', 'i can t speak swahili ', 'i use mobile bundles and wi fi anytime i want to go ', 'he is afraid and goes to school ', 'i usually go to the different places that i visit when i do my work ', '1974 ', 'once a day ', 'friends and also other people ', 'with the public ', 'i can use them like twice a month ', 'my husband ', 'i use it anytime i want to take a photo like in june or august i take photos because they are annoying so when i want to take photos i use it anytime ', '1998 ', 'the enjoyment of selling on another side is that you pay and the message comes along if you are not careful as you are getting the information immediately ', 'that is good because it helps me get credit ', '1996 ', 'what am doing is teaching me to put my account online ', 'i share with my friends and also the whole community ', 'no i dont go to other places i work in ', 'there 3 children and all 3 go to school ', 'to chat ', 'another person who deals with banking matters is my husband ', 'i could have bought it so that i don t get scammed ', 'several times a day ', 'my opinion is that she should pay her loan so that she can serve her customers so that she can be good and able to do business ', 'twice a month ', 'it is a good thing if you will afford to borrow and pay ', 'unemployed ', 'to chat with friends spread business on the internet and watch better news ', 'two days ', 'if there is a problem i fear because if you will get harassment it is not a bad idea to me i am the one i get their share and i continue with business ', 'it is the responsibility of my parent but there are those who can t do their business well they should pay their debts because they are annoying but you do business online that is not bad until you know you are doing something right ', 'they don t know ', 'i keep quiet ', 'the government is the one who works on it they are the ones who harass people ', 'paid his debt ', 'yes i do go when there is need ', 'to be honest i m very worried my worry is that you can face one problem and you don t want someone to come up with your plans to face it you think you will be okay but it happens at times one has been harassed or the money takes him 3 people and 4 will go to the wrong place but it is you who is who no one is lost like that that is something to risk ', 'i share with my friends ', 'no responce ', 'there 3 children and 2 go to school ', 'they are just old but i use them a lot to make calls ', 'i use whats app to send messages and also to do other things ', '1978 ', 'friend ', 'some people may know me when they see me for example if i am scammed ', 'i have my own data bundles on the phone that i use for ', 'i use whats app to communicate with groups and to get information about the community i use whats app to make my communication with the people online maybe ', 'my opinion is that other members if they borrow and take loans they better add ', 'i use data bundles ', 'i haven t understood there ', 'the sim cards are three and i use all of them ', 'a few times in a week ', 'i do business to increase my income and in a day i can make like 500 shillings if i dont make a lot of work i make like 200 to 1000 shillings ', '5000 shillings ', 'my parents are all that work they dont have a source of income they are just here as a student ', 'one is for calling one is for using like browse buy bundles and also buy bundles ', 'i don t have children nor am i also a student ', 'the con men are very worried because they lose my account then the money you lose save and then they take it they get my pin and then take it without losing my account ', 'no i dont go to other places ', '1992 ', 'i use facebook to chat with my friends and to chat with my friends as well as what they do ', 'i use all of these sim cards there are times maybe when i can i always do not want it to combine with my personal the other one is for maybe saving money maybe if someone has collected money throughout the day that s when ', '2000 ', 'not to be loaned we meet up when it comes to online work ', 'they are not working they are jobless ', 'because my phone has me and i m alone in the house i can t do any work that comes by so to be able to see what i am doing but if i am alone i can be forced to do something ', 'i sell foodstuff at my place of work and my place of work is elsewhere ', 'yes i use wi fi currently am at home ', '1994 ', 'there is someone else ', 'the whole day ', 'they are not working ', 'i share with friends who are watching ', 'i share with the public ', 'my friends ', 'once a week ', 'once a week ', 'i use bundles and internet ', 'i have not heard ', '1 child and goes to school ', 'i use it to chat to look at my business ', 'i have a doubt because in the internet there are people who continue to abuse my husband so when i get the information when i get the information from the internet to use on whats app i must take action and ensure that the information is well received because there are others who are harassing me ', 'to communicate get information get information internet ', 'business of selling my products online my phone is between 25000 to 100000 shillings per month ', 'the benefits of selling online are that you see customers the more you have and attracting online customers ', 'unemployed ', 'not that regular it is only when the need arise ', 'the family if they know how to save they can want to make money by making other ', 'i haven t known it s so safe ', 'i have not heard ', 'when i make money i dont no saving ', 'it is communication and some interruptions in business in my business ', 'there is a child who is not paid primary school fees ', 'my husband is a tailor but he is supposed to be safe because he is a tailor and he sells clothes ', 'i dont have work ', 'truecaller helps me to find out who is calling me even if it is a strange number ', 'its the tracking device and everyone else s information ', 'yes i do household work ', 'i have alone ', 'home wifi ', 'there are no people who have access to the bank ', 'my opinion is that she should not do that business online because she would have taken her money or she would have taken someone else to run their own businesses online ', 'the benefits are very few but now we have seen how there are benefits one you can send this chat these harassment and these people are many many people maybe you send to someone and they see you have sent you something and they see you have sent you something you ask for money but you can t get the money then you go and send to your friends so everyone has the advantage of being told about this but now we have seen that now everyone has the advantage of being called or in a hurry ', 'i use the camera for like three weeks but i hardly use it ', 'my opinion to moraa is that she should make a mistake because there are people who can pay with the phone that time a person goes and take the money and goes back that is to make a mistake when they take the money then someone has the opportunity to sell at a stall to make a mistake so moraa should make a mistake because she has many issues with phone repair so it is good for her to do such and such ', 'i havent started working else ', 'i delete those applications when i want to watch a movie ', 'there is none i am just here for my money ', 'sometimes i m a little bit transfersionist and on my phone i might be receiving a wrong till or wrong till number so that is always my concern ', 'i am usually worried about those other people who take my money there are some people who know that you have money on the phone and can they are afraid of your phone being hacked and they find that you have money that s why i am usually worried ', 'the benefits of selling online are that you can reach many people that business can be anywhere anywhere you can be in a business you can keep your products online so that you can get to sell quickly so that you can go and take more ', 'if truecaller helps me to know who is calling me i use whats app or facebook to ', 'i wouldn t buy it because now in the nation we are living in even if you just try to protect yourself the same person who you have buy for them they are the same people who are used to con so i don t think there is any need for us to continue buying because they will do it again ', 'she doesn t send friends ', 'the ones i work with are the ones i save money in or throughout so that when i am done with it i can continue with it ', 'a few times ', 'if you pay with mpesa you will not get a job but if you do go through to get your own money you will see that he has not posted any customer ', 'several times a week ', 'i fear people ', 'to be honest several times that are uncountable in a month because usually during the day if he is at home i listen to music or watch and if he is not i come in the evening so it is several times a month ', 'in a day or 2 we meet after 2 weeks then you are given a loan according to the shares so if you find they are a little bit i can lend you the money we start by lending them one hundred and get the money in open shares ', '1969 ', 'i use it most of the time as it makes me happy ', 'there is no child ', 'time to time ', 'once a week i make 500 shillings per day ', 'yes i do go ', 'it is not a bad idea to sell ', 'the videos that i watch they are related to what i am watching so sometimes i watch them and get the deadline so it makes it easier for me to watch whatever i want to watch very fast ', 'once a week ', '1989 ', '1995 1978 ', 'i would just ask for the money so that the money doesn t come to safaricom that s why maybe safaricom is more money than aor ', 'twice a week ', 'yes i do go ', 'if you take a loan of ten thousand and pay on time there is a chance that the people will borrow again because you pay at the right time and also you will be late for payment because you are being believed ', 'any time i want to call or visit my friend s place or internet place ', '1971 ', 'at times he sometimes ', 'yes i do have a doubt because no one knows my pin and i use my money for accounts i use them all i use the accounts that have a secret ', 'there is none ', 'they are usually like that i was to buy just that to protect myself from these scammers ', 'i dont know ', 'we used to work in a different place but now we are together in the house we make calls or we share their information ', 'i don t ', 'it s okay because with a lot of money you know now if it s like that you can pay in a day and you find that you ve been sent money at a wrong place you will be losing money later on ', 'their only work is farming ', 'i have four ', 'i haven t heard well ', 'i don t use them ', 'for whats app ', 'many times i would help out in other places ', 'i can t but i sell from my home market then i make money from it ', 'okay in this i have one service which is for a long time i use it all the time at times its not many days or in a month or week ', 'i don t have any worries someone can ', 'english ', 'frequently since i use the phone anytime i want to take a photo let me show you the screen and use it later ', 'there 6 children 5 go to school and 1 is still young for school ', 'i have a shop selling copia products and mostly i make 200 300 and even 1000 shillings a day ', 'i use home wi fi ', 'those videos have given me doubts maybe some businesses are for advertisement or to watch some things ', 'my friend ', 'twice a day ', 'it depends but it can be twice two times a month or even once a month ', 'yes i do go to other places to work ', 'i watch breaking news ', 'i would buy it just so that the scammers can be seen so that the price can be increased i now go to truecaller it is given a name i just use it ', 'first there are some who can lie that they are sending money to the phone and then they send and reverse that is the problem first the second one was the one who had fuliza it was the one who saw that if you send that money fuliza will go to or someone will send you money to a fake and it will go to ', '1999 ', 'yes i do i do to work in other places as you can tell me where you are ', 'someone can use that maybe you can say once a week ', 'it is for registered people to use ', 'those apps are usually very annoying maybe because of the organization or because you try to watch a video on the internet they are very annoying sometimes they pop up ', 'if the service was good you would be paid another amount ', 'that service is good it helps a lot because you can be given a certain amount of money and you will have to pay it little by little and if you get it you pay it little by little so that you pay it on the right day ', 'i run a business of selling clothes ', 'i dont want them to know ', 'majorly it is work and it is for the person not to be harassed ', 'okay at the moment i get a profit of 2000 but when i am ready to make sure i save i don t want to give them money if i happen i just save ', 'i have no doubt in any of them ', 'in the internet you sell out to people from your parents different people your business can go to that of them people you see in the internet not like you go to other people s places ', 'her opinion is that if you pay her loan she should just continue to continue to continue to do so compared to someone who is on their side or who is on their side ', 'they are increasing as they get more to there needs to be ', 'i have three sim cards and i use two one is for closing ', 'i have not heard yet ', '70000 shillings per month ', 'all children go to school ', 'several times a week i save through the bank ', 'it is five but i use one ', 'i would not buy that service because it is the responsibility of the communications person to ensure that communication person is received by the customer ', 'like my friends that i keep money and then they charge high amounts they can make a profit of 10000 shillings ', 'online business ', 'they dont work ', 'i work in a shop ', 'data bundles and wi fi ', 'am a student i do work and am paid 500 shillings per day ', 'okay i use it for a day ', 'my father ', 'no i only work at my place of work ', 'i fear because someone can moneylady and fear not ', 'it is me alone ', 'okay my opinion is that she lost a customer and that is the money she is getting ', 'a few times in a week ', 'no ', 'i go to other places only i visit my business from the other places ', 'saloon ', 'any time i want to take a photo of what i have sold i use it ', 'i do casual work dont have a specific job am paid 500 shillings per day then i do casual work at times i make 500 shillings its usually a salary then at times i make 300 shillings ', 'one is for doing casual jobs the other one is for doing transactions on the phone ', 'if they increase your limit they increase your limit alone with respect to your business or an investment so that you are able to pay it within the required time ', 'there is no one in my household that works ', 'i use my mobile data bundles ', 'i didn t understand that question i mean can the language if it is the language it is english ', 'they are two and yes i use them ', 'i haven t heard yet ', 'no ', 'no i live with my husband and i stay with him since we were little ', 'i think it is the responsibility of an individual to ensure that there is security in business ', 'i watch times and times my friends times ', 'that s what i do ', 'i dont know what work they do ', 'i have two sim cards and i use all of them ', 'benefits of selling online are that many people on the internet and your products are well known you see they are getting a lot of customers you see there are many people on the internet they get a lot of customers and you see there are no others you can call in to sell products ', 'at this time of the year i dont have the money so i make a profit of 400 shillings ', 'a few times in a day ', 'we do advertisement and advertise work like copia and also to communicate with friends ', 'its only me 3 years and i dont have any debtors ', 'i don t want them to know because their only worry is to get hold of me ', 'electriction ', 'i do my personal business as a self employment ', 'i think moraa should just pay so that she is not harassed ', 'to communicate ', '1991 ', 'your opinion is absolutely wrong ', 'i haven t heard of that device that can be used in any other way ', 'twice a week ', 'sometimes information is not true some goods ', 'i am bored because i am bored when i am bored ', 'i use that safaricom to make calls ', 'there 9 children and 6 go to school they rest small ', 'i just find them difficult to explain to people ', 'i live alone ', 'i have 7 children and all 7 go to school ', 'i use whats app to promote my business and to communicate with my customers ', 'the benefit of selling online is that you will get many people and you will see that there are many people availability of selling online ', 'i m a tailor as to how much i make as for the time i make i depends on the day i make it is i make and sell my products ', 'its only my work that i do in a week at times i save once a week ', 'bell ', 'twice a week ', 'my father is a farmer my mother is a farmer their income is not bad but i want to say that it is good ', 'we contribute two fifty every day and no one is loaned and there is no meeting the meeting is the only one and we contribute money if there is any business ', 'data bundles are usually paid 300 or 400 shillings ', 'it is the responsibility of the machine ', '2001 ', 'no i don t have another job ', 'i have three sim cards of which i use all of them two for safaricom and one for airtel all of them have uninsert usage and these sim cards are in use ', 'yes i use them all but for my children i use them for my children ', 'i have a shop where i sell clothes and that is what i make for the customers from that month ', 'i use whats app to get information and go to groups there is a group that has there is a group that don t have now i use whats app to get information ', 'it is the responsibility of everyone to ensure that women are not discriminated they should also protect their rights in order to prevent these bullies ', 'i have never heard ', 'i have heard but i have never used it ', 'bundles ', 'i haven t heard ', 'it is the responsibility of all of us the activities of the community as such are not supposed to be on the internet they should be on the internet also it is the responsibility of the internet owners and the owners of the internet owners ', 'i don t see a specific person i don t want them to know who you are calling they should know that i m calling i m just not supposed to know ', 'different situations and situations like that ', 'it is something that will prevent people from borrowing money ', 'its only one person that works and is paid 500 shillings per day the rest are not working ', 'if it would be a service to protect your needs and to play with i would buy it to protect myself because it would help me if i wouldn t lose the knowledge i have to lose when i play with it so i would buy it if that is the way it should be ', 'small business ', 'there 4 children and 2 goes to school ', 'they are annoying so mostly people who are the owners of the internet should be careful in those cases we use house chores and these days there are few people who we don t know how much they earn for food ', 'worry comes when you send the money to someone and then you get a number or a form that you put in ', 'my father works as a saloonist and he is a government counsel of mombasa and my mother works as an administrator at the technical university of mombasa to be honest i don t know how much she earns as of now as all her customers are in the saloon ', 'i would buy that because i don t want my safety ', 'several times a week ', 'they are three and i use all of them ', 'i use the safaricom network when i am looking for my friend ', 'to talk to friends and to follow up ', 'i use my whats app several times in a day like when am at work most of the times i even buy from online shop ', 'i am worried about my children because these days there are few people who are sick there are others who are not well versed in the community such as me my husband and i so mostly i am mostly worried about my children ', 'my not for different data bundles ', 'just anyone who can come up with my phone and see my stuff it s not good ', 'data comment and media ', 'on the zeta side for me if i buy for myself on the zeta side i don t get the interest from the phone the interest in borrowing even if it is the ones i am used to i don t get the interest from the phone ', 'i use my phone every time that something has appeared and i am there ', 'they do construction work in a month they make 5000 shillings every month ', '1993 ', 'almost all the relatives my wife and those who call me can know why i fear when i borrow their number and it is called their likes and fears when they call and want to send money there who else can be called in order to reach you that is the worry i have ', 'it helps me because you can get an identity that someone has not been able to know where i have called him so most times i go through true caller and that s what i ', 'the benefits of selling online are that you can make customers or customers many more and also sell your products and get many benefits ', 'truecaller helps me to know the true identity of someone that is calling me ', 'i use it everyday as i stay for a few times in a day ', 'i have very little money so i can make between 20000 and 50000 shillings ', 'no i have never gotten a device that follows me ', 'it is everyone s responsibility to ensure that harassment of women is stopped because it is a responsibility of everyone to do their job well ', 'swahili ', 'it depends but i don t want to much ', 'i go to moraa to work in a day i make 300 shillings per day as i make 300 shillings per day i make 300 shillings per day ', 'my opinion is that she should pay the customer so that the money does not get sent to them she should not be in the wrong place she should send to the customer and pay them on the mobile phone so that the money does not get sent to them she should not be in the wrong place ', 'i was just amazed at how much they earn ', 'i use mobile data bundles ', 'i have not heard ', 'i do casual jobs that come along and make 700 shillings ', 'i have a casual job where i do casual jobs am employed and am paid 500 shillings per day ', 'they are very annoying and i hate them ', 'every one ', 'the responsibility is yours businesses are online on the responsibility of the business ', 'i alone ', 'small business ', 'yes i use all of them ', 'i would be able to buy this device which would help me do the people who are outside of kenya would be able to help them because they would help people and i would be able to inform people that you can buy this device and it would help people ', 'i can get like 20000 shillings per month it is not a big profit as i can t pay in full at times i make 500 shillings which is not a lot as i can t pay in full ', 'i use bundles ', 'yes i do go to different places even if i dont go i dont go to other places to work ', 'no i have never used that one ', 'i use data bundles ', 'like a shopkeeper there is no one who is giving me the money ', 'once a week you can borrow even twenty thousand ', 'women ', 'i have four and i use all of them ', 'at times moraa doesn t want to be paid so she has to pay at times she wants to be paid at times she wants to be paid at times she wants to be paid ', 'a few times in a week not everyday but after every month ', 'i do delivery and service farming ', 'my parents ', 'there are people who lie to you and others post lies but they are not honest ', 'the benefits of doing so is that you will be able to take a big amount from people then you will have an additional group so those people you can know your products and also they will not be known and also they will want to be in the world you can see your products in the world ', 'there is my sister that is account for airtel and i share their information ', 'no i have not heard ', 'i am not worried about money being deducted i am worried about the need for payment money to the government or any other person i am worried about the cost but i do not see why that is a problem ', 'they dont work ', 'there is a lot of harassment good effects are that you sell well but everyone knows even someone who is not well known has a delivery he is given a order ', 'the benefit of selling online is that you will have many customers but when you go to college you will find that you have finished school and you have not finished you will be thieves ', 'we help each other ', 'i hear it is good because you have a lot of advertise you go online and you find that someone you are close with is getting a lot of advertisement it just goes away ', 'five ', 'maybe once a month or at times a month doesn t interest me ', 'i do casual jobs i dont go to other places to work ', 'swahili and english ', 'truecaller helps me to identify who is calling me it can be that who is calling me and i don t know who they are also it gives you a warning if the caller calls you if you don t have your phone you know who is calling you ', 'my parents are not working while my brother is in the bank ', 'those who do the construction of the house should ensure that the work done is not a lie that on the internet you are not doing any work ', 'family members ', 'yes when i get clients from outside the country i go ', 'i have registered using my name and the names of the people i live with ', 'the messages that i get on youtube are usually just advertisements or something that i have heard heard or heard in any other music that i get ', 'they work and earn atmost 30000 shillings when they work ', 'my opinion is that moraa is not good if she is loaned it is not good to pay up the debt ', 'at times i dont go ', 'it is the responsibility of the government but it is the responsibility of the internet owners there are others who do not like my stuff now if the government is the one who gives me information i will take that information in order to avoid them from getting ', 'it is the responsibility of everyone who uses the internet who wants to buy and those who are too who sell to sell the internet ', 'when a person wants to pay off the loan he can find that the money is not in it he has already sold so he has taken a lot ', 'no i have never gone to other places ', 'i normally use wi fi at home ', 'its only my husband who works as a barber ', 'i use one sim card for transactions and this happens every month maybe the time when i m doing my savings the time i m dealing with banks it is one line the other one is a general one which is a work line then the other one i use it for the internet i use it to load bundles ', 'no i dont go to other places to work only one place ', 'i dont use them very much ', 'no i dont go to other places as i work here ', 'the opinion of mambu will continue to be used ', 'could you repeat the question ', 'my opinion would be that you should accept that money my opinion would be that you should accept that money because there are many people who would like to be given to you ', 'yes i use all of them ', ' selling online is very good because you get bored with what you re selling online and you pay you pay and you pay you pay so i would just sell online like borrowing is very good because if you pay something you pay you see that is you pay ', 'i run a saloon and i make 500 shillings ', 'there 2 children and all 2 go to school ', ' the videos that i post when i watch youtube are usually also small i usually watch them some are causal some are even regular like they are good ', 'i use whats app to chat with my friends and i also use whats app to make copia orders for them only ', 'i would buy it because i don t want the details to come out when i see the scammers the scammers should be kept quiet so that the device can be checked who is calling you so to check who is calling you it is better if ', 'it is the responsibility of everyone to ensure that women are not being harassed on the internet and that also their return to ensure the women s commmunity and their income ', 'it is someone s responsibility to ensure that women are not harassed and also they are not on the internet they are supposed to fill out glasses of respect so that the standard of living can be increased ', 'once a month ', 'i use once a month or a few times a day it depends ', 'there is one person who meets every week and the other one who meets once a month and every financial group is like one person i borrow about ten thousand from twenty thousand but it is also a matter of school fees every other day because i have got ten thousand i borrow two thousand only one thousand ', 'if a person has borrowed money in a moving service they should increase the limit ', 'safaricom line is usually a go to device but now we are at a different place where we are not ', 'we meet twice a month and we contribute two hundred shillings every time we meet we usually borrow two thousand shillings ', 'i use whats app to communicate with my family members and also to ask questions ', 'one is to use for my clients one is for money saving and one i use a different network which is airtel ', 'i use all of them they are in my work ', 'i dont go to any other place i stay at my place of work and am called to work from the place i live in ', 'one works as a farmer at a hospital he gets paid 20000 shillings per month while the other one works as a teacher at a hospital he earns approximately 50000 shillings per month while the other one doesnt work ', 'to post advertise chat with friends and free their friends to do videos and others and also to look at adverts that have emerged to communicate with people ', 'to look at stuff ', 'it is the duty of the women themselves and the women around us to make sure that they empower and sell their products online it is the duty of the women and the friends to make sure that they support each other ', 'what i would like to be bought is that i am worried about theft that i will go up but also what i will do if i buy is that i am so far i have not been able to get that i have been informed that i have not been able to get it not been given a loss also i can buy that to my child ', 'the person i live with because someone i am a tailor ', 'those videos sparkles ', 'there are many benefits a lot of people see and sell online you can get many customers ', 'i usually look at i usually look at i usually look at but i usually i mostly see what i do see on but i usually look at like once i can look at my friends my family members so that they can be able to see my friends ', 'one is a school going child and the other is a workable every day is paid 500 shillings per day ', 'i put passwords ', 'apps that we install on whats app in the phones that we use for online banking sometimes they fail to work when you want to withdraw money and they have started malfunctioning it forces you to wait for even two days before it starts functioning ', 'i use data bundles ', 'once a month and it can be loaned ', 'i use the internet ', 'i would not buy that service because it is duty of the internet owners to ensure their customers to be safe and to protect them from connings so it is not like there is a service that will help those who use the internet ', 'it shows k m o m b o c ', 'there no children ', 'i use mobile data bundles ', 'home wifi ', 'i don t see any problem because i believe that the moment you enter a debt in a new place you may start doing something to remove it that is why i don t want to be safe ', 'i would not want that to happen ', 'there 3 children and all 3 go to school ', 'i would like to buy so that i can be able to pay my account long ago so that i can access my money and access my phone ', 'to send messages to use on whats app or to see ', 'it helps people to get money when you watch those videos ', 'they are two people ', 'i have one sim card where i use the email for making and using calls and the other one is for m pesa so the other one is for data bundles mostly data bundles i use data bundles mostly but not often ', 'the importance of help is that it is ', 'if there was a call it could help me because someone can call me and i don t know who they are thats when i can change to make calls ', 'if i could borrow i would borrow so that i increase my amount other times for example if i am ready to borrow and pay at the right time ', 'i use facebook several times a day or when i find time like data bundles once a day or even when i have time like once a day ', 'i save money by using the phone a few times in a week ', 'someone can ', 'i use home wifi ', 'i have seen on facebook ', 'a few times in a week ', 'i don t like posting anything on facebook there is no one sharing it ', 'selling online is okay because it gives many customers more benefits than that of selling without worry ', 'i use facebook from time to time ', 'we do hustle and parcel business ', 'to chat with friends to check on advertisements they can be in a facebook network they are sold on groups they do discussions to help people but they do facebook ', 'the worry i have is that when you pay or when you pay you can find that that product that you want or someone like you send that that service that you want and the money will not be able to go ', '1 child and goes to school is still young ', 'yes ', '1994 ', 'i have no comment on it i just feel like destroying it ', 'once a week ', 'i would pay for it because it would be less ', 'i would buy it so that i can protect myself against those cons ', 'the government the government is supposed to protect women from any thing ', 'no i haven t heard ', 'there are my brothers who are in the university and they all depend on the bank ', 'to be honest these days many customers are not working on the internet as well as do business and to be honest they are not working their income is not much but it is good ', 'no i work at home ', 'i have never heard of it ', 'its only me who works at a place like this one ', 'i have never had such a device ', 'it is the responsibility of the internet owners ', 'we always meet once a month and each gets paid per month we pay the next month and each gets paid the next month we can be loaned one thousand shillings each month ', 'one is for looking at the other one is for m pesa ', 'selling of fish ', 'two ', 'a few times in a week or a month ', 'i can buy it because i want the client to know where or when i want to take care of me so i can buy it because i want him to know where i want to go in order to get the client to know where i want the product i don t want that client to know where i want the product ', 'mecanic ', 'since all of them are business people and if its the same business money if its the same business it can be two and the same can be different ', 'okay you can say this m shwari sometimes i look at you know what i go to other places and friends are the ones who i share with ', 'moraa has a debt now she has no right to refuse because if i were her i would accept it my money is mine and that is what i want i don t want her to accept just that send her money and pay one thousand for her debt ', 'my father mother and my brothers ', 'i see that with your loan you see that it increases because you have already paid the amount of interest you saw it you saw the money maybe it was a loss so i see it as a loss ', 'chatting ', 'you know to do work then someone increases your loan limit to borrow money it seems they are struggling to learn and also are not going to school in school it is not good ', 'i use all of them because they are two lines ', 'i have never used such a device ', 'i have a grocery stall and i make a living without it i am a business person i use the smartphone ', 'i use facebook mostly once a week its a while it comes you use it everyday but its a secret its not a secret what i have to hide ', '1969 ', 'to send messages ', 'facebook has its own share and facebook has its own facebook you can get that from anywhere ', 'i use data ', 'its only me who works at a place where you dont work out i dont earn any money ', 'farming i make 500 shillings and 500 g of maize flour ', 'if i was her husband i would buy it because it will prevent theft ', 'i do legal transcription and also am a health caregiver ', 'my opinion is that i would pay that debt because now if people will move away everyone will come and pay in a mobile phone line so that they can be accepted because of the debt i would be ready to pay that debt or just be ready to pay the debt so that i can get more customers ', 'wi fi ', 'what i see is the responsibility of the government is to help or support people to support people because of these phone loans and abuse of business ', 'i save money in a box and i usually save a lot ', 'i use whats app to chat to look at status to video call but not often ', 'to send messages and to use with friends ', 'grocery ', 'okay it would be easy for me because i would call them and it could show who i am if someone calls you for example you have no number it would be difficult for someone to identify but it is the upper treasurer to know who is calling him it is easy because he would know who he is to find out or know who he is looking for ', 'we meet on the week and then we save like the amount of money is like two thousand shillings in the end ', 'i have not understood that question ', 'no i dont go to other places ', 'i have heard about it but i have never seen it ', '1 child and goes to school while the other one is 4 years old ', 'it would help me to get used to them more ', 'i use data bundles ', 'any time i want ', 'i use whats app mostly to communicate with the society and also sometimes to communicate with clients when we want to enhance our products that are on the market and that are being sold ', 'friends because i don t want them to know i can post on facebook ', 'i use the internet i use my phone to buy data ', 'i do farming of planting vegetables and in a month i make 3000 shillings ', 'i use the data ', 'i can buy and get a loan from that ', 'wi fi at work ', 'several times in a day ', 'i share with everyone ', 'ferries people on motorcycle for payment ', 'i usually have doubts because when you are paid through the service and you see that i have i want to pay you can not know where i was at the time of payment so i usually pay but you are not sure if i can get to pay their service then i see that they don t have cash that s the worry i have ', 'i share my posts with friends ', 'first off as a searcher i use google to find out what s happening i also get different types of videos communications i use them all in facebook ', 'they are the ones who have needs for communication ', 'what i can say is that the tracking device has a lot of pressure because you are not able to see it you can see because you have not set their phone number where does it go to maybe you have no information you can see because of your phone you can t see sometimes if you are trying to find your parent s number sometimes someone fails to identify you sometimes it goes to the wrong number that s why i can t see it ', 'i m worried because some people are not full of opportunity they are just using when you are using and they will take your information and it is very true you are using it wrongly you may want to message maybe you have used something which you are discussing about yeah it will take you there so it will be it will be it will not be an inappropriate turnout and it will be refunded like okay this information is going to be found out by someone so yeah ', 'an app like true caller helps me to know about the person who is calling me ', 'it is the duty of the stakeholders to do business online it is the duty of the owners of your products to ensure they are reviewed so that they are able to do business so that for example you are trying to sell a lot your business will go to the customer ', 'i use my data bundles on the phone for phone calls and to buy i put credit and then i use i also use wi fi at work but also use wi fi ', 'it is very good to send that message ', 'my doubt is you can find that i news on whats app those are the ones that make me worry the news that i can make the rains stop they stop working on me sometimes i can even get a job and rest ', 'i put a password on my phone ', 'the benefit is that someone can reach many people ', 'i use facebook several times a day ', 'to send and receive messages ', 'i would buy it because it would prevent their from happening ', 'i use facebook i have my device ', ' sharon has asked if there are women who are not able to get jobs in the internet above who do not get jobs in the internet the way she has explained herself they can go on with it because currently there are people who are not able to do the job well and there are people who will not because in the business you have to ', 'i would take it and pay ', 'there 4 children 2 are in school and 2 in primary school ', 'i would give safaricom a retry ', 'you borrow money according to your work at other times you can borrow one thousand shillings according to your work because you can t borrow many money and you don t have to borrow ', 'i would buy it so that i don t get scammed because these days everyone is paying every month to get scammed scammers are many ', 'internet data ', 'the tracking device and the black friday i use it several times a week but if there is any information that i don t want to use once a month ', 'no ', 'business and talking to friends and ', 'data ', 'yes i do go to other places to business ', 'to communicate with friends ', 'the service of increasing money is given on the level of the business because it can show your business the stock increase and then if you sell you get the income you were given on the level of the business so in my opinion it is good ', 'mostly its a few times a month not many times but its a few times ', 'no i have not heard i have not heard about the abuse of the bank ', 'i have never heard ', 'a few times i dont know how much they earn but i will say once they are done ', 'it is a very good thing because it helps someone can be empower by those people someone can be flourished someone can get lost in business it is a very good thing because someone can be lost if they keep appearing and emerging more and more ', 'i would like to know an idea and use the phone to give me identity ', 'i watch them once in a day ', 'moraa may be with her but she has a problem with money she is not able to pay off the money she just wants to be careful ', 'i don t like people knowing me or what i m talking to because my phone is the only one the other one is mine now i will just keep them and move on ', 'there 4 children and all 4 go to school ', 'i use it all the time anytime i want to call a friend and every day i must call a friend and that is how i make my camera and every day ', 'for the business to be doing well ', 'they dont work they do any work ', 'safaricom for communicating with and sending money telkom for jobs and sometimes with bundles and that to ', 'small business ', 'to delete things i have posted ', 'i have four sim cards and i use them a lot ', 'am not working so i dont know ', 'i have no comment ', 'i have never used it ', 'it is your responsibility to check your safety and those things on the internet ', 'wi fi ', '1980 ', 'we meet once a week and everyone can see your shares or your savings if you don t have a specific amount that you want to withdraw it is not a good idea that s why we usually meet ', 'there 5 children and all 5 go to school ', 'i have doubts with my pin my pin is my pin so in case someone sees me everything is done with doubts even if i report something ', 'yes at times i go ', 'there is none ', 'the ones that must be blocked are the ones i block but the only thing is just hiding ', 'if am like official for me i would pay a loan so that i can my interest can increase as i add more money ', 'i fear and i am worried ', 'it is the responsibility of the government or the one responsible for online businesses because when the one responsible for online businesses has been stolen their responsibility is to find out what he is talking about and if he is trying to explain it like that it is the responsibility of the one who is smart it is also the government it is the responsibility of those who do online jobs ', 'yes i do go to other places ', 'i go to other places where there are clients i come here to use ', 'my phone ', 'once or twice a week ', 'like a password ', 'i hide my content so that when i send an email someone can see it they see my messages but i hide them so that when i send them an email they can see my pin ', 'i use whats app to communicate with my friends and also to check on what products they are getting in your copia network i also use it to put copia orders and news ', 'my wife ', 'another one still has needs at home he wants to pay before he pays the debt ', 'i use whats app sometimes i want to say even these copia videos if there are videos that are online or if there are ones that are off we put them on whats app or sometimes there are bullies there are others that are on while we are on and you see those videos ', 'they should not be blocked by people from happening they should not be bought i think it s more important if their caution is better than their use it s good if someone gets caught up in the way before they start following up ', 'i don t know anyone who does banking ', 'i use data bundles on my phone ', 'i have two and both of them i use ', 'i have never heard or heard of it ', 'to communicate with friends ', 'it will be lost ', 'it is the responsibility of okay harassment on the internet is frequent but it is your responsibility as a woman don t let someone help you ', 'i use twice a month ', 'they are very old they can t pay you when you want to pay them in the form of work ', 'one works at a digital scale and is paid every month while the other one is employed at an organization which is where i get my salary at ', 'there 2 children 1 is in form and the other one is in form ', 'i think that he should just continue with his business and continue with his work ', 'a few times in a day ', 'there are benefits because you get customers but you don t get customers elsewhere ', 'okay he wants to he wants to pay at the end of the month he can ', 'i don t know anything about these ', 'the aim is to ensure the loan limit is increased it means she is not ready to pay the debt she has borrowed or also it can be a business of taking a loan is also a lot because it is not enough to pay the debt that she has borrowed from ', 'i have not understood that video question i just want to see ', 'my mother ', 'my husband is a tailor and he is paid 300 shillings per day while my children are still young and they are not schooled ', 'i don t have any worries because my phone and other phone collectors are also sending me money or i am sent to the wrong place so it doesn t have a problem ', 'selling online gives you different customers and the benefits are one ', 'anyone who gets hold of my phone can go to my facebook page ', 'i use it everyday ', 'two i use both ', 'i use mobile data and when i get work i use wi fi ', 'i have 2 sim cards and i use all of them ', 'buying a device is okay because it will help you even if you are far from your target audience but also to buy sometimes there is also the money that they will need may be a lot and also someone can not buy the whole day ', 'volunteer community volunteer ', 'all alone ', 'you become worried because the treasurer can t find out what you ve been selling so you get worried and go through the whole process ', 'i have three sim cards and yes i use all of them ', 'there is no other person who can give me information if i go to wrong number ', 'he wants to lose money because he and his friends take the loan ', 'because they are supposed to implement such things they are supposed to be able to they are supposed to do their business they are supposed to do business to follow up with their business ', 'i do internet and copia jobs ', 'friends ', 'i would buy that because it would ensure that people or i am a farmer i can feed people and make sure that i sell well ', 'i think there is no need for people to see the platform you must have the management that s all you must follow the customer to facebook where you have the managing thing so that in case someone gets report there you must post the message there and you ll be on the phone to any person who is there so that the message gets seen that s where someone should be like if you report them they will see your stuff and you ll be given a message ', 'i would buy it because especially if something is selling someone may start selling on the internet or or maybe something is wrong something is not right and if you just depend you can buy ', 'i use them for my business and mpesa purposes ', 'to communicate with friends and do business ', 'they dont have work at home ', 'benefit of selling online ', 'i would not like to receive information like that ', 'i would buy it because it could be the purpose of the internet there are people who if they get internet they get their product there are people who if they get their product they come and take it or something like that ', 'i will try my best to pay in installments but if i do the installments are in installments i will have to pay so that i can be given a raise in my deposit ', 'yes at times i go ', 'those apps help me to identify which ones i have called that and who has called me ', 'i run a shop that i live in and at times i make 500 shillings ', 'i am a teacher and am paid 300 shillings per day ', 'there 2 children 2 go to school and 2 are in grade 5 ', 'i have never used it or heard of it ', 'i use whats app for communication and to just difference ', 'i use facebook to learn online marketing people mostly like shop i know like a hotel i want to market for example biliani for credit biliani i learn their answer on facebook yeah a little people and then they make online sales ', 'mostly i m selling in my business and also keeping touch with family and friends and touching with friends and family i can go to long times and get them to go to long times and get them to go to the whole time through facebook ', 'i haven t heard of that tracking device but when i ve heard of it i think i have family things to post ', 'i have made and result is like that ', 'i would not have taken her for the service because i was called and i didn t have the knowledge but i was taken and taken by the knowledge there is a saying to use the knowledge that i also would not have taken someone to call me or take someone to explain to me it is the theft or the business ', 'i have never heard ', 'i have never heard about it because i have always liked it ', '300 shillings in a day ', 'i fear that he might get scammed ', 'it depends on me having money ', 'i hear about it but i don t know how it works ', 'i use home wi fi work wi fi and also work wi fi ', 'to communicate with and also to the family ', 'my mother in law makes small businesses and makes money but she is not able to make a living ', 'the service is good and the customers are good ', 'they are disturbing because they are malfunctioning ', 'first i use it for my activities selling my products and i also use it to check up on people and to get information ', 'i have heard of that device but i don t have any concern with someone else i don t have any concern it is a game that is played without a device so i don t have any concern with someone ', 'i use facebook when there is a music video ', 'i use facebook to check up on friends i use facebook to advertise my businesses and also i use facebook to do business ', 'i don t have any worries ', 'jua kali ', 'i usually like to do my own things and anyone can make a mistake in order to see what i have done wrong ', 'it is registered by the name of my friend ', 'it helps me it s what i protect from people ', 'for example if you lose a number ', 'no i dont go to other places to work i go to other places to work only in the evening i can go in and watch the videos at night ', 'i would have taken one of them and bought it because it would be easier for one to get used to at the same time the one that you use me to save up for my mpesa i use the other one ', 'mostly ', 'the sim cards are two and i use all of them ', 'bundles ', 'i would not lose money ', 'two sim cards and i use all of them ', 'i usually am worried about the hackers who hack people s emails who can send messages to family in the community and in friends messages that are not even normal or when they want to steal people s information that s why i usually am worried about someone who can hack my email account ', 'personally i don t know ', 'i have heard only but actually i have not heard of it yet ', 'the labrains that i have made are supposed to show that the service is too expensive so to other people it should be able to afford to buy such a service ', 'i have three and two and three is not enough ', 'i look at pictures ', 'i watch updates i get new friends on facebook i watch different groups on facebook i use the data i get on facebook ', 'there 2 children and 1 goes to school ', 'someone can t see your pin ', 'once a month ', 'at times i dont know anyone else that comes by ', 'another one who deals with banking matters but it is his account it is my watch another one is used by ', 'i think it s okay because if you want a loan of more than basic time it s better to have a loan of more than basic time ', 'a few times in a week ', 'no i only sell from my usually ', 'i use the government at times they need people to file returns or something like that so i go and borrow like once per finished school year so far i have not access ', 'yes i have heard that you can track their gadgets but i have never gotten the money to know more than this ', 'its only one person that works as a saloonist at times he makes 1500 shillings per day ', 'am a business person i do self employment and am paid daily or whenever there is need ', 'i use all of them ', 'we meet once a month and every month we save twice and for the loan i ask you to borrow twice my shares if i have shares that are not enough for the l220 i can borrow at least the l220 ', 'am a student but when i get work online i do it but most are students i dont work ', 'i use facebook when there are issues of withdrawal or when i am free ', 'my husband is a teacher and he earns 50000 shillings ', 'i run a hotel and make 300 shillings everyday ', 'i make a bargain a bargain is paid every day from one thousand shillings ', 'its only one person that works and is paid 500 shillings per day the rest are not working ', 'moraa copanda was okay with them because she wanted to take a loan and she wanted to pay for the business she wanted to use ', 'we meet every week and save and then you are given money according to your savings and then the other one we meet every month and you are given money is a loan if you are given with savings you are given money according to your savings ', 'i use it once a month maybe twice a month or once a month ', 'i have not heard about it how do i think i can track that part ', 'communication entertainment and sometimes to groups and church and family so it s a form of interaction and getting close to people ', 'am a business person i make money ', 'it s just giving posts and others information ', 'safaricom is for mpesa deposit then airtel is for bundles i had also set up safaricom bundles but i misplaced it and it got lost so i only have those two lines airtel and safaricom ', 'i have not heard about that device maybe it is a phone bundles or maybe it is a phone for a long period or something like that maybe those things that are going on in the internet like any bundles ', 'for example when i do business most of the time i can be in a post or i can use status or if i want to photo i use it for whats app ', 'if there is any problem call me ', 'yes i do go to other places to work ', 'every week we meet up and we save from one thousand one thousand every day ', 'that s right because you get to show your confidence ', 'there is some confidential information that i use on email for business but i don t want people to know those messages ', 'a few times in a month whenever all the money is in my hands ', 'i don t have an opinion because also it is a good thing to help the society as long as you borrow there are things to repay ', 'i use whatsapp the whole day ', 'they are 2 children and all 2 go to school ', 'you can work from this place if you go far away from your home you will be loaned ', 'i don t have five shillings ', 'my brothers ', 'i only use it to make business with my friends and there are groups where i play football ', 'others are very old ', 'moraa refused to be paid through the phone because maybe she didn t want to pay maybe she needed maybe maybe she wanted to take a post or do something else and if she is paid through phone she will get that money by time of paying or if she wants to be paid ', 'i use facebook to chat with friends to check news and to connect with family ', 'the benefits are that you can get many customers ', 'i have no doubt ', 'one is not working the other one is in the shop and the other one is calling sometimes ', 'my worry is that there are many people who send money to you via number and then it fails or sometimes you are in a mood to send money to your account ', 'it is very good to pay a loan before it is certain that you have made a mistake ', 'i share with people i know ', 'i have three i use all of them ', 'the benefits of selling online are that you get a larger market also there are those you communicate with your customer you get to know their preference through online till they get your face to face so it s that time and also it s good to profit ', 'there no children ', 'i feel like i can go back and forth between the two and see if we can meet up ', 'i m here because you tube channel has videos on how to use it and also because i m here because i m here because i m here because i m here because i m here because i m here because i m here because i m here because i m here because i m here because i m here because i m here because i m here because i m here because i m here because i m here because i m here because i m here because i m here because i m here because i m here because i m here because i m here because i m here because i m here because i m here because i m here because i m here because i m here because i m here because i m here because i m here because i m here because i m here because i m here because i m here because i m here because i m here because i m here because i m here because i m here because i m here because i m here because i m here because i m here because i m here because i m here because i m here because i m here because i m here because i m here because i m here because i m here because i m here because i m here because i m here because i m here because i m here because i m here because i m here because i m here because i m here because i m here because i m here because i m here because i m here because i m here because i m here because i m here because i m here because i m here because i m here because i m here because i m here because i m here because i m here because i m here because i m here because i m here because i m here because i m here because i m here because i m here because i m here because i m here because i m here because i m here because i m here because i m here because i m here because i m here because i m here because i m here because i m here because i m here because i m here because i m here because i m here because i m here because i m here because i m here because i m here because i m here because i m job', 'that idea is fine it s just because someone has if he had sold 50000 to 10000 shillings his limit will increase like when someone has made money they make an extra one ', 'its benefits are very many you can even buy from 3 houses and 2 don t have any profits ', 'i am worried about them because if i am sent a message and they call me they will reverse it and if i am given a call it will be reversed ', 'not so much work but i make an effort to borrow and advertise my products ', 'i don t have any worries ', 'if you look at the activities that people do there is nothing that will prevent me from doing everything must have been planned well for example business has its benefits many people get the goods they want but also their income is unpredictable ']\n",
      "['she was afraid to receive money on phone because she had a loan ', 'a few times in a week ', 'there is none ', 'the bad habit of people withdrawing money without the members knowledge usually worries me ', 'one who does casual work which he doesnt get daily the rest are not working they depend on the one person ', 'like once a week ', 'a few times ', 'by calling ', 'one is a teacher and the other one is a plumber ', 'yes ', 'okay it is said that everywhere you should be honest when you will be honest you will be moved to a certain situation even at work when you are doing well and being honest you can be promoted so when you want to be added more money you must first be honest by paying this so that they can trust you and add you another amount ', 'the responsibility of that company that offers those offers for people to work online to ensure that people are not harassed and everyone is safe ', 'in my opinion i would buy it because many people are being scammed and are losing a lot of money to those scammers so i would buy that ', 'business ', 'everyday ', 'i haven t posted ', 'response not in swahili ', 'we meet once a month and when we meet you can contribute five hundred and above in borrowing you will borrow according to how you contribute to the merry go round if you have contributed you have contributed for five months ten thousand you can you get a loan of ten thousand or ', 'masonary ', 'no one else uses it ', 'a few times in a day ', 'someone borrows then pays in due time and that is good ', 'i always use it for calling and talking ', 'sometimes you can send money to the wrong number or buy airtime to the wrong number ', 'those videos sometimes play for long so i don t like them at times ', 'i share with friends and also my siblings ', 'i do vegetable farming and i sell to those that go to resell at the market ', 'am not working still looking for employment ', 'at that other time maybe she has not been able to pay her loan so i don t see if it would be appropriate for her to be paid through the internet ', 'data bundles ', 'different areas that i visit ', 'my wife and my friends if they come and say they need ', '1986 ', 'once a month ', 'i use whatsapp for communication purposes for typing or sending messages ', '1997 ', 'most of the times is once a month ', 'several times in a day ', 'there 6 children and all 6 go to school ', 'i have three sim cards i have one that i have use to register till then i have one that is empty then i have airtel i have three ', 'in my opinion i know that with the police there s the human rights if they can do business and get shut in a such manner they can report to the human rights and see if they can how they can be assisted ', 'receiving and sending messages ', 'a friend or a neighbor ', 'there 2 children and all 2 go to school ', 'several times a month ', 'there is a sim card for normal use there is a sim card for there is a sim card for school use and there is a sim card for giving those who want my number but are not my friends nor close to me ', 'i remove them ', 'one hour ', 'there 8 children 5 go to school and 3 don t go because of school fees ', 'anytime i want take a photo it might be me or the children ', 'i do not trust them ', 'yes i use it ', 'friends ', 'my mother doesnt work while father does casual jobs probably he makes 10000 shillings a month ', 'for communication and people who are far to see ', 'anyone because sometimes a lot of money for orders has been sent or maybe sometimes the money and someone thinks it is yours maybe you have someone s debt and he thinks the money is yours sometimes they have not used a phone ', 'green grocery ', 'i dont work i just volunteer and there is no fixed amount for the volunteership ', 'most of them are like a suggestion of what i watch so if i realize that they are related to what i am watching then i i just go on and watch them because they are important ', '1987 ', ' after you do ', 'i use data bundles or wifi anytime i need ', 'if i am not near wi fi i buy bundles ', 'small business ', 'no ', 'there are two sim cards and i use both of them ', 'second ', 'farming ', 'not buying the service is because i must first know is this service really from the internet that i am using secondly how will this service help me i must understand so that i can decide whether to buy a service ', 'you will try to find the money so that you can deposit it and pay so that you can be added the rate to be loaned next time you will even borrow from friends or just try to work so that you can pay that money ', 'swahili ', 'someone can hack and login in to check my documents ', 'i go to the cyber most of the time or when i borrow a smartphone i usually use data bundles and in the cyber i use their wi fi to check what i want to see ', 'am a business person and i make between 1000 to 1500 shillings in a day ', 'one is motorcycle rider gets 1000 shillings per day the other one is employed and earns 12000 shillings a month ', 'i delete that message ', 'business around 500 shillings in a day ', 'at times when am called to work in another place i can go but mostly i work from here ', 'i think the interest is much more online businesses okay and they have more customers and more compared to the so the benefits are much more than ', 'at times a day ', 'it depends on what message i have received ', 'i work at a women organisation as an ambassador ', 'on that i don t have ', 'english and swahili ', 'i use mobile data bundles and w i f i when i come across it wherever i go ', 'cobbler ', 'i do to different places different towns to do my work ', '1974 ', 'once a day ', 'friends and also other people ', 'with the public ', 'i can use like two times in a month ', 'my husband ', 'its used anytime there need to take photos be it at night or day or when there is a function since thats the purpose of the camera its anytime there is need ', '1998 ', 'it is pleasing because others at least come with new information so if you didn t know you get informed ', 'that is good because it increases the credit ', '1996 ', 'the people i m worried about who can log in to my email are hackers so that they can not misuse my account ', 'to share with my friends and also the whole world in general ', 'no i do my work from home i dont go to other places to work ', 'there 3 children and all 3 go to school ', 'to chat ', 'the other that sorts bank issues is my husband ', 'i will be able to buy so that i don t get conned ', 'several times a day ', 'i give my opinion based on the information given out yeah it can be positive or negative ', 'a few times in a month ', 'it is a good thing if you will afford to borrow and repay it ', 'for now am not working ', 'to chat with friends to share business on the internet to watch breaking news ', 'form 3 ', 'if you do not have any problem with anyone i don t think you ll get any harassment that is not ordinary depend on god and you ll find the strength and continue with the business ', 'let s say it s my responsibility but now there are things you can t avoid like those who are ruining your name because of abuse you can t avoid them but doing business online is not bad for as long as you know you are doing something that is right ', 'no i dont go ', 'i usually talk when i m alone ', 'the government should put restrictions to those who harass women ', 'he does not want to pay the debt ', 'yes i do if am called to work ', 'kenyans are not trustworthy my worry is i could wake up and find someone took all the money even though there are steps that should be followed but it happens at times someone went early for the meeting and decides all the money is theirs so you wonder what is the protocol but if it happens it happens and the person gets away with it so everything is a risk ', 'i share my posts with my friends ', 'no responce ', 'there 3 children 2 go toschool and 1 hasnt attained school going age ', 'it brings different languages but the one i use the most is english ', 'i use whats app to send to send messages and do other things ', '1979 ', 'per day ', 'sometimes information is not true it is like a scam ', 'i have my sisters who are outside the country so i use my mother s phone to access whatsapp ', 'i use whatsapp to join groups for example to get information fast i also use whats app as communication my fast communication while online may be if i don t have credit ', 'my opinion is that maybe moraa has taken a loan so ', 'i normally use data bundles ', 'i haven t understood you well ', 'the sim cards are three and i use all of them ', 'several times a week ', 'am a hair dresser and on a goodday i can make like 500 on bad days i make 200 or even 100 shillings ', 'atleast 5000 to 6000 shillings ', 'all my parents have a bank account so everyone goes to the bank ', 'one is for calling and the other is for i use it to ', 'not yet as i dont have a child neither do i have a fiance ', 'conmen the conmen are the ones who worry me a lot because they can hack my account and withdraw the money i have saved and they take my pin and everything ', 'no i dont go to other places ', '1992 ', 'i use facebook to chat with my friends ', 'i use all of these sim cards there are times maybe when i can i always do not want it to combine with my personal the other one is for maybe saving money maybe if someone has collected money throughout the day that s when ', '2000 ', 'also lending to each other we don t meet up it is an online one it s a food group ', 'they are jobless ', 'since the phone is mine and i own it that s why unless i let people know and if it s me i d do it myself ', 'i sell within my locality and even to an area called staff but its within my community ', 'yes i use wi fi i currently installed it so i have wi fi ', '1994 ', '2002 ', 'the whole day ', 'at the currentlythey are not working as they is no work ', 'i share mostly with friends ', 'i share with everyone publicly ', 'my friends ', 'once a week ', 'once ', 'i buy bundles for the internet ', 'i haven t heard at all ', '1 child and goes to school ', 'i normally use to chat to advertise my business ', 'i worry because on social media there are people who spread false information so when i get certain information on whats app i must confirm and affirm that the information is accurate because some information is usually false ', 'to communicate get useful information and connect ', 'am a nurse by profession and i have my chemist i make 25000 shillings per month ', 'selling products online is that you are enabling of what you have and attracting online customers ', 'unemployed ', 'not that regular only when the need arise ', 'just family if they know you are saving they may want you to get money like to use it on other consumptions that you do not want ', 'i would know that i m safe ', 'i haven t heard ', 'i do not want my friends to hear that ', 'it is communication and some interaction in my business not communication alone ', '1 child goes to schoool is in preprimary school ', 'my husband is a police man but works in makueni county where he lives for now now he has come to visit us while the other one went to college but hasnt been employed ', 'am not employed ', 'truecaller helps me to know who is calling me even if it is a strange number ', 'i don t find those pop up videos pleasant because most of the time they cut short what i am watching ', 'yes am a househelp ', 'i live alone ', 'home wi fi ', 'in our house everyone has their own bank accounts but no one works for the bank ', 'my opinion is that i wouldn t do business online because of my money or i try to do ordinary business on the street without a fight ', 'according to the little experience i have make sure if so everyone it s good it s everyone s responsibility to make sure they don t get into this discrimination ', 'i use the camera like 3 times a week i hardly use it ', 'my opinion of moraa is that she is losing clients because there are people who are used to paying using the phone when you tell a customer to go withdraw money then come and make a purchase that is wastage of time and the customer could be in a hurry going somewhere moraa is losing customers because of the debt she owes so it is important to avoid such ', 'i have not gone to other places to work ', 'those apps really annoy me when they pop up while i m watching a movie ', 'there is none it is myself only ', 'sometimes i may be doing my transaction and unfortunately i may send money to a wrong till or wrong pay bill number so that is always my concern ', 'i have worries when someone takes a lot of money others when they take ', 'the advantage of selling online is that you can reach many people your business can spread everywhere sell everywhere you can post your products on the internet so that you get so that you can sell quickly and go back to get more and sell them ', 'truecaller helps me know who is calling me i use whats app and facebook for communication ', 'i think i wouldn t buy it because currently in the nation we are in even if you try to protect yourself the same person that you ve bought from are the same people who are used to con so i don t think there is any need to keep on buying it because they ll do it again ', 'to just look for friends ', 'when i do that i usually use a pattern or ', 'several times ', 'if you are the one paying say lipa na m pesa they will not charge you transaction fee but when you withdraw they charge you that is why i would tell her she should ensure she does not lose customers ', 'it is very annoying ', 'in kiswahili ', 'to be honest several times that are uncountable in a month because usually during the day if he is at home i listen to music or watch and if he is not i come in the evening so it is several times a month ', 'we go to for the financial groups twice a week after every two weeks and you are given a loan according to your shares so if you have one thousand you can you can borrow two thousand we start writing from one hundred to one thousand shares ', '1969 ', 'i use it the whole day from morning to night ', 'there is no single child here ', 'once in a while ', 'once a week and we give out five hundred ', 'yes i can ', 'it s not a bad idea it s a good idea ', 'those videos that pop up are related to what i watch so sometimes i get guidelines on things that i i might be interested in and make it easier for me to choose whatever i want to watch ', 'once in a week ', '1989 ', '1995 ', 'since i send money using m pesa and m pesa belongs to safaricom i fear that safaricom might see the money i send even the one sent to me ', '4 times a week ', 'yes i do go ', 'either you take a loan of ten thousand then they increase it to fifteen thousand it means those people the lenders trust you because you pay on time they will give you more credit because they trust you ', 'with both of them i make or receive calls and also access the internet ', '1971 ', 'sometimes i ', 'yes i have to be worried maybe someone knows my pin and withdraw money from my account such things are for the county they must have high level security ', 'nothing ', 'if there was such a service without any doubt i would buy it just to caution i would buy to be cautious with those scammers ', '20000 shillings per month ', 'it could be someone that we work together and i do not want them to know who i m talking to what we are talking about because it doesn t concern them ', 'i dont ', 'it s fine i don t deny it it is better because now if she is not you see money coming in she will have lost money that she is not ready to lose ', '28th of august ', 'and so on ', 'i have never heard of such a device ', 'i don t usually use those things ', 'grocery ', 'most of the time it helps me identify new number ', 'i am worried because i can and have that money stolen ', 'i dont have specifi times as mostly i use it any time i cant say after a day week or month ', 'i m not worried about anyone ', 'in english ', 'frequently since it comes on my phone as a notification any time a notification comes on my phone screen i go in and read ', 'there 6 children 5 go to school and 1 does not go to school is still young for school ', 'i sell in a shop at times i also sell copia orders mostly i make 200 300 at times 1000 on a very good 2000 shillings in a day ', 'i use wi fi at home ', 'concerning the videos that pop up it is ok because other businesses are in advertisement so i watch sometimes ', 'am the only one who works ', 'twice in a day ', 'it depends but it can be twice a month or once in 2 months ', 'yes i do go to other places to work ', 'reading breaking news ', 'i would have bought it because cons have become many someone writes your number by guessing and then they go to truecaller and get the name now such things like that ', 'first off there are those that could lie that they are sending money to your phone and when they send they reverse that is the first problem the second maybe they were using fuliza and thought if they receive that money fuliza will cut it or that person will send fake money and when she is withdrawing it will be less ', '1999 ', 'i do travel by public transport from my place of residence to town where i work ', 'i use youtube once a week ', 'mine is registered by ', 'these ads are mostly annoying maybe you are in a session or maybe you are trying to look at a video you uploaded and they are problematic they need to be reduced sometimes ', 'that s okay if you pay promptly you will be given double ', 'that is important to me it would help me a lot because i can be given even a long time and i will look for that money little by little and if i get it i pay little by little until it is finished for the time i have been given ', 'outside catering business ', '3 ', 'those close to me put me to worry ', 'i cant give a specific time the moment i get i wont think twice i will use whatever is needed for my shooping then whatever is left i will save so i cant say when because i dont know when i will get the money ', 'i have no doubts with anything ', 'on the internet you will sell a lot because people are seeing your products when they are far your business will grow fast that is the advantage people know a lot of people it is not like waiting there for people to come ', 'more than those that harass because if check online then she will put more people at risk so her advice will compared to someone who sells in a shop or ', 'they increase it so that you keep borrowing to get ', 'the sim cards are three and i use two one was locked ', 'so far i haven t yet heard ', '70000 shillings per month ', 'there 7 children andall 7 go to school ', 'my second son is the one saving and is saving through mobile banking on his phone ', 'they are five but i use one ', 'i would not buy that service because it is the responsibility of the owners of communication companies to ensure the safety of each customer ', 'like my friends i put money then by bad luck they get to discover they may steal ', 'online business ', 'they are students they dont work ', 'i have not heard ', 'data bundles and wi fi ', 'am a student i dont do any work most of my income is from my parents ', 'i use a day ', 'my sister ', 'no i do my businesses here in utawala ', 'i fear because some people after they have borrowed money they get lost with it i fear ', 'i am just the only one ', 'in my opinion she lost the customer and also did not get the money ', 'several times in a week ', 'pass ', 'yes i go to watamu bus stage thats where i operate my business from ', 'saloon ', 'anytime i want to take photos of the products i sell ', 'works at a warehouse a casual labourer they are paid on a daily basis and there various rates depending on the type of job but the least one caan be paid is 300 shillings ', 'one is for the internet and the other is for doing cash transactions here and there ', 'if they increase your limit it does not mean you take the higher limit you need to take a limit secure your business or an investment so that you are able to pay it within the required time ', 'there is no one in my house that does that activity ', 'i use my mobile data bundles only ', 'i didn t understand that question nicely if you are asking about the language it is english ', 'they are two and yes i use them all ', 'i haven t yet heard of it ', 'hair dressing ', 'am self employed and am the one at the business so i cant leave ', 'i think it is the responsibility of an individual who is committed to doing business online so themselves should be responsible to know who he is doing business with to make sure he is safe ', 'i view my community siblings and friends ', 'i i usually ', 'i don t know even know what a person can do ', 'i have two sim cards and i m using both ', 'the benefit of selling online is that it reaches many people who have a phone and if you have quality goods then you will get customers and most of them are on social media and most of them use the internet so when they go to the internet they see what you sell and you get customers quickly and that does not require walking in order to differentiate the price of goods from here and there ', 'most of the times i dont have a specific time frame because of e c i t i z e n it goes upto a year before i renew ', 'several times in a day though i dont use it everyday ', 'in whats app we usually do advertisements to advertise jobs like to advertise copia items and also to communicate with friends ', 'yes i work all around mombasa ', 'that is a mistake because the joy of debts is ', 'electrian ', 'i do my personal business am self employed ', 'i feel like she would moraa should have just should have agreed to pay because the good thing about a debt is paying up ', 'communication ', '1991 ', 'you are the one to give yourself your opinion ', 'i haven t heard of that tracking device where i stay ', 'twice a week ', 'sometimes information is usually not legit ', 'i delete them after receiving them i delete them once i m done with them ', 'i only use the safaricom line that is in my phone ', 'there 9 children 6 go to school and 3 are still young ', 'they are just friends who like to listen to people s stuff ', 'am alone ', 'there 7 children and all 7 go to school ', 'i use whats app to promote my business and communicate with my customers ', 'the benefit of selling online is that you will get a lot of people and they will be giving opinions different and you will be educated on what you can do ', 'i do casual work when available therefore i dont have a specific amount to say as it depends on the type of work i get and what i will be paid at the end of the day ', 'it depends on how the business fares when its good a save a few times in a week when business is not good i save once iin a month ', 'sales ', 'twice every week ', 'both of my parents are teachers i dont how much they earn but i know its good money ', 'we contribute two hundred and fifty shillings every day and there is no loaning and no meeting the meeting is only when the group comes to an end we share our money like for the business people alone ', 'in online business you get paid in cash without debt ', 'corner ya kwa shee mikindani ', '2001 ', 'no there is no work in other places ', 'i have three sim cards of which i use all of them two are safaricom one is airtel and all of them have their use and different purpose ', 'i use all of them but they are used by my children ', 'i have a shop which depends on customer traffic for that month ', 'i use whats app to get messages from groups there is a certain group there are groups there so i use whats app to get messages ', 'it is the responsibility of everyone to ensure that women are not discriminated on the internet and also on the internet so that they can ', 'i have heard ', 'i have heard but i have never used ', 'ferries people on motorcycle for payment ', 'i don t know that one ', 'it is the duty of all of us to help each other eradicate scammers on the internet and it is also the duty of the internet owners ', 'it is not a specific person any person if he she knows she he uses he she uses language text or he she can from ', 'i am not aware of that device ', 'for attracting people to keep borrowing money ', 'they do casual work and they are paid 100 shillings on the lower side and 500 shillings on the higher side ', 'if there were services to prevent those errors and fraud we would buy them it is for my safety because it would help me maybe not lose the fifty thousand that i would have lost if i m scammed therefore i think it is right if such a service is established ', 'run small businesses ', 'there 4 children and 2 go to school ', 'they are not working they used to work sometimes back they depend on rental income and their children to pay for their utility bills its us their children that pays their bills ', 'worry comes when you are sending money to someone then you mistake one number or one letter it brings problems that is what is a big worry ', 'on father is a civil servant at a government chemist of mombasa while my mother is an adminstrator techinical university of mombasa honestly i dont know how much they make in a month ', 'i would buy just for my safety ', 'several times a day or a week ', 'they are three and i use all of them ', 'i only use that device when i m at ', 'starting with family and friends ', 'i use whatsapp several times in a day when am at work you will find me online ', 'i m usually worried with my children because is usually mostly i m worried about my child ', 'different locations i use data bundles ', 'anyone that can take my phone and view my savings is not ', 'the government and the media people ', 'if it increases if the limit increases it is good to apply a low interest so that i can be able to give myself the time to also on phone the interest doesn t increase if it is two months it should be that the interest doesn t increase that s fine ', 'i play all the time in a day whenever am bored and am using my phone i will play a game ', 'they are employed in a company and each earns 15000shillings per month ', '1993 ', 'yeah almost all the relatives my wife clients they can give me worry because if i borrow money they will ask for a next of kin contact number incase they call you asking to pay up who else can they call in order to reach you that is the worry i have ', 'it helps me to find the identity of a person who i could not know maybe who is calling me i can know who it is so most of the time i go to true caller and know ', 'online benefits can make a person get customers or many customers and also she can sell her products to earn lot of profit ', 'truecaller helps me to know the true identity of somebody who is calling me ', 'i use it everyday like 10 times in a day ', 'i cook porridge from wheat flour and in a day i make 150 shillings ', 'no i have never found a tracker ', 'it is everyone s responsibility to ensure that they do not abuse people online because it is everyone s right to work wherever they want ', 'it is swahili ', 'it depends but i hardly use it 1 to 3 months ', '3 times a day morning noon and evening as these are the most important news for me to watch and know what is happening around the world ', 'my opinion that i can she would have allowed the customer to pay via the mobile and that mobile would deduct and even it would have there she made a mistake and lost a customer ', 'it is just failing to understand the digital era ', 'i use mobile data bundles ', 'i haven t heard you ', 'the only work that i do is voluntary work and am paid 6500 shillings ', 'i dont have a specific job i do casual work here and there as am not employed still looking for work ', 'i like looking at photos and such ', 'everybody ', 'it is your responsibility doing business online is your responsibility ', 'i alone ', 'i dont have young children ', 'yes i use them all ', 'if i could buy that feature that could prevent people from being scammed because it could help people and i could advice people to buy that feature and it could ', 'i dont make alot of profit i make 2000 per month as its from this business that am able to educate my children buy food and contribute chama money ', 'i use bundles ', 'how much money i make depends on the day and prevailing circumstances at times i make 3000 at times 5000 shillings ', 'no i have never ', 'i use data bundles ', 'am employed at a shop where i earn 200 shillings ', 'once a week in borrowing you can even borrow twenty thousand ', 'parents ', 'personally i see i use all of them ', 'sometimes moraa was not prepared for the sake of paying that debt also she ', 'a few times a week as its not on a daily basis but after a while ', 'deliveries or currier services ', 'my parents ', 'there could be fraudsters and those that are not frauds genuine people ', 'benefits are that it makes you it makes you exposed to many people in the whole country and the world so a lot of people could know your products and decide to purchase them and also begin to believe that your products are good ', 'there is a sister of mine who has her own bank account we live with her that s it ', 'no i haven t heard ', 'also the doubt is there especially in these table banking money that usually circulates every time some times a members can take a lot of money then when the time for making payment comes it becomes a problem until you start taking each other into rounds and looking for each other when you need money you lack money money becomes less in hand sometimes the worry is that you think you are taking a risk but you have to because ', 'they dont work ', 'even if there is harassment the good benefit is that you sell well and everyone sees it even someone that you don t know sees it and delivery is done to them ', 'they just finished college and still looking for employment so currently they are not working though we consider them adults because they above 18 years ', 'i work together with them ', 'i feel good because many advertise stuff and i could end up finding something that i wanted and i find it there on the advertisement so there is no problem it is all good ', 'pardon you are disturbing me ', 'once a month or even a month may go by without using it ', 'no i just work where i live i dont go elsewhere ', 'swahili and english ', 'truecaller helps me to identify who may have called me with an unknown number i can t know who they are to remove fears it brings you and tells you if you know the person and ', 'my parents take part in bank matters and my brother also takes part ', 'those who use these devices should take care of the abuse so that it does not spread through or internet because it will ', 'family people ', 'yes when i have customers from other places i go to attend to them ', 'i have been registered using my name ', 'the messages that appear on you tube sometimes it is someone advertising either something new has arrived for sale or a new song has been released ', 'some are hustlers and some work and are paid 300 shillings ', 'it is good you pay so that you can borrow ', 'some jobs are not real ', 'it s a good thing but you know it s also a temptation because there are some of them who can not reach that level now if i succeeded i would say this i d take an amount i know i can pay without ', 'it is the responsibility of everyone who uses the internet who wants to buy and also those who sell on the internet ', 'when someone is done paying for the product on instalments you may find that the product isn t available it has been sold so you take another product ', 'no i havent go to other places ', 'i always use the neighbour s wifi ', 'from cyber work i can make 100 shillings per day ', 'i use one sim card for transactions and this happens every month maybe the time when i m doing my savings the time i m dealing with banks it is one line the other one is a general one which is a work line then the other one i use it for the internet i use it to load bundles ', 'no i dont go to other places to work i only work from one place ', 'once a month as i dont use it alot ', 'no i do my work in kayole where i live i dont go to other areas ', 'how things are moving in the world ', 'can you repeat the question ', 'my opinion is that he should have just agreed to take that money my opinion is that he she would have just accepted to take that money because his her debt is reducing ', 'yes i use all of them ', 'selling online is very good because you just choose what you want on the internet and it will be brought to you you just book and pay money and it will be brought but also on the internet like for copia is very good because something is brought so that you pay you first see it then ', 'i work in a saloon i make like 500 ', 'there 2 children that go to school ', 'the videos that pop up when you are watching you tube are slightly related to what i am watching so i cancel and watch some if they are good ', 'i use whats app to chat with my friends then i also use whats app to make orders for c o p i a just that ', 'i would not buy it because these features that are coming up to fight against scammers the scammers are also learning about it so i will look for alternatives it is important to be cautious i don t think it would help buying ', 'it is the duty of everyone to ensure women are not harassed when they run their business on social media and on the internet we ensure that those that are haters are done away with ', 'i think it is everyone s responsibility to ensure that people are not harassed and they are also responsible for the internet to ensure that they block messages that contain harassment in it ', 'once a month ', 'at times i use several times a day or at times once a month it depends ', 'there is one that meets every week and the other one that meets once a month every financial group is that in one i borrow about sixteen thousand up to twenty thousand from sixteen to twenty but because of the factors of use by the school children the other one maybe because we started just the other day i have borrowed only once ten thousand ', 'if you pay money in time you can also get increased limits for borrowing ', 'i use airtel line to make calls i use safaricom line too but safaricom mostly i use safaricom in matters m pesa ', 'we always meet twice a month and we save two hundred every and you can be loaned ', 'i use whatsapp to communicate with my family that is far and we can t talk on direct calls ', 'one is to use for my clients one is for money saving and one i use a different network which is airtel ', 'all that i use have their work ', 'i dont go to other places i stay at my work places and wait for customers to come there i dont go to work in other places ', 'one works a s a teacher and makes approximately 50000 shillings a month the other one is a health practioner and earns approximately 50000 shillings per the other one doesnt work is retired ', 'there is posting advertising to chat with friends entertainment through funny videos what else yeah looking at adverts that are the latest and communicating with people ', 'looking at that thing is usually ', 'it is the duty of the women themselves and the women around them to make sure that they empower and sell their products online it is the duty of the women and their friends to make sure that they support each other ', 'the thing that would make me buy it is if it is assured that it will protect against fraudsters but also the thing that will make me not buy is that so far i have never been scammed i have been informed to the extent that i have never been scammed and also that might make me not buy i believe in myself ', 'the person i m near to if i have said a lie ', 'yes those videos annoy me ', 'there are benefits because you get recognition online and you could get many customers ', 'i dont watch alot of times but mostly i post my own videos to get followers if its watching i do once in a while and follow other people so that i can also get followers ', 'one finished form 4 and is in school my husband is paid 1500 shillings daily ', 'put a passcode ', 'apps that we install on whats app in the phones that we use for online banking sometimes they fail to work when you want to withdraw money and they have started malfunctioning it forces you to wait for even two days before it starts functioning ', 'i use a basic phone ', 'once in a week in a ', 'now i use two ', 'i would not buy such a service because it is the duty of mobile network owners to ensure their clients are safe and are protected from these conmen so i don t see like the service that is supposed to come and the duty of the network owners ', 'it shows the english language ', 'there no children ', 'my own data bundles ', 'wi fi and bundles ', 'whoever a person it is because i believe the moment someone will know that i have money maybe they can do anything to to take it which means my money won t be safe ', 'i have three sim cards and i use all of them ', 'there children 3 and all 3 go to school ', 'i would like to buy it in order to fully protect myself in my account i can protect my money and my phone too ', 'making calls sending on whatsapp or ', 'it helps people earn money the owners of the videos ', 'four i use ', 'i have one sim card which is the main one i use it to make calls and at other times i use it for services of money that s mpesa and also for the other one i use it mostly for data bundles the other one also for data bundles but not mostly ', 'the importance is that it will help and it helps it will help ', 'true caller can help you maybe someone has called you they don t want you to know who they are you can find out with truecaller ', 'if i was able to borrow i would so that i could add add more money if i am able to borrow and pay on time ', 'i use facebook several times a day or if i dont have data bundles once a day or whenever i find time to access facebook ', 'i save through the phone a few times a week ', 'others are normally false ', 'i use home wifi ', '1000 ', '7 times a week ', 'i don t anything on facebook hence i don t share with anyone ', 'selling online is fine because it gives you a lot of customers so the benefits outweigh the risks ', 'i use facebook from time to time ', 'you should have been paid ', 'chat with friends check products placed in the facebook network for sale and groups that hold discussions to help people are what make me log in to facebook ', 'worry comes in where after paying or when you pay the product you want may not get to you or whoever you are sending for the service it will not get to them and the money will already be gone ', 'there is 1 child and hasnt started schooling still young ', 'yes i heard ', '1 child and doesn t go to school ', 'i have no comment concerning them i just ignore them ', 'i use once a week ', 'i would have paid for it so that i am also not conned ', 'i would buy it so that i protect myself from those gangsters ', 'the government is should protect women in all matters ', 'no i haven t heard ', 'my sister who is in the university is the one who deals with the bank matters ', 'honestly you get a wide range of clients ', 'no i work from home ', 'i have ever thought about it ', 'to order like stuff from your place that is it has a lot of work ', 'i have never been ', 'it is the responsibility of internet users ', 'one party we meet every saturday and the other every you have to because conmen and conwomen are many so either you see something you can be lent till about twenty thousand ', 'one is for talking one is for ', 'i sell fish ', 'two ', 'a few times a week or a month ', 'what can make me buy it is because i want to prevent my things from getting lost or i try that someone else can given i can accept to buy even when sometimes my money get lost i feel pain but when it can be prevented i pay something for it to be prevented then it can be better ', 'mechanic ', 'we are all in business like i side with busines its not predictable today you can make 10000 tomorrow 2000 and another day nothing ', 'okay i would just advice her next time to be careful of how she is moving and the friends she is keeping ', 'moraa has a debt now she cannot accept her money to be deducted but if i were her i would accept because the money is mine and i took the clothes she should have just agreed to have the money sent on her phone and immediately have it cut to reduce the debt ', 'my mother my father and my sister ', 'i think it s okay because they also give you more time to pay and then if you pay on time you get more time you are added money that you can now borrow the next time now i think it is fine ', 'thirty ', 'when you make a payment and then again someone increases the rate of borrowing money it seems that they expect you to be burdened and when you are burdened they will also put you on c r b and that is not good ', 'i use them all the two sim cards ', 'i have never used such a device ', 'i live in kisauni mombasa and i use a smarthphone ', 'i use facebook mostly once a week there times when i can use it everyday but now days i have been busy ', '1959 ', 'to send messages ', 'facebook doesn t recognize what kind of person you are sharing with it might be that everyone on facebook can get that thing or not ', 'i use data ', 'the work that i do is neither easy nor difficult i roughly make 1000 shillings per day ', 'my job is farming i plant maize for sell ', 'if i had the ability i would have bought it if it can be bought because it would have protected you losing those things that you may have lost so you just have to protect yourself from them ', 'legal transcription and health caregiver ', 'in my opinion i see that she should repay the loan because now it looks like she will lose because no customer she won t allow payment via the phone because of her debt it would have been better if she repays the debt or she just agrees to repay the debt so that she can look for more customers ', 'w i f i ', 'as i see it it is the duty of the government to help or motivate people to motivate them on the mobile phone loans ', 'you will be loaned twice your savings ', 'i normally use whats app to chat view status and video call but not much ', 'to send messages and to catch up with my friends ', 'i do delivery ', 'okay it becomes easy when someone calls you you can be notified that it is someone who is calling you sometimes someone calls it comes with a name and you know very easily who was looking for you or who needed to talk to you ', 'we meet up in a week then we save like like four thousand shillings and more ', 'i haven t understood the question ', 'there is none it is just me ', 'i have heard of a tracker but i haven t seen it where i am ', 'its only one person who works and earns 40000 shillings ', 'it would help to distinguish the frauds and that is why i would agree ', 'mostly i use data bundles ', 'anytime i feel like using it ', 'i use the whats app service to communicate with the family and customers when you want to show them the type of goods at the market and what you re intending to sell to them ', 'my friends together with the public can see what i post when ', 'i use internet that i have bought ', 'am a farmer i also do smalll businesses and in a month i make like 3000 shillings ', 'to make money ', 'i do hair dressing and i make 700 shillings per day ', 'wi fi in a cyber ', 'a couple of times ', 'i share with everyone who is my friend ', '5000 to 15000 shillings ', 'i always share others because after you have finished being given the services or buying the products and you want to pay you don t know how the internet is at that time so i always pay but you are worried that the internet may be disconnected making you unable to to pay for your services and maybe you don t have cash that s the only concern i have ', 'i share with my friends ', 'first is to look for friends second is to use google to see how things are going and third is to also you get to receive different information like videos and notifications a lot of stuff like that is what i get on facebook ', 'likes to check other people s phones without ', 'i have heard about it even though i haven t seen it because or you go to the police station he will tell you that there is ', 'i m worried because some people are not they are just using that they spread and use false information badly interpreting it in the wrong way false information is wrongly shared ', 'application such as true caller helps me know everyone who is calling me ', 'it makes women do online business is when a woman has her products and there is a way she will interact when she decides she want to sell to a lot of people and your business ', 'i buy the data bundles that i use on the phone i load credit and buy then i use wi fi also while at work but after getting off work i don t usually use wi fi ', 'she knew if the money was sent it would be cut ', 'my doubts are i can come across news that is very scary that can make be filled with fear so much fear that sometimes you can even get panic attacks ', 'i put a password on the phone ', 'there is profit because you reach many people ', 'i use facebook several times a day ', 'sending and receiving messages ', 'i could buy so that i too would not be robbed ', 'i use facebook on my device ', 'what sharon is going through there are those customers she has had before who can t rely on the words on the internet from the one who is defaming her name they can continue with her because there are those who have already received services and those who defame because in every business you must have opponents in your work ', 'i would have taken and then plan to repay ', 'there 4 children 2 have finished school and 2 are still in school ', 'i would request safaricom to put restrictions ', 'you borrow money according to your work sometimes you can even borrow one thousand according to your work because you can t borrow a lot of money and you don t have work ', 'i would buy it to prevent fraud because right now everyone is looking for ways to get money cons are very many ', 'if i am not ', 'when there is black friday i use it a few times in a week but when there no deals or offers i use it once a month ', 'say ', 'business of selling second hand clothes i do any type of hustle that i get ', 'data ', 'yes i do for businesses in other places ', 'to communicate with friends ', 'this service of increasing the money that you are offered at a high level is good because you can expand your business to add stock then if you sell you get high income you pay your loan on time so in my opinion it s good ', 'mostly its a few times in a month its not so many time but a few times ', 'no i haven t done any bank service ', 'no i dont go ', 'a few times i havent known how many times but i will a few times as it depends ', 'it is our responsibility all of us because you say that now someone should empower women so women should be respected someone tries to despise her you explain to her the benefits of all these things things like that ', 'i would like to know who is calling me it gives me an identity ', 'i watch once in a day ', 'in that group the treasurer has issues with money and we see money even before ', 'i usually don t like many people to know who is calling me or who i am talking to because my phone is my office someone else receives it it is like disrespect ', 'there 4 children and all 4 go to school ', 'i use it any time i want to talk a photo i must take a photo everyday i therefore use it everyday ', 'i earn a salary of 15000 shillings from my work ', 'i have not heard the question well ', 'of safaricom for communication and sending money and telkon for browsing bundles and then just that ', 'small business ', 'i always delete those short messages if i have finished using them ', 'my brothers ', 'i have not put it so i don t know how it works ', 'i share with everyone ', 'i have never used it ', 'it is your responsibility to check your and those internet things ', 'wi fi ', '1980 ', 'we usually meet once a week and everyone brings their shares there or their savings whereby the lowest savings that a person is needed to contribute is one hundred shillings below that it is usually not allowed ', 'there 5 children and all 5 go to school ', 'i usually have doubts with my pin my pin is my secret now in case someone has seen it pin usually makes me have doubts like when i m paying ', 'yes at times i do go ', 'am not working ', 'if i have to i block but the important thing is just hiding ', 'yes if i am being loaned ten thousand shillings i would pay early then my interest goes up so that i get the other money ', 'no one worries me ', 'it is the government s duty or whoever deals with internet businesses because whoever deals with internet businesses has to be focused and know especially who the clients he she is associated with are and if something similar has happened before then they should be alert and the government also should continue to investigate on those who discriminate people working on the internet ', 'yes i do go to other places ', 'yes i do go to other places where the patient is to attend to them ', 'different ', 'once or twice a week ', 'i set a password ', 'i always hide i hide my content such that when there is an incoming message no one can see it you can see a message but you can t read it until you unlock the pin so that you may see it ', 'i use whats app to communicate with my friends and also to look at the products that are available in the market of copia and also i use it to place copia orders and ', 'my wife ', 'she probably still has household needs that she wants to consider before paying off the debt ', 'i use whats app sometimes lets say for things like if there are goods that have increased or lowered their prices or have offers they are posted on whats app sometimes they post on the wall ', 'personally it would be to block those things from happening personally i would buy it because i think it is more important if we are safe precaution is better than cure now it is good if a person protects themselves before they are caught in such a disaster ', 'it is just a stigma but no any other reason ', 'i use my personal mobile data bundles ', 'i have two and both of them are in use ', 'i have never heard neither have i heard about it ', 'to connect with friends ', 'to look for buyers ', 'it s the responsibility of okay cyberbullying is there but now it is your own responsibility to decide now how will someone help you ', '2 times a month ', 'scammers have become many so paying money ', 'one is a sales person and is paid monthly the other one also works at a certain organization and receives a salary at every end month ', 'there 2 children my younger siblings 1 is form 2 and another one in p p1 ', 'so that when you finish one you watch the other that has come ', 'a few times in a day mostly using phone not computer ', 'it has benefits you get a lot of customers but you will be discriminated ', 'he should just look for lipa and m pesa ', 'i dont know about my parents ', 'it is his goal to refuse payments through the phone as it means he is not ready to repay his borrowed debt or it may also be that he is a low level businessman and the responsibilities are many so he cannot pay the debt that s why ', 'i preach the gospel and i also listen to news ', 'maize farming ', 'my husband iss a pastor at a church and children are in school still young ', 'i m not worried about it because the phone is mine and it s not held by someone else and i use it to send money to someone or i i receive and withdraw so it has no problem ', 'selling online you get to sell to people from different places that is one benefit ', 'just anyone who can get hold of my phone can get on my email ', 'i use it everyday ', 'two i use both ', 'i use mobile data and when i get to work i use the wi fi ', 'i have two sim cards for different companies ', 'buying it is fine because it will help you get protected against scammers but also not buying at other times the money they will need might be a lot to it might make someone not buy that ', 'community volunteer ', 'am all alone ', 'the worry comes when the treasurer can turn against on you at any time turning against that s what causes the problem ', 'i have three sim cards and yes i use all of them ', 'my worry is sending to the wrong number and being irreversible ', 'he has lost money because he had a loan on his phone ', 'the government should handle such matters at least women should to be able to have faith in their work to be able to get their salary to be able to do business without discriminators taking over their businesses ', 'i usually work with the internet to sell online with copia ', 'a few times whenever am free ', 'i could buy the service because it would enable people or myself to be able to explain to people and get a chance to identify fraudsters in the community ', 'i see for example if it is the whole platform there must be management that is involved for example let s say like twitter or facebook they are with their management so incase someone is reported you are supposed and it will be a lesson for other people who if you were interested in something you don t have to follow someone ', 'i would buy it because if something is sold people must first start to see it on the internet or or hear maybe there is something good happening and if you like it you can buy it i would also like and buy it ', 'i use them for my business and mpesa purposes nothing else ', 'talking to friends and advertising my business ', 'they are at home jobless ', 'harassment is bad according to than the online one ', 'am not comfortable disclosig such information ', 'i would be i m surprised they have given out everything without ', 'if it s repaying i would run somewhere and borrow so that i repay after repaying that fifteen thousand i will have added my limit the take my five thousand and use i paid the ten ', 'yes at times i do go ', 'those applications helps me identify the name of a person before i communicate with them or before i hear their voice ', 'on the internet and i am not sure if at other times ', 'a play 9 games only ', 'there 2 children and all 2 go to school grade 5 and grade 1 ', 'i have never used nor heard ', 'i use whats app for communication and to have fun ', 'okay i use facebook to run adverts on marketing let s say you have a shop and you own a hotel and you want us to market let s say for example biryani actually i market for biryani i run the adverts on facebook we reach more people and then they make online orders then we deliver ', 'mostly advertising my business and also to keep in touch with families and friends to look for friends and family that i haven t talked to for a long time ', 'i have not heard about a tracker yet if i see it or hear about it now it will be that i have true information about you ', 'am employed by the ministry of health ', 'it helps me in knowing the person who called me and i didn t know who it was their number is there but i didn t know who it was it tells me to use the also when i come to call someone i call someone knowing the line i m using whether it is airtel or ', 'i have never heard ', 'i have never heard maybe i get explained about it ', '300 shillings in a day ', 'i fear a thief ', 'it depends on the money i have ', 'i hear about it but i don t know how it works ', 'i use home wi fi job wi fi and the neighbor s wi fi ', 'for communication and enjoyment purposes ', 'my mother runs her small busines of selling vegetables and makes not less than 100 shillings a day ', 'the service for is good and it is you to just ', 'they are so disturbing i usually cancel them ', 'first i usually use it for my activities to sell my products and also use it to check on people and get information ', 'i had not heard that question but i am not worried about anyone i m not worried because it s just a normal game i am not worried about anyone ', 'i use facebook when i want to rest ', 'i use facebook to keep in touch with friends i use facebook to advertise my business and also i use facebook for fun ', 'i have no worries ', 'jua kali ', 'i usually don t like to keep track of my ', 'it is registered under the name janet ', 'i can buy it so that ', 'you can mistake a number ', 'i dont go to other places to work only where i live however i go to markets from other places to buy my stock ', 'i think i would be one of them to buy that phone because i was one big victim of being scammed and at the same time they wanted to use me to steal from an mpesa which i know at this time i would be in jail ', 'so many times ', 'the sim cards are two and truly i use them ', 'bundles ', 'and the money gets lost ', 'yes i have two sim cards that i use and both are active ', 'i am usually worried about hackers who hack people s emails and then they send messages to family to society and to friends illegal messages or if they want to robbing people that s why i m usually worried that someone might hack my account ', 'freelancing ', 'i have just heard but honestly i have never followed up but i have heard it ', 'what would make me not to buy that service is if it is too expensive so to others it be that they cannot afford that service ', 'i make 500 shillings per day ', 'i look at pictures ', 'i watch updates i get new friends on facebook i watch different groups on facebook a lot of things that i get from facebook ', 'there 2 children and 1 goes to school ', 'someone can access my pin ', 'once in a month ', 'at times she does not know that person and again ', 'the other one that is involved in betting but using her account is my sister whom i live with here at home ', 'i think it s okay because if you want your borrowing rate to increase then it is increased depending on if you have paid according to you will pay then it is fine ', 'a few times in a week whenever i have time ', 'no i sell from my home ', 'i use it when the government asks for something like filing of k r a returns so i use it like once per year ', 'yes i have heard about that gadget that can track someone but i never had the opportunity to know more about it or see it ', 'i do techincal jobs and make 1500 shillings in a day ', 'its self employment therefore payment is on a daily basis whenever a good is bought its not weekly makes money everyday ', 'three and i use all of them ', 'for loans it is allowed to borrow twice ', 'am a student but do online work when i get ', 'i use facebook whenever something has come up or when am free thats when i use facebook ', 'my husband is a teacher and earns around 56000 shillings ', 'i run a hotel and i make 350 shillings per day ', 'i sell vegetables and i make not less than 150 shillings daily ', 'i would ask her to pay for that service because these days many customers like making payments if you hear they don t like carrying money ', 'moraa on his part probably didn t want to pay at that time he also didn t want him to pay using the money for business so i think he is right on his part ', 'this if you meet every week you save and then you are given money according to your savings and then this other one we meet every month you are given loans according to your savings you will be given money according to your savings that ', 'once or 2 times a month ', 'i haven t heard of a device that tracks ', 'communication entertainment and sometimes you are in groups for church for family so its a form of interaction and getting close to ', 'just have pochi la biashara or a lipa na m pesa line ', 'i just post the goods i sell ', 'safaricom is for mpesa deposit then airtel is for bundles i had also set up safaricom bundles but i misplaced it and it got lost so i only have those two lines airtel and safaricom ', 'i have not had because or get help or even if it ', 'i am a business person so most of the time you may find me posting something to upload on the status or send a photo to a client through whatsapp ', 'i only take photos when i have seen something useful to me ', 'yes i do go to other places to work ', 'every week we meet on tuesday and i save from one thousand to two thousand ', 'that is okay because you show they have ', 'there s a confidential information that i m sent to the email on my businesses so i can t prefer other people knowing ', 'a few times in a month any time whenever i have money ', 'i have no opinion i think it is a good idea to help kenyans it s better if the one borrowering has the ability to pay ', 'i use whatsapp the whole day ', 'these 2 people are currently not doing any work ', 'yes the nature of my work i can be called to go plait someone elsewhere and come back ', 'i don t usually tag them ', 'my brothers ', 'i just use it to talk to friends to greet friends we have football groups ', 'others are false ', 'moraa has refused phone payment because maybe she is not ready to clear the debt and she maybe needs money to take new stock or any other business and if she is paid on phone it might be cut before the time she wants to pay ', 'i use facebook to chat with friends to watch n e w s and to connect with family ', 'because of the debt she owes she is refusing to be paid by phone ', 'i have no doubts with ', 'one doesnt do any work the other one assists me in the shop and another one at times cooks for us ', 'my concern is that at other times you can send money to the wrong number and then it gets lost or at other times it takes time for the money to be reversed to your account ', 'it is very good to pay off the loan before its due time ', 'to share with people i know like friends ', 'if i m in debt i use the other one ', 'the advantages of selling online are that you get a larger market and then there is also talking to your customer you get to know their preferences through online not necessarily face to face so it saves time and also ', 'at the moment i don t have a child ', 'yes i do go to work in other places if a am called to work for a couple of days or even months ', 'it is true that on you tube there are pop up adverts ', 'yeah yeah yeah that idea is good if you wanted two thousand or you wanted ten thousand you get fifteen thousand the limit increases so that if you wanted ', 'it depends like currently business is doing so bad you make 200 or 300 shillings you even wonder how you will manage with such money ', 'i hide my phone and if i cannot hide i get out just to stay far away so that i can find out the type of message it is so after seeing it is a message that can t harm me i can go back to him if it s something fun i can see him or if it s something useful to him i can show it to him ', 'i wouldn t say it is good but you get loan agencies are many around ', 'they are very annoying ', 'if you look at this life we are living in nothing comes being complete everything comes with its shortcomings for instance online business has many benefits like your products get seen by many people and you get many buyers but also on its challenges we have harassment and that is how it is with like ']\n"
     ]
    },
    {
     "data": {
      "text/plain": [
       "PredictionOutput(predictions=array([[50258, 50318, 50358, ..., 50257, 50257, 50257],\n",
       "       [50258, 50318, 50358, ..., 50257, 50257, 50257],\n",
       "       [50258, 50318, 50358, ..., 50257, 50257, 50257],\n",
       "       ...,\n",
       "       [50258, 50318, 50358, ..., 50257, 50257, 50257],\n",
       "       [50258, 50318, 50358, ..., 50257, 50257, 50257],\n",
       "       [50258, 50318, 50358, ..., 50257, 50257, 50257]], dtype=int64), label_ids=array([[50258, 50318, 50358, ..., 50257, 50257, 50257],\n",
       "       [50258, 50318, 50358, ..., 50257, 50257, 50257],\n",
       "       [50258, 50318, 50358, ..., 50257, 50257, 50257],\n",
       "       ...,\n",
       "       [50258, 50318, 50358, ..., 50257, 50257, 50257],\n",
       "       [50258, 50318, 50358, ..., 50257, 50257, 50257],\n",
       "       [50258, 50318, 50358, ..., 50257, 50257, 50257]], dtype=int64), metrics={'test_loss': 1.8817288875579834, 'test_cer': 62.62812489428639, 'test_wer': 81.38770141400855, 'test_bleu': 0.20677562489229034, 'test_runtime': 641.987, 'test_samples_per_second': 1.257, 'test_steps_per_second': 1.257})"
      ]
     },
     "execution_count": 132,
     "metadata": {},
     "output_type": "execute_result"
    }
   ],
   "source": [
    "trainer.predict(swahili_final['test'])"
   ]
  },
  {
   "cell_type": "code",
   "execution_count": 133,
   "id": "d0cffdf2-3018-43f9-b53a-b5477421c44d",
   "metadata": {},
   "outputs": [],
   "source": [
    "from tqdm import tqdm\n",
    "from transformers.pipelines.pt_utils import KeyDataset"
   ]
  },
  {
   "cell_type": "code",
   "execution_count": 152,
   "id": "ac7c69f8-cf96-48a0-b9f2-f36835b39ff6",
   "metadata": {},
   "outputs": [],
   "source": [
    "def data():\n",
    "    for i in range(len(swahili_split['test'])):\n",
    "        yield swahili_split['test']['file_name'][i]['path']"
   ]
  },
  {
   "cell_type": "code",
   "execution_count": 135,
   "id": "88e3321d-6b1e-49e3-9320-f8c276de5c5a",
   "metadata": {},
   "outputs": [
    {
     "name": "stderr",
     "output_type": "stream",
     "text": [
      "Special tokens have been added in the vocabulary, make sure the associated word embeddings are fine-tuned or trained.\n"
     ]
    }
   ],
   "source": [
    "model_name = \"./whisper_small/complete_data_2/checkpoint-6800\"\n",
    "\n",
    "# Load the pre-trained Whisper model from Hugging Face\n",
    "processor = WhisperProcessor.from_pretrained(\"./whisper-small/largest_split\")\n",
    "model = WhisperForConditionalGeneration.from_pretrained(model_name)"
   ]
  },
  {
   "cell_type": "markdown",
   "id": "f71f9b0a-5965-48a1-b73f-40d2e9f24eda",
   "metadata": {},
   "source": [
    "GREEDY Search"
   ]
  },
  {
   "cell_type": "code",
   "execution_count": 148,
   "id": "e56e97c7-3b45-4aa8-b1eb-73d99a106e51",
   "metadata": {},
   "outputs": [
    {
     "name": "stderr",
     "output_type": "stream",
     "text": [
      "807it [14:27,  1.08s/it]\n"
     ]
    }
   ],
   "source": [
    "# model = trainer.model    \n",
    "asr_greedy = pipeline(\n",
    "    task=\"automatic-speech-recognition\",\n",
    "    model=model,\n",
    "    tokenizer=processor.tokenizer,\n",
    "    feature_extractor=processor.feature_extractor,\n",
    "    # processor=processor, #no effect see: https://github.com/huggingface/transformers/blob/main/src/transformers/pipelines/automatic_speech_recognition.py\n",
    "    # config=config, #no effect see: https://github.com/huggingface/transformers/blob/main/src/transformers/pipelines/automatic_speech_recognition.py\n",
    "    device= 'cuda',  # for gpu 1 for cpu -1\n",
    "    ## chunk files longer than 30s into shorted samples\n",
    "    chunk_length_s=30, \n",
    "    ## the amount of overlap (in secs) to be discarded while stitching the inferenced chunks\n",
    "    ## stride_length_s is a tuple of the left and right stride(overlap) length.\n",
    "    ## With only 1 number, both sides get the same stride, by default\n",
    "    ## The stride_length on one side is 1/6th of the chunk_length_s if stride_length no provided\n",
    "    # stride_length_s=[8, 8],\n",
    "    # stride_length_s=[5, 5],\n",
    "    stride_length_s=[4,2],\n",
    "    batch_size=5,\n",
    "    ignore_warning=True,\n",
    "    ## force whisper to generate timestamps so that the chunking and stitching can be accurate\n",
    "    # return_timestamps=True, \n",
    "    generate_kwargs = {\n",
    "                       'language':'swahili', \n",
    "                       'task':'translate', \n",
    "                       # 'repetition_penalty':2.2,\n",
    "                       # 'num_beams':1,\n",
    "                       # 'skip_special_tokens': True,\n",
    "                       'max_new_tokens':448,\n",
    "                       # 'early_stopping':True,\n",
    "                    #    'renormalize_logits':True,\n",
    "                       # [16867]: �, [16867, 156, 100, 235, 156, 12811]: �্র\n",
    "                       # 'bad_words_ids':[[16867], [16867, 156, 100, 235, 156, 12811]],\n",
    "                    #    'supress_tokens': [16867, 156, 100, 235, 156, 12811],\n",
    "                       }\n",
    ")\n",
    "\n",
    "\n",
    "\n",
    "asr_greedy.model.config.forced_decoder_ids = processor.get_decoder_prompt_ids(language='Swahili', task='translate')\n",
    "    # asr.model.config.max_new_tokens = 448 #default is 448\n",
    "# fix_spelling = pipeline(\"text2text-generation\", model=\"oliverguhr/spelling-correction-english-base\")\n",
    "# s = []\n",
    "# t = []\n",
    "# for i in range(len(swahili_final['test'])):\n",
    "#     result = asr(swahili_final['test'][i]['file_name']['array'])\n",
    "#     # result = fix_spelling(result['text'],max_length=448)\n",
    "#     s.append(result[0]['generated_text'])\n",
    "#     t.append(swahili_final['test'][i]['transcription'])\n",
    "# result = asr(swahili_final['test'][780]['file_name']['array'])\n",
    "# print(swahili_final['test'][780]['transcription'])\n",
    "s = []\n",
    "for out in tqdm(asr_greedy(data())):\n",
    "    s.append(out['text'])\n",
    "    # output = asr_greedy(swahili_final['test']['file_name']['array'])"
   ]
  },
  {
   "cell_type": "code",
   "execution_count": 149,
   "id": "8918bfb6-3992-477d-b53e-77569548da29",
   "metadata": {},
   "outputs": [
    {
     "data": {
      "text/plain": [
       "'Once a week.'"
      ]
     },
     "execution_count": 149,
     "metadata": {},
     "output_type": "execute_result"
    }
   ],
   "source": [
    "s[5]"
   ]
  },
  {
   "cell_type": "code",
   "execution_count": 156,
   "id": "9d773af9-305a-4bab-9746-01f3a0545f2a",
   "metadata": {},
   "outputs": [],
   "source": [
    "t = swahili_split['test']['transcription']"
   ]
  },
  {
   "cell_type": "code",
   "execution_count": 151,
   "id": "ab251e5e-11ab-4576-bc16-c13f762eaafd",
   "metadata": {},
   "outputs": [
    {
     "name": "stdout",
     "output_type": "stream",
     "text": [
      "{'bleu': 0.2069966888296914, 'precisions': [0.45, 0.24137376337167216, 0.15569067397447975, 0.10856464572680789], 'brevity_penalty': 1.0, 'length_ratio': 1.0884577441631043, 'translation_length': 13240, 'reference_length': 12164}\n",
      "0.8100131535679053\n",
      "0.620902540509455\n"
     ]
    }
   ],
   "source": [
    "s = [normalizer(pred) for pred in s]\n",
    "t = [normalizer(label) for label in t]\n",
    "results = bleu.compute(predictions=s, references=t)\n",
    "print(results)\n",
    "results = wer_metric.compute(predictions=s, references=t)\n",
    "print(results)\n",
    "results = cer_metric.compute(predictions=s, references=t)\n",
    "print(results)"
   ]
  },
  {
   "cell_type": "markdown",
   "id": "1adc130b-114d-47d1-a705-280edd9fc5d7",
   "metadata": {},
   "source": [
    "Beam Search"
   ]
  },
  {
   "cell_type": "code",
   "execution_count": 153,
   "id": "a930f114-d8bc-4654-ba2b-8dfae323470b",
   "metadata": {},
   "outputs": [
    {
     "name": "stderr",
     "output_type": "stream",
     "text": [
      "872it [1:14:56,  5.16s/it]\n"
     ]
    }
   ],
   "source": [
    "asr_beam = pipeline(\n",
    "    task=\"automatic-speech-recognition\",\n",
    "    model=model,\n",
    "    tokenizer=processor.tokenizer,\n",
    "    feature_extractor=processor.feature_extractor,\n",
    "    # processor=processor, #no effect see: https://github.com/huggingface/transformers/blob/main/src/transformers/pipelines/automatic_speech_recognition.py\n",
    "    # config=config, #no effect see: https://github.com/huggingface/transformers/blob/main/src/transformers/pipelines/automatic_speech_recognition.py\n",
    "    device= 'cuda',  # for gpu 1 for cpu -1\n",
    "    ## chunk files longer than 30s into shorted samples\n",
    "    chunk_length_s=30, \n",
    "    ## the amount of overlap (in secs) to be discarded while stitching the inferenced chunks\n",
    "    ## stride_length_s is a tuple of the left and right stride(overlap) length.\n",
    "    ## With only 1 number, both sides get the same stride, by default\n",
    "    ## The stride_length on one side is 1/6th of the chunk_length_s if stride_length no provided\n",
    "    # stride_length_s=[8, 8],\n",
    "    # stride_length_s=[5, 5],\n",
    "    stride_length_s=[4,2],\n",
    "    batch_size=1,\n",
    "    ignore_warning=True,\n",
    "    ## force whisper to generate timestamps so that the chunking and stitching can be accurate\n",
    "    # return_timestamps=True, \n",
    "    generate_kwargs = {\n",
    "                       'language':'Swahili', \n",
    "                       'task':'translate', \n",
    "                       # 'repetition_penalty':2.2,\n",
    "                       # 'num_beams':1,\n",
    "                       'max_new_tokens':448,\n",
    "                       'num_beams':5,\n",
    "                       'early_stopping':True,\n",
    "                       'no_repeat_ngram_size':3,\n",
    "                       # 'num_return_sequences'=5,\n",
    "                       # 'early_stopping':True,\n",
    "                    #    'renormalize_logits':True,\n",
    "                       # [16867]: �, [16867, 156, 100, 235, 156, 12811]: �্র\n",
    "                       # 'bad_words_ids':[[16867], [16867, 156, 100, 235, 156, 12811]],\n",
    "                    #    'supress_tokens': [16867, 156, 100, 235, 156, 12811],\n",
    "                       }\n",
    ")\n",
    "asr_beam.model.config.forced_decoder_ids = processor.get_decoder_prompt_ids(language='Swahili', task='translate')\n",
    "s = []\n",
    "for out in tqdm(asr_beam(data())):\n",
    "    s.append(out['text'])"
   ]
  },
  {
   "cell_type": "code",
   "execution_count": 154,
   "id": "dea3cc60-3d10-4127-92c2-d45d41d234d7",
   "metadata": {},
   "outputs": [
    {
     "data": {
      "text/plain": [
       "[\"I'm not worried, but just maybe you are right, maybe to talk to someone you know, because sometimes, maybe you can get . Maybe you have lost a number and maybe you have gone to another person, but I'm usually worried because of the to be careful so that you don't get scammed.\",\n",
       " 'I would have taken the money from the phone I had borrowed.',\n",
       " 'A few times in a week.',\n",
       " 'There is none.',\n",
       " 'It is better for people to withdraw money than have members to know what is happening.',\n",
       " 'One is the one who works and his work is casual and he is paid daily, he can get a loan another one does not work and is paid one thousand.',\n",
       " 'Once a week.',\n",
       " 'A few times.',\n",
       " 'To call people.',\n",
       " 'One is a teacher and the other is a plumber.',\n",
       " 'Yes.',\n",
       " 'Okay. It has always been that everywhere you find trust when you are true To be honest, you will be harassed all the time. Even at work, you are supposed to be loyal to your honesty So that you are given a raise. So at times you want to give out Another money, you must first be honest to pay this so that people can believe and also add up problems.',\n",
       " \"It is the responsibility of the company. The company that gives those offers of doing online work. To ensure that those people don't see it, everyone is safe.\",\n",
       " 'I would buy my sim card because most of the times, I get lost, and I lose a lot of money On them. So, I would buy the sim card.',\n",
       " 'Business.',\n",
       " 'I dont know.',\n",
       " \"I haven't posted on Facebook.\",\n",
       " 'English.',\n",
       " 'We meet once a month, and we usually contribute five hundred to five thousand . When you borrow, you will borrow according to the that you have been given . If you are given five hundred, then you can get a loan of ten or twenty shillings.',\n",
       " 'Am a cobler.',\n",
       " 'With those loans, we meet after every month. We meet once a month . We usually use one person, there is one other person who has one person for the whole day, and the other one has four people. For those that we meet, we put money on them and then . We borrow. One can borrow a thousand shillings, one can borrow twenty thirty and go on helping.',\n",
       " 'No one uses it.',\n",
       " 'Several times in a day.',\n",
       " 'When someone borrows, they pay on time. That is good.',\n",
       " 'I use true caller to call me.',\n",
       " 'At other times, you can send money to a wrong number or buy credit to an wrong number.',\n",
       " \"Those videos are very annoying at times so I don't like them.\",\n",
       " 'I share with friends and my siblings.',\n",
       " 'My job is farming and I sell vegetables.',\n",
       " 'At the moment am not doing anything am looking for a job.',\n",
       " \"Sometimes maybe you can pay on time if you don't want your money to go to the wrong number.\",\n",
       " 'Data bundles.',\n",
       " 'Different places when I.',\n",
       " 'Am a tailor and I dont work as a carpenter.',\n",
       " '1986.',\n",
       " 'Once a month.',\n",
       " 'I use Whats App for communication or to chat or send messages.',\n",
       " '1997.',\n",
       " 'Mostly its once a month.',\n",
       " 'Several times a day.',\n",
       " 'There 6 children and all 6 go to school.',\n",
       " 'I have three sim cards. I have one that I have use to register till. then I use the ones that have no no no. I use Airtel. I do their day.',\n",
       " \"In my opinion, she should know that there is a police station and it has human rights Now if people do business, they are supposed to protect themselves against that. You can't just sit there and watch those human rights videos that are being shared by others.\",\n",
       " 'To receive information.',\n",
       " 'Response not in swahili.',\n",
       " 'There 2 children and all 2 go to school.',\n",
       " 'Several times a month.',\n",
       " 'There is a sim card of using it normally, there is a work sim card, and a phone sim card for dealing with matters related to debt, There is a card with a specific amount that I use to pay for my work but it is not my friend and not my close people.',\n",
       " 'I am a teacher.',\n",
       " \"My opinion is that we should borrow because we have already started answering the phone questions . We help each other . We do not want to be in a relationship when we pay each other's debts . We try our best to pay it again and again so that someone can help us . So that if she is not happy with the idea of \\u200b\\u200bthe phone being harassed because she has a debt, that is not a bad idea . Because she is the onearicom to repay that debt because of its benefits and also its benefits. The debt should be the one that makes me happy.\",\n",
       " '1000 shillings.',\n",
       " 'Okay they dont go to school at the moment so they are the ones who are schooled to study with.',\n",
       " 'I use it anytime I want to take a photo, any time I like it.',\n",
       " 'I did not hear it well.',\n",
       " 'Yes I do use.',\n",
       " 'Friends.',\n",
       " 'My mother is not working and father works in different places but in a month he can earn around 20000 shillings.',\n",
       " 'For communication and to receive information from people online.',\n",
       " \"Several times, I have taken Moraa's money and she hasnt asked me for her money, so I will just move on to the other side.\",\n",
       " 'I have two sim cards.',\n",
       " 'Am not working, am a volunteer and there is no volunteer amount.',\n",
       " \"Most of them are like a suggestion of what I watch so if I realise that they are related to what I'm watching then I just go on and watch them because that is important.\",\n",
       " 'The benefit is that the business person is.',\n",
       " '1987.',\n",
       " 'Bundles.',\n",
       " 'I use data bundles or Wi Fi whenever I need to use Wi Fi.',\n",
       " 'I always have bundles and Wi Fi.',\n",
       " 'Business.',\n",
       " 'No.',\n",
       " 'I have two sim cards and I use all of them.',\n",
       " 'Two. I always use.',\n",
       " 'Farming.',\n",
       " 'buying a service is usually a good idea because you have to know the service that is on the internet. Use it. The service will help you a lot. You must be able to understand it, so that you can know if you are a customer.',\n",
       " \"If you will try to find money, you can pay it at the right time so that you don't get scammed next time You can go to other friends or if you just do their work and be able to finish the money.\",\n",
       " 'Swahili.',\n",
       " \"I can't even briefly explain how I feel about it.\",\n",
       " \"I use cyber mostly, or if I set up a phone for a smartphone I use data bundles, and for cyber I use Wi Fi themselves, to check on what's happening.\",\n",
       " 'I do business and in a day I can make between 1000 to 1500 shillings.',\n",
       " 'One does casual jobs , the other one earns 1000 shillings as of now.',\n",
       " 'I watch Youtube.',\n",
       " 'A few times in a day.',\n",
       " 'At other times, I get bored with it, but most of the time, I play it once a while.',\n",
       " \"I think the interest is much more because having an online business is okay and you'll have more customers than the internet So the benefits are much more than other interests.\",\n",
       " 'At times a day.',\n",
       " 'It depends on how the message is received.',\n",
       " 'Am a motorcycle rider and am paid 300 shillings per day.',\n",
       " 'There are no children.',\n",
       " \"I can't speak Swahili.\",\n",
       " 'I use mobile bundles and Wi Fi, anytime I want to go.',\n",
       " 'He is afraid and goes to the market.',\n",
       " 'I usually go to the different places that I visit when I do my work.',\n",
       " '1974.',\n",
       " 'Once a day.',\n",
       " \"Sometimes you do transactions then it gives you a point that your system is not working so sometimes You want to do something for now but use the money in the future but if you don't want But with that process, you wonder that the system is down so it becomes a problem and you have to be careful There is someone who not enough for them and the videos are very old.\",\n",
       " 'Friends and also other people.',\n",
       " 'With the public.',\n",
       " 'I can use them like twice a month.',\n",
       " 'My husband.',\n",
       " '.Benefit of the internet Look for ways to protect yourself from coming across those dangers.',\n",
       " 'I use it anytime I want to take a photo, like 5, 6, 7, 8, 9, thats when I can take photos.',\n",
       " '1998.',\n",
       " 'The person who is supposed to be close to her should be at least that she meets up with if you are not with her . Then you get that information immediately.',\n",
       " 'That would be good because that would increase credit.',\n",
       " '1996.',\n",
       " \"I'm worried about those who can take my email, my hackers. They are not the ones who can use my account.\",\n",
       " 'I share with my friends and also the community.',\n",
       " 'No, I dont go to other places to work.',\n",
       " 'There 3 children and all 3 go to school.',\n",
       " 'To chat.',\n",
       " 'Another person who deals with banking matters is my husband.',\n",
       " 'It helps me to know who is calling me. The question is, is the question worth it. It is a question worth answering.No Responce.',\n",
       " \"I could have bought it so that I don't get scammed.\",\n",
       " 'Several times a day.',\n",
       " 'My opinion is that she should come up with a way that She can be good and can be bad.',\n",
       " 'There is no such person as if there would be a service and if they are paid through their eyes Or according to the scammers, I would be paid. There is no one who helps, your business, your children, or your family members. So, even if it is a service, they pay.',\n",
       " \"I use my mobile data bundles. If I buy bundles, I put them because in my household, there is no Wi Fi. So, I use data bundle to put on my phone. Maybe, I wasn't able to go to the beach, I was mostly in those big, small hotels. They have free Wi F I. Or if I'm in a place where they've put free Wi Fi, but with my data, I'm always on the Wi Fi and I'm there to buy a lot of data. And if I get a chance  using Wi Fi, I usually delete it because I don't want my data bundles to get lost. When I get a free Wi Fi place, I connect to the Wi Fi . When I'm at home, I know there is no Wi Fi where I go to use their phone if they have Wi Fi.\",\n",
       " 'Twice a month.',\n",
       " 'It is a good thing if you will afford to borrow and pay.',\n",
       " 'Unemployed.',\n",
       " 'To chat with friends, spread business on the internet, and watch better news.',\n",
       " 'In two.',\n",
       " 'If there is a problem, I fear because if you will get a loss, or if you are not careful You will have a loss and you will continue with business.',\n",
       " 'I think it is my duty, but I think there are people who do not like to be harassed They should pay the debt because of abuse. But if you do a business online It is not bad, at the moment you know you are doing something wrong.',\n",
       " \"They don't know.\",\n",
       " 'I keep quiet.',\n",
       " 'The government is the one who goes to work, they are the ones who harass people.',\n",
       " 'Paid his debt.',\n",
       " 'Yes, I do go when there is need.',\n",
       " \"To be honest, I'm very worried. My worry is that you can face one person and say that maybe that money has been withdrawn and . There is nothing that must be done but it happens that time, a person has withdrawn or they do their money there. Now, you see, I am worried about those people but what has happened is the one person is lost, so it is something to risk.\",\n",
       " 'I share with my friends.',\n",
       " 'No Responce.',\n",
       " 'There 3 children and 2 go to school.',\n",
       " 'They are just old but I use them a lot to make calls.',\n",
       " 'I use Whats App to send messages and also to do other things.',\n",
       " '1978.',\n",
       " 'Friend.',\n",
       " 'A few times in a week.',\n",
       " 'I have my data bundles on the internet that my mother uses.',\n",
       " 'I use Whats App to communicate with groups and to get information in relation to harassment. I use whatsapp to make sure that my communication is online maybe.',\n",
       " 'My opinion is that other Moraa would have borrowed or taken a loan so that it can be deducted.',\n",
       " 'I use data bundles.',\n",
       " \"I haven't understood the question.\",\n",
       " 'The sim cards are three and I use all of them.',\n",
       " 'A few times in a week.',\n",
       " 'Am a motorcycle rider and in a day I can make between 500 to 200 shillings.',\n",
       " '5000 shillings.',\n",
       " 'My parents are all bankers and that is why everyone goes to the bank.',\n",
       " 'One is for calling, one is for using like browse and buy bundles.',\n",
       " \"I don't have children nor am I also a student.\",\n",
       " 'The conmen are very good because they can hack my account when the money is saved. . When they get my pin, they take it and save it in my account.',\n",
       " 'No I dont go to other places.',\n",
       " '1992.',\n",
       " 'I use Facebook to chat with my friends. To chat with friends as well as what they are doing.',\n",
       " \"I use all of these sim cards. There are times maybe when I can I always do not want it to combine with my personal The other one is for maybe saving money, maybe if someone has collected money throughout the day, that's when.\",\n",
       " '2000.',\n",
       " 'Not to be loaned. We meet up when it comes to online work.',\n",
       " 'They dont work they are jobless.',\n",
       " \"I mostly don't want children to see what the message is using because some messages are It can be a lot of people. So, there is no message that a child is being harassed in other places. You know there are other places where information is being distributed? Other places where you can try to find messages through bad people. Now I I look at such things. So I must have looked at a child and see them. I see if it is a good message or a bad thing so that one can see. But if it's bad, I lose a lot of things.\",\n",
       " 'Because my phone has me and my husband that are close to each other The person who makes the phone for me so that I can know who I am dealing with but if I am the one who is close, I will be able to do something for him.',\n",
       " 'I will sell them at my place of work and get my money back.',\n",
       " 'Yes I use Wi Fi, currently am at home.',\n",
       " '1994.',\n",
       " \"Someone that I don't know.\",\n",
       " 'The whole day.',\n",
       " 'They are not working.',\n",
       " \"I have three sim cards. One is Airtel. I mostly use bundles because with their bundles, they don't consume a lot of money. So, I usually use two sim cards on the internet. I have two thousand sim cards where I can give to the Mpesa people. Those who use these can give me Mpesas, they also call them and the good news is that they only save one . They don't use it but I.\",\n",
       " 'I share with friends mostly.',\n",
       " 'I share with the public.',\n",
       " 'My friends.',\n",
       " 'Once a week.',\n",
       " 'Once a week.',\n",
       " 'I use bundles and internet.',\n",
       " \"Moraa did not like them doing any harm to her because she lost to a customer and that is one of the ways of losing customers Is to check up on each other so that it is not a problem for her as she is not in a bad way or she will even fail you. The other line is to pay back what you lost. That is a way of paying customers. Because if the customer because these days customers usually say that if you put That money in the phone, it doesn't mean that he has already lost his customer.\",\n",
       " 'I have not heard.',\n",
       " '1 child and goes to school.',\n",
       " 'I use it to chat, to look at my business.',\n",
       " \"I have a doubt because in the internet, there are people who continue to abuse my husband. So when I get what it is about, when I Get their information on Whats App, I must delete it and make sure that I don't get scammed. So that's why some scammers keep appearing in my house.\",\n",
       " 'Am an agent who does special jobs and it depends on how the day is and if I get a loan I can make 500 shillings at the end of the day I make 500 shilling. That is what I usually do.',\n",
       " 'To communicate, get information, get online.',\n",
       " 'Business of selling online. My phone is between 25000 to 100000 shillings per month.',\n",
       " 'The benefits of selling online are that you get to see your customers more than what you have. And attracting online customers.',\n",
       " 'Unemployed.',\n",
       " 'Not that regular, it is only when they need a rise.',\n",
       " \"The family, if they know how to save, they can want . To get the money from them, so they need to do other things that don't want .\",\n",
       " \"I haven't known about it.\",\n",
       " \"I dont have any work that I do, most of the times am called to work, at the company I dont have work, if that company makes me 500 shillings, it will be deducted and the phone, and that's what I can do when I want to take photos, I use my phone.\",\n",
       " 'I have not heard.',\n",
       " 'Casual jobs I dont have.',\n",
       " 'It is communication and some interruptions in business, in my business.',\n",
       " 'There is someone I do not want to pay.',\n",
       " 'My husband is a teacher and he is paid 300 shillings per day at the end of the month. While my eldest son is paid 200 shilllings per day. While the rest are still children.',\n",
       " 'I dont have work.',\n",
       " 'Truecaller helps me to find out who is calling me even if it is a strange number.',\n",
       " 'I watch the videos that I make because at times I watch it every time I look at them.',\n",
       " 'Yes, I work from home.',\n",
       " 'I have no comment.',\n",
       " 'Home wifi.',\n",
       " 'There are no people who have access to the bank.',\n",
       " 'My opinion is that she should not do that business online because She would have lost a lot of money or she would have tried to do business with a wide range of products.',\n",
       " 'I think it is the responsibility of the company but now we have taken steps by together. The company should send the money because The harassment of these people and the abuse of them is huge. There are those who will try to scam you but if you say they will scam you, they get tried to steal your money. But if they are harassed and they find out that you have transported them, that is not good. So, everyone should be careful not to get to the wrong thing. But in order for this to go on, it is good. It is like you are trying to protect yourself from the harassment.',\n",
       " \"I think it is a good thing. You have something that can help you. Especially those information but for me, I don't think I can buy it because of the information I will get. So, it's not going to be a problem. There is a market where you can buy products from.\",\n",
       " 'I use the camera for 3 times a week, I hardly use it.',\n",
       " 'My opinion to Moraa is that she should make a profit because there are people who can pay with their life. At that time, he would also withdraw money to return it was to lose time and then sell it to someone who has a loss of . Because it would be a place where Mora is losing customers because of the sim cards she made a loss with.',\n",
       " 'I havent gone to another place to work.',\n",
       " 'I delete those applications when I want to watch a movie.',\n",
       " 'There is none. I am just here for my money.',\n",
       " 'Sometimes I do do my transactions and sometimes I am in my wrong place or wrong place . So that is always my concern.',\n",
       " 'I am usually worried because some people take money and some know that you have money on the phone and can . When they see your phone and see you have that money, that is why I am worried.',\n",
       " 'The benefits of selling online are that you can reach many people. That business can be in a place , a place to sell. You can have a business You can put your products online then you get customers from the internet.',\n",
       " 'If true caller helps me to know who is calling me, I use Whats App or Facebook to.',\n",
       " \"I wouldn't buy it because currently, there are many people in the nation who even try to scam me The same person who I have bought from them, they are the same people who are used to con. So, I don't think there is any need for us to continue buying it because they will do it again.\",\n",
       " \"She doesn't send friends.\",\n",
       " 'The ones I work with are the ones I set up a pattern or a law to prevent their from happening again and again.',\n",
       " 'A few times.',\n",
       " 'If you pay with Mpesa, you will not get a lot of money from the transactions, but what you will get is that if you send money to a wrong person, he tells you to move on without giving you any customers.',\n",
       " 'Several times a week.',\n",
       " 'Kiswahili.',\n",
       " \"To be honest, several times that are uncountable in a month because usually,During the day, if he is at home, I listen to music or watch And if he isn't, I come in the evening so it's mostly a month.\",\n",
       " 'We usually meet twice a week, after two weeks . And you are given a loan according to your shares. So, if you find thousand, you can be loaned twenty . You find that you have been given one hundred and you get one hundred shares.',\n",
       " '1969.',\n",
       " 'I use it most of the time as it makes me happy.',\n",
       " 'There is no child.',\n",
       " 'Time to time.',\n",
       " 'Once a week, I make 500 shillings per day.',\n",
       " 'Yes, I do go.',\n",
       " 'It is not a bad idea to sell.',\n",
       " \"The videos that I watch are usually related to what I'm watching so sometimes I watch them and get the deadline So it makes it easier for me to choose what to watch.\",\n",
       " 'Once a week.',\n",
       " '1989.',\n",
       " '1995-1978.',\n",
       " \"When I search for an application that can save me money, I find that it doesn't have enough money. That's why I look for a place to save and buy money.\",\n",
       " 'Twice a week.',\n",
       " 'Yes I do go.',\n",
       " 'If you take a loan of ten thousand and pay on time, there is a chance that The people will borrow again because you pay at the right time and also You will be late for payment because you are being harassed.',\n",
       " 'Any time I need a phone or to receive, and also to go to the internet.',\n",
       " '1971.',\n",
       " 'Several times a month.',\n",
       " \"Yes, I do have a doubt. Maybe someone doesn't know me, I use my money to account for example I use an account that had no secret.\",\n",
       " 'There is none.',\n",
       " 'If there was such a service, I would absolutely buy it to protect myself from these scammers.',\n",
       " '2001.',\n",
       " 'We used to work in a different place as we had no work that day.',\n",
       " \"I don't.\",\n",
       " \"It's okay if you have a lot of money and if you want to save like 10000 shillings, you can get more money. You will be losing money later on you will lose your money.\",\n",
       " 'I have two sim cards and I use all of them.',\n",
       " 'I have four.',\n",
       " \"I haven't heard well.\",\n",
       " \"I don't use them.\",\n",
       " 'Business.',\n",
       " 'My friends help me identify the names of them.',\n",
       " 'I do business and also do hardware business.I think the products that I get are going to 15000 shillings.',\n",
       " 'I sell from my home business and I make money from it.',\n",
       " \"Okay, so I don't have a specific period because at times I use it all the time like in a day or month or week.\",\n",
       " \"I don't have any worries someone can.\",\n",
       " 'English.',\n",
       " 'Frequently since I use the phone anytime I want to take a photo of what I saw on the screen.',\n",
       " 'There 6 children, 5 go to school and 1 is still young for school.',\n",
       " 'I have a shop selling Copia products and mostly I make 200, 300 and even 1000 shillings a day.',\n",
       " \"I would buy it because I would like to have my phone if I don't have phone in order to get the loan, I have to buy I will not have the money, but if I have I will buy it so that I can be given money and then if I buy the product, it will be increased because in most cases When you give a phone and pay, you must know, you will look for your phone. You will be scammed.\",\n",
       " 'I use home Wi Fi.',\n",
       " 'For those videos they pop up on the side of business, they are for advertisement They are for watching other videos.',\n",
       " 'I live alone.',\n",
       " 'Twice a day.',\n",
       " 'It depends but it can be twice . Two times a month or even once a month.',\n",
       " 'My work is teaching as I get paid, it can be a week, a month, it depends if I want to work and the things we do . At the moment he is the one who is responsible for the occassions or events to do volunteer work.',\n",
       " 'Yes, I do go to other places to work.',\n",
       " \"Most of the time, it depends on my income which I don't have enough because if I am paid 500 shillings in the evening then I havethe time you won't be saving.\",\n",
       " \"It's like breaking news.\",\n",
       " 'I would buy it just so that the scammers can be seen. People who Have their number and access and then you go to the true caller to search for the person, now it is like that.',\n",
       " \"First, there are some who can lie that they are sending money to the phone and then they send and reverse . That is the problem with the first one.The second one, probably the one who had Fuliza and he had . When he sent that money there, it didn't work or that person will send their money back to you and it will go to.\",\n",
       " '1999.',\n",
       " 'Yes I do, I do to work in other places as you can tell where you are.',\n",
       " 'Other times I use it maybe once a week.',\n",
       " 'It is registered under my name.',\n",
       " \"Those Apps that I usually don't use they are very annoying maybe because of the conning through. You try to watch The videos that you have posted. They are very disturbing. Sometimes you find that they pop up.\",\n",
       " 'If the service was good, you would be given another job.',\n",
       " \"That service is good. It helps me a lot because you can be given a certain amount of money and you will have to pay it little by little And get that little amount so that you don't lose your money.\",\n",
       " 'I run a Copia business.',\n",
       " '3.',\n",
       " 'Majorly am working with them and they are not working.',\n",
       " 'Okay at the moment I get the money once or twice but when I . When I want to save I save.',\n",
       " 'I have no doubt in any of them.',\n",
       " \"On the internet, you sell out to people you know, people you don't know So your business can go to your side. That's good. You get to see people there not as your own people.\",\n",
       " 'Her opinion is that when you pay in installments, she should continue with the internet She should be able to reach many people in those conditions even if there are many people who sell products in their shop.',\n",
       " 'The owners of the internet do not want them to get scammed is just that.',\n",
       " 'I have three sim cards and I use two. One is for closing.',\n",
       " 'I have not heard yet.',\n",
       " \"It is the government's duty to ensure that the contentment of the internet The are very important to me.\",\n",
       " '70000 shillings per month.',\n",
       " 'All children go to school.',\n",
       " 'Several times a week, I save through the bank.',\n",
       " 'It is five but I use one.',\n",
       " 'I would not buy that service because it is the responsibility of the communications person to ensure that communication person is received by the customer.',\n",
       " 'Like my friends that I keep money and then according to the owners, they can do their things on time.',\n",
       " 'Online business.',\n",
       " 'They dont work.',\n",
       " \"They are great people but the mother usually doesn't work she just deals with small business and the father also deals with business He is a teacher and he cooks for us at home, he also earns money but he is not able to do any work because of its benefits.\",\n",
       " 'There 4 children that go to school. So, when there is a child who is in school, they should come up with a way to help them.No.Tailoring.',\n",
       " 'I work.',\n",
       " 'Data bundles and Wi Fi.',\n",
       " 'Am a student I do work and am paid 500 shillings per day.',\n",
       " 'Okay, I use it on a daily basis.',\n",
       " 'My father.',\n",
       " 'No, I only work from my place of work.',\n",
       " 'I fear because if the money increases, I fear again.',\n",
       " 'It is me alone.',\n",
       " 'Okay my opinion is that she lost a customer and that is the money she is getting.',\n",
       " 'A few times in a week.',\n",
       " 'Bus.',\n",
       " 'English.',\n",
       " 'I go to different places, I reach out to my friends from different places.',\n",
       " 'Saloon.',\n",
       " 'Any time I want to take a photo of what I have sold I use it.',\n",
       " 'I have three hundred shillings per day.',\n",
       " 'One would be able to protect himself against fraud or.',\n",
       " 'If they increase your limit, they limit your limit alone with respect to your business or an investment so that you are able to pay it within the required time.',\n",
       " 'There is no one in my family that works.',\n",
       " 'I use my mobile data bundles.',\n",
       " \"I didn't understand that question. I mean, can there be a language? If it is a language, it means English.\",\n",
       " 'Yes, I think it is good that if you borrow and then pay in the required timeline They are increasing, they are increasing so that the loan limit will increase. You know? So you can be able to borrow and save at the right time And it encourages you to be careful of what you do in order to help them out a lot. But also You know, the owners of the internet, when you add the amount the amount on the loan, They usually do it for the betterment sometimes paying for that money. So, you start to find that if you add an amount that You know, there is a way that a loan can help you more, and then you know.',\n",
       " \"Let's say I used to use Jumia but now as I am a Copia person I don't know how much I use her because she is the only person who will make me want her. If I want a tronnet I want to take a photo parent, a friend, and those who see what I'm going to do in my life.It would be good. I would put a limit of just a little because Copia has given me all the things I need. I don't need them for Copia to give me. For this Copia I need something like this one for now because I have these Apps for now.\",\n",
       " 'They are two and yes, I use them.',\n",
       " \"I haven't heard yet.\",\n",
       " 'No.',\n",
       " 'No, I dont go to other places I work here.',\n",
       " \"The benefit of selling online rather than the harassment of you see that someone may have a problem And they don't want you to pay that money.\",\n",
       " 'I think it is the responsibility of a business person to ensure that there is security.',\n",
       " 'I watch games, I watch games to communicate.',\n",
       " \"That's what I do.\",\n",
       " 'I dont know what work they do.',\n",
       " 'I have two sim cards and I use all of them.',\n",
       " 'The benefit of selling online is that you hear many people saying that there is abuse and the benefits of your products if they are good products you can get customers. You know there are many people on the internet They use the products that use you to get customers, now if you go through the Internet you find that many people.',\n",
       " 'At this time of the year I dont have the ability to watch them but I do watch.',\n",
       " 'Several times a day.',\n",
       " 'We do advertisement and advertise work like to advertise Copia and to communicate with friends.',\n",
       " 'Its only me 3 years and I dont know how much I will make.',\n",
       " 'I would not have taken it because the debt would have been paid.',\n",
       " 'Electriction.',\n",
       " 'My personal business and self employment.',\n",
       " 'I think Moraa would have accepted to pay for it because the good news is that she has accepted.',\n",
       " 'To communicate.',\n",
       " '1991.',\n",
       " 'your opinion is absolutely wrong.',\n",
       " 'The same with the one that I use the other day.I use.Its only one.1500 shillings per day.500 shillings.I have not heard about that Mpesa shop. I would like to know about the place where it started off as you can see, it has a price.That question of.1945.Yes.Its only me.Kiswahili. My opinion is that when you borrow money, you pay with the money you have . When you borrow, you can see that you have been loaned many, many times . You see? The fear you have taken with it, it becomes a lesson for you if you borrow and pay with it. That is why I fear.Its only me.',\n",
       " \"I haven't heard of a device that can track where I am.\",\n",
       " 'Twice a week.',\n",
       " 'At other times information is not True.',\n",
       " 'I save. After I receive a message, I save on my phone.',\n",
       " 'I use that Safaricom to make calls.',\n",
       " 'There 9 children and 6 go to school. They are still young.',\n",
       " 'I just find them not working and their numbers are not working.',\n",
       " 'I live alone.',\n",
       " 'I have 7 children and all 7 go to school.',\n",
       " 'I use Whats App to promote my business and to communicate with my customers.',\n",
       " 'The benefit of selling online is that you will get many people, and you will see that there are many people Availability of doing that.',\n",
       " 'They are just old they dont work out they just go to school.',\n",
       " \"The amount of money I make earns me 500 shillings per day, at times it depends on the month so I usually pay 6000 shilings at the end of the day I also pay 2000 at that time don't know anything about it.\",\n",
       " 'They dont work they are here a few times in a week.',\n",
       " 'Bell.',\n",
       " 'A few times in a week.',\n",
       " 'My father is a parent, my mother is a mother, their income is not bad but I want to say that it is good.',\n",
       " 'We contribute two thousand shillings every day, and no one is paying, and there is no meeting . The meeting is the only one, where if it is given, we give it with money. Like the business people who own it .',\n",
       " 'Response not in swahili.',\n",
       " 'It is the responsibility of each of us to share.',\n",
       " '2001.',\n",
       " \"No, I don't have another job.\",\n",
       " 'I have three sim cards of which I use all of them. Two are for Safaricom and one is for Airtel. And those I have not used are not working well.',\n",
       " 'Yes, I use them all but with my children.',\n",
       " 'I have a shop where I sell clothes and that is what I make for the customers from that month.',\n",
       " \"I use Whats App to get messages from groups. There is a group that has There are groups that are there. Now, I'm using Whats App for the messages.\",\n",
       " \"It is everyone's responsibility to ensure that women don't go bankrupt even if they are forced to.\",\n",
       " 'My friend.',\n",
       " 'I have heard but I have never used it.',\n",
       " 'Bundles.',\n",
       " \"I haven't heard.\",\n",
       " \"It is the responsibility of all of us, to ensure that women don't get harassed on the internet, and also the duty of internet owners to protect the women.\",\n",
       " \"I don't see a specific person. I don't want them to know who you are calling. They should know that I'm calling. I just want my.\",\n",
       " 'Different situations come and go.',\n",
       " 'It is something that will prevent people from borrowing money.',\n",
       " 'Its only one person that works and is paid 500 shillings per day the rest are not working.',\n",
       " \"If it would be a service to protect yourself from fraudsters, I would buy it To protect myself from being conned if I don't help out because I am the only person who gets conned. So, it is okay to buy such a service.\",\n",
       " 'Small business.',\n",
       " 'There 4 children and 2 goes to school.',\n",
       " 'They are annoying so mostly people who are the owners of the internet should be cautious.In that case we depend on the house owner to make payments And their money will be deducted as they want to sell or repay.',\n",
       " 'Worry comes when you send the money to someone and then . You get it. If it is a number, it is one. If you get a problem, that is the worry I have.',\n",
       " 'My father works as a saloonist while my mother works as an administrator at the Technical University of Mombasa.',\n",
       " 'I would buy that service because it would protect me.',\n",
       " 'A few times in a week.',\n",
       " 'They are three and I use all of them.',\n",
       " 'Ferries people on motorcycle for payment and Animal rearing.',\n",
       " 'To say hi to friends.',\n",
       " 'I use my Whats App several times in a day, like when am at work most of the time I even use it online.',\n",
       " \"I'm usually worried about my children because these days, there are few people who use the phone. . There are others who buy their phone and others who don't. Most of the time, I use it with my children. So, I usually have my children's worries.\",\n",
       " 'I have not found data bundles.',\n",
       " 'Just anyone who goes to my phone and sees my phone there.',\n",
       " 'buying a service to protect yourself and your members. Borrowing a service is to ask for as many times as you can to do for the members. Even if it is a service where I have a service and I sell, and it isthat service, you get used to it. You can buy it and it will protect you from getting scammed. I would buy it.',\n",
       " 'Mostly they share with people that are close to the internet like 4 or 5 years, when they see that Facebook is small They feel that they are sharing with others.We usually share. One also has a financial group.',\n",
       " 'Data comment and media.',\n",
       " 'Online jobs. For me, when I go to work I am good at paying interest on the phone as I dont have to pay. Also when I am not working I make sure I get interest in the work.',\n",
       " 'I use my phone every time that something has appeared and I am there.',\n",
       " 'They do construction work in a month they make 5000 shillings per month.',\n",
       " '1993.',\n",
       " \"Almost all the relatives, like my wife, I ain't . One of the people who call me is when I need to borrow a loan, they should set up a number for me . Which if they call you and you want to pay up the debt, it is up to them. Who can be called in order to reach you. That is the person I am worried about.\",\n",
       " \"It is true because you connect with friends, you can chat. There is a market place where you can buy products to pass by Facebook and to know what is happening. Like if it's the online side that has been advertise and I can get there easy and it works. it so I connect.\",\n",
       " 'It helps me because you can get an identity that someone has not been able to know who was calling you. It helps me see. So, I often go through true caller and see who was .',\n",
       " 'The benefits of selling online are that you can work where you find customers or Customers also, you can sell your products and get many benefits.',\n",
       " 'Truecaller helps me to know the true identity of someone who is calling me.',\n",
       " 'Everyday.',\n",
       " 'I have no comment since I have absolutely no problem with those videos.',\n",
       " 'No, I have never gotten a device that follows me.',\n",
       " \"It is everyone's responsibility to ensure that harassment of women is stopped Because it is a right that everyone should do their job well.\",\n",
       " 'Swahili.',\n",
       " 'It depends but I dont want them to.',\n",
       " 'A few times in a day.',\n",
       " 'My opinion is that she should pay the customer so that the money does not get sent to them. She should send it to her friends because they will take it. She must send their customer to pay and not be on the wrong side . With that mobile phone that can send three people and it can even send to someone who has not yet reached the deadline.',\n",
       " 'I was just amazed at how much they earn.',\n",
       " 'I use mobile data bundles.',\n",
       " 'I have not heard.',\n",
       " 'I do casual jobs therefore I cant make 500 to 700 shillings.',\n",
       " 'I dont have a specific job therefore I dont earn any money I do casual jobs and am paid 300 shillings per day.',\n",
       " 'This helps a lot because I.',\n",
       " 'Every one.',\n",
       " 'The responsibility is there and business online is the responsibility of the government.',\n",
       " 'I alone.',\n",
       " 'Small business.',\n",
       " 'Yes. I use all of them.',\n",
       " \"I would be able to buy that device even if I can't to take care of people Because I would help people and I would know people who can buy this device and help people.\",\n",
       " \"I can get like 20000 shillings per month, it's not a lot of money as we usually get foodstuff and we also get savings. So, I don't get much money as it's like.\",\n",
       " 'I use bundles.',\n",
       " 'Yes, I do go to work in other places as you cannot be in the house all the time. I make 500 or 700 shillings per day.',\n",
       " \"I wouldn't buy it because I know my details are hard. Personally, I think if I lose a bank, I will go to the bank. If I lose, the internet must take my information I must use the number that will take me where. I can't give out information because there to get the information I want.\",\n",
       " 'No, I have never used that one.',\n",
       " 'I use data bundles.',\n",
       " 'As a shopkeeper, I make a profit of 10000 shillings.',\n",
       " 'I use my sim cards according to the needs or worries that will come with or if I want to communicate with them.Currently if I need to add or communicate with someone from Safaricom, most people I use the Safaricate line or the sim card of Safaricoom line or.',\n",
       " 'Once a week, you can borrow even twenty thousand.',\n",
       " 'Parents.',\n",
       " 'I have four and I use all of them.',\n",
       " \"At other times, Moraa wasn't ready to pay the debt so she didn't have the need . To pay at the right time so that she could not be sent to school.\",\n",
       " 'A few times in a week, not everyday but after every month.',\n",
       " 'I do delivery and service farming.',\n",
       " 'My parents.',\n",
       " \"There are people who lie to you and claim to have found you but they don't answer.\",\n",
       " 'To be honest, I have a loan of 30000 shillings. Every week, wethat they are saving, after 2 weeks we stay for a long period.',\n",
       " \"The benefits of doing so, is that at times you are trying to be a big person, you don't have the ability to do other people's work. So, many people can know your products and also they will try to find out your products in order to get to your products.\",\n",
       " 'There is my sister that is account for Mpesa and I share their information.',\n",
       " 'No I have not heard.',\n",
       " 'I am not worried about money being deducted, I am worried that there is a way I can take it. All the time I stay for a while and maybe I have not enough money . To take care of myself, I do not want to be in a hurry to take the money, if I take money I will not get it. I really do not like these things. . So at times I am usually worried about those that I save but it depends on.',\n",
       " 'They dont work.',\n",
       " 'There is a lot of harassment. The benefits are good. You find that you sell well, everyone gets paid, and even someone who is not well known gets paid There is a delivery where you pay.',\n",
       " 'The benefit of selling online is that you will have many customers because there are many places where you will sell. But when you go to college and you do not have school going tomorrow, You will have the responsibility of selling to an elderly person who is outside your house. That is the benefit.',\n",
       " 'We help each other.',\n",
       " \"I hear that it's good because you have a lot of advertise and you go online and you find that someone you know is a person you want to get there, that's where the problem is.\",\n",
       " \"I would check with Moraa. Because if you can get a loan, you pay, there is no need for you to pay that loan, because when you have a problem, it helps You also don't want to be cautious of having a problem. But when you put it like that, it doesn't mean a lot to me.\",\n",
       " 'Saloon.',\n",
       " 'Maybe once a month or at times a month without using it.',\n",
       " 'I do casual jobs , I dont go to other places.',\n",
       " 'Swahili and English.',\n",
       " \"Truecaller helps me to identify the person who is calling me. It can be that someone has called me. I don't know who that person is . It is also a lie that a person usually reports and tells someone that he has called someone and that's how I find them.\",\n",
       " 'My parents are not working while my brother is in the bank.',\n",
       " 'Those who do things to prevent the internet from coming are the ones who do it.',\n",
       " 'Family members.',\n",
       " 'Yes, when there is work in other places I go.',\n",
       " \"Am registered using my name and people's names.\",\n",
       " 'The messages that I get on You Tube are usually advertisements or things that you want to sell or something authentic.',\n",
       " 'They work and earn atmost 30000 shillings when they work.',\n",
       " 'My opinion is that Moraa is not good. If she is loaned, it is good that she can be loaned again with my opinion.',\n",
       " 'At times I dont go.',\n",
       " 'It is the responsibility of the government, but what will it do? It will know that I am a treasurer. There are no other people who will do that to me. Now if that is what it will do, I would buy more so that people can know what I am doing and do something that will help me.',\n",
       " 'It is the responsibility of everyone who uses the internet, who wants to buy, and also those who sell online.',\n",
       " 'When a person wants to pay off the loan, he can find that the money is not in it He has already sold, so he has taken a lot.',\n",
       " 'No, I have never gone to other places.',\n",
       " 'I normally use Wi Fi at home.',\n",
       " 'A cyber work I make in a day.',\n",
       " 'That is the work of the communications Authority and the communication Authority of what is going on in the government.',\n",
       " \"I use one sim card for transactions and this happens every month . Maybe the time when I'm doing my savings, that time I'm dealing with banks, it is one line. The other one is a general one, which is a work line . Then the other one, I use it for the internet. I use the bundles.\",\n",
       " 'No, I dont go to other places to work only one place.',\n",
       " 'I dont use it alot.',\n",
       " 'No, I dont go to other places most of the times.',\n",
       " 'The idea is to continue using it.',\n",
       " 'Could you repeat the question?.',\n",
       " 'My opinion would be that she should just accept that money. My opinion should be just that She should not keep the money on her side until she can pay off the debt.',\n",
       " 'Yes. I use all of them.',\n",
       " \"It is very good to sell online because you spread the information you want on the internet And you've been given. When you pay back the money, you get a loss. But again, online, like Copia, is good. It's a lot because you get given something That you pay, you see, and you pay.\",\n",
       " \"For true caller, the person is usually the one who helps me to know who is calling me and who is . The person may be calling, maybe they don't know me but if you keep an application, . you will be sure that he has called you and you will get a message. The way they come and send their messages is more adverts compared to people who send messages. So, toue caller tells you that he is being harassed. And the way he is destroying you is just a way of showing your design in the wrong way.\",\n",
       " 'I run a saloon and I make 500 shillings.',\n",
       " 'There 2 children and all 2 go to school.',\n",
       " ' The videos that I post when I watch Youtube are usually also good when I am watching Some are good while some are not.',\n",
       " 'I use Whats App to chat with my friends and I also use Whats Application to make Copia orders. That only.',\n",
       " 'I would buy it because I know the benefits of selling online are that you can get many customers at the same time.',\n",
       " \"It is the responsibility of everyone to ensure that women are not being abused and that the harassment of women on the internet Is seen by women returning to home, being harassed for example if you don't want them to get along with you.\",\n",
       " 'It is a personal duty to ensure that women are not harassed And they also reduce abuse on the internet, and they should set a special thing that should be done to protect them.',\n",
       " 'Once a month.',\n",
       " 'I use once a month or a few times a day, it depends.',\n",
       " 'There is one child who goes to school every week and the other one comes every month once. And for every group, it is the one that . I am loaned about ten thousand from sixteen to twenty, but it depends on the things you have done at school. That other thing, maybe because you have got together, I have borrowed two and only one. Ten k.',\n",
       " 'If a person has borrowed money in a moving service, they should increase the limit.',\n",
       " 'A few ttimes a week.',\n",
       " \"Like.To talk to my friends and to follow up on what I'm doing Facebook.\",\n",
       " 'Its only one person that works and is paid 500 shillings per day.',\n",
       " 'We meet twice a month, and we contribute two hundred shillings every time we meet. We usually lend two thousandshillings.',\n",
       " 'We meet once a week and we contribute one that you have everyone who has your business. Your business is small but you have small businesses.',\n",
       " 'I use Whats App to communicate with my family members and also to ask questions.',\n",
       " 'I am in one group, where in the group we share social welfare and savings and also we can get a loan Social track welfare, that we share fifty is the compulsor of shares. I buy and share when there is one share and the share is ten. Then when you want to take a loan, you give the loan twice, in order the share that you have contributed. For example, you contributed your shares at a rate of 20000 shillings, when you are given a loan you must pay it at the right time So if you want a loan, you can get a full loan if you pay a share at a thousand, and then you return that loan at ten percent.',\n",
       " 'One is to use for my clients, one is for money saving And one, I use a different network which is Airtel.',\n",
       " 'I use all of them for my work.',\n",
       " 'because they come up also work and do Copia. So that is good for that and it is good.',\n",
       " 'I dont go to any other place, I stay at my place of work and am called to work from the place I live in.',\n",
       " 'One works as a farmer and earns a monthly salary, while the other one works as an engineer and earns approximately 50000 shillings per month.',\n",
       " 'To post, advertise, chat with friends, for free to do videos and others To look at advertisements that have emerged. To communicate with people.',\n",
       " 'To look at stuff.',\n",
       " 'It is the duty of the women themselves and women around the world to make sure that they empower and sell their products online.',\n",
       " 'Something that would make me buy it is if I am assured that I will need scammers but also something that will make me not buy it. If I am so far, I have never tried to get this information so that also.',\n",
       " 'The person I work with is my husband.',\n",
       " 'Those videos interest me.',\n",
       " 'There are many benefits such as you get to know each other more than a few. You get a lot of customers.',\n",
       " 'I usually check not many times but I mostly like to check what my friends do when I see them and also.',\n",
       " 'My opinion is that these networks where we use them most, the managers who are the ones who read those things, They should check  need to be careful of them. So they need To check the celebrities and see what they are doing on their account.',\n",
       " 'One is a school going child and the other one is a work woman. Every day she is paid 500 shillings per day.',\n",
       " 'I put a password.',\n",
       " 'Apps that we install on whats App in the phone or in online banking, sometimes they fail to work. . When you want to withdraw money and they have started malfunctioning, it forces you to wait for even two days before it starts functioning.',\n",
       " 'I use data bundles.',\n",
       " 'If it was a device that people buy to protect myself and those scammers, I would add it to the payment method Not that device, but I would tell them to be paid at the right time, as the customer won out, it will also be of use to him, that is, he will not be able to escape from that.',\n",
       " 'Once a month and it can be loaned.',\n",
       " 'I use the internet.',\n",
       " \"If there is a way of buying, it is okay because there are others who will buy it and others will not. Most of the time, we look at these people. They will not be able to be helped by people who are moving forward.Because they are afraid. There are those that will buy and those for them not. There is those with whom we will not buy. They should not buy and buy at the right time so that they don't have the ability to go through the process of getting customers. Now, I would like  it because it would protect me make the phone call to the fraud. Because if the company is being deducted, those fraud videos will mean that someone has stolen their phone.\",\n",
       " 'I would not buy that service because it is duty of the internet owners to ensure their customers to be safe and keeping them safe. So, it is not like there is A service that would.',\n",
       " 'It shows Kiswahili.',\n",
       " 'There no children.',\n",
       " 'I use all data bundles.',\n",
       " 'Home wifi.',\n",
       " \"I can't buy that because I believe that the moment that I get hold of it, maybe I can do anything to take it. Which means I normally don't want to be safe.\",\n",
       " 'I would not want that to happen.',\n",
       " 'Moraa should have done that because she would have refused the money. So, her things are usually okay. But with the other one, she has lost a lot. She may have lost more than one thousand, so, it is her right to pay off the debt first so that she can be able to transact herself. With that transaction, you do something that is not easy to save. You can be that even someone pays and that person has already stolen the work. I and Moraa, yes, she would have refused but it is the duty of the debt collectors to see what is happening They should check that the money is not increasing. The debt is moving forward.',\n",
       " 'There 3 children and all 3 go to school.',\n",
       " 'I would like to buy so that I can be able to stay in this place for a long time On my account. I can keep my money there as well as my phone.',\n",
       " 'To send messages, to use on Whats App or with someone.',\n",
       " 'It helps people to get money when you watch those videos.',\n",
       " 'They are two people.',\n",
       " 'I have one sim card in particular that I use to make calls and to text. The other one is what I use for money purposes. That is, it is a money. So the other one, I use it for data bundles. A lot of data bundle. I also use data bundle but not most of the day.',\n",
       " 'The importance of help is that.',\n",
       " \"If there was a call, it could help me because if I call, I don't know who that person was.\",\n",
       " \"If I could borrow, I would borrow So that I can add more money If I'm ready to borrow and pay at the right time.\",\n",
       " 'I use Facebook several times a day or when I want to get something like data bundles.',\n",
       " 'I save money in the phone a few times in a week.',\n",
       " 'Sometimes you find that someone is not you.',\n",
       " 'I use home wifi.',\n",
       " 'I have seen on Facebook.',\n",
       " 'A few times in a week.',\n",
       " \"I don't like posting anything on Facebook. That's why I don't share.\",\n",
       " 'Selling online is okay because it gives many customers more benefits than that of selling without worry.',\n",
       " 'I use Facebook from time to time.',\n",
       " 'I do casual jobs , I make 500 shillings.',\n",
       " \"To chat with friends, to look at advertisements, they can be on Facebook they are a group that helps people with discussions That's why I use Facebook.\",\n",
       " \"The worry I have is that when you pay or when you repay That product that you want, you will not be able to reach it or someone like you, someone like that That service will not help you and maybe you don't want to go.\",\n",
       " '1 child and goes to school is still young.',\n",
       " 'Yes.',\n",
       " '1994.',\n",
       " 'I have no comment on it. I just feel like destroying it.',\n",
       " 'Once a week.',\n",
       " 'If I would take a loan, my limit would increase because I would not be able to take the amount of money at the right time, and it would increase. If I take and continue with the business, I have that ability to do more pay at the right time and my limit will increase.',\n",
       " 'I would pay for it because it would be cheap.',\n",
       " 'I would buy it so that I can protect myself against those cons.',\n",
       " 'The government. The government is supposed to protect the women from any thing.',\n",
       " \"No. I haven't heard.\",\n",
       " 'There are my brothers who are in the University and they all depend on the bank.',\n",
       " 'To be honest, I heard a lot of information about the internet and also those business things and like if you do they charge you 300 shillings at the end of the day.',\n",
       " \"I think my opinion is okay. If you say that you will increase the limit, and if you take ten, next time if you pay well you will take fifteen, and you see that it is better if they add this because You are doing your thing, maybe you are doing this to increase but maybe you don't want to go to the business, The money you have found can take you to a good business, and after you are about to pay your money, you get it. So, I find it's good if you know that he is good to have increased your limit.\",\n",
       " 'No I work at home.',\n",
       " 'I have never heard of it.',\n",
       " 'A few times in a week,I hardly have work.',\n",
       " 'I have never had such a device.',\n",
       " 'It is the responsibility of the internet owners.',\n",
       " 'One financial group we meet every end of the month and the other one every month . We pay the second one and every one we meet . You can be loaned one thousand shillings every month.',\n",
       " 'One is for watching and the other one is for Mpesa.',\n",
       " 'Selling of fish.',\n",
       " 'Two.',\n",
       " 'A few times in a week or a month.',\n",
       " 'I would buy it because I would ask the price of selling online should be higher because today, there is no way that will happen. I would buy that to avoid the scammers because that is the only way.',\n",
       " 'Am not working, but I do go to different places to work. My mother sells her products to me, she is an elderly lady, we meet at the market where people sell things stay in the house for long they just do casual jobs.',\n",
       " 'Mecanic.',\n",
       " 'They dont all business and if its the same business money they can be deducted another one 200 shillings.',\n",
       " 'Okay. You can say this M-shwari, at other times she looks at what her friends had gone to see.',\n",
       " \"Moraa has a debt, now she doesn't want to pay off the debt, but if I were her and I accepted her The money is mine and that is what I wanted to get, maybe she would have accepted and sent that money To be sent money and deduct one thousand for her debt.\",\n",
       " 'It is my father, my mother and my brothers.',\n",
       " 'I see that with your group, they add you can pay on time, you add interest You add money that can be deducted. So, I see it is fine.',\n",
       " 'Chatting.',\n",
       " \"They should do the payment so that someone can increase the amount of money they have And they should see that they are doing the calculation well and they don't do it on a bad day.\",\n",
       " 'I use all those two lines.',\n",
       " 'I have never used such a device.',\n",
       " 'We meet every week and we meet up once a month . That week, we save between five hundred and one hundred shillings . In a loan that week is three times your savings. Another one a month is twice. You reduce that by the you let go of your phone, you get rid of Those interests, when you were in one, you got rid of it again.',\n",
       " 'I have a grocery stall and I use my smartphone.',\n",
       " 'I use Facebook mostly once a week, there is a person that comes and uses it almost everyday but it is too much to say how much they make.',\n",
       " '1969.',\n",
       " 'To send messages.',\n",
       " 'Facebook has its advantages as you can share with someone you know . Every person on Facebook can get that or that something.',\n",
       " 'I use data.',\n",
       " 'Am employed and am paid 1000 shillings.',\n",
       " 'Farming.',\n",
       " 'If I was her husband, I would buy it because it will prevent theft.',\n",
       " 'I do legal transcription and also am a health caregiver.',\n",
       " 'My opinion is that I would pay that debt because now if people go far, everyone will come and pay at the right time Even if they are not allowed to because the debt is huge. It would be better if she was paid this debt Or be given a chance to pay but also an opportunity to get more money.',\n",
       " 'Wi Fi.',\n",
       " 'What I see is the responsibility of the government, is to help or support people. To support people because of These phone loans and abuse of business.',\n",
       " 'A few times in a day.',\n",
       " 'I use Whats App to chat to look at status, to video call but not often.',\n",
       " 'To send messages and to use with friends.',\n",
       " 'I do gas delivery.',\n",
       " 'Okay. It would be easy for me because I would call them and it could show me who is calling me. Sometimes if someone calls you and there is no number, it becomes difficult for me to identify. But if you put an App for truecaller, it comes up with a way of knowing who it is for. Because it could be a search or a need.',\n",
       " 'We meet on the week and then we save like the amount of money is like two thousand shillings in a day.',\n",
       " 'I have not understood that question.',\n",
       " 'No I dont go to other places.',\n",
       " 'I have heard about it but I have never seen it.',\n",
       " '1 child and goes to school and gets paid 40000 shillings.',\n",
       " 'It would help me to get used to them more.',\n",
       " 'I use data bundles.',\n",
       " 'Any time I want.',\n",
       " 'I use Whats App mostly to communicate with the society And also some times communicate with clients when we want to enhance our products They are on the market and they are supposed to sell.',\n",
       " \"Friends because I don't want them to see my Facebook posts.\",\n",
       " 'I use the internet, I use my phone to buy data.',\n",
       " 'I do farming of planting vegetables and in a month I make 3000 shillings.',\n",
       " 'I use that money.',\n",
       " 'I do casual jobs that come along the way.',\n",
       " 'Wi Fi at work.',\n",
       " 'Several times in a day.',\n",
       " 'I share with everyone.',\n",
       " 'Ferries people on motorcycle for payment.',\n",
       " \"I usually have doubts because when you are paid through the service and you see that I have I want to pay, you can not know where I was at the time of payment, so I usually pay but I am not sure. It can be deducted as well as your payout and maybe you don't have the cash. That's what I'm not sure about.\",\n",
       " 'I share my posts with friends.',\n",
       " 'First of all, I search for friends and I use Google to find the ones that can be used and also To find out different things from videos, communications. I use it a lot when it comes to Facebook.',\n",
       " 'They do casual work and each gets paid 500 shillings per day.',\n",
       " 'It is not the responsibility of the government, because their responsibility is to ensure that people hear, since they have seen it, It means you will be able to say in your phone where you are trying to get money, or you will see that someone has stolen . There are no such things if your phone can be stolen, or if someone has tried to steal your goods, or there is someone who took you as to protect you, or something like that, because you are being stolen by many people.',\n",
       " \"I'm worried because some people are not full with the things that people do. They are just using them. If you can use and they take information and it is very true that you have used the wrong way . You may have wanted a message and maybe you have use something which you are discussing about . Yeah, it will be taken away so it will not go to the right time and wrong way and it will become like this information will go there for a long period. Yeah.\",\n",
       " 'An App like true caller helps me to know who is calling me.',\n",
       " 'It is the duty of women themselves to do business online. It is also one of the ways in which you can see your products You get to combine them with each other and do business. You become the one who wants to join many people in your business.',\n",
       " 'I use my data bundles on the phone for phones and to buy credit. Then on Wi Fi I also use my work Wi Fi.',\n",
       " 'Its only person who works as a saloonist.',\n",
       " 'My doubt is, you can find that I news on Whats App, those are the ones that make me worried a lot. Sometimes I can even get bored.',\n",
       " 'I put a password on my phone.',\n",
       " 'The benefit is that someone can reach many people.',\n",
       " 'I use Facebook several times a day.',\n",
       " 'To send and receive messages.',\n",
       " 'I would buy it because it would prevent their from happening.',\n",
       " 'I use Facebook. I have my device.',\n",
       " 'He is the one who should be worried. There are those who are not working who are paid 200 shillings per day then they are sold on the Internet at the end of the day. You can go with that.There are some who are worried about the service being sent to you but there are others who are afraid.Because in the business you have to be careful at your work.',\n",
       " 'I would take it and pay.',\n",
       " 'There 4 children, 2 go to school and 2 are still in school.',\n",
       " 'I would tell them that Safaricom is not working.',\n",
       " \"You borrow money according to your work. At other times, you can borrow one thousand for example, because you can't borrow many money and you don't have work.\",\n",
       " \"I would buy it so that I don't get scammed because everyone here knows how much they are worth of money and scammers are a lot.\",\n",
       " 'Internet data.',\n",
       " 'For this Friday, I use it several times a week but if there is an issue with offers, you can use it once a month.',\n",
       " 'No.',\n",
       " 'Business and talking to people.',\n",
       " 'Data.',\n",
       " 'Yes, I do go to other places to business.',\n",
       " 'To communicate with friends.',\n",
       " 'I work in a shop, I know where the shop is at that is where my payment is. For someone to pay money is. And if there is no paying, a person should move forward with the business. When someone gets the money, they can pay it on the phone and someone like that can be used to deposit money. Or go and withdraw money. Moraa, I think she has already withdrawn her money because when someone was given money somewhere else, it would not be a good idea. But now, money is not easy to repay. It is not good to be sent to someone else for money.',\n",
       " 'The service of increasing money is given on the level of knowledge is good because It can lead your business of increasing stock and then if you sell, you find that you have already paid your loan in time. So, in my opinion, it is good.',\n",
       " 'Mostly its a few times a month not so much that much.',\n",
       " \"No I have not heard. I haven't heard about the abuse of the bank.\",\n",
       " 'No, I dont go.',\n",
       " \"A few times. I don't know how much it is but I will say once it is done.\",\n",
       " 'It is a very good thing because you can say this person wants to be empower by those people. They want to do their own things and they do business with it. So it is a lot of pressure and there are those who can.',\n",
       " 'I would like to know the idea of \\u200b\\u200btaking a phone and giving it identity.',\n",
       " 'I watch it once a day.',\n",
       " 'Moraa would have agreed but she would have taken a loss because she did not want the money to go to the wrong person. She was afraid.',\n",
       " \"I don't see many people who I know or see what I'm talking about, because my phone is the only one, it's my friend The only one I see is someone I live with in the house, and that's why I see them.\",\n",
       " 'There 4 children and all 4 go to school.',\n",
       " \"I use it all the time anytime I want to call a friend and every day I must call someone to see what they want. That's why I use my camera every day.\",\n",
       " 'Am employed and I get paid on the phone.',\n",
       " 'When I use the bank.',\n",
       " 'Safaricom for communicating with and sending money, Telkom for jobs and sometimes with bundles and that to.',\n",
       " 'Small business.',\n",
       " 'To delete the messages that are on.',\n",
       " 'Ferries people on motorcycle for payment and Animal rearing.',\n",
       " 'Am not working so I dont know.',\n",
       " 'I have no comment.',\n",
       " 'I have never used it.',\n",
       " 'It is your own responsibility to check your safety and those things online.',\n",
       " 'Wi Fi.',\n",
       " '1980.',\n",
       " \"We meet once a week, and everyone can see your shares or . Your savings . If you don't have a specific amount that you want to withdraw, it is not a good idea. That's why we usually meet .\",\n",
       " 'There 5 children and all 5 go to school.',\n",
       " 'I usually have doubts with my phone. My phone is my phone, so in case someone has seen it Everyone should make sure that they have doubts even if they report something.',\n",
       " 'Yes, at times I do go.',\n",
       " 'There is none.',\n",
       " 'The ones that need are blocked but the only thing is just hiding.',\n",
       " 'If am paid ten thousand, I would pay back in the first place so that my interest is added So that I add more money.',\n",
       " 'She is not working she is very old.',\n",
       " 'I have three sim cards. Two are for Safaricom and one is for Airtel. I use both of them. One for business and for the secondtwo, I use my personal phone and for Airtel The other one for changing the internet so that you find that There are those you can communicate with them, send to different people depending on the rent.',\n",
       " 'It is the responsibility of the government or the one who deals with online businesses. Because when there is a business of online business, he needs their machine to know where he is and who is speaking to them in relation to who he is. And if they are not able to move forward like this, it means that the machine is not working. It is also good, it is good to see those people who do online jobs.',\n",
       " 'Yes, I do go to other places.',\n",
       " 'I go to another place where there is a client, I use them all.',\n",
       " \"My opinion is that it is the responsibility of the internet owners. The internet should have a good security So that they don't abuse people when they are at home. For example, if there was a internet owners, they would abuse people tell them to get out of there, or to be in a group or something like that But I wouldn't say they should be the ones who are being for me. So, I feel like if it is a job, it is the responsibility of the person who uses it, even for behalf of my family.\",\n",
       " 'My phone.',\n",
       " 'Once or twice a week.',\n",
       " 'Like a password.',\n",
       " \"I hide my content so that anytime a message comes in, someone I don't know I see a message but it is always good to hide it.\",\n",
       " 'I use Whats App to communicate with my friends and also to look at the products that are found at your Copia accounts and I also use it to put Copia orders and news.',\n",
       " 'My wife.',\n",
       " 'Another one still has needs at home, he wants to pay before he pays the debt.',\n",
       " 'I normally use Whats App, sometimes I want to say, even these Copia videos If there are videos that are online or if there is one that is off, we put them on Whats App or sometimes conning videos There are others that we put on while we are in the world, and you see these videos.',\n",
       " \"They are good. People can block those things from happening. I don't buy it because I think it is more important if they are safe. Caution, it is better than that. It is good that someone protects them Before they get what they want.\",\n",
       " \"I don't know any other reason.\",\n",
       " \"I use my phone's data bundles.\",\n",
       " 'I have two, and I use both of them.',\n",
       " 'I have never heard.',\n",
       " 'To communicate with friends.',\n",
       " 'Facebook helps me. The latest news is that there are scammers, advertisements And advertisements of something or. You want to see something like the news of a while or if you want To know something. Sometimes they help me look at work.',\n",
       " 'It will find out the information.',\n",
       " 'It is the responsibility of okay, there is discrimination on the internet but now, it is you who is responsible for your own safety. Just that. Someone can help you.',\n",
       " 'I use twice a month.',\n",
       " \"Truecallering to because I'm with someone on the phone. It helps me understand the person and also inform me.\",\n",
       " 'They are very old and when they go to work they are not paid.',\n",
       " 'One works at digital sales and is paid every month, and the other one is The one who works at an organization. For an organization that is where every month a person is paid their salary.',\n",
       " 'There 2 children, 1 is in school and the other one is in Grade 4.',\n",
       " \"I would like them to know that I am also looking for this one's number so that they can find my number.\",\n",
       " 'A few times in a day.',\n",
       " \"There are benefits because you get customers but you don't get customers elsewhere.\",\n",
       " \"The level of loan if increased by the loan limit you pay it again because if you take when it is fifteen thousand and pay it at the right time The interest is increased and if it is increased if it's take if there is also.If you pay well and the amount is increased again even if you find the money is good what you can do with big amount of money is the one who will make a profit.\",\n",
       " 'Okay. He wants to take a loan from Mpesa and goes to school.',\n",
       " 'I would buy that service because there is a temptation that you can be given at the end of the month, the time when scammers will steal your money.At other times, you have your things or you have trust. So, to the person who has lost the money and maybe you are through with your money, you pay according to the way You have been able to know.',\n",
       " \"I don't know anything about these.\",\n",
       " 'It is also possible that if you are paid through the phone, it means that he is not ready to pay the debt, he will not borrow Or also, it can be that businessmen are not working, but the responsibility is there, so if you can pay that debt Which, in order to not be paid via phone.',\n",
       " 'I use them personally and their videos are good.',\n",
       " \"Okay. I see what is going on in that I would buy according to what I don't know or don't want to see what will come after from this point on. The music has a person who will connect it with it, who will do that will be me is my husband and they need me to protect their money so that when I get money I can check which money is which and that works and is paid 500 shillings per day.\",\n",
       " 'My mum is not working.',\n",
       " 'My husband is a tailor and he is paid 300 shillings per day, while my children are still young and they dont go to school.',\n",
       " \"I don't have any worries because my phone and other phones help me send money or information I want so that it doesn't have a problem.\",\n",
       " \"When I sell online I sell it to different customers so it doesn't have much profit.\",\n",
       " 'Anyone who gets hold of my phone can go to my.',\n",
       " 'I use it everyday.',\n",
       " 'Two. I use both.',\n",
       " 'I use mobile data and when I get work, I use Wi Fi.',\n",
       " 'I have 2 sim cards and I use all of them.',\n",
       " 'Borrowing is okay because it will help you not to meet scammers. But also to buy also the money that you will not need. It can be a lot. Also, someone can not buy the whole day.',\n",
       " 'Volunteer Community worker.',\n",
       " 'All alone.',\n",
       " 'You become worried because there is a treasurer who can.',\n",
       " 'I have three sim cards and yes, I use all of them.',\n",
       " 'There is no other day that I can find out that there is a wrong number.',\n",
       " 'It means that he has lost the money because he had a loan.',\n",
       " 'Because they want to implement such things, they start to be able To have their confidence, to make a profit, and do business to follow up with business.',\n",
       " 'I do internet and Copia jobs.',\n",
       " 'A few times in a free.',\n",
       " 'I would buy that because it would ensure that people who are not my husband get scammed And also that scammers would not steal from me.',\n",
       " \"I feel like there are those platforms where you must have the knowledge that you can go through the internet like on Facebook you can't be the one who goes through it So in case someone has been reportable they should post the information that is on the phone you are going through so that they can know who you are to. That is an important thing that if you report them you will get known.\",\n",
       " \"I would buy it because usually if something is selling, you don't have to see someone on the internet or Or if there is something wrong with the way you are doing it, something is not right with you, you can buy it if you like. But I would also like to buy it.\",\n",
       " 'I use them for my business and Mpesa purposes.',\n",
       " 'To communicate with friends and do business.',\n",
       " 'They dont have work at home.',\n",
       " 'Benefit of selling online.',\n",
       " 'I would not like to receive information like that.',\n",
       " 'About that, I would buy it because Safaricom is a housewife, when she has money, she is given a loan There is a place where she is paid, where they give a loan so that when a person pays, they get a loan.',\n",
       " 'I will try my best to pay at the right time so that when I borrow this amount and pay I can get the amount that I want without being added a repayment.',\n",
       " 'Yes, at times I go.',\n",
       " \"Those Apps help me to identify which ones I before I started using them and who I didn't start working on them.\",\n",
       " 'I run a shop that I live in and at times I dont work.',\n",
       " 'I am a tailor and I make 500 shillings.',\n",
       " 'There 2 children, 1 in Grade 5 and 2 in Grade 1.',\n",
       " 'I have never used it or heard.',\n",
       " 'I use Whats App for communication and to just share.',\n",
       " \"I use Facebook to learn online marketing. People usually say I have a shop and I go to a hotel and I want to market. Let's say for example Biliani. I actually have a market for currently being bought. Yeah I learn their answer on Facebook yeah a little people and then they make online sales.\",\n",
       " 'I mostly market my business and also to keep in touch with family and friends , to track the friends and family if I have gone to long time.',\n",
       " \"I haven't heard of that tracking device but when I've heard of it, I think I have news that I have to post.\",\n",
       " 'I have finished with Airtel.',\n",
       " 'They are farmers who rely on the rains for the are not supposed to say that am doing well, I make you happy.',\n",
       " 'I use Whats App for a long time, like communication, to communicate with friends, parents if its something that has called me for a photo, I use both of them.',\n",
       " \"I would not be able to find out who called me and I didn't have any problem with that person but I did not have that problem . There is a way of using that call again and also it doesn't help me to call someone Call someone who knows who is calling you, it is Airtel or Safaricom.\",\n",
       " 'I have never heard.',\n",
       " 'I have never heard about it because it is good.',\n",
       " '300 shillings in a day.',\n",
       " 'I fear that what I do.',\n",
       " 'It depends on me having money.',\n",
       " \"I hear about it but I don't know how it works.\",\n",
       " 'I use home Wi Fi, work Wi Fi and paid Wi Fi.',\n",
       " 'The worry is that it is the responsibility of the government to ensure that . And there are times in the evening we meet up and we contribute money.',\n",
       " 'To communicate with and also to the family.',\n",
       " 'My mother-in-law works small businesses and she earns little money but she is not the only one.',\n",
       " 'There is one financial group that I am keen to check out. There is one that we look at together and there are three of us. The appeal is for us to meet go with two thousand and the one that has nothing to do with it. The other tailor is a merry go round . And the other one is for shares. And this one is one of the times that a on, I make a merry go round, it depends on how many times a lot. And on other hand, each and every month, it is the three of us. All of us are grown ups, and we always see each other.Everyday.',\n",
       " 'The service is good and they are good people.',\n",
       " 'They are not working am just at home.',\n",
       " 'First, I use it for my activities, selling my products And I also use it to check up on people and to get information.',\n",
       " \"I have heard of that device but I don't have any concern with the game itself.\",\n",
       " 'I use Facebook when it comes to music.',\n",
       " 'I use Facebook to check up on friends, to advertise my businesses and also I use Facebook for fun.',\n",
       " \"I don't have any worries.\",\n",
       " 'Jua kali.',\n",
       " 'I usually like to do my own things and any thing I want to know on the phone I see is not fun.',\n",
       " 'It is registered under my name.',\n",
       " \"It helps me. It's what I protect from people.\",\n",
       " 'Knowing to make calls.',\n",
       " 'No, I dont go to other places to work, I only work here in Moraa.',\n",
       " 'I would have taken one of them and bought it because it would be easier for one to get used to.At the same time, the one that you use me to save up for my Mpesa, I use the other one.',\n",
       " 'Mostly.',\n",
       " 'On the internet there are benefits and people get to know about your business but it should be that you are attentive You should be attentive. You should not do business to the extent that they can access your internet, be careful. To be attentive is one of the ways you can protect yourself but how much they earn as I havethe amount of time they save.',\n",
       " 'The sim cards are two and I use all of them.',\n",
       " 'Bundles.',\n",
       " 'It helps me lose money.',\n",
       " 'Two sim cards and I use all of them.',\n",
       " \"I usually am worried about the hackers who hack people's emails . If they can send information to family, in the community and in friends information is not there or if they want to steal people's things, that's why I normally am worried . That someone can hack my email account.\",\n",
       " 'Ferries people on motorcycle for payment.',\n",
       " 'I have heard but actually I have not heard yet.',\n",
       " 'The labra that I would do for myself is supposed to know that, this service is to be too extensive So, to other people, it should be able to afford to do such a service.',\n",
       " 'Around 500 shillings per day.',\n",
       " 'I look at pictures.',\n",
       " 'I can watch updates, I get friends on Facebook, I can watch different groups on Facebook. Just me and my friends who are in Facebook.',\n",
       " 'There 2 children and 1 goes to school.',\n",
       " \"Someone can't see your pin.\",\n",
       " 'Once a month.',\n",
       " 'At times am not working at the moment.',\n",
       " 'Another one that deals with banking matters, but it is her account. It is my sister who deals with it.',\n",
       " \"I think it's okay because if you want a basic loan, You have to be able to pay in full on a basic basis.\",\n",
       " 'A few times in a week.',\n",
       " 'No, I only sell from home.',\n",
       " 'I use the government at times they need people to file returns and such like that. So, I go and borrow like once per financial year so that I can be in access.',\n",
       " 'Yes. I have ever heard of it. I can track that gadgets but I have never had the opportunity to know more or less.',\n",
       " 'Its only one person that works and is paid 500 shillings per day.',\n",
       " 'Am a business person, I do self employment and am paid daily or whenever there is need.',\n",
       " 'I use all of them.',\n",
       " 'We meet once a month, and every month we save two hundred . And for the loan, I ask you to borrow twice my shares . If I have shares that are not enough for twenty thousand, I can borrow more than this one.',\n",
       " 'Am a student but when I get work online I do it but most are students I dont work.',\n",
       " 'I use Facebook if there are things I want or if I am free to use.',\n",
       " 'My husband is a teacher and he earns 50000 shillings.',\n",
       " 'I run a hotel and make 300 shillings everyday.',\n",
       " 'I make a profit of 1000 shillings every day.',\n",
       " 'Its only one person that works and is paid 500 shillings per day the rest are not working.',\n",
       " \"Moraa would have agreed to be given a loan since she would like to pay at the right time And she doesn't want to want him to send her money to her business so she has no problem with that.\",\n",
       " 'We meet every week and each week we save and then you are given money according to your savings . And then the other one we meet every month and you give us money. It is a loan if you save with savings . You will not be given money because of saving.',\n",
       " 'I use it in a month like 2 or 3 times a month.',\n",
       " 'I have not heard.',\n",
       " \"Communication, entertainment and sometimes to groups and church and family so it's a form of interaction and getting close to people.\",\n",
       " 'Am a business person, I make money.',\n",
       " 'I just wrote that I sell products.',\n",
       " \"Safaricom is for Mpesa deposit then Airtel is for bundles. I had also set up Safaricom bundles but I misplaced it and it didn't fit.\",\n",
       " 'I have not heard about that device and I can say that it is.',\n",
       " 'For me to do business most of the time I can be in a post or I can use To send photos or to look at photos I use it for whatsapp.',\n",
       " 'If there is any problem, call me.',\n",
       " 'Yes, I go to other places to work.',\n",
       " 'Every week, we meet up, and I save from 1000 to 2000 shillings.',\n",
       " \"That's right because you have to be careful.\",\n",
       " \"There is confidential information that I use on email for business purposes only. I don't want other people to know those messages.\",\n",
       " 'A few times in a month as I dont have money.',\n",
       " \"I don't have an opinion because also, it is a good thing to help themselves to pay. As long as you borrow there are things they can pay.\",\n",
       " 'I use Whatsapp the whole day.',\n",
       " 'They are not working they are very old.',\n",
       " \" Your work depends on the day's things.\",\n",
       " 'I log into Facebook several times a week or even once or twice a week, as long as I am free.All the time, every day.',\n",
       " \"I don't have five shillings.\",\n",
       " 'My brothers.',\n",
       " 'I only use it for business purposes. I have different groups of people.',\n",
       " 'The other one is my husband.',\n",
       " \"Moraa has refused to be paid through the phone because maybe she is not ready to pay the debt she needs . She doesn't have money to go to take the post or do other things and if she is given to her phone it will be deducted at that time so she should pay so that she can reach.\",\n",
       " 'I use Facebook to chat with friends, to look at news, and to connect with family.',\n",
       " 'It depends on how the economy is fairing.',\n",
       " 'I have no doubt.',\n",
       " 'One does not have a job, the other one is in the shop of making calls.',\n",
       " 'My worry is that there are many people who send the money to you via the wrong number . And then you lose or at other times you get a loss so you have to retake your account .',\n",
       " 'It is very good to pay a loan before it is done.',\n",
       " 'I share with people I know.',\n",
       " 'I have three, I use all of them.',\n",
       " \"The benefits of selling online are that you get a larger market. Also, there are those you communicate With your customer, you get to know their preference through online, till they give you face to face. So it's that time and also it's good to profit.\",\n",
       " 'There no children.',\n",
       " 'I am annoyed with them because there are others who can.',\n",
       " 'I am the only one in Youtube who has videos on how to use the internet even though I dont know who they are thats when I find time to share my information on Youtube.',\n",
       " \"That idea is fine. It's just that the person if he had taken 10000 or 50000 shillings, the limit will increase. So if there is a person who is doing, they do that extra.\",\n",
       " 'Its benefits are very many. The business is even open to people. You have 3, 2 and all the people.',\n",
       " \"I am worried about them, and if I don't find out, I think I will go to the wrong place later on. The plan is to find out what has happened, then later on I will know who it is for . And if it is someone like me who can be conned or have a chance to get scammed.\",\n",
       " 'not very good but you get that loan that you want very good.',\n",
       " \"I don't have any worries.\",\n",
       " 'If you look at the activities that people do in the community, there is nothing that will prevent us from doing. Everything must have its own rules and regulations . For example, business has its own regulations, they have a lot of benefits like . The products you get are seen by many people, you get many customers, but also . The ministry of prevention of abuse, and yes, one can really believe something like that.',\n",
       " 'That is something that. But Many people can be threatening and you know where you will be. He can be given their direction and go to the shop and you take it. So, the internet is just taking away from you. And those videos are just too many.']"
      ]
     },
     "execution_count": 154,
     "metadata": {},
     "output_type": "execute_result"
    }
   ],
   "source": [
    "s"
   ]
  },
  {
   "cell_type": "code",
   "execution_count": 157,
   "id": "e802036a-7ae7-4bfe-b88e-0cefdf0bd13c",
   "metadata": {},
   "outputs": [
    {
     "name": "stdout",
     "output_type": "stream",
     "text": [
      "{'bleu': 0.19692364453017722, 'precisions': [0.48121777559538426, 0.24422827496757457, 0.14584046559397468, 0.09579625208016786], 'brevity_penalty': 0.9782656941266434, 'length_ratio': 0.9784984984984985, 'translation_length': 16292, 'reference_length': 16650}\n",
      "0.7883483483483483\n",
      "0.6059374923517462\n"
     ]
    }
   ],
   "source": [
    "s = [normalizer(pred) for pred in s]\n",
    "t = [normalizer(label) for label in t]\n",
    "results = bleu.compute(predictions=s, references=t)\n",
    "print(results)\n",
    "results = wer_metric.compute(predictions=s, references=t)\n",
    "print(results)\n",
    "results = cer_metric.compute(predictions=s, references=t)\n",
    "print(results)"
   ]
  },
  {
   "cell_type": "markdown",
   "id": "8f4219a3-dd95-4eb1-a9b9-51478375cf1a",
   "metadata": {},
   "source": [
    "KEN LM"
   ]
  },
  {
   "cell_type": "code",
   "execution_count": 147,
   "id": "beae9612-b670-4f6f-baa5-c2efa6ed1481",
   "metadata": {
    "scrolled": true
   },
   "outputs": [
    {
     "name": "stdout",
     "output_type": "stream",
     "text": [
      "-- The C compiler identification is GNU 11.4.0\n",
      "-- The CXX compiler identification is GNU 11.4.0\n",
      "-- Detecting C compiler ABI info\n",
      "-- Detecting C compiler ABI info - done\n",
      "-- Check for working C compiler: /usr/bin/cc - skipped\n",
      "-- Detecting C compile features\n",
      "-- Detecting C compile features - done\n",
      "-- Detecting CXX compiler ABI info\n",
      "-- Detecting CXX compiler ABI info - done\n",
      "-- Check for working CXX compiler: /usr/bin/c++ - skipped\n",
      "-- Detecting CXX compile features\n",
      "-- Detecting CXX compile features - done\n",
      "-- Found Boost: /usr/lib/x86_64-linux-gnu/cmake/Boost-1.74.0/BoostConfig.cmake (found suitable version \"1.74.0\", minimum required is \"1.41.0\") found components: program_options system thread unit_test_framework \n",
      "-- Found Threads: TRUE  \n",
      "-- Found ZLIB: /usr/lib/x86_64-linux-gnu/libz.so (found version \"1.2.11\") \n",
      "-- Could NOT find BZip2 (missing: BZIP2_LIBRARIES BZIP2_INCLUDE_DIR) \n",
      "-- Could NOT find LibLZMA (missing: LIBLZMA_LIBRARY LIBLZMA_INCLUDE_DIR LIBLZMA_HAS_AUTO_DECODER LIBLZMA_HAS_EASY_ENCODER LIBLZMA_HAS_LZMA_PRESET) \n",
      "-- Looking for clock_gettime in rt\n",
      "-- Looking for clock_gettime in rt - found\n",
      "-- Found OpenMP_C: -fopenmp (found version \"4.5\") \n",
      "-- Found OpenMP_CXX: -fopenmp (found version \"4.5\") \n",
      "-- Found OpenMP: TRUE (found version \"4.5\")  \n",
      "-- Configuring done\n",
      "-- Generating done\n",
      "-- Build files have been written to: /mnt/d/Downloads/Swahili-translation-English-STT--main/kenlm/build\n",
      "[  1%] \u001b[32mBuilding CXX object util/CMakeFiles/kenlm_util.dir/double-conversion/bignum-dtoa.cc.o\u001b[0m\n",
      "[  2%] \u001b[32mBuilding CXX object util/CMakeFiles/kenlm_util.dir/double-conversion/bignum.cc.o\u001b[0m\n",
      "[  3%] \u001b[32mBuilding CXX object util/CMakeFiles/kenlm_util.dir/double-conversion/cached-powers.cc.o\u001b[0m\n",
      "[  4%] \u001b[32mBuilding CXX object util/CMakeFiles/kenlm_util.dir/double-conversion/diy-fp.cc.o\u001b[0m\n",
      "[  5%] \u001b[32mBuilding CXX object util/CMakeFiles/kenlm_util.dir/double-conversion/double-conversion.cc.o\u001b[0m\n",
      "[  6%] \u001b[32mBuilding CXX object util/CMakeFiles/kenlm_util.dir/double-conversion/fast-dtoa.cc.o\u001b[0m\n",
      "[  7%] \u001b[32mBuilding CXX object util/CMakeFiles/kenlm_util.dir/double-conversion/fixed-dtoa.cc.o\u001b[0m\n",
      "[  8%] \u001b[32mBuilding CXX object util/CMakeFiles/kenlm_util.dir/double-conversion/strtod.cc.o\u001b[0m\n",
      "[  9%] \u001b[32mBuilding CXX object util/CMakeFiles/kenlm_util.dir/stream/chain.cc.o\u001b[0m\n",
      "[ 10%] \u001b[32mBuilding CXX object util/CMakeFiles/kenlm_util.dir/stream/count_records.cc.o\u001b[0m\n",
      "[ 11%] \u001b[32mBuilding CXX object util/CMakeFiles/kenlm_util.dir/stream/io.cc.o\u001b[0m\n",
      "[ 12%] \u001b[32mBuilding CXX object util/CMakeFiles/kenlm_util.dir/stream/line_input.cc.o\u001b[0m\n",
      "[ 13%] \u001b[32mBuilding CXX object util/CMakeFiles/kenlm_util.dir/stream/multi_progress.cc.o\u001b[0m\n",
      "[ 14%] \u001b[32mBuilding CXX object util/CMakeFiles/kenlm_util.dir/stream/rewindable_stream.cc.o\u001b[0m\n",
      "[ 15%] \u001b[32mBuilding CXX object util/CMakeFiles/kenlm_util.dir/bit_packing.cc.o\u001b[0m\n",
      "[ 16%] \u001b[32mBuilding CXX object util/CMakeFiles/kenlm_util.dir/ersatz_progress.cc.o\u001b[0m\n",
      "[ 17%] \u001b[32mBuilding CXX object util/CMakeFiles/kenlm_util.dir/exception.cc.o\u001b[0m\n",
      "[ 18%] \u001b[32mBuilding CXX object util/CMakeFiles/kenlm_util.dir/file.cc.o\u001b[0m\n",
      "[ 19%] \u001b[32mBuilding CXX object util/CMakeFiles/kenlm_util.dir/file_piece.cc.o\u001b[0m\n",
      "[ 20%] \u001b[32mBuilding CXX object util/CMakeFiles/kenlm_util.dir/float_to_string.cc.o\u001b[0m\n",
      "[ 21%] \u001b[32mBuilding CXX object util/CMakeFiles/kenlm_util.dir/integer_to_string.cc.o\u001b[0m\n",
      "[ 22%] \u001b[32mBuilding CXX object util/CMakeFiles/kenlm_util.dir/mmap.cc.o\u001b[0m\n",
      "[ 23%] \u001b[32mBuilding CXX object util/CMakeFiles/kenlm_util.dir/murmur_hash.cc.o\u001b[0m\n",
      "[ 25%] \u001b[32mBuilding CXX object util/CMakeFiles/kenlm_util.dir/parallel_read.cc.o\u001b[0m\n",
      "[ 26%] \u001b[32mBuilding CXX object util/CMakeFiles/kenlm_util.dir/pool.cc.o\u001b[0m\n",
      "[ 27%] \u001b[32mBuilding CXX object util/CMakeFiles/kenlm_util.dir/read_compressed.cc.o\u001b[0m\n",
      "[ 28%] \u001b[32mBuilding CXX object util/CMakeFiles/kenlm_util.dir/scoped.cc.o\u001b[0m\n",
      "[ 29%] \u001b[32mBuilding CXX object util/CMakeFiles/kenlm_util.dir/spaces.cc.o\u001b[0m\n",
      "[ 30%] \u001b[32mBuilding CXX object util/CMakeFiles/kenlm_util.dir/string_piece.cc.o\u001b[0m\n",
      "[ 31%] \u001b[32mBuilding CXX object util/CMakeFiles/kenlm_util.dir/usage.cc.o\u001b[0m\n",
      "[ 32%] \u001b[32m\u001b[1mLinking CXX static library ../lib/libkenlm_util.a\u001b[0m\n",
      "[ 32%] Built target kenlm_util\n",
      "[ 33%] \u001b[32mBuilding CXX object util/CMakeFiles/probing_hash_table_benchmark.dir/probing_hash_table_benchmark_main.cc.o\u001b[0m\n",
      "[ 34%] \u001b[32mBuilding CXX object lm/CMakeFiles/kenlm.dir/bhiksha.cc.o\u001b[0m\n",
      "[ 35%] \u001b[32mBuilding CXX object lm/CMakeFiles/kenlm.dir/binary_format.cc.o\u001b[0m\n",
      "[ 36%] \u001b[32mBuilding CXX object lm/CMakeFiles/kenlm.dir/config.cc.o\u001b[0m\n",
      "[ 37%] \u001b[32mBuilding CXX object lm/CMakeFiles/kenlm.dir/lm_exception.cc.o\u001b[0m\n",
      "[ 38%] \u001b[32mBuilding CXX object lm/CMakeFiles/kenlm.dir/model.cc.o\u001b[0m\n",
      "[ 39%] \u001b[32mBuilding CXX object lm/CMakeFiles/kenlm.dir/quantize.cc.o\u001b[0m\n",
      "[ 40%] \u001b[32m\u001b[1mLinking CXX executable ../bin/probing_hash_table_benchmark\u001b[0m\n",
      "[ 40%] Built target probing_hash_table_benchmark\n",
      "[ 42%] \u001b[32mBuilding CXX object lm/filter/CMakeFiles/kenlm_filter.dir/arpa_io.cc.o\u001b[0m\n",
      "[ 42%] \u001b[32mBuilding CXX object lm/CMakeFiles/kenlm.dir/read_arpa.cc.o\u001b[0m\n",
      "[ 43%] \u001b[32mBuilding CXX object lm/filter/CMakeFiles/kenlm_filter.dir/phrase.cc.o\u001b[0m\n",
      "[ 44%] \u001b[32mBuilding CXX object lm/CMakeFiles/kenlm.dir/search_hashed.cc.o\u001b[0m\n",
      "[ 45%] \u001b[32mBuilding CXX object lm/filter/CMakeFiles/kenlm_filter.dir/vocab.cc.o\u001b[0m\n",
      "[ 46%] \u001b[32mBuilding CXX object lm/CMakeFiles/kenlm.dir/search_trie.cc.o\u001b[0m\n",
      "[ 47%] \u001b[32m\u001b[1mLinking CXX static library ../../lib/libkenlm_filter.a\u001b[0m\n",
      "[ 47%] Built target kenlm_filter\n",
      "[ 48%] \u001b[32mBuilding CXX object lm/CMakeFiles/kenlm.dir/sizes.cc.o\u001b[0m\n",
      "[ 50%] \u001b[32mBuilding CXX object lm/CMakeFiles/kenlm.dir/trie.cc.o\u001b[0m\n",
      "[ 51%] \u001b[32mBuilding CXX object lm/CMakeFiles/kenlm.dir/trie_sort.cc.o\u001b[0m\n",
      "[ 52%] \u001b[32mBuilding CXX object lm/CMakeFiles/kenlm.dir/value_build.cc.o\u001b[0m\n",
      "[ 53%] \u001b[32mBuilding CXX object lm/CMakeFiles/kenlm.dir/virtual_interface.cc.o\u001b[0m\n",
      "[ 54%] \u001b[32mBuilding CXX object lm/CMakeFiles/kenlm.dir/vocab.cc.o\u001b[0m\n",
      "[ 55%] \u001b[32mBuilding CXX object lm/CMakeFiles/kenlm.dir/common/model_buffer.cc.o\u001b[0m\n",
      "[ 56%] \u001b[32mBuilding CXX object lm/CMakeFiles/kenlm.dir/common/print.cc.o\u001b[0m\n",
      "[ 57%] \u001b[32mBuilding CXX object lm/CMakeFiles/kenlm.dir/common/renumber.cc.o\u001b[0m\n",
      "[ 58%] \u001b[32mBuilding CXX object lm/CMakeFiles/kenlm.dir/common/size_option.cc.o\u001b[0m\n",
      "[ 59%] \u001b[32m\u001b[1mLinking CXX static library ../lib/libkenlm.a\u001b[0m\n",
      "[ 59%] Built target kenlm\n",
      "[ 61%] \u001b[32mBuilding CXX object lm/CMakeFiles/fragment.dir/fragment_main.cc.o\u001b[0m\n",
      "[ 61%] \u001b[32mBuilding CXX object lm/CMakeFiles/query.dir/query_main.cc.o\u001b[0m\n",
      "[ 62%] \u001b[32m\u001b[1mLinking CXX executable ../bin/fragment\u001b[0m\n",
      "[ 63%] \u001b[32m\u001b[1mLinking CXX executable ../bin/query\u001b[0m\n",
      "[ 63%] Built target fragment\n",
      "[ 64%] \u001b[32mBuilding CXX object lm/CMakeFiles/build_binary.dir/build_binary_main.cc.o\u001b[0m\n",
      "[ 64%] Built target query\n",
      "[ 65%] \u001b[32mBuilding CXX object lm/CMakeFiles/kenlm_benchmark.dir/kenlm_benchmark_main.cc.o\u001b[0m\n",
      "[ 66%] \u001b[32m\u001b[1mLinking CXX executable ../bin/build_binary\u001b[0m\n",
      "[ 66%] Built target build_binary\n",
      "[ 67%] \u001b[32mBuilding CXX object lm/builder/CMakeFiles/kenlm_builder.dir/adjust_counts.cc.o\u001b[0m\n",
      "[ 68%] \u001b[32mBuilding CXX object lm/builder/CMakeFiles/kenlm_builder.dir/corpus_count.cc.o\u001b[0m\n",
      "[ 69%] \u001b[32mBuilding CXX object lm/builder/CMakeFiles/kenlm_builder.dir/initial_probabilities.cc.o\u001b[0m\n",
      "[ 70%] \u001b[32mBuilding CXX object lm/builder/CMakeFiles/kenlm_builder.dir/interpolate.cc.o\u001b[0m\n",
      "[ 71%] \u001b[32m\u001b[1mLinking CXX executable ../bin/kenlm_benchmark\u001b[0m\n",
      "[ 71%] Built target kenlm_benchmark\n",
      "[ 72%] \u001b[32mBuilding CXX object lm/builder/CMakeFiles/kenlm_builder.dir/output.cc.o\u001b[0m\n",
      "[ 73%] \u001b[32mBuilding CXX object lm/filter/CMakeFiles/filter.dir/filter_main.cc.o\u001b[0m\n",
      "[ 75%] \u001b[32mBuilding CXX object lm/builder/CMakeFiles/kenlm_builder.dir/pipeline.cc.o\u001b[0m\n",
      "[ 76%] \u001b[32m\u001b[1mLinking CXX static library ../../lib/libkenlm_builder.a\u001b[0m\n",
      "[ 77%] \u001b[32m\u001b[1mLinking CXX executable ../../bin/filter\u001b[0m\n",
      "[ 77%] Built target kenlm_builder\n",
      "[ 78%] \u001b[32mBuilding CXX object lm/filter/CMakeFiles/phrase_table_vocab.dir/phrase_table_vocab_main.cc.o\u001b[0m\n",
      "[ 78%] Built target filter\n",
      "[ 79%] \u001b[32mBuilding CXX object lm/interpolate/CMakeFiles/kenlm_interpolate.dir/backoff_reunification.cc.o\u001b[0m\n",
      "[ 80%] \u001b[32m\u001b[1mLinking CXX executable ../../bin/phrase_table_vocab\u001b[0m\n",
      "[ 80%] Built target phrase_table_vocab\n",
      "[ 81%] \u001b[32mBuilding CXX object lm/interpolate/CMakeFiles/kenlm_interpolate.dir/bounded_sequence_encoding.cc.o\u001b[0m\n",
      "[ 82%] \u001b[32mBuilding CXX object lm/interpolate/CMakeFiles/kenlm_interpolate.dir/merge_probabilities.cc.o\u001b[0m\n",
      "[ 83%] \u001b[32mBuilding CXX object lm/interpolate/CMakeFiles/kenlm_interpolate.dir/merge_vocab.cc.o\u001b[0m\n",
      "[ 84%] \u001b[32mBuilding CXX object lm/interpolate/CMakeFiles/kenlm_interpolate.dir/normalize.cc.o\u001b[0m\n",
      "[ 85%] \u001b[32mBuilding CXX object lm/interpolate/CMakeFiles/kenlm_interpolate.dir/pipeline.cc.o\u001b[0m\n",
      "[ 86%] \u001b[32mBuilding CXX object lm/interpolate/CMakeFiles/kenlm_interpolate.dir/split_worker.cc.o\u001b[0m\n",
      "[ 87%] \u001b[32mBuilding CXX object lm/interpolate/CMakeFiles/kenlm_interpolate.dir/tune_derivatives.cc.o\u001b[0m\n",
      "[ 88%] \u001b[32mBuilding CXX object lm/interpolate/CMakeFiles/kenlm_interpolate.dir/tune_instances.cc.o\u001b[0m\n",
      "[ 89%] \u001b[32mBuilding CXX object lm/interpolate/CMakeFiles/kenlm_interpolate.dir/tune_weights.cc.o\u001b[0m\n",
      "[ 90%] \u001b[32mBuilding CXX object lm/interpolate/CMakeFiles/kenlm_interpolate.dir/universal_vocab.cc.o\u001b[0m\n",
      "[ 91%] \u001b[32mBuilding CXX object lm/builder/CMakeFiles/lmplz.dir/lmplz_main.cc.o\u001b[0m\n",
      "[ 92%] \u001b[32m\u001b[1mLinking CXX static library ../../lib/libkenlm_interpolate.a\u001b[0m\n",
      "[ 92%] Built target kenlm_interpolate\n",
      "[ 93%] \u001b[32mBuilding CXX object lm/builder/CMakeFiles/count_ngrams.dir/count_ngrams_main.cc.o\u001b[0m\n",
      "[ 94%] \u001b[32m\u001b[1mLinking CXX executable ../../bin/lmplz\u001b[0m\n",
      "[ 94%] Built target lmplz\n",
      "[ 95%] \u001b[32mBuilding CXX object lm/interpolate/CMakeFiles/interpolate.dir/interpolate_main.cc.o\u001b[0m\n",
      "[ 96%] \u001b[32m\u001b[1mLinking CXX executable ../../bin/count_ngrams\u001b[0m\n",
      "[ 96%] Built target count_ngrams\n",
      "[ 97%] \u001b[32mBuilding CXX object lm/interpolate/CMakeFiles/streaming_example.dir/streaming_example_main.cc.o\u001b[0m\n",
      "[ 98%] \u001b[32m\u001b[1mLinking CXX executable ../../bin/interpolate\u001b[0m\n",
      "[ 98%] Built target interpolate\n",
      "[100%] \u001b[32m\u001b[1mLinking CXX executable ../../bin/streaming_example\u001b[0m\n",
      "[100%] Built target streaming_example\n",
      "build_binary  fragment\t       lmplz\t\t\t     query\n",
      "count_ngrams  interpolate      phrase_table_vocab\t     streaming_example\n",
      "filter\t      kenlm_benchmark  probing_hash_table_benchmark\n"
     ]
    }
   ],
   "source": [
    "!mkdir kenlm/build && cd kenlm/build && cmake .. && make -j2\n",
    "!ls kenlm/build/bin"
   ]
  },
  {
   "cell_type": "code",
   "execution_count": 199,
   "id": "93c4b57d-5bd7-42a4-8a27-e0b1456731c2",
   "metadata": {},
   "outputs": [],
   "source": [
    "with open(\"test.txt\", \"w\") as file:\n",
    "  file.write(\"\\n\".join(list(filter(lambda s: len(s.split()) > 2, swahili_final['train']['transcription']))))"
   ]
  },
  {
   "cell_type": "code",
   "execution_count": 200,
   "id": "0ed94e07-f284-41eb-9d71-63e458bebdb7",
   "metadata": {},
   "outputs": [
    {
     "name": "stdout",
     "output_type": "stream",
     "text": [
      "=== 1/5 Counting and sorting n-grams ===\n",
      "Reading /mnt/d/Downloads/Swahili-translation-English-STT--main/test.txt\n",
      "----5---10---15---20---25---30---35---40---45---50---55---60---65---70---75---80---85---90---95--100\n",
      "****************************************************************************************************\n",
      "Unigram tokens 151657 types 5027\n",
      "=== 2/5 Calculating and sorting adjusted counts ===\n",
      "Chain sizes: 1:60324 2:2267463680 3:4251494656 4:6802391552\n",
      "Statistics:\n",
      "1 5027 D1=0.645653 D2=1.10582 D3+=1.34239\n",
      "2 27886 D1=0.759647 D2=1.19071 D3+=1.31218\n",
      "3 48044 D1=0.849297 D2=1.46981 D3+=0.923457\n",
      "4 55253 D1=0.00380999 D2=2 D3+=0.710796\n",
      "Memory estimate for binary LM:\n",
      "type      kB\n",
      "probing 2878 assuming -p 1.5\n",
      "probing 3343 assuming -r models -p 1.5\n",
      "trie    1267 without quantization\n",
      "trie     681 assuming -q 8 -b 8 quantization \n",
      "trie    1187 assuming -a 22 array pointer compression\n",
      "trie     601 assuming -a 22 -q 8 -b 8 array pointer compression and quantization\n",
      "=== 3/5 Calculating and sorting initial probabilities ===\n",
      "Chain sizes: 1:60324 2:446176 3:960880 4:1326072\n",
      "----5---10---15---20---25---30---35---40---45---50---55---60---65---70---75---80---85---90---95--100\n",
      "####################################################################################################\n",
      "=== 4/5 Calculating and writing order-interpolated probabilities ===\n",
      "Chain sizes: 1:60324 2:446176 3:960880 4:1326072\n",
      "----5---10---15---20---25---30---35---40---45---50---55---60---65---70---75---80---85---90---95--100\n",
      "####################################################################################################\n",
      "=== 5/5 Writing ARPA model ===\n",
      "----5---10---15---20---25---30---35---40---45---50---55---60---65---70---75---80---85---90---95--100\n",
      "****************************************************************************************************\n",
      "Name:lmplz\tVmPeak:13164504 kB\tVmRSS:6364 kB\tRSSMax:2620704 kB\tuser:0.13874\tsys:0.619707\tCPU:0.758502\treal:0.817366\n"
     ]
    }
   ],
   "source": [
    "!kenlm/build/bin/lmplz -o 4 <\"test.txt\"> \"4gram.arpa\""
   ]
  },
  {
   "cell_type": "code",
   "execution_count": 201,
   "id": "e0dbab76-1db2-4860-aaaf-36ea4ca2b648",
   "metadata": {},
   "outputs": [
    {
     "name": "stdout",
     "output_type": "stream",
     "text": [
      "\\data\\\n",
      "ngram 1=5027\n",
      "ngram 2=27886\n",
      "ngram 3=48044\n",
      "ngram 4=55253\n",
      "\n",
      "\\1-grams:\n",
      "-4.4794645\t<unk>\t0\n",
      "0\t<s>\t-1.3490973\n",
      "-1.471067\t</s>\t0\n",
      "-4.338557\tSeveral\t-0.11938813\n",
      "-3.0916212\ttimes\t-0.31754342\n",
      "-2.0732439\ta\t-0.38067263\n",
      "-3.4639237\tday.\t-0.3674404\n",
      "-3.8912437\tLet's\t-0.28570673\n",
      "-3.1112916\tsay\t-0.20214184\n",
      "-2.0959492\tfor\t-0.36347377\n",
      "-4.1856227\texample\t-0.13859202\n",
      "-2.17685\tif\t-0.84938896\n",
      "-1.9448998\tyou\t-0.5206432\n"
     ]
    }
   ],
   "source": [
    "!head -20 4gram.arpa"
   ]
  },
  {
   "cell_type": "code",
   "execution_count": 202,
   "id": "b89dabc5-890c-4f14-ba8a-043fb8c9ecff",
   "metadata": {},
   "outputs": [],
   "source": [
    "with open(\"4gram.arpa\", \"r\") as read_file, open(\"4gram_correct.arpa\", \"w\") as write_file:\n",
    "  has_added_eos = False\n",
    "  for line in read_file:\n",
    "    if not has_added_eos and \"ngram 1=\" in line:\n",
    "      count=line.strip().split(\"=\")[-1]\n",
    "      write_file.write(line.replace(f\"{count}\", f\"{int(count)+1}\"))\n",
    "    elif not has_added_eos and \"<s>\" in line:\n",
    "      write_file.write(line)\n",
    "      write_file.write(line.replace(\"<s>\", \"</s>\"))\n",
    "      has_added_eos = True\n",
    "    else:\n",
    "      write_file.write(line)"
   ]
  },
  {
   "cell_type": "code",
   "execution_count": 204,
   "id": "a6214f48-99b2-4053-9d2e-1d4b8b5e53c4",
   "metadata": {
    "scrolled": true
   },
   "outputs": [
    {
     "data": {
      "text/plain": [
       "{'!': 0,\n",
       " '\"': 1,\n",
       " '#': 2,\n",
       " '$': 3,\n",
       " '%': 4,\n",
       " '&': 5,\n",
       " \"'\": 6,\n",
       " '(': 7,\n",
       " ')': 8,\n",
       " '*': 9,\n",
       " '+': 10,\n",
       " ',': 11,\n",
       " '-': 12,\n",
       " '.': 13,\n",
       " '/': 14,\n",
       " '0': 15,\n",
       " '1': 16,\n",
       " '2': 17,\n",
       " '3': 18,\n",
       " '4': 19,\n",
       " '5': 20,\n",
       " '6': 21,\n",
       " '7': 22,\n",
       " '8': 23,\n",
       " '9': 24,\n",
       " ':': 25,\n",
       " ';': 26,\n",
       " '<': 27,\n",
       " '=': 28,\n",
       " '>': 29,\n",
       " '?': 30,\n",
       " '@': 31,\n",
       " 'A': 32,\n",
       " 'B': 33,\n",
       " 'C': 34,\n",
       " 'D': 35,\n",
       " 'E': 36,\n",
       " 'F': 37,\n",
       " 'G': 38,\n",
       " 'H': 39,\n",
       " 'I': 40,\n",
       " 'J': 41,\n",
       " 'K': 42,\n",
       " 'L': 43,\n",
       " 'M': 44,\n",
       " 'N': 45,\n",
       " 'O': 46,\n",
       " 'P': 47,\n",
       " 'Q': 48,\n",
       " 'R': 49,\n",
       " 'S': 50,\n",
       " 'T': 51,\n",
       " 'U': 52,\n",
       " 'V': 53,\n",
       " 'W': 54,\n",
       " 'X': 55,\n",
       " 'Y': 56,\n",
       " 'Z': 57,\n",
       " '[': 58,\n",
       " '\\\\': 59,\n",
       " ']': 60,\n",
       " '^': 61,\n",
       " '_': 62,\n",
       " '`': 63,\n",
       " 'a': 64,\n",
       " 'b': 65,\n",
       " 'c': 66,\n",
       " 'd': 67,\n",
       " 'e': 68,\n",
       " 'f': 69,\n",
       " 'g': 70,\n",
       " 'h': 71,\n",
       " 'i': 72,\n",
       " 'j': 73,\n",
       " 'k': 74,\n",
       " 'l': 75,\n",
       " 'm': 76,\n",
       " 'n': 77,\n",
       " 'o': 78,\n",
       " 'p': 79,\n",
       " 'q': 80,\n",
       " 'r': 81,\n",
       " 's': 82,\n",
       " 't': 83,\n",
       " 'u': 84,\n",
       " 'v': 85,\n",
       " 'w': 86,\n",
       " 'x': 87,\n",
       " 'y': 88,\n",
       " 'z': 89,\n",
       " '{': 90,\n",
       " '|': 91,\n",
       " '}': 92,\n",
       " '~': 93,\n",
       " '¡': 94,\n",
       " '¢': 95,\n",
       " '£': 96,\n",
       " '¤': 97,\n",
       " '¥': 98,\n",
       " '¦': 99,\n",
       " '§': 100,\n",
       " '¨': 101,\n",
       " '©': 102,\n",
       " 'ª': 103,\n",
       " '«': 104,\n",
       " '¬': 105,\n",
       " '®': 106,\n",
       " '¯': 107,\n",
       " '°': 108,\n",
       " '±': 109,\n",
       " '²': 110,\n",
       " '³': 111,\n",
       " '´': 112,\n",
       " 'µ': 113,\n",
       " '¶': 114,\n",
       " '·': 115,\n",
       " '¸': 116,\n",
       " '¹': 117,\n",
       " 'º': 118,\n",
       " '»': 119,\n",
       " '¼': 120,\n",
       " '½': 121,\n",
       " '¾': 122,\n",
       " '¿': 123,\n",
       " 'À': 124,\n",
       " 'Á': 125,\n",
       " 'Â': 126,\n",
       " 'Ã': 127,\n",
       " 'Ä': 128,\n",
       " 'Å': 129,\n",
       " 'Æ': 130,\n",
       " 'Ç': 131,\n",
       " 'È': 132,\n",
       " 'É': 133,\n",
       " 'Ê': 134,\n",
       " 'Ë': 135,\n",
       " 'Ì': 136,\n",
       " 'Í': 137,\n",
       " 'Î': 138,\n",
       " 'Ï': 139,\n",
       " 'Ð': 140,\n",
       " 'Ñ': 141,\n",
       " 'Ò': 142,\n",
       " 'Ó': 143,\n",
       " 'Ô': 144,\n",
       " 'Õ': 145,\n",
       " 'Ö': 146,\n",
       " '×': 147,\n",
       " 'Ø': 148,\n",
       " 'Ù': 149,\n",
       " 'Ú': 150,\n",
       " 'Û': 151,\n",
       " 'Ü': 152,\n",
       " 'Ý': 153,\n",
       " 'Þ': 154,\n",
       " 'ß': 155,\n",
       " 'à': 156,\n",
       " 'á': 157,\n",
       " 'â': 158,\n",
       " 'ã': 159,\n",
       " 'ä': 160,\n",
       " 'å': 161,\n",
       " 'æ': 162,\n",
       " 'ç': 163,\n",
       " 'è': 164,\n",
       " 'é': 165,\n",
       " 'ê': 166,\n",
       " 'ë': 167,\n",
       " 'ì': 168,\n",
       " 'í': 169,\n",
       " 'î': 170,\n",
       " 'ï': 171,\n",
       " 'ð': 172,\n",
       " 'ñ': 173,\n",
       " 'ò': 174,\n",
       " 'ó': 175,\n",
       " 'ô': 176,\n",
       " 'õ': 177,\n",
       " 'ö': 178,\n",
       " '÷': 179,\n",
       " 'ø': 180,\n",
       " 'ù': 181,\n",
       " 'ú': 182,\n",
       " 'û': 183,\n",
       " 'ü': 184,\n",
       " 'ý': 185,\n",
       " 'þ': 186,\n",
       " 'ÿ': 187,\n",
       " 'Ā': 188,\n",
       " 'ā': 189,\n",
       " 'Ă': 190,\n",
       " 'ă': 191,\n",
       " 'Ą': 192,\n",
       " 'ą': 193,\n",
       " 'Ć': 194,\n",
       " 'ć': 195,\n",
       " 'Ĉ': 196,\n",
       " 'ĉ': 197,\n",
       " 'Ċ': 198,\n",
       " 'ċ': 199,\n",
       " 'Č': 200,\n",
       " 'č': 201,\n",
       " 'Ď': 202,\n",
       " 'ď': 203,\n",
       " 'Đ': 204,\n",
       " 'đ': 205,\n",
       " 'Ē': 206,\n",
       " 'ē': 207,\n",
       " 'Ĕ': 208,\n",
       " 'ĕ': 209,\n",
       " 'Ė': 210,\n",
       " 'ė': 211,\n",
       " 'Ę': 212,\n",
       " 'ę': 213,\n",
       " 'Ě': 214,\n",
       " 'ě': 215,\n",
       " 'Ĝ': 216,\n",
       " 'ĝ': 217,\n",
       " 'Ğ': 218,\n",
       " 'ğ': 219,\n",
       " 'Ġ': 220,\n",
       " 'ġ': 221,\n",
       " 'Ģ': 222,\n",
       " 'ģ': 223,\n",
       " 'Ĥ': 224,\n",
       " 'ĥ': 225,\n",
       " 'Ħ': 226,\n",
       " 'ħ': 227,\n",
       " 'Ĩ': 228,\n",
       " 'ĩ': 229,\n",
       " 'Ī': 230,\n",
       " 'ī': 231,\n",
       " 'Ĭ': 232,\n",
       " 'ĭ': 233,\n",
       " 'Į': 234,\n",
       " 'į': 235,\n",
       " 'İ': 236,\n",
       " 'ı': 237,\n",
       " 'Ĳ': 238,\n",
       " 'ĳ': 239,\n",
       " 'Ĵ': 240,\n",
       " 'ĵ': 241,\n",
       " 'Ķ': 242,\n",
       " 'ķ': 243,\n",
       " 'ĸ': 244,\n",
       " 'Ĺ': 245,\n",
       " 'ĺ': 246,\n",
       " 'Ļ': 247,\n",
       " 'ļ': 248,\n",
       " 'Ľ': 249,\n",
       " 'ľ': 250,\n",
       " 'Ŀ': 251,\n",
       " 'ŀ': 252,\n",
       " 'Ł': 253,\n",
       " 'ł': 254,\n",
       " 'Ń': 255,\n",
       " 'Ġt': 256,\n",
       " 'Ġa': 257,\n",
       " 'Ġth': 258,\n",
       " 'in': 259,\n",
       " 'er': 260,\n",
       " 'Ġw': 261,\n",
       " 'Ġs': 262,\n",
       " 'ou': 263,\n",
       " 'Ġthe': 264,\n",
       " 're': 265,\n",
       " 'on': 266,\n",
       " 'at': 267,\n",
       " 'en': 268,\n",
       " 'Ġc': 269,\n",
       " 'it': 270,\n",
       " 'is': 271,\n",
       " 'Ġb': 272,\n",
       " 'nd': 273,\n",
       " 'Ġd': 274,\n",
       " 'Ġm': 275,\n",
       " 'Ġh': 276,\n",
       " 'Ġo': 277,\n",
       " 'ing': 278,\n",
       " 'es': 279,\n",
       " 'Ġp': 280,\n",
       " 'Ġto': 281,\n",
       " 'an': 282,\n",
       " 'Ġf': 283,\n",
       " 'or': 284,\n",
       " 'll': 285,\n",
       " 'ĠI': 286,\n",
       " 'Ġl': 287,\n",
       " 'Ġy': 288,\n",
       " 'ar': 289,\n",
       " 'Ġg': 290,\n",
       " 'Ġyou': 291,\n",
       " 'ed': 292,\n",
       " 'Ġand': 293,\n",
       " 'Ġin': 294,\n",
       " 'Ġof': 295,\n",
       " 'as': 296,\n",
       " 'Ġn': 297,\n",
       " 'om': 298,\n",
       " 'ic': 299,\n",
       " 'Ġthat': 300,\n",
       " 'us': 301,\n",
       " 'et': 302,\n",
       " 've': 303,\n",
       " 'al': 304,\n",
       " 'ow': 305,\n",
       " 'le': 306,\n",
       " 'Ġis': 307,\n",
       " 'Ġe': 308,\n",
       " 'Ġit': 309,\n",
       " 'ot': 310,\n",
       " \"'s\": 311,\n",
       " 'Ġbe': 312,\n",
       " 'ion': 313,\n",
       " 'ĠT': 314,\n",
       " 'Ġwh': 315,\n",
       " 'ĠA': 316,\n",
       " 'ent': 317,\n",
       " 'ĠS': 318,\n",
       " 'Ġre': 319,\n",
       " 'ay': 320,\n",
       " 'Ġwe': 321,\n",
       " 'Ġon': 322,\n",
       " 'ere': 323,\n",
       " 'Ġha': 324,\n",
       " 'ut': 325,\n",
       " 'ac': 326,\n",
       " 'id': 327,\n",
       " 'ig': 328,\n",
       " 'os': 329,\n",
       " 'ke': 330,\n",
       " 'ver': 331,\n",
       " 'im': 332,\n",
       " 'ĠÐ': 333,\n",
       " 'ĠTh': 334,\n",
       " 'am': 335,\n",
       " 'all': 336,\n",
       " 'Ġfor': 337,\n",
       " 'el': 338,\n",
       " 'ch': 339,\n",
       " 'ro': 340,\n",
       " 'Ġthis': 341,\n",
       " 'Ġst': 342,\n",
       " 'ĠW': 343,\n",
       " 'Ġu': 344,\n",
       " 'ad': 345,\n",
       " 'out': 346,\n",
       " 'ir': 347,\n",
       " 'ld': 348,\n",
       " 'ct': 349,\n",
       " 'Ġk': 350,\n",
       " 'if': 351,\n",
       " 'Ġgo': 352,\n",
       " '..': 353,\n",
       " 'Ð¾': 354,\n",
       " 'ith': 355,\n",
       " 'ly': 356,\n",
       " 'ht': 357,\n",
       " 'qu': 358,\n",
       " 'Ġ-': 359,\n",
       " 'Ġdo': 360,\n",
       " 'Ġj': 361,\n",
       " 'Ġhave': 362,\n",
       " 'ĠB': 363,\n",
       " 'Ġan': 364,\n",
       " 'Ġwith': 365,\n",
       " 'Ġare': 366,\n",
       " 'Ġr': 367,\n",
       " 'Ġde': 368,\n",
       " 'Ġse': 369,\n",
       " 'Ġso': 370,\n",
       " 'Ġv': 371,\n",
       " 'st': 372,\n",
       " 'ill': 373,\n",
       " 'ur': 374,\n",
       " 'Ġli': 375,\n",
       " 'ĠM': 376,\n",
       " 'est': 377,\n",
       " 'od': 378,\n",
       " 'ally': 379,\n",
       " \"'t\": 380,\n",
       " 'ust': 381,\n",
       " 'Ġas': 382,\n",
       " 'ĠC': 383,\n",
       " 'ce': 384,\n",
       " 'Ġme': 385,\n",
       " 'Ð°': 386,\n",
       " 'Ðµ': 387,\n",
       " 'il': 388,\n",
       " 'ĠH': 389,\n",
       " 'Ġwas': 390,\n",
       " 'ter': 391,\n",
       " 'th': 392,\n",
       " 'Ġcan': 393,\n",
       " 'ant': 394,\n",
       " 'Ġcom': 395,\n",
       " 'our': 396,\n",
       " 'ight': 397,\n",
       " 'ĠY': 398,\n",
       " 'ation': 399,\n",
       " 'ĠAnd': 400,\n",
       " 'ol': 401,\n",
       " 'Ġsh': 402,\n",
       " 'ÑĤ': 403,\n",
       " 'op': 404,\n",
       " 'se': 405,\n",
       " 'Ġnot': 406,\n",
       " 'ĠSo': 407,\n",
       " 'Ġne': 408,\n",
       " 'un': 409,\n",
       " 'Ġab': 410,\n",
       " 'Ġlike': 411,\n",
       " 'Ġat': 412,\n",
       " 'ĠD': 413,\n",
       " 'ie': 414,\n",
       " 'Ġhe': 415,\n",
       " 'Ġcon': 416,\n",
       " 'Ġch': 417,\n",
       " 'ore': 418,\n",
       " 'Ġal': 419,\n",
       " 'Ġor': 420,\n",
       " 'Ġqu': 421,\n",
       " 'ĠO': 422,\n",
       " 'ome': 423,\n",
       " 'ra': 424,\n",
       " 'ul': 425,\n",
       " 'ĠN': 426,\n",
       " 'pp': 427,\n",
       " 'Ġyour': 428,\n",
       " 'ould': 429,\n",
       " 'ĠP': 430,\n",
       " 'Ġfr': 431,\n",
       " 'ge': 432,\n",
       " 'ers': 433,\n",
       " \"'re\": 434,\n",
       " 'Ð¸': 435,\n",
       " 'Ġthey': 436,\n",
       " 'Ġwhat': 437,\n",
       " 'use': 438,\n",
       " 'Ġall': 439,\n",
       " 'ĠThe': 440,\n",
       " 'ĠL': 441,\n",
       " 'ess': 442,\n",
       " 'em': 443,\n",
       " 'Ġkn': 444,\n",
       " 'Ġjust': 445,\n",
       " 'art': 446,\n",
       " 'Ġpro': 447,\n",
       " 'very': 448,\n",
       " 'um': 449,\n",
       " 'Ġlo': 450,\n",
       " 'Ġì': 451,\n",
       " 'Ġmy': 452,\n",
       " 'ok': 453,\n",
       " 'Ġex': 454,\n",
       " 'ab': 455,\n",
       " 'Ġthere': 456,\n",
       " 'Ġbut': 457,\n",
       " 'Ġknow': 458,\n",
       " 'Ġsu': 459,\n",
       " 'ĠG': 460,\n",
       " 'Ñģ': 461,\n",
       " 'ĠE': 462,\n",
       " 'Ġma': 463,\n",
       " 'Ð¾Ð': 464,\n",
       " 'Ġen': 465,\n",
       " 'Ġabout': 466,\n",
       " 'ĠIt': 467,\n",
       " 'ist': 468,\n",
       " 'Ġwor': 469,\n",
       " 'ri': 470,\n",
       " 'ind': 471,\n",
       " 'Ġone': 472,\n",
       " 'ate': 473,\n",
       " 'and': 474,\n",
       " 'ink': 475,\n",
       " 'Ġle': 476,\n",
       " 'ort': 477,\n",
       " \"'m\": 478,\n",
       " 'ĠF': 479,\n",
       " 'ich': 480,\n",
       " 'ÑĢ': 481,\n",
       " 'ide': 482,\n",
       " 'Ġget': 483,\n",
       " 'Ġout': 484,\n",
       " '...': 485,\n",
       " 'Ġwill': 486,\n",
       " 'ãģ': 487,\n",
       " 'ive': 488,\n",
       " 'Ð½': 489,\n",
       " 'Ġfrom': 490,\n",
       " 'ain': 491,\n",
       " 'ĠWe': 492,\n",
       " 'Ġup': 493,\n",
       " 'pe': 494,\n",
       " 'res': 495,\n",
       " 'ca': 496,\n",
       " 'ĠR': 497,\n",
       " 'Ġif': 498,\n",
       " 'Ġpl': 499,\n",
       " 'Ġdon': 500,\n",
       " 'ack': 501,\n",
       " 'Ġ1': 502,\n",
       " 'Ġ\"': 503,\n",
       " 'Ġtr': 504,\n",
       " 'Ġus': 505,\n",
       " 'ĠWh': 506,\n",
       " 'ity': 507,\n",
       " 'ĠJ': 508,\n",
       " 'ĠYou': 509,\n",
       " 'Ġhere': 510,\n",
       " 'her': 511,\n",
       " 'Ġsome': 512,\n",
       " 'oug': 513,\n",
       " 'ak': 514,\n",
       " 'ard': 515,\n",
       " 'Ġgoing': 516,\n",
       " 'Ġun': 517,\n",
       " 'ment': 518,\n",
       " 'Ġthink': 519,\n",
       " 'Ġpe': 520,\n",
       " 'end': 521,\n",
       " 'Ġ(': 522,\n",
       " 'cause': 523,\n",
       " 'Ġtim': 524,\n",
       " 'ast': 525,\n",
       " 'Ã©': 526,\n",
       " 'Ġour': 527,\n",
       " 'Ġwant': 528,\n",
       " 'ame': 529,\n",
       " 'ies': 530,\n",
       " 'Ġë': 531,\n",
       " 'ud': 532,\n",
       " 'ine': 533,\n",
       " 'Ġreally': 534,\n",
       " 'Ġte': 535,\n",
       " 'Ġsee': 536,\n",
       " 'ci': 537,\n",
       " 'Ġby': 538,\n",
       " 'so': 539,\n",
       " 'ure': 540,\n",
       " 'ose': 541,\n",
       " 'Ġ[': 542,\n",
       " 'are': 543,\n",
       " 'Ġmore': 544,\n",
       " 'ah': 545,\n",
       " 'one': 546,\n",
       " 'ck': 547,\n",
       " 'ople': 548,\n",
       " 'Ð°Ð': 549,\n",
       " 'Ġthen': 550,\n",
       " 'Ġthing': 551,\n",
       " 'Ġthem': 552,\n",
       " 'ven': 553,\n",
       " 'ound': 554,\n",
       " 'ost': 555,\n",
       " 'ong': 556,\n",
       " 'ect': 557,\n",
       " 'Ġright': 558,\n",
       " 'ag': 559,\n",
       " 'Ġint': 560,\n",
       " 'Ġpeople': 561,\n",
       " 'Ġwhen': 562,\n",
       " 'ous': 563,\n",
       " 'pl': 564,\n",
       " 'Ġtime': 565,\n",
       " 'Ġim': 566,\n",
       " 'Ġwho': 567,\n",
       " 'Ġ2': 568,\n",
       " 'ap': 569,\n",
       " 'Ġbecause': 570,\n",
       " 'hing': 571,\n",
       " 'Ġno': 572,\n",
       " 'ice': 573,\n",
       " 'Ġlook': 574,\n",
       " 'Ġhas': 575,\n",
       " 'Ġwould': 576,\n",
       " 'Ġhow': 577,\n",
       " 'act': 578,\n",
       " 'Ġfe': 579,\n",
       " 'nt': 580,\n",
       " 'ough': 581,\n",
       " 'Ġpr': 582,\n",
       " 'ĠBut': 583,\n",
       " 'Ġsay': 584,\n",
       " 'Ñĥ': 585,\n",
       " 'Ġnow': 586,\n",
       " 'Ġman': 587,\n",
       " 'Ġvery': 588,\n",
       " 'Ġwork': 589,\n",
       " 'iz': 590,\n",
       " 'ĠK': 591,\n",
       " 'iv': 592,\n",
       " 'itt': 593,\n",
       " 'Ġar': 594,\n",
       " 'ep': 595,\n",
       " 'Ġcl': 596,\n",
       " 'Ġwhich': 597,\n",
       " 'Ġco': 598,\n",
       " 'ans': 599,\n",
       " \"'ve\": 600,\n",
       " 'Ġsa': 601,\n",
       " 'ff': 602,\n",
       " \"'ll\": 603,\n",
       " 'Ġany': 604,\n",
       " 'Ġact': 605,\n",
       " 'Ġye': 606,\n",
       " 'ber': 607,\n",
       " 'ach': 608,\n",
       " 'age': 609,\n",
       " 'per': 610,\n",
       " 'Ġalso': 611,\n",
       " 'fer': 612,\n",
       " 'Ġthese': 613,\n",
       " 'Ġad': 614,\n",
       " 'ÐµÐ': 615,\n",
       " 'ther': 616,\n",
       " 'ace': 617,\n",
       " 'ick': 618,\n",
       " 'ake': 619,\n",
       " 'reat': 620,\n",
       " 'ire': 621,\n",
       " 'ue': 622,\n",
       " 'Ġag': 623,\n",
       " 'ĠU': 624,\n",
       " 'uch': 625,\n",
       " 'ions': 626,\n",
       " 'ry': 627,\n",
       " '00': 628,\n",
       " 'na': 629,\n",
       " 'Ġdid': 630,\n",
       " 'Ġque': 631,\n",
       " 'Ġhad': 632,\n",
       " 'Ġevery': 633,\n",
       " 'ĠHe': 634,\n",
       " 'Ġla': 635,\n",
       " 'Ġway': 636,\n",
       " 'Ġsp': 637,\n",
       " 'ble': 638,\n",
       " 'ĠThis': 639,\n",
       " 'ass': 640,\n",
       " 'Ġtheir': 641,\n",
       " 'ite': 642,\n",
       " 'Ġneed': 643,\n",
       " 'Ġpart': 644,\n",
       " 'Ġwere': 645,\n",
       " 'Ġback': 646,\n",
       " 'ip': 647,\n",
       " 'own': 648,\n",
       " 'omet': 649,\n",
       " 'be': 650,\n",
       " 'ase': 651,\n",
       " 'Ġmake': 652,\n",
       " 'irst': 653,\n",
       " 'ia': 654,\n",
       " 'ence': 655,\n",
       " 'ang': 656,\n",
       " 'ank': 657,\n",
       " 'Ġgot': 658,\n",
       " 'Ġpre': 659,\n",
       " 'Ġcont': 660,\n",
       " 'Ġother': 661,\n",
       " 'pt': 662,\n",
       " 'ĠThat': 663,\n",
       " 'og': 664,\n",
       " 'Ġgood': 665,\n",
       " 'Ġinto': 666,\n",
       " 'alk': 667,\n",
       " 'Ġbeen': 668,\n",
       " 'Ġam': 669,\n",
       " 'Ġover': 670,\n",
       " 'ually': 671,\n",
       " 'Ġâ': 672,\n",
       " 'ìĿ': 673,\n",
       " 'Ġund': 674,\n",
       " 'he': 675,\n",
       " 'way': 676,\n",
       " 'Ġgr': 677,\n",
       " 'ÑĮ': 678,\n",
       " 'Ġdif': 679,\n",
       " 'Ġper': 680,\n",
       " 'Ñı': 681,\n",
       " 'ĠIn': 682,\n",
       " 'Ġtw': 683,\n",
       " 'ond': 684,\n",
       " 'ars': 685,\n",
       " 'int': 686,\n",
       " 'orm': 687,\n",
       " 'Ġlot': 688,\n",
       " 'Ġwhere': 689,\n",
       " 'ĠÃ': 690,\n",
       " 'ĠV': 691,\n",
       " 'Ġsomet': 692,\n",
       " 'Ð»': 693,\n",
       " 'ens': 694,\n",
       " 'Ġgu': 695,\n",
       " 'Ġac': 696,\n",
       " 'ug': 697,\n",
       " 'Ñĭ': 698,\n",
       " 'Ä±': 699,\n",
       " 'Ġfirst': 700,\n",
       " 'ree': 701,\n",
       " 'Ġhis': 702,\n",
       " 'ittle': 703,\n",
       " 'Ġimp': 704,\n",
       " 'Ġmo': 705,\n",
       " 'av': 706,\n",
       " 'Ġlittle': 707,\n",
       " 'ĠWhat': 708,\n",
       " 'Ġmuch': 709,\n",
       " 'Ġz': 710,\n",
       " 'Ġê': 711,\n",
       " 'able': 712,\n",
       " 'ĠÐ¿': 713,\n",
       " 'Ġpo': 714,\n",
       " 'Ġcomp': 715,\n",
       " 'ne': 716,\n",
       " 'Ġdis': 717,\n",
       " 'Ġlet': 718,\n",
       " 'ance': 719,\n",
       " 'Ġher': 720,\n",
       " 'Ġthings': 721,\n",
       " 'Ġstart': 722,\n",
       " 'ult': 723,\n",
       " 'Ġapp': 724,\n",
       " 'Ġres': 725,\n",
       " 'Ġfo': 726,\n",
       " 'Ġcould': 727,\n",
       " 'Ġinter': 728,\n",
       " 'Ġthose': 729,\n",
       " 'Ġdes': 730,\n",
       " 'Ġwell': 731,\n",
       " 'Ġtwo': 732,\n",
       " 'Ġkind': 733,\n",
       " 'xt': 734,\n",
       " 'ress': 735,\n",
       " 'ely': 736,\n",
       " 'Ã¤': 737,\n",
       " 'Ġbr': 738,\n",
       " 'Ġthr': 739,\n",
       " 'ĠÐ²': 740,\n",
       " 'Ġi': 741,\n",
       " 'ish': 742,\n",
       " 'Ġdiffer': 743,\n",
       " 'Ġro': 744,\n",
       " 'ĠSt': 745,\n",
       " 'Ġsomething': 746,\n",
       " 'Ġtake': 747,\n",
       " 'Ġbo': 748,\n",
       " 'ys': 749,\n",
       " 'Ġshe': 750,\n",
       " 'Ġtalk': 751,\n",
       " 'lo': 752,\n",
       " 'Ñĩ': 753,\n",
       " 'Ġeven': 754,\n",
       " 'Ðº': 755,\n",
       " 'ãĢ': 756,\n",
       " 'ĠÐ½': 757,\n",
       " 'Ġbu': 758,\n",
       " 'ĠIf': 759,\n",
       " 'Ġdown': 760,\n",
       " 'ĠCh': 761,\n",
       " 'ade': 762,\n",
       " 'ations': 763,\n",
       " 'Ġuse': 764,\n",
       " 'ord': 765,\n",
       " 'Ġoff': 766,\n",
       " 'Ġactually': 767,\n",
       " 'Ġspe': 768,\n",
       " 'du': 769,\n",
       " 'ated': 770,\n",
       " 'ater': 771,\n",
       " 'oss': 772,\n",
       " 'ning': 773,\n",
       " 'Ã¼': 774,\n",
       " 'Ġdoes': 775,\n",
       " 'ĠÑģ': 776,\n",
       " 'Ġnew': 777,\n",
       " 'Ġbet': 778,\n",
       " 'vel': 779,\n",
       " 'cess': 780,\n",
       " 'ple': 781,\n",
       " 'Ġhapp': 782,\n",
       " 'ting': 783,\n",
       " 'onna': 784,\n",
       " 'Ġes': 785,\n",
       " 'Ġday': 786,\n",
       " 'Ġonly': 787,\n",
       " 'ign': 788,\n",
       " 'kay': 789,\n",
       " 'sel': 790,\n",
       " 'ents': 791,\n",
       " 'ount': 792,\n",
       " 'ild': 793,\n",
       " 'ile': 794,\n",
       " 'Ġsc': 795,\n",
       " 'Ġhim': 796,\n",
       " 'Ġagain': 797,\n",
       " 'ving': 798,\n",
       " 'Ġgonna': 799,\n",
       " 'Ġcomm': 800,\n",
       " 'Ġhel': 801,\n",
       " 'other': 802,\n",
       " 'Ġke': 803,\n",
       " 'ical': 804,\n",
       " 'Ġ3': 805,\n",
       " 'Ġel': 806,\n",
       " 'Ġthrough': 807,\n",
       " 'Ġcome': 808,\n",
       " 'ark': 809,\n",
       " 'day': 810,\n",
       " 'ier': 811,\n",
       " 'Ã³': 812,\n",
       " 'Ġthan': 813,\n",
       " 'ĠThey': 814,\n",
       " 'Ġmay': 815,\n",
       " 'Ġser': 816,\n",
       " 'íķ': 817,\n",
       " 'Ġcall': 818,\n",
       " 'Ġdifferent': 819,\n",
       " 'Ġshould': 820,\n",
       " 'ĠThere': 821,\n",
       " 'ary': 822,\n",
       " 'ĠNow': 823,\n",
       " 'ãĤ': 824,\n",
       " 'thing': 825,\n",
       " 'we': 826,\n",
       " 'ory': 827,\n",
       " 'fter': 828,\n",
       " 'Ġput': 829,\n",
       " 'ors': 830,\n",
       " 'ial': 831,\n",
       " 'ëĭ': 832,\n",
       " 'Ġunder': 833,\n",
       " 'Ġinc': 834,\n",
       " 'ĠYe': 835,\n",
       " 'ub': 836,\n",
       " 'form': 837,\n",
       " 'Ġvide': 838,\n",
       " 'à¸': 839,\n",
       " 'vers': 840,\n",
       " 'Ġfeel': 841,\n",
       " 'Ã¡': 842,\n",
       " 'ody': 843,\n",
       " 'ft': 844,\n",
       " 'fore': 845,\n",
       " 'Ġem': 846,\n",
       " 'get': 847,\n",
       " 'Ġsaid': 848,\n",
       " 'ition': 849,\n",
       " 'Ġrec': 850,\n",
       " 'ious': 851,\n",
       " 'atch': 852,\n",
       " 'Ġtry': 853,\n",
       " 'Ġhelp': 854,\n",
       " 'Ġshow': 855,\n",
       " 'Ð´': 856,\n",
       " 'Ġbit': 857,\n",
       " 'ull': 858,\n",
       " 'Ð²': 859,\n",
       " 'ÑĤÐ¾': 860,\n",
       " 'gr': 861,\n",
       " 'Ġplay': 862,\n",
       " 'ife': 863,\n",
       " 'ail': 864,\n",
       " 'ĠYeah': 865,\n",
       " 'Ġquest': 866,\n",
       " 'Ġmany': 867,\n",
       " 'Ġpers': 868,\n",
       " 'Ġgreat': 869,\n",
       " 'ÃŃ': 870,\n",
       " 'Ġest': 871,\n",
       " 'ng': 872,\n",
       " 'ĠâĻ': 873,\n",
       " 'ty': 874,\n",
       " 'la': 875,\n",
       " 'ĠOh': 876,\n",
       " 'Ġ×': 877,\n",
       " 'à®': 878,\n",
       " 'ĠBe': 879,\n",
       " 'ady': 880,\n",
       " 'Ġmost': 881,\n",
       " 'ction': 882,\n",
       " 'ĠNo': 883,\n",
       " 'Ġdoing': 884,\n",
       " 'Ġbeing': 885,\n",
       " 'Ġtoo': 886,\n",
       " 'ces': 887,\n",
       " 'Ġbl': 888,\n",
       " '.\"': 889,\n",
       " 'Ġrem': 890,\n",
       " 'iss': 891,\n",
       " 'ons': 892,\n",
       " '>>': 893,\n",
       " 'ru': 894,\n",
       " 'wn': 895,\n",
       " 'ont': 896,\n",
       " 'ib': 897,\n",
       " 'ell': 898,\n",
       " 'Ġsm': 899,\n",
       " 'oth': 900,\n",
       " 'ual': 901,\n",
       " 'Ġ>>': 902,\n",
       " 'Ġph': 903,\n",
       " 'les': 904,\n",
       " 'oc': 905,\n",
       " 'ful': 906,\n",
       " 'Ġsec': 907,\n",
       " 'ise': 908,\n",
       " 'Ġadd': 909,\n",
       " 'igh': 910,\n",
       " 'ert': 911,\n",
       " 'Ġsame': 912,\n",
       " 'âĢ': 913,\n",
       " 'Ġmean': 914,\n",
       " 'Ġfind': 915,\n",
       " 'ek': 916,\n",
       " 'Ġend': 917,\n",
       " '--': 918,\n",
       " 'Ð¼': 919,\n",
       " 'Ġstill': 920,\n",
       " 'az': 921,\n",
       " \"Ġ'\": 922,\n",
       " 'Ġmin': 923,\n",
       " 'Ġyears': 924,\n",
       " 'urn': 925,\n",
       " 'Ġaround': 926,\n",
       " 'self': 927,\n",
       " 'Ġwr': 928,\n",
       " 'bs': 929,\n",
       " 'ought': 930,\n",
       " 'ĠâĻª': 931,\n",
       " 'Ġfl': 932,\n",
       " 'ange': 933,\n",
       " 'Ġafter': 934,\n",
       " 'Ġpoint': 935,\n",
       " 'mer': 936,\n",
       " 'ved': 937,\n",
       " 'Ġlong': 938,\n",
       " 'oy': 939,\n",
       " 'ä¸': 940,\n",
       " 'Ġcr': 941,\n",
       " 'ways': 942,\n",
       " 'Ġsy': 943,\n",
       " 'Ġtra': 944,\n",
       " 'Ġ20': 945,\n",
       " 'ave': 946,\n",
       " 'Ġche': 947,\n",
       " 'Ġent': 948,\n",
       " 'Ġbefore': 949,\n",
       " 'ph': 950,\n",
       " 'Ġatt': 951,\n",
       " 'ian': 952,\n",
       " 'ily': 953,\n",
       " 'Ġperson': 954,\n",
       " 'Ġbig': 955,\n",
       " 'Ġsch': 956,\n",
       " 'Ġreal': 957,\n",
       " 'Ġnext': 958,\n",
       " 'Ġlove': 959,\n",
       " 'Ġvideo': 960,\n",
       " 'ĠLet': 961,\n",
       " 'Ġfin': 962,\n",
       " 'Ġmak': 963,\n",
       " 'ible': 964,\n",
       " 'Ġtoday': 965,\n",
       " 'erm': 966,\n",
       " 'ĠAl': 967,\n",
       " 'ower': 968,\n",
       " 'ann': 969,\n",
       " 'ix': 970,\n",
       " 'Ġpar': 971,\n",
       " 'Ġstud': 972,\n",
       " 'Ã¶': 973,\n",
       " 'Ġimport': 974,\n",
       " 'te': 975,\n",
       " 'Ġgive': 976,\n",
       " 'ves': 977,\n",
       " 'Ġdie': 978,\n",
       " 'Ġdec': 979,\n",
       " 'Ġtell': 980,\n",
       " 'ĠÐº': 981,\n",
       " 'ÑģÑĤ': 982,\n",
       " 'Ġwhy': 983,\n",
       " 'ically': 984,\n",
       " 'ict': 985,\n",
       " 'red': 986,\n",
       " 'Ġbas': 987,\n",
       " 'Ġsure': 988,\n",
       " 'Ġbel': 989,\n",
       " 'ating': 990,\n",
       " 'Ġtak': 991,\n",
       " 'Ġset': 992,\n",
       " 'Ġlife': 993,\n",
       " 'Ġdidn': 994,\n",
       " 'Ø§': 995,\n",
       " 'ob': 996,\n",
       " 'und': 997,\n",
       " 'ath': 998,\n",
       " 'Ġop': 999,\n",
       " ...}"
      ]
     },
     "execution_count": 204,
     "metadata": {},
     "output_type": "execute_result"
    }
   ],
   "source": [
    "vocab_dict"
   ]
  },
  {
   "cell_type": "code",
   "execution_count": 159,
   "id": "a21c5f8e-ddb6-43d2-9004-08afbf729056",
   "metadata": {},
   "outputs": [
    {
     "name": "stdout",
     "output_type": "stream",
     "text": [
      "-49.409549713134766\n"
     ]
    },
    {
     "name": "stderr",
     "output_type": "stream",
     "text": [
      "Loading the LM will be faster if you build a binary file.\n",
      "Reading /mnt/d/Downloads/Swahili-translation-English-STT--main/kenlm/lm/test.arpa\n",
      "----5---10---15---20---25---30---35---40---45---50---55---60---65---70---75---80---85---90---95--100\n",
      "****************************************************************************************************\n"
     ]
    }
   ],
   "source": [
    "import kenlm\n",
    "model = kenlm.LanguageModel('kenlm/lm/test.arpa')\n",
    "print(model.score('M-pesa is a mobile.', bos = True, eos = True))"
   ]
  },
  {
   "cell_type": "code",
   "execution_count": 157,
   "id": "a999b707-7022-46e4-bca7-a33f6a545006",
   "metadata": {},
   "outputs": [
    {
     "name": "stdout",
     "output_type": "stream",
     "text": [
      "-13.241593360900879\n"
     ]
    },
    {
     "name": "stderr",
     "output_type": "stream",
     "text": [
      "Loading the LM will be faster if you build a binary file.\n",
      "Reading /mnt/d/Downloads/Swahili-translation-English-STT--main/4gram_correct.arpa\n",
      "----5---10---15---20---25---30---35---40---45---50---55---60---65---70---75---80---85---90---95--100\n",
      "****************************************************************************************************\n"
     ]
    }
   ],
   "source": [
    "import kenlm\n",
    "model = kenlm.LanguageModel('4gram_correct.arpa')\n",
    "print(model.score('M-pesa is a mobile.', bos = True, eos = True))"
   ]
  },
  {
   "cell_type": "code",
   "execution_count": 170,
   "id": "881b125c-fb01-4f78-802f-38440f3839c4",
   "metadata": {},
   "outputs": [
    {
     "name": "stderr",
     "output_type": "stream",
     "text": [
      "Loading the LM will be faster if you build a binary file.\n",
      "Reading /mnt/d/Downloads/Swahili-translation-English-STT--main/kenlm/lm/test.arpa\n",
      "----5---10---15---20---25---30---35---40---45---50---55---60---65---70---75---80---85---90---95--100\n",
      "****************************************************************************************************\n",
      "Found entries of length > 1 in alphabet. This is unusual unless style is BPE, but the alphabet was not recognized as BPE type. Is this correct?\n",
      "Only 35 unigrams passed as vocabulary. Is this small or artificial data?\n"
     ]
    }
   ],
   "source": [
    "vocab_dict = processor.tokenizer.get_vocab()\n",
    "sorted_vocab_dict = {k.lower(): v for k, v in sorted(vocab_dict.items(), key=lambda item: item[1])}\n",
    "from pyctcdecode import build_ctcdecoder\n",
    "\n",
    "decoder = build_ctcdecoder(\n",
    "    labels=list(sorted_vocab_dict.keys()),\n",
    "    kenlm_model_path=\"kenlm/lm/test.arpa\",\n",
    ")"
   ]
  },
  {
   "cell_type": "code",
   "execution_count": 146,
   "id": "4ecf4ba4-c3d2-47d9-8b1a-31eb8382d7bd",
   "metadata": {},
   "outputs": [],
   "source": [
    "t = swahili_split['test']['transcription']"
   ]
  },
  {
   "cell_type": "code",
   "execution_count": 147,
   "id": "1531770a-e465-450b-9f7b-cd31957e0be7",
   "metadata": {},
   "outputs": [
    {
     "name": "stdout",
     "output_type": "stream",
     "text": [
      "{'bleu': 0.010636227136984039, 'precisions': [0.20864127345082434, 0.09330306469920545, 0.06897456071334906, 0.0528608771420273], 'brevity_penalty': 0.11587980148214697, 'length_ratio': 0.3169369369369369, 'translation_length': 5277, 'reference_length': 16650}\n",
      "1.0117117117117118\n",
      "0.9191487799505617\n"
     ]
    }
   ],
   "source": [
    "s = [normalizer(pred) for pred in s]\n",
    "t = [normalizer(label) for label in t]\n",
    "results = bleu.compute(predictions=s, references=t)\n",
    "print(results)\n",
    "results = wer_metric.compute(predictions=s, references=t)\n",
    "print(results)\n",
    "results = cer_metric.compute(predictions=s, references=t)\n",
    "print(results)"
   ]
  },
  {
   "cell_type": "markdown",
   "id": "c37abb3f-126b-4092-8549-87c39f543e70",
   "metadata": {},
   "source": [
    "Top K"
   ]
  },
  {
   "cell_type": "code",
   "execution_count": 171,
   "id": "3a82caa6-0b66-4d7f-99f2-59bdd390cadc",
   "metadata": {
    "scrolled": true
   },
   "outputs": [
    {
     "name": "stderr",
     "output_type": "stream",
     "text": [
      "14it [00:10,  1.22it/s]Exception ignored from cffi callback <function SoundFile._init_virtual_io.<locals>.vio_get_filelen at 0x7f7e881684c0>:\n",
      "Traceback (most recent call last):\n",
      "  File \"/mnt/d/Downloads/Swahili-translation-English-STT--main/ASR_linux/lib/python3.10/site-packages/soundfile.py\", line 1228, in vio_get_filelen\n",
      "    @_ffi.callback(\"sf_vio_get_filelen\")\n",
      "KeyboardInterrupt: \n",
      "14it [00:11,  1.25it/s]\n"
     ]
    },
    {
     "ename": "LibsndfileError",
     "evalue": "Error opening <_io.BytesIO object at 0x7f8430503ce0>: Error in WAV file. No 'data' chunk marker.",
     "output_type": "error",
     "traceback": [
      "\u001b[0;31m---------------------------------------------------------------------------\u001b[0m",
      "\u001b[0;31mStopIteration\u001b[0m                             Traceback (most recent call last)",
      "File \u001b[0;32m/mnt/d/Downloads/Swahili-translation-English-STT--main/ASR_linux/lib/python3.10/site-packages/transformers/pipelines/pt_utils.py:183\u001b[0m, in \u001b[0;36mPipelineChunkIterator.__next__\u001b[0;34m(self)\u001b[0m\n\u001b[1;32m    181\u001b[0m \u001b[38;5;28;01mtry\u001b[39;00m:\n\u001b[1;32m    182\u001b[0m     \u001b[38;5;66;03m# Try to return next item\u001b[39;00m\n\u001b[0;32m--> 183\u001b[0m     processed \u001b[38;5;241m=\u001b[39m \u001b[38;5;28;43mnext\u001b[39;49m\u001b[43m(\u001b[49m\u001b[38;5;28;43mself\u001b[39;49m\u001b[38;5;241;43m.\u001b[39;49m\u001b[43msubiterator\u001b[49m\u001b[43m)\u001b[49m\n\u001b[1;32m    184\u001b[0m \u001b[38;5;28;01mexcept\u001b[39;00m \u001b[38;5;167;01mStopIteration\u001b[39;00m:\n\u001b[1;32m    185\u001b[0m     \u001b[38;5;66;03m# When a preprocess iterator ends, we can start lookig at the next item\u001b[39;00m\n\u001b[1;32m    186\u001b[0m     \u001b[38;5;66;03m# ChunkIterator will keep feeding until ALL elements of iterator\u001b[39;00m\n\u001b[0;32m   (...)\u001b[0m\n\u001b[1;32m    189\u001b[0m     \u001b[38;5;66;03m# Another way to look at it, is we're basically flattening lists of lists\u001b[39;00m\n\u001b[1;32m    190\u001b[0m     \u001b[38;5;66;03m# into a single list, but with generators\u001b[39;00m\n",
      "\u001b[0;31mStopIteration\u001b[0m: ",
      "\nDuring handling of the above exception, another exception occurred:\n",
      "\u001b[0;31mLibsndfileError\u001b[0m                           Traceback (most recent call last)",
      "Cell \u001b[0;32mIn[171], line 41\u001b[0m\n\u001b[1;32m     39\u001b[0m asr_topk\u001b[38;5;241m.\u001b[39mmodel\u001b[38;5;241m.\u001b[39mconfig\u001b[38;5;241m.\u001b[39mforced_decoder_ids \u001b[38;5;241m=\u001b[39m processor\u001b[38;5;241m.\u001b[39mget_decoder_prompt_ids(language\u001b[38;5;241m=\u001b[39m\u001b[38;5;124m'\u001b[39m\u001b[38;5;124mSwahili\u001b[39m\u001b[38;5;124m'\u001b[39m, task\u001b[38;5;241m=\u001b[39m\u001b[38;5;124m'\u001b[39m\u001b[38;5;124mtranslate\u001b[39m\u001b[38;5;124m'\u001b[39m)\n\u001b[1;32m     40\u001b[0m s \u001b[38;5;241m=\u001b[39m []\n\u001b[0;32m---> 41\u001b[0m \u001b[38;5;28;01mfor\u001b[39;00m out \u001b[38;5;129;01min\u001b[39;00m tqdm(asr_topk(data())):\n\u001b[1;32m     42\u001b[0m     s\u001b[38;5;241m.\u001b[39mappend(out[\u001b[38;5;124m'\u001b[39m\u001b[38;5;124mtext\u001b[39m\u001b[38;5;124m'\u001b[39m])\n",
      "File \u001b[0;32m/mnt/d/Downloads/Swahili-translation-English-STT--main/ASR_linux/lib/python3.10/site-packages/tqdm/std.py:1182\u001b[0m, in \u001b[0;36mtqdm.__iter__\u001b[0;34m(self)\u001b[0m\n\u001b[1;32m   1179\u001b[0m time \u001b[38;5;241m=\u001b[39m \u001b[38;5;28mself\u001b[39m\u001b[38;5;241m.\u001b[39m_time\n\u001b[1;32m   1181\u001b[0m \u001b[38;5;28;01mtry\u001b[39;00m:\n\u001b[0;32m-> 1182\u001b[0m     \u001b[38;5;28;01mfor\u001b[39;00m obj \u001b[38;5;129;01min\u001b[39;00m iterable:\n\u001b[1;32m   1183\u001b[0m         \u001b[38;5;28;01myield\u001b[39;00m obj\n\u001b[1;32m   1184\u001b[0m         \u001b[38;5;66;03m# Update and possibly print the progressbar.\u001b[39;00m\n\u001b[1;32m   1185\u001b[0m         \u001b[38;5;66;03m# Note: does not call self.update(1) for speed optimisation.\u001b[39;00m\n",
      "File \u001b[0;32m/mnt/d/Downloads/Swahili-translation-English-STT--main/ASR_linux/lib/python3.10/site-packages/transformers/pipelines/pt_utils.py:124\u001b[0m, in \u001b[0;36mPipelineIterator.__next__\u001b[0;34m(self)\u001b[0m\n\u001b[1;32m    121\u001b[0m     \u001b[38;5;28;01mreturn\u001b[39;00m \u001b[38;5;28mself\u001b[39m\u001b[38;5;241m.\u001b[39mloader_batch_item()\n\u001b[1;32m    123\u001b[0m \u001b[38;5;66;03m# We're out of items within a batch\u001b[39;00m\n\u001b[0;32m--> 124\u001b[0m item \u001b[38;5;241m=\u001b[39m \u001b[38;5;28;43mnext\u001b[39;49m\u001b[43m(\u001b[49m\u001b[38;5;28;43mself\u001b[39;49m\u001b[38;5;241;43m.\u001b[39;49m\u001b[43miterator\u001b[49m\u001b[43m)\u001b[49m\n\u001b[1;32m    125\u001b[0m processed \u001b[38;5;241m=\u001b[39m \u001b[38;5;28mself\u001b[39m\u001b[38;5;241m.\u001b[39minfer(item, \u001b[38;5;241m*\u001b[39m\u001b[38;5;241m*\u001b[39m\u001b[38;5;28mself\u001b[39m\u001b[38;5;241m.\u001b[39mparams)\n\u001b[1;32m    126\u001b[0m \u001b[38;5;66;03m# We now have a batch of \"inferred things\".\u001b[39;00m\n",
      "File \u001b[0;32m/mnt/d/Downloads/Swahili-translation-English-STT--main/ASR_linux/lib/python3.10/site-packages/transformers/pipelines/pt_utils.py:266\u001b[0m, in \u001b[0;36mPipelinePackIterator.__next__\u001b[0;34m(self)\u001b[0m\n\u001b[1;32m    263\u001b[0m             \u001b[38;5;28;01mreturn\u001b[39;00m accumulator\n\u001b[1;32m    265\u001b[0m \u001b[38;5;28;01mwhile\u001b[39;00m \u001b[38;5;129;01mnot\u001b[39;00m is_last:\n\u001b[0;32m--> 266\u001b[0m     processed \u001b[38;5;241m=\u001b[39m \u001b[38;5;28mself\u001b[39m\u001b[38;5;241m.\u001b[39minfer(\u001b[38;5;28;43mnext\u001b[39;49m\u001b[43m(\u001b[49m\u001b[38;5;28;43mself\u001b[39;49m\u001b[38;5;241;43m.\u001b[39;49m\u001b[43miterator\u001b[49m\u001b[43m)\u001b[49m, \u001b[38;5;241m*\u001b[39m\u001b[38;5;241m*\u001b[39m\u001b[38;5;28mself\u001b[39m\u001b[38;5;241m.\u001b[39mparams)\n\u001b[1;32m    267\u001b[0m     \u001b[38;5;28;01mif\u001b[39;00m \u001b[38;5;28mself\u001b[39m\u001b[38;5;241m.\u001b[39mloader_batch_size \u001b[38;5;129;01mis\u001b[39;00m \u001b[38;5;129;01mnot\u001b[39;00m \u001b[38;5;28;01mNone\u001b[39;00m:\n\u001b[1;32m    268\u001b[0m         \u001b[38;5;28;01mif\u001b[39;00m \u001b[38;5;28misinstance\u001b[39m(processed, torch\u001b[38;5;241m.\u001b[39mTensor):\n",
      "File \u001b[0;32m/mnt/d/Downloads/Swahili-translation-English-STT--main/ASR_linux/lib/python3.10/site-packages/torch/utils/data/dataloader.py:630\u001b[0m, in \u001b[0;36m_BaseDataLoaderIter.__next__\u001b[0;34m(self)\u001b[0m\n\u001b[1;32m    627\u001b[0m \u001b[38;5;28;01mif\u001b[39;00m \u001b[38;5;28mself\u001b[39m\u001b[38;5;241m.\u001b[39m_sampler_iter \u001b[38;5;129;01mis\u001b[39;00m \u001b[38;5;28;01mNone\u001b[39;00m:\n\u001b[1;32m    628\u001b[0m     \u001b[38;5;66;03m# TODO(https://github.com/pytorch/pytorch/issues/76750)\u001b[39;00m\n\u001b[1;32m    629\u001b[0m     \u001b[38;5;28mself\u001b[39m\u001b[38;5;241m.\u001b[39m_reset()  \u001b[38;5;66;03m# type: ignore[call-arg]\u001b[39;00m\n\u001b[0;32m--> 630\u001b[0m data \u001b[38;5;241m=\u001b[39m \u001b[38;5;28;43mself\u001b[39;49m\u001b[38;5;241;43m.\u001b[39;49m\u001b[43m_next_data\u001b[49m\u001b[43m(\u001b[49m\u001b[43m)\u001b[49m\n\u001b[1;32m    631\u001b[0m \u001b[38;5;28mself\u001b[39m\u001b[38;5;241m.\u001b[39m_num_yielded \u001b[38;5;241m+\u001b[39m\u001b[38;5;241m=\u001b[39m \u001b[38;5;241m1\u001b[39m\n\u001b[1;32m    632\u001b[0m \u001b[38;5;28;01mif\u001b[39;00m \u001b[38;5;28mself\u001b[39m\u001b[38;5;241m.\u001b[39m_dataset_kind \u001b[38;5;241m==\u001b[39m _DatasetKind\u001b[38;5;241m.\u001b[39mIterable \u001b[38;5;129;01mand\u001b[39;00m \\\n\u001b[1;32m    633\u001b[0m         \u001b[38;5;28mself\u001b[39m\u001b[38;5;241m.\u001b[39m_IterableDataset_len_called \u001b[38;5;129;01mis\u001b[39;00m \u001b[38;5;129;01mnot\u001b[39;00m \u001b[38;5;28;01mNone\u001b[39;00m \u001b[38;5;129;01mand\u001b[39;00m \\\n\u001b[1;32m    634\u001b[0m         \u001b[38;5;28mself\u001b[39m\u001b[38;5;241m.\u001b[39m_num_yielded \u001b[38;5;241m>\u001b[39m \u001b[38;5;28mself\u001b[39m\u001b[38;5;241m.\u001b[39m_IterableDataset_len_called:\n",
      "File \u001b[0;32m/mnt/d/Downloads/Swahili-translation-English-STT--main/ASR_linux/lib/python3.10/site-packages/torch/utils/data/dataloader.py:674\u001b[0m, in \u001b[0;36m_SingleProcessDataLoaderIter._next_data\u001b[0;34m(self)\u001b[0m\n\u001b[1;32m    672\u001b[0m \u001b[38;5;28;01mdef\u001b[39;00m \u001b[38;5;21m_next_data\u001b[39m(\u001b[38;5;28mself\u001b[39m):\n\u001b[1;32m    673\u001b[0m     index \u001b[38;5;241m=\u001b[39m \u001b[38;5;28mself\u001b[39m\u001b[38;5;241m.\u001b[39m_next_index()  \u001b[38;5;66;03m# may raise StopIteration\u001b[39;00m\n\u001b[0;32m--> 674\u001b[0m     data \u001b[38;5;241m=\u001b[39m \u001b[38;5;28;43mself\u001b[39;49m\u001b[38;5;241;43m.\u001b[39;49m\u001b[43m_dataset_fetcher\u001b[49m\u001b[38;5;241;43m.\u001b[39;49m\u001b[43mfetch\u001b[49m\u001b[43m(\u001b[49m\u001b[43mindex\u001b[49m\u001b[43m)\u001b[49m  \u001b[38;5;66;03m# may raise StopIteration\u001b[39;00m\n\u001b[1;32m    675\u001b[0m     \u001b[38;5;28;01mif\u001b[39;00m \u001b[38;5;28mself\u001b[39m\u001b[38;5;241m.\u001b[39m_pin_memory:\n\u001b[1;32m    676\u001b[0m         data \u001b[38;5;241m=\u001b[39m _utils\u001b[38;5;241m.\u001b[39mpin_memory\u001b[38;5;241m.\u001b[39mpin_memory(data, \u001b[38;5;28mself\u001b[39m\u001b[38;5;241m.\u001b[39m_pin_memory_device)\n",
      "File \u001b[0;32m/mnt/d/Downloads/Swahili-translation-English-STT--main/ASR_linux/lib/python3.10/site-packages/torch/utils/data/_utils/fetch.py:32\u001b[0m, in \u001b[0;36m_IterableDatasetFetcher.fetch\u001b[0;34m(self, possibly_batched_index)\u001b[0m\n\u001b[1;32m     30\u001b[0m \u001b[38;5;28;01mfor\u001b[39;00m _ \u001b[38;5;129;01min\u001b[39;00m possibly_batched_index:\n\u001b[1;32m     31\u001b[0m     \u001b[38;5;28;01mtry\u001b[39;00m:\n\u001b[0;32m---> 32\u001b[0m         data\u001b[38;5;241m.\u001b[39mappend(\u001b[38;5;28;43mnext\u001b[39;49m\u001b[43m(\u001b[49m\u001b[38;5;28;43mself\u001b[39;49m\u001b[38;5;241;43m.\u001b[39;49m\u001b[43mdataset_iter\u001b[49m\u001b[43m)\u001b[49m)\n\u001b[1;32m     33\u001b[0m     \u001b[38;5;28;01mexcept\u001b[39;00m \u001b[38;5;167;01mStopIteration\u001b[39;00m:\n\u001b[1;32m     34\u001b[0m         \u001b[38;5;28mself\u001b[39m\u001b[38;5;241m.\u001b[39mended \u001b[38;5;241m=\u001b[39m \u001b[38;5;28;01mTrue\u001b[39;00m\n",
      "File \u001b[0;32m/mnt/d/Downloads/Swahili-translation-English-STT--main/ASR_linux/lib/python3.10/site-packages/transformers/pipelines/pt_utils.py:191\u001b[0m, in \u001b[0;36mPipelineChunkIterator.__next__\u001b[0;34m(self)\u001b[0m\n\u001b[1;32m    183\u001b[0m     processed \u001b[38;5;241m=\u001b[39m \u001b[38;5;28mnext\u001b[39m(\u001b[38;5;28mself\u001b[39m\u001b[38;5;241m.\u001b[39msubiterator)\n\u001b[1;32m    184\u001b[0m \u001b[38;5;28;01mexcept\u001b[39;00m \u001b[38;5;167;01mStopIteration\u001b[39;00m:\n\u001b[1;32m    185\u001b[0m     \u001b[38;5;66;03m# When a preprocess iterator ends, we can start lookig at the next item\u001b[39;00m\n\u001b[1;32m    186\u001b[0m     \u001b[38;5;66;03m# ChunkIterator will keep feeding until ALL elements of iterator\u001b[39;00m\n\u001b[0;32m   (...)\u001b[0m\n\u001b[1;32m    189\u001b[0m     \u001b[38;5;66;03m# Another way to look at it, is we're basically flattening lists of lists\u001b[39;00m\n\u001b[1;32m    190\u001b[0m     \u001b[38;5;66;03m# into a single list, but with generators\u001b[39;00m\n\u001b[0;32m--> 191\u001b[0m     \u001b[38;5;28mself\u001b[39m\u001b[38;5;241m.\u001b[39msubiterator \u001b[38;5;241m=\u001b[39m \u001b[38;5;28mself\u001b[39m\u001b[38;5;241m.\u001b[39minfer(\u001b[38;5;28;43mnext\u001b[39;49m\u001b[43m(\u001b[49m\u001b[38;5;28;43mself\u001b[39;49m\u001b[38;5;241;43m.\u001b[39;49m\u001b[43miterator\u001b[49m\u001b[43m)\u001b[49m, \u001b[38;5;241m*\u001b[39m\u001b[38;5;241m*\u001b[39m\u001b[38;5;28mself\u001b[39m\u001b[38;5;241m.\u001b[39mparams)\n\u001b[1;32m    192\u001b[0m     processed \u001b[38;5;241m=\u001b[39m \u001b[38;5;28mnext\u001b[39m(\u001b[38;5;28mself\u001b[39m\u001b[38;5;241m.\u001b[39msubiterator)\n\u001b[1;32m    193\u001b[0m \u001b[38;5;28;01mreturn\u001b[39;00m processed\n",
      "Cell \u001b[0;32mIn[161], line 3\u001b[0m, in \u001b[0;36mdata\u001b[0;34m()\u001b[0m\n\u001b[1;32m      1\u001b[0m \u001b[38;5;28;01mdef\u001b[39;00m \u001b[38;5;21mdata\u001b[39m():\n\u001b[1;32m      2\u001b[0m     \u001b[38;5;28;01mfor\u001b[39;00m i \u001b[38;5;129;01min\u001b[39;00m \u001b[38;5;28mrange\u001b[39m(\u001b[38;5;28mlen\u001b[39m(swahili_final[\u001b[38;5;124m'\u001b[39m\u001b[38;5;124mtest\u001b[39m\u001b[38;5;124m'\u001b[39m])):\n\u001b[0;32m----> 3\u001b[0m         \u001b[38;5;28;01myield\u001b[39;00m \u001b[43mswahili_final\u001b[49m\u001b[43m[\u001b[49m\u001b[38;5;124;43m'\u001b[39;49m\u001b[38;5;124;43mtest\u001b[39;49m\u001b[38;5;124;43m'\u001b[39;49m\u001b[43m]\u001b[49m\u001b[43m[\u001b[49m\u001b[38;5;124;43m'\u001b[39;49m\u001b[38;5;124;43mfile_name\u001b[39;49m\u001b[38;5;124;43m'\u001b[39;49m\u001b[43m]\u001b[49m[i][\u001b[38;5;124m'\u001b[39m\u001b[38;5;124marray\u001b[39m\u001b[38;5;124m'\u001b[39m]\n",
      "File \u001b[0;32m/mnt/d/Downloads/Swahili-translation-English-STT--main/ASR_linux/lib/python3.10/site-packages/datasets/arrow_dataset.py:2803\u001b[0m, in \u001b[0;36mDataset.__getitem__\u001b[0;34m(self, key)\u001b[0m\n\u001b[1;32m   2801\u001b[0m \u001b[38;5;28;01mdef\u001b[39;00m \u001b[38;5;21m__getitem__\u001b[39m(\u001b[38;5;28mself\u001b[39m, key):  \u001b[38;5;66;03m# noqa: F811\u001b[39;00m\n\u001b[1;32m   2802\u001b[0m \u001b[38;5;250m    \u001b[39m\u001b[38;5;124;03m\"\"\"Can be used to index columns (by string names) or rows (by integer index or iterable of indices or bools).\"\"\"\u001b[39;00m\n\u001b[0;32m-> 2803\u001b[0m     \u001b[38;5;28;01mreturn\u001b[39;00m \u001b[38;5;28;43mself\u001b[39;49m\u001b[38;5;241;43m.\u001b[39;49m\u001b[43m_getitem\u001b[49m\u001b[43m(\u001b[49m\u001b[43mkey\u001b[49m\u001b[43m)\u001b[49m\n",
      "File \u001b[0;32m/mnt/d/Downloads/Swahili-translation-English-STT--main/ASR_linux/lib/python3.10/site-packages/datasets/arrow_dataset.py:2788\u001b[0m, in \u001b[0;36mDataset._getitem\u001b[0;34m(self, key, **kwargs)\u001b[0m\n\u001b[1;32m   2786\u001b[0m formatter \u001b[38;5;241m=\u001b[39m get_formatter(format_type, features\u001b[38;5;241m=\u001b[39m\u001b[38;5;28mself\u001b[39m\u001b[38;5;241m.\u001b[39m_info\u001b[38;5;241m.\u001b[39mfeatures, \u001b[38;5;241m*\u001b[39m\u001b[38;5;241m*\u001b[39mformat_kwargs)\n\u001b[1;32m   2787\u001b[0m pa_subtable \u001b[38;5;241m=\u001b[39m query_table(\u001b[38;5;28mself\u001b[39m\u001b[38;5;241m.\u001b[39m_data, key, indices\u001b[38;5;241m=\u001b[39m\u001b[38;5;28mself\u001b[39m\u001b[38;5;241m.\u001b[39m_indices \u001b[38;5;28;01mif\u001b[39;00m \u001b[38;5;28mself\u001b[39m\u001b[38;5;241m.\u001b[39m_indices \u001b[38;5;129;01mis\u001b[39;00m \u001b[38;5;129;01mnot\u001b[39;00m \u001b[38;5;28;01mNone\u001b[39;00m \u001b[38;5;28;01melse\u001b[39;00m \u001b[38;5;28;01mNone\u001b[39;00m)\n\u001b[0;32m-> 2788\u001b[0m formatted_output \u001b[38;5;241m=\u001b[39m \u001b[43mformat_table\u001b[49m\u001b[43m(\u001b[49m\n\u001b[1;32m   2789\u001b[0m \u001b[43m    \u001b[49m\u001b[43mpa_subtable\u001b[49m\u001b[43m,\u001b[49m\u001b[43m \u001b[49m\u001b[43mkey\u001b[49m\u001b[43m,\u001b[49m\u001b[43m \u001b[49m\u001b[43mformatter\u001b[49m\u001b[38;5;241;43m=\u001b[39;49m\u001b[43mformatter\u001b[49m\u001b[43m,\u001b[49m\u001b[43m \u001b[49m\u001b[43mformat_columns\u001b[49m\u001b[38;5;241;43m=\u001b[39;49m\u001b[43mformat_columns\u001b[49m\u001b[43m,\u001b[49m\u001b[43m \u001b[49m\u001b[43moutput_all_columns\u001b[49m\u001b[38;5;241;43m=\u001b[39;49m\u001b[43moutput_all_columns\u001b[49m\n\u001b[1;32m   2790\u001b[0m \u001b[43m\u001b[49m\u001b[43m)\u001b[49m\n\u001b[1;32m   2791\u001b[0m \u001b[38;5;28;01mreturn\u001b[39;00m formatted_output\n",
      "File \u001b[0;32m/mnt/d/Downloads/Swahili-translation-English-STT--main/ASR_linux/lib/python3.10/site-packages/datasets/formatting/formatting.py:629\u001b[0m, in \u001b[0;36mformat_table\u001b[0;34m(table, key, formatter, format_columns, output_all_columns)\u001b[0m\n\u001b[1;32m    627\u001b[0m python_formatter \u001b[38;5;241m=\u001b[39m PythonFormatter(features\u001b[38;5;241m=\u001b[39m\u001b[38;5;28;01mNone\u001b[39;00m)\n\u001b[1;32m    628\u001b[0m \u001b[38;5;28;01mif\u001b[39;00m format_columns \u001b[38;5;129;01mis\u001b[39;00m \u001b[38;5;28;01mNone\u001b[39;00m:\n\u001b[0;32m--> 629\u001b[0m     \u001b[38;5;28;01mreturn\u001b[39;00m \u001b[43mformatter\u001b[49m\u001b[43m(\u001b[49m\u001b[43mpa_table\u001b[49m\u001b[43m,\u001b[49m\u001b[43m \u001b[49m\u001b[43mquery_type\u001b[49m\u001b[38;5;241;43m=\u001b[39;49m\u001b[43mquery_type\u001b[49m\u001b[43m)\u001b[49m\n\u001b[1;32m    630\u001b[0m \u001b[38;5;28;01melif\u001b[39;00m query_type \u001b[38;5;241m==\u001b[39m \u001b[38;5;124m\"\u001b[39m\u001b[38;5;124mcolumn\u001b[39m\u001b[38;5;124m\"\u001b[39m:\n\u001b[1;32m    631\u001b[0m     \u001b[38;5;28;01mif\u001b[39;00m key \u001b[38;5;129;01min\u001b[39;00m format_columns:\n",
      "File \u001b[0;32m/mnt/d/Downloads/Swahili-translation-English-STT--main/ASR_linux/lib/python3.10/site-packages/datasets/formatting/formatting.py:398\u001b[0m, in \u001b[0;36mFormatter.__call__\u001b[0;34m(self, pa_table, query_type)\u001b[0m\n\u001b[1;32m    396\u001b[0m     \u001b[38;5;28;01mreturn\u001b[39;00m \u001b[38;5;28mself\u001b[39m\u001b[38;5;241m.\u001b[39mformat_row(pa_table)\n\u001b[1;32m    397\u001b[0m \u001b[38;5;28;01melif\u001b[39;00m query_type \u001b[38;5;241m==\u001b[39m \u001b[38;5;124m\"\u001b[39m\u001b[38;5;124mcolumn\u001b[39m\u001b[38;5;124m\"\u001b[39m:\n\u001b[0;32m--> 398\u001b[0m     \u001b[38;5;28;01mreturn\u001b[39;00m \u001b[38;5;28;43mself\u001b[39;49m\u001b[38;5;241;43m.\u001b[39;49m\u001b[43mformat_column\u001b[49m\u001b[43m(\u001b[49m\u001b[43mpa_table\u001b[49m\u001b[43m)\u001b[49m\n\u001b[1;32m    399\u001b[0m \u001b[38;5;28;01melif\u001b[39;00m query_type \u001b[38;5;241m==\u001b[39m \u001b[38;5;124m\"\u001b[39m\u001b[38;5;124mbatch\u001b[39m\u001b[38;5;124m\"\u001b[39m:\n\u001b[1;32m    400\u001b[0m     \u001b[38;5;28;01mreturn\u001b[39;00m \u001b[38;5;28mself\u001b[39m\u001b[38;5;241m.\u001b[39mformat_batch(pa_table)\n",
      "File \u001b[0;32m/mnt/d/Downloads/Swahili-translation-English-STT--main/ASR_linux/lib/python3.10/site-packages/datasets/formatting/formatting.py:442\u001b[0m, in \u001b[0;36mPythonFormatter.format_column\u001b[0;34m(self, pa_table)\u001b[0m\n\u001b[1;32m    440\u001b[0m \u001b[38;5;28;01mdef\u001b[39;00m \u001b[38;5;21mformat_column\u001b[39m(\u001b[38;5;28mself\u001b[39m, pa_table: pa\u001b[38;5;241m.\u001b[39mTable) \u001b[38;5;241m-\u001b[39m\u001b[38;5;241m>\u001b[39m \u001b[38;5;28mlist\u001b[39m:\n\u001b[1;32m    441\u001b[0m     column \u001b[38;5;241m=\u001b[39m \u001b[38;5;28mself\u001b[39m\u001b[38;5;241m.\u001b[39mpython_arrow_extractor()\u001b[38;5;241m.\u001b[39mextract_column(pa_table)\n\u001b[0;32m--> 442\u001b[0m     column \u001b[38;5;241m=\u001b[39m \u001b[38;5;28;43mself\u001b[39;49m\u001b[38;5;241;43m.\u001b[39;49m\u001b[43mpython_features_decoder\u001b[49m\u001b[38;5;241;43m.\u001b[39;49m\u001b[43mdecode_column\u001b[49m\u001b[43m(\u001b[49m\u001b[43mcolumn\u001b[49m\u001b[43m,\u001b[49m\u001b[43m \u001b[49m\u001b[43mpa_table\u001b[49m\u001b[38;5;241;43m.\u001b[39;49m\u001b[43mcolumn_names\u001b[49m\u001b[43m[\u001b[49m\u001b[38;5;241;43m0\u001b[39;49m\u001b[43m]\u001b[49m\u001b[43m)\u001b[49m\n\u001b[1;32m    443\u001b[0m     \u001b[38;5;28;01mreturn\u001b[39;00m column\n",
      "File \u001b[0;32m/mnt/d/Downloads/Swahili-translation-English-STT--main/ASR_linux/lib/python3.10/site-packages/datasets/formatting/formatting.py:218\u001b[0m, in \u001b[0;36mPythonFeaturesDecoder.decode_column\u001b[0;34m(self, column, column_name)\u001b[0m\n\u001b[1;32m    217\u001b[0m \u001b[38;5;28;01mdef\u001b[39;00m \u001b[38;5;21mdecode_column\u001b[39m(\u001b[38;5;28mself\u001b[39m, column: \u001b[38;5;28mlist\u001b[39m, column_name: \u001b[38;5;28mstr\u001b[39m) \u001b[38;5;241m-\u001b[39m\u001b[38;5;241m>\u001b[39m \u001b[38;5;28mlist\u001b[39m:\n\u001b[0;32m--> 218\u001b[0m     \u001b[38;5;28;01mreturn\u001b[39;00m \u001b[38;5;28;43mself\u001b[39;49m\u001b[38;5;241;43m.\u001b[39;49m\u001b[43mfeatures\u001b[49m\u001b[38;5;241;43m.\u001b[39;49m\u001b[43mdecode_column\u001b[49m\u001b[43m(\u001b[49m\u001b[43mcolumn\u001b[49m\u001b[43m,\u001b[49m\u001b[43m \u001b[49m\u001b[43mcolumn_name\u001b[49m\u001b[43m)\u001b[49m \u001b[38;5;28;01mif\u001b[39;00m \u001b[38;5;28mself\u001b[39m\u001b[38;5;241m.\u001b[39mfeatures \u001b[38;5;28;01melse\u001b[39;00m column\n",
      "File \u001b[0;32m/mnt/d/Downloads/Swahili-translation-English-STT--main/ASR_linux/lib/python3.10/site-packages/datasets/features/features.py:1925\u001b[0m, in \u001b[0;36mFeatures.decode_column\u001b[0;34m(self, column, column_name)\u001b[0m\n\u001b[1;32m   1912\u001b[0m \u001b[38;5;28;01mdef\u001b[39;00m \u001b[38;5;21mdecode_column\u001b[39m(\u001b[38;5;28mself\u001b[39m, column: \u001b[38;5;28mlist\u001b[39m, column_name: \u001b[38;5;28mstr\u001b[39m):\n\u001b[1;32m   1913\u001b[0m \u001b[38;5;250m    \u001b[39m\u001b[38;5;124;03m\"\"\"Decode column with custom feature decoding.\u001b[39;00m\n\u001b[1;32m   1914\u001b[0m \n\u001b[1;32m   1915\u001b[0m \u001b[38;5;124;03m    Args:\u001b[39;00m\n\u001b[0;32m   (...)\u001b[0m\n\u001b[1;32m   1922\u001b[0m \u001b[38;5;124;03m        `list[Any]`\u001b[39;00m\n\u001b[1;32m   1923\u001b[0m \u001b[38;5;124;03m    \"\"\"\u001b[39;00m\n\u001b[1;32m   1924\u001b[0m     \u001b[38;5;28;01mreturn\u001b[39;00m (\n\u001b[0;32m-> 1925\u001b[0m         [decode_nested_example(\u001b[38;5;28mself\u001b[39m[column_name], value) \u001b[38;5;28;01mif\u001b[39;00m value \u001b[38;5;129;01mis\u001b[39;00m \u001b[38;5;129;01mnot\u001b[39;00m \u001b[38;5;28;01mNone\u001b[39;00m \u001b[38;5;28;01melse\u001b[39;00m \u001b[38;5;28;01mNone\u001b[39;00m \u001b[38;5;28;01mfor\u001b[39;00m value \u001b[38;5;129;01min\u001b[39;00m column]\n\u001b[1;32m   1926\u001b[0m         \u001b[38;5;28;01mif\u001b[39;00m \u001b[38;5;28mself\u001b[39m\u001b[38;5;241m.\u001b[39m_column_requires_decoding[column_name]\n\u001b[1;32m   1927\u001b[0m         \u001b[38;5;28;01melse\u001b[39;00m column\n\u001b[1;32m   1928\u001b[0m     )\n",
      "File \u001b[0;32m/mnt/d/Downloads/Swahili-translation-English-STT--main/ASR_linux/lib/python3.10/site-packages/datasets/features/features.py:1925\u001b[0m, in \u001b[0;36m<listcomp>\u001b[0;34m(.0)\u001b[0m\n\u001b[1;32m   1912\u001b[0m \u001b[38;5;28;01mdef\u001b[39;00m \u001b[38;5;21mdecode_column\u001b[39m(\u001b[38;5;28mself\u001b[39m, column: \u001b[38;5;28mlist\u001b[39m, column_name: \u001b[38;5;28mstr\u001b[39m):\n\u001b[1;32m   1913\u001b[0m \u001b[38;5;250m    \u001b[39m\u001b[38;5;124;03m\"\"\"Decode column with custom feature decoding.\u001b[39;00m\n\u001b[1;32m   1914\u001b[0m \n\u001b[1;32m   1915\u001b[0m \u001b[38;5;124;03m    Args:\u001b[39;00m\n\u001b[0;32m   (...)\u001b[0m\n\u001b[1;32m   1922\u001b[0m \u001b[38;5;124;03m        `list[Any]`\u001b[39;00m\n\u001b[1;32m   1923\u001b[0m \u001b[38;5;124;03m    \"\"\"\u001b[39;00m\n\u001b[1;32m   1924\u001b[0m     \u001b[38;5;28;01mreturn\u001b[39;00m (\n\u001b[0;32m-> 1925\u001b[0m         [\u001b[43mdecode_nested_example\u001b[49m\u001b[43m(\u001b[49m\u001b[38;5;28;43mself\u001b[39;49m\u001b[43m[\u001b[49m\u001b[43mcolumn_name\u001b[49m\u001b[43m]\u001b[49m\u001b[43m,\u001b[49m\u001b[43m \u001b[49m\u001b[43mvalue\u001b[49m\u001b[43m)\u001b[49m \u001b[38;5;28;01mif\u001b[39;00m value \u001b[38;5;129;01mis\u001b[39;00m \u001b[38;5;129;01mnot\u001b[39;00m \u001b[38;5;28;01mNone\u001b[39;00m \u001b[38;5;28;01melse\u001b[39;00m \u001b[38;5;28;01mNone\u001b[39;00m \u001b[38;5;28;01mfor\u001b[39;00m value \u001b[38;5;129;01min\u001b[39;00m column]\n\u001b[1;32m   1926\u001b[0m         \u001b[38;5;28;01mif\u001b[39;00m \u001b[38;5;28mself\u001b[39m\u001b[38;5;241m.\u001b[39m_column_requires_decoding[column_name]\n\u001b[1;32m   1927\u001b[0m         \u001b[38;5;28;01melse\u001b[39;00m column\n\u001b[1;32m   1928\u001b[0m     )\n",
      "File \u001b[0;32m/mnt/d/Downloads/Swahili-translation-English-STT--main/ASR_linux/lib/python3.10/site-packages/datasets/features/features.py:1325\u001b[0m, in \u001b[0;36mdecode_nested_example\u001b[0;34m(schema, obj, token_per_repo_id)\u001b[0m\n\u001b[1;32m   1322\u001b[0m \u001b[38;5;28;01melif\u001b[39;00m \u001b[38;5;28misinstance\u001b[39m(schema, (Audio, Image)):\n\u001b[1;32m   1323\u001b[0m     \u001b[38;5;66;03m# we pass the token to read and decode files from private repositories in streaming mode\u001b[39;00m\n\u001b[1;32m   1324\u001b[0m     \u001b[38;5;28;01mif\u001b[39;00m obj \u001b[38;5;129;01mis\u001b[39;00m \u001b[38;5;129;01mnot\u001b[39;00m \u001b[38;5;28;01mNone\u001b[39;00m \u001b[38;5;129;01mand\u001b[39;00m schema\u001b[38;5;241m.\u001b[39mdecode:\n\u001b[0;32m-> 1325\u001b[0m         \u001b[38;5;28;01mreturn\u001b[39;00m \u001b[43mschema\u001b[49m\u001b[38;5;241;43m.\u001b[39;49m\u001b[43mdecode_example\u001b[49m\u001b[43m(\u001b[49m\u001b[43mobj\u001b[49m\u001b[43m,\u001b[49m\u001b[43m \u001b[49m\u001b[43mtoken_per_repo_id\u001b[49m\u001b[38;5;241;43m=\u001b[39;49m\u001b[43mtoken_per_repo_id\u001b[49m\u001b[43m)\u001b[49m\n\u001b[1;32m   1326\u001b[0m \u001b[38;5;28;01mreturn\u001b[39;00m obj\n",
      "File \u001b[0;32m/mnt/d/Downloads/Swahili-translation-English-STT--main/ASR_linux/lib/python3.10/site-packages/datasets/features/audio.py:190\u001b[0m, in \u001b[0;36mAudio.decode_example\u001b[0;34m(self, value, token_per_repo_id)\u001b[0m\n\u001b[1;32m    187\u001b[0m         array, sampling_rate \u001b[38;5;241m=\u001b[39m sf\u001b[38;5;241m.\u001b[39mread(f)\n\u001b[1;32m    189\u001b[0m \u001b[38;5;28;01melse\u001b[39;00m:\n\u001b[0;32m--> 190\u001b[0m     array, sampling_rate \u001b[38;5;241m=\u001b[39m \u001b[43msf\u001b[49m\u001b[38;5;241;43m.\u001b[39;49m\u001b[43mread\u001b[49m\u001b[43m(\u001b[49m\u001b[43mfile\u001b[49m\u001b[43m)\u001b[49m\n\u001b[1;32m    192\u001b[0m array \u001b[38;5;241m=\u001b[39m array\u001b[38;5;241m.\u001b[39mT\n\u001b[1;32m    193\u001b[0m \u001b[38;5;28;01mif\u001b[39;00m \u001b[38;5;28mself\u001b[39m\u001b[38;5;241m.\u001b[39mmono:\n",
      "File \u001b[0;32m/mnt/d/Downloads/Swahili-translation-English-STT--main/ASR_linux/lib/python3.10/site-packages/soundfile.py:285\u001b[0m, in \u001b[0;36mread\u001b[0;34m(file, frames, start, stop, dtype, always_2d, fill_value, out, samplerate, channels, format, subtype, endian, closefd)\u001b[0m\n\u001b[1;32m    199\u001b[0m \u001b[38;5;28;01mdef\u001b[39;00m \u001b[38;5;21mread\u001b[39m(file, frames\u001b[38;5;241m=\u001b[39m\u001b[38;5;241m-\u001b[39m\u001b[38;5;241m1\u001b[39m, start\u001b[38;5;241m=\u001b[39m\u001b[38;5;241m0\u001b[39m, stop\u001b[38;5;241m=\u001b[39m\u001b[38;5;28;01mNone\u001b[39;00m, dtype\u001b[38;5;241m=\u001b[39m\u001b[38;5;124m'\u001b[39m\u001b[38;5;124mfloat64\u001b[39m\u001b[38;5;124m'\u001b[39m, always_2d\u001b[38;5;241m=\u001b[39m\u001b[38;5;28;01mFalse\u001b[39;00m,\n\u001b[1;32m    200\u001b[0m          fill_value\u001b[38;5;241m=\u001b[39m\u001b[38;5;28;01mNone\u001b[39;00m, out\u001b[38;5;241m=\u001b[39m\u001b[38;5;28;01mNone\u001b[39;00m, samplerate\u001b[38;5;241m=\u001b[39m\u001b[38;5;28;01mNone\u001b[39;00m, channels\u001b[38;5;241m=\u001b[39m\u001b[38;5;28;01mNone\u001b[39;00m,\n\u001b[1;32m    201\u001b[0m          \u001b[38;5;28mformat\u001b[39m\u001b[38;5;241m=\u001b[39m\u001b[38;5;28;01mNone\u001b[39;00m, subtype\u001b[38;5;241m=\u001b[39m\u001b[38;5;28;01mNone\u001b[39;00m, endian\u001b[38;5;241m=\u001b[39m\u001b[38;5;28;01mNone\u001b[39;00m, closefd\u001b[38;5;241m=\u001b[39m\u001b[38;5;28;01mTrue\u001b[39;00m):\n\u001b[1;32m    202\u001b[0m \u001b[38;5;250m    \u001b[39m\u001b[38;5;124;03m\"\"\"Provide audio data from a sound file as NumPy array.\u001b[39;00m\n\u001b[1;32m    203\u001b[0m \n\u001b[1;32m    204\u001b[0m \u001b[38;5;124;03m    By default, the whole file is read from the beginning, but the\u001b[39;00m\n\u001b[0;32m   (...)\u001b[0m\n\u001b[1;32m    283\u001b[0m \n\u001b[1;32m    284\u001b[0m \u001b[38;5;124;03m    \"\"\"\u001b[39;00m\n\u001b[0;32m--> 285\u001b[0m     \u001b[38;5;28;01mwith\u001b[39;00m \u001b[43mSoundFile\u001b[49m\u001b[43m(\u001b[49m\u001b[43mfile\u001b[49m\u001b[43m,\u001b[49m\u001b[43m \u001b[49m\u001b[38;5;124;43m'\u001b[39;49m\u001b[38;5;124;43mr\u001b[39;49m\u001b[38;5;124;43m'\u001b[39;49m\u001b[43m,\u001b[49m\u001b[43m \u001b[49m\u001b[43msamplerate\u001b[49m\u001b[43m,\u001b[49m\u001b[43m \u001b[49m\u001b[43mchannels\u001b[49m\u001b[43m,\u001b[49m\n\u001b[1;32m    286\u001b[0m \u001b[43m                   \u001b[49m\u001b[43msubtype\u001b[49m\u001b[43m,\u001b[49m\u001b[43m \u001b[49m\u001b[43mendian\u001b[49m\u001b[43m,\u001b[49m\u001b[43m \u001b[49m\u001b[38;5;28;43mformat\u001b[39;49m\u001b[43m,\u001b[49m\u001b[43m \u001b[49m\u001b[43mclosefd\u001b[49m\u001b[43m)\u001b[49m \u001b[38;5;28;01mas\u001b[39;00m f:\n\u001b[1;32m    287\u001b[0m         frames \u001b[38;5;241m=\u001b[39m f\u001b[38;5;241m.\u001b[39m_prepare_read(start, stop, frames)\n\u001b[1;32m    288\u001b[0m         data \u001b[38;5;241m=\u001b[39m f\u001b[38;5;241m.\u001b[39mread(frames, dtype, always_2d, fill_value, out)\n",
      "File \u001b[0;32m/mnt/d/Downloads/Swahili-translation-English-STT--main/ASR_linux/lib/python3.10/site-packages/soundfile.py:658\u001b[0m, in \u001b[0;36mSoundFile.__init__\u001b[0;34m(self, file, mode, samplerate, channels, subtype, endian, format, closefd)\u001b[0m\n\u001b[1;32m    655\u001b[0m \u001b[38;5;28mself\u001b[39m\u001b[38;5;241m.\u001b[39m_mode \u001b[38;5;241m=\u001b[39m mode\n\u001b[1;32m    656\u001b[0m \u001b[38;5;28mself\u001b[39m\u001b[38;5;241m.\u001b[39m_info \u001b[38;5;241m=\u001b[39m _create_info_struct(file, mode, samplerate, channels,\n\u001b[1;32m    657\u001b[0m                                  \u001b[38;5;28mformat\u001b[39m, subtype, endian)\n\u001b[0;32m--> 658\u001b[0m \u001b[38;5;28mself\u001b[39m\u001b[38;5;241m.\u001b[39m_file \u001b[38;5;241m=\u001b[39m \u001b[38;5;28;43mself\u001b[39;49m\u001b[38;5;241;43m.\u001b[39;49m\u001b[43m_open\u001b[49m\u001b[43m(\u001b[49m\u001b[43mfile\u001b[49m\u001b[43m,\u001b[49m\u001b[43m \u001b[49m\u001b[43mmode_int\u001b[49m\u001b[43m,\u001b[49m\u001b[43m \u001b[49m\u001b[43mclosefd\u001b[49m\u001b[43m)\u001b[49m\n\u001b[1;32m    659\u001b[0m \u001b[38;5;28;01mif\u001b[39;00m \u001b[38;5;28mset\u001b[39m(mode)\u001b[38;5;241m.\u001b[39missuperset(\u001b[38;5;124m'\u001b[39m\u001b[38;5;124mr+\u001b[39m\u001b[38;5;124m'\u001b[39m) \u001b[38;5;129;01mand\u001b[39;00m \u001b[38;5;28mself\u001b[39m\u001b[38;5;241m.\u001b[39mseekable():\n\u001b[1;32m    660\u001b[0m     \u001b[38;5;66;03m# Move write position to 0 (like in Python file objects)\u001b[39;00m\n\u001b[1;32m    661\u001b[0m     \u001b[38;5;28mself\u001b[39m\u001b[38;5;241m.\u001b[39mseek(\u001b[38;5;241m0\u001b[39m)\n",
      "File \u001b[0;32m/mnt/d/Downloads/Swahili-translation-English-STT--main/ASR_linux/lib/python3.10/site-packages/soundfile.py:1216\u001b[0m, in \u001b[0;36mSoundFile._open\u001b[0;34m(self, file, mode_int, closefd)\u001b[0m\n\u001b[1;32m   1213\u001b[0m \u001b[38;5;28;01mif\u001b[39;00m file_ptr \u001b[38;5;241m==\u001b[39m _ffi\u001b[38;5;241m.\u001b[39mNULL:\n\u001b[1;32m   1214\u001b[0m     \u001b[38;5;66;03m# get the actual error code\u001b[39;00m\n\u001b[1;32m   1215\u001b[0m     err \u001b[38;5;241m=\u001b[39m _snd\u001b[38;5;241m.\u001b[39msf_error(file_ptr)\n\u001b[0;32m-> 1216\u001b[0m     \u001b[38;5;28;01mraise\u001b[39;00m LibsndfileError(err, prefix\u001b[38;5;241m=\u001b[39m\u001b[38;5;124m\"\u001b[39m\u001b[38;5;124mError opening \u001b[39m\u001b[38;5;132;01m{0!r}\u001b[39;00m\u001b[38;5;124m: \u001b[39m\u001b[38;5;124m\"\u001b[39m\u001b[38;5;241m.\u001b[39mformat(\u001b[38;5;28mself\u001b[39m\u001b[38;5;241m.\u001b[39mname))\n\u001b[1;32m   1217\u001b[0m \u001b[38;5;28;01mif\u001b[39;00m mode_int \u001b[38;5;241m==\u001b[39m _snd\u001b[38;5;241m.\u001b[39mSFM_WRITE:\n\u001b[1;32m   1218\u001b[0m     \u001b[38;5;66;03m# Due to a bug in libsndfile version <= 1.0.25, frames != 0\u001b[39;00m\n\u001b[1;32m   1219\u001b[0m     \u001b[38;5;66;03m# when opening a named pipe in SFM_WRITE mode.\u001b[39;00m\n\u001b[1;32m   1220\u001b[0m     \u001b[38;5;66;03m# See http://github.com/erikd/libsndfile/issues/77.\u001b[39;00m\n\u001b[1;32m   1221\u001b[0m     \u001b[38;5;28mself\u001b[39m\u001b[38;5;241m.\u001b[39m_info\u001b[38;5;241m.\u001b[39mframes \u001b[38;5;241m=\u001b[39m \u001b[38;5;241m0\u001b[39m\n",
      "\u001b[0;31mLibsndfileError\u001b[0m: Error opening <_io.BytesIO object at 0x7f8430503ce0>: Error in WAV file. No 'data' chunk marker."
     ]
    }
   ],
   "source": [
    "asr_topk = pipeline(\n",
    "    task=\"automatic-speech-recognition\",\n",
    "    model=model,\n",
    "    tokenizer=processor.tokenizer,\n",
    "    feature_extractor=processor.feature_extractor,\n",
    "    # processor=processor, #no effect see: https://github.com/huggingface/transformers/blob/main/src/transformers/pipelines/automatic_speech_recognition.py\n",
    "    # config=config, #no effect see: https://github.com/huggingface/transformers/blob/main/src/transformers/pipelines/automatic_speech_recognition.py\n",
    "    device= 'cuda',  # for gpu 1 for cpu -1\n",
    "    ## chunk files longer than 30s into shorted samples\n",
    "    chunk_length_s=30, \n",
    "    ## the amount of overlap (in secs) to be discarded while stitching the inferenced chunks\n",
    "    ## stride_length_s is a tuple of the left and right stride(overlap) length.\n",
    "    ## With only 1 number, both sides get the same stride, by default\n",
    "    ## The stride_length on one side is 1/6th of the chunk_length_s if stride_length no provided\n",
    "    # stride_length_s=[8, 8],\n",
    "    # stride_length_s=[5, 5],\n",
    "    # stride_length_s=[6,0],\n",
    "    batch_size=1,\n",
    "    ignore_warning=True,\n",
    "    # set_seed(42),\n",
    "    ## force whisper to generate timestamps so that the chunking and stitching can be accurate\n",
    "    # return_timestamps=True, \n",
    "    generate_kwargs = {\n",
    "                       'language':'Swahili', \n",
    "                       'task':'translate', \n",
    "                       # 'repetition_penalty':2.2,\n",
    "                       # 'num_beams':1,\n",
    "                       'max_new_tokens':448,\n",
    "                       'do_sample':True,\n",
    "                       'top_k':50,\n",
    "                        # 'skip_special_tokens' : True,\n",
    "                       # 'early_stopping':True,\n",
    "                    #    'renormalize_logits':True,\n",
    "                       # [16867]: �, [16867, 156, 100, 235, 156, 12811]: �্র\n",
    "                       # 'bad_words_ids':[[16867], [16867, 156, 100, 235, 156, 12811]],\n",
    "                    #    'supress_tokens': [16867, 156, 100, 235, 156, 12811],\n",
    "                       }\n",
    ")\n",
    "asr_topk.model.config.forced_decoder_ids = processor.get_decoder_prompt_ids(language='Swahili', task='translate')\n",
    "s = []\n",
    "for out in tqdm(asr_topk(data())):\n",
    "    s.append(out['text'])"
   ]
  },
  {
   "cell_type": "code",
   "execution_count": 163,
   "id": "140bdf28-74ce-491a-a4f7-84d3ddabc042",
   "metadata": {},
   "outputs": [
    {
     "name": "stdout",
     "output_type": "stream",
     "text": [
      "{'bleu': 0.18570579681141558, 'precisions': [0.4254165052305308, 0.21499421391965615, 0.13645980253878703, 0.09529190207156309], 'brevity_penalty': 1.0, 'length_ratio': 1.0609174613613943, 'translation_length': 12905, 'reference_length': 12164}\n",
      "0.8275238408418284\n",
      "0.635939244274551\n"
     ]
    }
   ],
   "source": [
    "s = [normalizer(pred) for pred in s]\n",
    "t = [normalizer(label) for label in t]\n",
    "results = bleu.compute(predictions=s, references=t)\n",
    "print(results)\n",
    "results = wer_metric.compute(predictions=s, references=t)\n",
    "print(results)\n",
    "results = cer_metric.compute(predictions=s, references=t)\n",
    "print(results)"
   ]
  },
  {
   "cell_type": "markdown",
   "id": "308533b5-c95c-4dba-a836-06a5b18bc510",
   "metadata": {},
   "source": [
    "Top p (NUCLEUS)"
   ]
  },
  {
   "cell_type": "code",
   "execution_count": 172,
   "id": "fd8b8969-33b8-4446-bdcc-20d2884467ef",
   "metadata": {},
   "outputs": [
    {
     "name": "stderr",
     "output_type": "stream",
     "text": [
      "807it [09:50,  1.37it/s]\n"
     ]
    }
   ],
   "source": [
    "asr_nuck = pipeline(\n",
    "    task=\"automatic-speech-recognition\",\n",
    "    model=model,\n",
    "    tokenizer=processor.tokenizer,\n",
    "    feature_extractor=processor.feature_extractor,\n",
    "    # processor=processor, #no effect see: https://github.com/huggingface/transformers/blob/main/src/transformers/pipelines/automatic_speech_recognition.py\n",
    "    # config=config, #no effect see: https://github.com/huggingface/transformers/blob/main/src/transformers/pipelines/automatic_speech_recognition.py\n",
    "    device= 'cuda',  # for gpu 1 for cpu -1\n",
    "    ## chunk files longer than 30s into shorted samples\n",
    "    chunk_length_s=30, \n",
    "    ## the amount of overlap (in secs) to be discarded while stitching the inferenced chunks\n",
    "    ## stride_length_s is a tuple of the left and right stride(overlap) length.\n",
    "    ## With only 1 number, both sides get the same stride, by default\n",
    "    ## The stride_length on one side is 1/6th of the chunk_length_s if stride_length no provided\n",
    "    # stride_length_s=[8, 8],\n",
    "    # stride_length_s=[5, 5],\n",
    "    # stride_length_s=[6,0],\n",
    "    batch_size=1,\n",
    "    ignore_warning=True,\n",
    "    decoder = decoder,\n",
    "    # set_seed(42),\n",
    "    ## force whisper to generate timestamps so that the chunking and stitching can be accurate\n",
    "    # return_timestamps=True, \n",
    "    generate_kwargs = {\n",
    "                       'language':'Swahili', \n",
    "                       'task':'translate', \n",
    "                       # 'repetition_penalty':2.2,\n",
    "                       # 'num_beams':1,\n",
    "                       'do_sample':True, \n",
    "                       'max_length':448, \n",
    "                       'top_p':0.92, \n",
    "                       'top_k':0,\n",
    "                        # 'skip_special_tokens' : True,\n",
    "                       # 'early_stopping':True,\n",
    "                    #    'renormalize_logits':True,\n",
    "                       # [16867]: �, [16867, 156, 100, 235, 156, 12811]: �্র\n",
    "                       # 'bad_words_ids':[[16867], [16867, 156, 100, 235, 156, 12811]],\n",
    "                    #    'supress_tokens': [16867, 156, 100, 235, 156, 12811],\n",
    "                       }\n",
    ")\n",
    "asr_nuck.model.config.forced_decoder_ids = processor.get_decoder_prompt_ids(language='Swahili', task='translate')\n",
    "s = []\n",
    "for out in tqdm(asr_nuck(data())):\n",
    "    s.append(out['text'])"
   ]
  },
  {
   "cell_type": "code",
   "execution_count": 173,
   "id": "6b26b779-2c76-4557-b448-6d610cd3b33b",
   "metadata": {},
   "outputs": [],
   "source": [
    "t = swahili_final['test']['transcription']"
   ]
  },
  {
   "cell_type": "code",
   "execution_count": 174,
   "id": "77c6f584-59fe-4837-b6ab-2436eff1c68d",
   "metadata": {},
   "outputs": [
    {
     "name": "stdout",
     "output_type": "stream",
     "text": [
      "{'bleu': 0.19550873388787118, 'precisions': [0.43235521235521235, 0.22531499629416124, 0.14498990076402915, 0.10344180812154179], 'brevity_penalty': 1.0, 'length_ratio': 1.0646169023347583, 'translation_length': 12950, 'reference_length': 12164}\n",
      "0.8202893784939165\n",
      "0.6350935354013735\n"
     ]
    }
   ],
   "source": [
    "s = [normalizer(pred) for pred in s]\n",
    "t = [normalizer(label) for label in t]\n",
    "results = bleu.compute(predictions=s, references=t)\n",
    "print(results)\n",
    "results = wer_metric.compute(predictions=s, references=t)\n",
    "print(results)\n",
    "results = cer_metric.compute(predictions=s, references=t)\n",
    "print(results)"
   ]
  },
  {
   "cell_type": "code",
   "execution_count": 154,
   "id": "40505e2a-3a5d-4740-8755-367a6b04a959",
   "metadata": {},
   "outputs": [],
   "source": [
    "t = fix_spelling(t, max_length = 448)"
   ]
  },
  {
   "cell_type": "code",
   "execution_count": 159,
   "id": "5355fd2f-60ac-42c2-b855-bb8bac841065",
   "metadata": {},
   "outputs": [],
   "source": [
    "new = []\n",
    "for i in t:\n",
    "    new.append(i['generated_text'])"
   ]
  },
  {
   "cell_type": "code",
   "execution_count": 161,
   "id": "38d18573-1760-4806-a908-d2e2dabdcb42",
   "metadata": {},
   "outputs": [],
   "source": [
    "s = [normalizer(pred) for pred in s]\n",
    "t = [normalizer(label) for label in new]"
   ]
  },
  {
   "cell_type": "code",
   "execution_count": 162,
   "id": "ff29ad74-4d03-4d65-a06b-4753cc46b4d6",
   "metadata": {},
   "outputs": [
    {
     "name": "stdout",
     "output_type": "stream",
     "text": [
      "{'bleu': 0.20575758156870289, 'precisions': [0.44932509723175473, 0.24004550625711035, 0.15464542384622046, 0.1074563429732976], 'brevity_penalty': 1.0, 'length_ratio': 1.0640214216163584, 'translation_length': 13113, 'reference_length': 12324}\n"
     ]
    }
   ],
   "source": [
    "s = [normalizer(pred) for pred in s]\n",
    "t = [normalizer(label) for label in new]\n",
    "results = bleu.compute(predictions=s, references=t)\n",
    "print(results)"
   ]
  },
  {
   "cell_type": "code",
   "execution_count": null,
   "id": "b264a931-b4aa-4b0b-ab7a-ff4f1b7ca484",
   "metadata": {},
   "outputs": [],
   "source": []
  },
  {
   "cell_type": "code",
   "execution_count": null,
   "id": "68fb40c2-918d-4755-a7fb-5369520001a3",
   "metadata": {},
   "outputs": [],
   "source": [
    "import os\n",
    "from xml.sax.saxutils import prepare_input_source\n",
    "\n",
    "# abs_path = os.path.abspath('.')\n",
    "# # base_dir = os.path.dirname(os.path.dirname(abs_path))\n",
    "# base_dir = abs_path\n",
    "# os.environ['TRANSFORMERS_CACHE'] = os.path.join(base_dir, 'models_cache')\n",
    "\n",
    "import torch\n",
    "import torchaudio\n",
    "import numpy as np\n",
    "# import kenlm\n",
    "import librosa\n",
    "from transformers import WhisperProcessor, WhisperForConditionalGeneration, WhisperForAudioClassification\n",
    "\n",
    "model_name =  \"./whisper_small/aug_finale\\\\checkpoint-10556\"\n",
    "\n",
    "# Load the pre-trained Whisper model from Hugging Face\n",
    "processor = WhisperProcessor.from_pretrained(\"./whisper-small_real_v2/largedata_processor\")\n",
    "model = WhisperForConditionalGeneration.from_pretrained(model_name)\n",
    "\n",
    "\n",
    "print_model_size(model)"
   ]
  },
  {
   "cell_type": "code",
   "execution_count": 132,
   "id": "8751d3a6-a85e-4daf-9a42-1d1f275ab08e",
   "metadata": {},
   "outputs": [
    {
     "name": "stdout",
     "output_type": "stream",
     "text": [
      "\n",
      "===================================BUG REPORT===================================\n",
      "Welcome to bitsandbytes. For bug reports, please submit your error trace to: https://github.com/TimDettmers/bitsandbytes/issues\n",
      "================================================================================\n",
      "binary_path: D:\\Downloads\\Swahili-translation-English-STT--main\\ASR\\lib\\site-packages\\bitsandbytes\\cuda_setup\\libbitsandbytes_cuda116.dll\n",
      "CUDA SETUP: Loading binary D:\\Downloads\\Swahili-translation-English-STT--main\\ASR\\lib\\site-packages\\bitsandbytes\\cuda_setup\\libbitsandbytes_cuda116.dll...\n"
     ]
    },
    {
     "name": "stderr",
     "output_type": "stream",
     "text": [
      "D:\\Downloads\\Swahili-translation-English-STT--main\\ASR\\lib\\site-packages\\peft\\utils\\other.py:122: FutureWarning: prepare_model_for_int8_training is deprecated and will be removed in a future version. Use prepare_model_for_kbit_training instead.\n",
      "  warnings.warn(\n"
     ]
    }
   ],
   "source": [
    "from peft import prepare_model_for_int8_training\n",
    "model.enable_input_require_grads()\n",
    "model = prepare_model_for_int8_training(model)"
   ]
  },
  {
   "cell_type": "code",
   "execution_count": 133,
   "id": "5e77cca6",
   "metadata": {},
   "outputs": [
    {
     "name": "stdout",
     "output_type": "stream",
     "text": [
      "trainable params: 7,077,888 || all params: 248,812,800 || trainable%: 2.8446639401188363\n"
     ]
    }
   ],
   "source": [
    "from peft import LoraConfig, PeftModel, LoraModel, LoraConfig, get_peft_model\n",
    "\n",
    "config = LoraConfig(r=64, lora_alpha=128, target_modules=[\"q_proj\", \"v_proj\"], lora_dropout=0.1, bias=\"none\")\n",
    "\n",
    "model = get_peft_model(model, config)\n",
    "model.print_trainable_parameters()"
   ]
  },
  {
   "cell_type": "code",
   "execution_count": 134,
   "id": "6201f045",
   "metadata": {},
   "outputs": [],
   "source": [
    "from transformers import Seq2SeqTrainingArguments\n",
    "\n",
    "peft_args = Seq2SeqTrainingArguments(\n",
    "    output_dir=\"./whisper_small/peft_large\",\n",
    "    overwrite_output_dir=True,\n",
    "    max_steps= 12000,\n",
    "    # num_train_epochs = 15,\n",
    "    per_device_train_batch_size=1,\n",
    "    per_device_eval_batch_size=1,\n",
    "    gradient_accumulation_steps=20,\n",
    "    gradient_checkpointing=True,\n",
    "    evaluation_strategy= 'steps',\n",
    "    eval_steps= 400,\n",
    "    save_strategy='steps',\n",
    "    save_steps= 400,\n",
    "    save_total_limit= 5,\n",
    "    learning_rate=1e-4,\n",
    "    lr_scheduler_type = \"cosine\", # \"constant\", \"constant_with_warmup\", \"cosine\", \"cosine_with_restarts\", \"linear\"(default), \"polynomial\", \"inverse_sqrt\"\n",
    "    warmup_steps= 600,\n",
    "    logging_steps= 5,\n",
    "    weight_decay=0.01,\n",
    "    load_best_model_at_end=True,\n",
    "    # metric_for_best_model= \"bleu\",\n",
    "    # greater_is_better=True,\n",
    "    # bf16= True,\n",
    "#     tf32= True,\n",
    "    # fp16 = True,\n",
    "    optim=\"adamw_hf\",\n",
    "    torch_compile = False,\n",
    "    generation_max_length=max_label_length,\n",
    "    report_to=['tensorboard'],\n",
    "    # generation_num_beams = 4,\n",
    "#     fsdp ,\n",
    "#     fsdp_config,\n",
    "#   deepspeed\n",
    "    #eval_delay=\n",
    "    data_seed = 420,\n",
    "    logging_dir = \"./whisper_small/peft_large/logs\",\n",
    "    seed = 420,\n",
    "    remove_unused_columns = False,\n",
    "    label_names=[\"labels\"],  # same reason as above\n",
    "\n",
    "    # predict_with_generate= True,\n",
    "#     push_to_hub=push_to_hub,\n",
    ")\n",
    "model.config.use_cache = False  # silence the warnings. Please re-enable for inference!"
   ]
  },
  {
   "cell_type": "code",
   "execution_count": 135,
   "id": "3fecb555",
   "metadata": {},
   "outputs": [
    {
     "name": "stdout",
     "output_type": "stream",
     "text": [
      "\n",
      "\n",
      " Training STARTED..\n",
      "\n",
      "\n"
     ]
    },
    {
     "name": "stderr",
     "output_type": "stream",
     "text": [
      "D:\\Downloads\\Swahili-translation-English-STT--main\\ASR\\lib\\site-packages\\transformers\\optimization.py:429: FutureWarning: This implementation of AdamW is deprecated and will be removed in a future version. Use the PyTorch implementation torch.optim.AdamW instead, or set `no_deprecation_warning=True` to disable this warning\n",
      "  warnings.warn(\n",
      "D:\\Downloads\\Swahili-translation-English-STT--main\\ASR\\lib\\site-packages\\torch\\utils\\checkpoint.py:429: UserWarning: torch.utils.checkpoint: please pass in use_reentrant=True or use_reentrant=False explicitly. The default value of use_reentrant will be updated to be False in the future. To maintain current behavior, pass use_reentrant=True. It is recommended that you use use_reentrant=False. Refer to docs for more details on the differences between the two variants.\n",
      "  warnings.warn(\n",
      "D:\\Downloads\\Swahili-translation-English-STT--main\\ASR\\lib\\site-packages\\torch\\utils\\checkpoint.py:61: UserWarning: None of the inputs have requires_grad=True. Gradients will be None\n",
      "  warnings.warn(\n"
     ]
    },
    {
     "data": {
      "text/html": [
       "\n",
       "    <div>\n",
       "      \n",
       "      <progress value='7200' max='12000' style='width:300px; height:20px; vertical-align: middle;'></progress>\n",
       "      [ 7200/12000 16:25:41 < 10:57:18, 0.12 it/s, Epoch 11/19]\n",
       "    </div>\n",
       "    <table border=\"1\" class=\"dataframe\">\n",
       "  <thead>\n",
       " <tr style=\"text-align: left;\">\n",
       "      <th>Step</th>\n",
       "      <th>Training Loss</th>\n",
       "      <th>Validation Loss</th>\n",
       "    </tr>\n",
       "  </thead>\n",
       "  <tbody>\n",
       "    <tr>\n",
       "      <td>400</td>\n",
       "      <td>1.655900</td>\n",
       "      <td>2.087300</td>\n",
       "    </tr>\n",
       "    <tr>\n",
       "      <td>800</td>\n",
       "      <td>1.317400</td>\n",
       "      <td>1.905172</td>\n",
       "    </tr>\n",
       "    <tr>\n",
       "      <td>1200</td>\n",
       "      <td>1.208500</td>\n",
       "      <td>1.797060</td>\n",
       "    </tr>\n",
       "    <tr>\n",
       "      <td>1600</td>\n",
       "      <td>1.303600</td>\n",
       "      <td>1.742837</td>\n",
       "    </tr>\n",
       "    <tr>\n",
       "      <td>2000</td>\n",
       "      <td>1.106500</td>\n",
       "      <td>1.715279</td>\n",
       "    </tr>\n",
       "    <tr>\n",
       "      <td>2400</td>\n",
       "      <td>0.873500</td>\n",
       "      <td>1.687788</td>\n",
       "    </tr>\n",
       "    <tr>\n",
       "      <td>2800</td>\n",
       "      <td>0.740700</td>\n",
       "      <td>1.691673</td>\n",
       "    </tr>\n",
       "    <tr>\n",
       "      <td>3200</td>\n",
       "      <td>0.801200</td>\n",
       "      <td>1.681026</td>\n",
       "    </tr>\n",
       "    <tr>\n",
       "      <td>3600</td>\n",
       "      <td>0.860900</td>\n",
       "      <td>1.710523</td>\n",
       "    </tr>\n",
       "    <tr>\n",
       "      <td>4000</td>\n",
       "      <td>0.504100</td>\n",
       "      <td>1.725510</td>\n",
       "    </tr>\n",
       "    <tr>\n",
       "      <td>4400</td>\n",
       "      <td>0.856600</td>\n",
       "      <td>1.727511</td>\n",
       "    </tr>\n",
       "    <tr>\n",
       "      <td>4800</td>\n",
       "      <td>0.781100</td>\n",
       "      <td>1.768187</td>\n",
       "    </tr>\n",
       "    <tr>\n",
       "      <td>5200</td>\n",
       "      <td>0.533300</td>\n",
       "      <td>1.793285</td>\n",
       "    </tr>\n",
       "    <tr>\n",
       "      <td>5600</td>\n",
       "      <td>0.656100</td>\n",
       "      <td>1.810979</td>\n",
       "    </tr>\n",
       "    <tr>\n",
       "      <td>6000</td>\n",
       "      <td>0.580900</td>\n",
       "      <td>1.825893</td>\n",
       "    </tr>\n",
       "    <tr>\n",
       "      <td>6400</td>\n",
       "      <td>0.535200</td>\n",
       "      <td>1.829976</td>\n",
       "    </tr>\n",
       "    <tr>\n",
       "      <td>6800</td>\n",
       "      <td>0.469200</td>\n",
       "      <td>1.853380</td>\n",
       "    </tr>\n",
       "    <tr>\n",
       "      <td>7200</td>\n",
       "      <td>0.552500</td>\n",
       "      <td>1.876045</td>\n",
       "    </tr>\n",
       "  </tbody>\n",
       "</table><p>"
      ],
      "text/plain": [
       "<IPython.core.display.HTML object>"
      ]
     },
     "metadata": {},
     "output_type": "display_data"
    },
    {
     "name": "stderr",
     "output_type": "stream",
     "text": [
      "D:\\Downloads\\Swahili-translation-English-STT--main\\ASR\\lib\\site-packages\\torch\\utils\\checkpoint.py:429: UserWarning: torch.utils.checkpoint: please pass in use_reentrant=True or use_reentrant=False explicitly. The default value of use_reentrant will be updated to be False in the future. To maintain current behavior, pass use_reentrant=True. It is recommended that you use use_reentrant=False. Refer to docs for more details on the differences between the two variants.\n",
      "  warnings.warn(\n",
      "D:\\Downloads\\Swahili-translation-English-STT--main\\ASR\\lib\\site-packages\\torch\\utils\\checkpoint.py:61: UserWarning: None of the inputs have requires_grad=True. Gradients will be None\n",
      "  warnings.warn(\n",
      "D:\\Downloads\\Swahili-translation-English-STT--main\\ASR\\lib\\site-packages\\torch\\utils\\checkpoint.py:429: UserWarning: torch.utils.checkpoint: please pass in use_reentrant=True or use_reentrant=False explicitly. The default value of use_reentrant will be updated to be False in the future. To maintain current behavior, pass use_reentrant=True. It is recommended that you use use_reentrant=False. Refer to docs for more details on the differences between the two variants.\n",
      "  warnings.warn(\n",
      "D:\\Downloads\\Swahili-translation-English-STT--main\\ASR\\lib\\site-packages\\torch\\utils\\checkpoint.py:61: UserWarning: None of the inputs have requires_grad=True. Gradients will be None\n",
      "  warnings.warn(\n",
      "D:\\Downloads\\Swahili-translation-English-STT--main\\ASR\\lib\\site-packages\\torch\\utils\\checkpoint.py:429: UserWarning: torch.utils.checkpoint: please pass in use_reentrant=True or use_reentrant=False explicitly. The default value of use_reentrant will be updated to be False in the future. To maintain current behavior, pass use_reentrant=True. It is recommended that you use use_reentrant=False. Refer to docs for more details on the differences between the two variants.\n",
      "  warnings.warn(\n",
      "D:\\Downloads\\Swahili-translation-English-STT--main\\ASR\\lib\\site-packages\\torch\\utils\\checkpoint.py:61: UserWarning: None of the inputs have requires_grad=True. Gradients will be None\n",
      "  warnings.warn(\n",
      "D:\\Downloads\\Swahili-translation-English-STT--main\\ASR\\lib\\site-packages\\torch\\utils\\checkpoint.py:429: UserWarning: torch.utils.checkpoint: please pass in use_reentrant=True or use_reentrant=False explicitly. The default value of use_reentrant will be updated to be False in the future. To maintain current behavior, pass use_reentrant=True. It is recommended that you use use_reentrant=False. Refer to docs for more details on the differences between the two variants.\n",
      "  warnings.warn(\n",
      "D:\\Downloads\\Swahili-translation-English-STT--main\\ASR\\lib\\site-packages\\torch\\utils\\checkpoint.py:61: UserWarning: None of the inputs have requires_grad=True. Gradients will be None\n",
      "  warnings.warn(\n",
      "D:\\Downloads\\Swahili-translation-English-STT--main\\ASR\\lib\\site-packages\\torch\\utils\\checkpoint.py:429: UserWarning: torch.utils.checkpoint: please pass in use_reentrant=True or use_reentrant=False explicitly. The default value of use_reentrant will be updated to be False in the future. To maintain current behavior, pass use_reentrant=True. It is recommended that you use use_reentrant=False. Refer to docs for more details on the differences between the two variants.\n",
      "  warnings.warn(\n",
      "D:\\Downloads\\Swahili-translation-English-STT--main\\ASR\\lib\\site-packages\\torch\\utils\\checkpoint.py:61: UserWarning: None of the inputs have requires_grad=True. Gradients will be None\n",
      "  warnings.warn(\n",
      "D:\\Downloads\\Swahili-translation-English-STT--main\\ASR\\lib\\site-packages\\torch\\utils\\checkpoint.py:429: UserWarning: torch.utils.checkpoint: please pass in use_reentrant=True or use_reentrant=False explicitly. The default value of use_reentrant will be updated to be False in the future. To maintain current behavior, pass use_reentrant=True. It is recommended that you use use_reentrant=False. Refer to docs for more details on the differences between the two variants.\n",
      "  warnings.warn(\n",
      "D:\\Downloads\\Swahili-translation-English-STT--main\\ASR\\lib\\site-packages\\torch\\utils\\checkpoint.py:61: UserWarning: None of the inputs have requires_grad=True. Gradients will be None\n",
      "  warnings.warn(\n",
      "D:\\Downloads\\Swahili-translation-English-STT--main\\ASR\\lib\\site-packages\\torch\\utils\\checkpoint.py:429: UserWarning: torch.utils.checkpoint: please pass in use_reentrant=True or use_reentrant=False explicitly. The default value of use_reentrant will be updated to be False in the future. To maintain current behavior, pass use_reentrant=True. It is recommended that you use use_reentrant=False. Refer to docs for more details on the differences between the two variants.\n",
      "  warnings.warn(\n",
      "D:\\Downloads\\Swahili-translation-English-STT--main\\ASR\\lib\\site-packages\\torch\\utils\\checkpoint.py:61: UserWarning: None of the inputs have requires_grad=True. Gradients will be None\n",
      "  warnings.warn(\n",
      "D:\\Downloads\\Swahili-translation-English-STT--main\\ASR\\lib\\site-packages\\torch\\utils\\checkpoint.py:429: UserWarning: torch.utils.checkpoint: please pass in use_reentrant=True or use_reentrant=False explicitly. The default value of use_reentrant will be updated to be False in the future. To maintain current behavior, pass use_reentrant=True. It is recommended that you use use_reentrant=False. Refer to docs for more details on the differences between the two variants.\n",
      "  warnings.warn(\n",
      "D:\\Downloads\\Swahili-translation-English-STT--main\\ASR\\lib\\site-packages\\torch\\utils\\checkpoint.py:61: UserWarning: None of the inputs have requires_grad=True. Gradients will be None\n",
      "  warnings.warn(\n",
      "D:\\Downloads\\Swahili-translation-English-STT--main\\ASR\\lib\\site-packages\\torch\\utils\\checkpoint.py:429: UserWarning: torch.utils.checkpoint: please pass in use_reentrant=True or use_reentrant=False explicitly. The default value of use_reentrant will be updated to be False in the future. To maintain current behavior, pass use_reentrant=True. It is recommended that you use use_reentrant=False. Refer to docs for more details on the differences between the two variants.\n",
      "  warnings.warn(\n",
      "D:\\Downloads\\Swahili-translation-English-STT--main\\ASR\\lib\\site-packages\\torch\\utils\\checkpoint.py:61: UserWarning: None of the inputs have requires_grad=True. Gradients will be None\n",
      "  warnings.warn(\n",
      "D:\\Downloads\\Swahili-translation-English-STT--main\\ASR\\lib\\site-packages\\torch\\utils\\checkpoint.py:429: UserWarning: torch.utils.checkpoint: please pass in use_reentrant=True or use_reentrant=False explicitly. The default value of use_reentrant will be updated to be False in the future. To maintain current behavior, pass use_reentrant=True. It is recommended that you use use_reentrant=False. Refer to docs for more details on the differences between the two variants.\n",
      "  warnings.warn(\n",
      "D:\\Downloads\\Swahili-translation-English-STT--main\\ASR\\lib\\site-packages\\torch\\utils\\checkpoint.py:61: UserWarning: None of the inputs have requires_grad=True. Gradients will be None\n",
      "  warnings.warn(\n",
      "D:\\Downloads\\Swahili-translation-English-STT--main\\ASR\\lib\\site-packages\\torch\\utils\\checkpoint.py:429: UserWarning: torch.utils.checkpoint: please pass in use_reentrant=True or use_reentrant=False explicitly. The default value of use_reentrant will be updated to be False in the future. To maintain current behavior, pass use_reentrant=True. It is recommended that you use use_reentrant=False. Refer to docs for more details on the differences between the two variants.\n",
      "  warnings.warn(\n",
      "D:\\Downloads\\Swahili-translation-English-STT--main\\ASR\\lib\\site-packages\\torch\\utils\\checkpoint.py:61: UserWarning: None of the inputs have requires_grad=True. Gradients will be None\n",
      "  warnings.warn(\n",
      "D:\\Downloads\\Swahili-translation-English-STT--main\\ASR\\lib\\site-packages\\torch\\utils\\checkpoint.py:429: UserWarning: torch.utils.checkpoint: please pass in use_reentrant=True or use_reentrant=False explicitly. The default value of use_reentrant will be updated to be False in the future. To maintain current behavior, pass use_reentrant=True. It is recommended that you use use_reentrant=False. Refer to docs for more details on the differences between the two variants.\n",
      "  warnings.warn(\n",
      "D:\\Downloads\\Swahili-translation-English-STT--main\\ASR\\lib\\site-packages\\torch\\utils\\checkpoint.py:61: UserWarning: None of the inputs have requires_grad=True. Gradients will be None\n",
      "  warnings.warn(\n",
      "D:\\Downloads\\Swahili-translation-English-STT--main\\ASR\\lib\\site-packages\\torch\\utils\\checkpoint.py:429: UserWarning: torch.utils.checkpoint: please pass in use_reentrant=True or use_reentrant=False explicitly. The default value of use_reentrant will be updated to be False in the future. To maintain current behavior, pass use_reentrant=True. It is recommended that you use use_reentrant=False. Refer to docs for more details on the differences between the two variants.\n",
      "  warnings.warn(\n",
      "D:\\Downloads\\Swahili-translation-English-STT--main\\ASR\\lib\\site-packages\\torch\\utils\\checkpoint.py:61: UserWarning: None of the inputs have requires_grad=True. Gradients will be None\n",
      "  warnings.warn(\n",
      "D:\\Downloads\\Swahili-translation-English-STT--main\\ASR\\lib\\site-packages\\torch\\utils\\checkpoint.py:429: UserWarning: torch.utils.checkpoint: please pass in use_reentrant=True or use_reentrant=False explicitly. The default value of use_reentrant will be updated to be False in the future. To maintain current behavior, pass use_reentrant=True. It is recommended that you use use_reentrant=False. Refer to docs for more details on the differences between the two variants.\n",
      "  warnings.warn(\n",
      "D:\\Downloads\\Swahili-translation-English-STT--main\\ASR\\lib\\site-packages\\torch\\utils\\checkpoint.py:61: UserWarning: None of the inputs have requires_grad=True. Gradients will be None\n",
      "  warnings.warn(\n",
      "D:\\Downloads\\Swahili-translation-English-STT--main\\ASR\\lib\\site-packages\\torch\\utils\\checkpoint.py:429: UserWarning: torch.utils.checkpoint: please pass in use_reentrant=True or use_reentrant=False explicitly. The default value of use_reentrant will be updated to be False in the future. To maintain current behavior, pass use_reentrant=True. It is recommended that you use use_reentrant=False. Refer to docs for more details on the differences between the two variants.\n",
      "  warnings.warn(\n",
      "D:\\Downloads\\Swahili-translation-English-STT--main\\ASR\\lib\\site-packages\\torch\\utils\\checkpoint.py:61: UserWarning: None of the inputs have requires_grad=True. Gradients will be None\n",
      "  warnings.warn(\n",
      "D:\\Downloads\\Swahili-translation-English-STT--main\\ASR\\lib\\site-packages\\torch\\utils\\checkpoint.py:429: UserWarning: torch.utils.checkpoint: please pass in use_reentrant=True or use_reentrant=False explicitly. The default value of use_reentrant will be updated to be False in the future. To maintain current behavior, pass use_reentrant=True. It is recommended that you use use_reentrant=False. Refer to docs for more details on the differences between the two variants.\n",
      "  warnings.warn(\n",
      "D:\\Downloads\\Swahili-translation-English-STT--main\\ASR\\lib\\site-packages\\torch\\utils\\checkpoint.py:61: UserWarning: None of the inputs have requires_grad=True. Gradients will be None\n",
      "  warnings.warn(\n",
      "D:\\Downloads\\Swahili-translation-English-STT--main\\ASR\\lib\\site-packages\\torch\\utils\\checkpoint.py:429: UserWarning: torch.utils.checkpoint: please pass in use_reentrant=True or use_reentrant=False explicitly. The default value of use_reentrant will be updated to be False in the future. To maintain current behavior, pass use_reentrant=True. It is recommended that you use use_reentrant=False. Refer to docs for more details on the differences between the two variants.\n",
      "  warnings.warn(\n",
      "D:\\Downloads\\Swahili-translation-English-STT--main\\ASR\\lib\\site-packages\\torch\\utils\\checkpoint.py:61: UserWarning: None of the inputs have requires_grad=True. Gradients will be None\n",
      "  warnings.warn(\n"
     ]
    },
    {
     "name": "stdout",
     "output_type": "stream",
     "text": [
      "\n",
      "\n",
      " Training COMPLETED...\n",
      "\n",
      "\n",
      "\n",
      "\n",
      " Evaluating Model & Saving Metrics...\n",
      "\n",
      "\n"
     ]
    },
    {
     "data": {
      "text/html": [
       "\n",
       "    <div>\n",
       "      \n",
       "      <progress value='807' max='807' style='width:300px; height:20px; vertical-align: middle;'></progress>\n",
       "      [807/807 04:19]\n",
       "    </div>\n",
       "    "
      ],
      "text/plain": [
       "<IPython.core.display.HTML object>"
      ]
     },
     "metadata": {},
     "output_type": "display_data"
    }
   ],
   "source": [
    "from transformers import Seq2SeqTrainer\n",
    "import transformers as tf\n",
    "early_stopping_patience = 10\n",
    "trainer = Seq2SeqTrainer(\n",
    "    args=peft_args,\n",
    "    model=model,\n",
    "    train_dataset=swahili_final[\"train\"],\n",
    "    eval_dataset=swahili_final[\"test\"],\n",
    "    data_collator=data_collator,\n",
    "    # compute_metrics=compute_metrics,\n",
    "    tokenizer=processor.feature_extractor,\n",
    "    callbacks=[tf.EarlyStoppingCallback(early_stopping_patience=early_stopping_patience)],\n",
    ")\n",
    "\n",
    "processor.save_pretrained(\"./whisper_small/peft/50_dataset_processor\")\n",
    "\n",
    "\n",
    "## 17. Training\n",
    "print(\"\\n\\n Training STARTED..\\n\\n\")\n",
    "\n",
    "train_result = trainer.train()\n",
    "\n",
    "## resume from the latest checkpoint\n",
    "# train_result = trainer.train(resume_from_checkpoint=True)\n",
    "\n",
    "## resume training from the specific checkpoint in the directory passed\n",
    "# train_result = trainer.train(resume_from_checkpoint=\"checkpoint-4000\")\n",
    "\n",
    "print(\"\\n\\n Training COMPLETED...\\n\\n\")\n",
    "\n",
    "\n",
    "## 18. Evaluating & Saving Metrics & Model\n",
    "print(\"\\n\\n Evaluating Model & Saving Metrics...\\n\\n\")\n",
    "\n",
    "processor.save_pretrained(save_directory=\"./whisper-small/peft/50_dataset_processor/again\")\n",
    "# trainer.save_model() \n",
    "\n",
    "metrics = train_result.metrics\n",
    "trainer.save_metrics(\"train\", metrics)\n",
    "trainer.save_state()\n",
    "\n",
    "metrics = trainer.evaluate(\n",
    "    metric_key_prefix=\"eval\",\n",
    "    max_length= peft_args.generation_max_length,\n",
    "    num_beams= peft_args.generation_num_beams,\n",
    ")\n",
    "\n",
    "trainer.save_metrics(\"eval\", metrics)"
   ]
  },
  {
   "cell_type": "code",
   "execution_count": null,
   "id": "afc6dcde-6f68-408c-9a03-d9047ba8f7a5",
   "metadata": {},
   "outputs": [],
   "source": [
    "from peft import PeftModel, PeftConfig\n",
    "from transformers import WhisperForConditionalGeneration, Seq2SeqTrainer\n",
    "\n",
    "peft_model_id = \".\\whisper_small\\peft_arobitr\\checkpoint-1141\"\n",
    "peft_config = PeftConfig.from_pretrained(peft_model_id)\n",
    "model = WhisperForConditionalGeneration.from_pretrained(\n",
    "    peft_config.base_model_name_or_path, load_in_8bit=True, device_map=\"auto\"\n",
    ")\n",
    "model = PeftModel.from_pretrained(model, peft_model_id)"
   ]
  },
  {
   "cell_type": "code",
   "execution_count": null,
   "id": "589a087f-2851-401e-9d39-5c9f79fbbcbe",
   "metadata": {},
   "outputs": [],
   "source": [
    "from torch.utils.data import DataLoader\n",
    "from tqdm import tqdm\n",
    "import numpy as np\n",
    "import gc\n",
    "\n",
    "eval_dataloader = DataLoader(swahili_final[\"test\"], batch_size=1, collate_fn=data_collator)\n",
    "\n",
    "model.eval()\n",
    "for step, batch in enumerate(tqdm(eval_dataloader)):\n",
    "    with torch.cuda.amp.autocast():\n",
    "        with torch.no_grad():\n",
    "            generated_tokens = (\n",
    "                model.generate(\n",
    "                    input_features=batch[\"input_features\"].to(\"cuda\"),\n",
    "                    decoder_input_ids=batch[\"labels\"].to(\"cuda\"),\n",
    "                    max_new_tokens=448,\n",
    "                )\n",
    "                .cpu()\n",
    "                .numpy()\n",
    "            )\n",
    "            labels = batch[\"labels\"].cpu().numpy()\n",
    "            labels = np.where(labels != -100, labels, tokenizer.pad_token_id)\n",
    "            decoded_preds = tokenizer.batch_decode(generated_tokens, skip_special_tokens=True)\n",
    "            decoded_labels = tokenizer.batch_decode(labels, skip_special_tokens=True)\n",
    "            metric.add_batch(\n",
    "                predictions=decoded_preds,\n",
    "                references=decoded_labels,\n",
    "            )\n",
    "    del generated_tokens, labels, batch\n",
    "    gc.collect()\n",
    "wer = 100 * metric.compute()\n",
    "print(f\"{wer=}\")"
   ]
  }
 ],
 "metadata": {
  "kernelspec": {
   "display_name": "Python 3 (ipykernel)",
   "language": "python",
   "name": "python3"
  },
  "language_info": {
   "codemirror_mode": {
    "name": "ipython",
    "version": 3
   },
   "file_extension": ".py",
   "mimetype": "text/x-python",
   "name": "python",
   "nbconvert_exporter": "python",
   "pygments_lexer": "ipython3",
   "version": "3.9.2"
  }
 },
 "nbformat": 4,
 "nbformat_minor": 5
}
