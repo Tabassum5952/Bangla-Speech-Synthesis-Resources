{
 "cells": [
  {
   "cell_type": "markdown",
   "id": "3c12b737",
   "metadata": {},
   "source": [
    "# Check Whisper ASR notebook for outputs"
   ]
  },
  {
   "cell_type": "markdown",
   "id": "9c0f654d",
   "metadata": {},
   "source": [
    "# USE WSL if in Windows"
   ]
  },
  {
   "cell_type": "code",
   "execution_count": null,
   "id": "468b81fe",
   "metadata": {},
   "outputs": [],
   "source": [
    "clone github repo first"
   ]
  },
  {
   "cell_type": "code",
   "execution_count": null,
   "id": "f9911648",
   "metadata": {},
   "outputs": [],
   "source": [
    "!mkdir kenlm/build && cd kenlm/build && cmake .. && make -j2\n",
    "!ls kenlm/build/bin"
   ]
  },
  {
   "cell_type": "code",
   "execution_count": null,
   "id": "d64d13dd",
   "metadata": {},
   "outputs": [],
   "source": [
    "with open(\"test.txt\", \"w\") as file:\n",
    "  file.write(\"\\n\".join(list(filter(lambda s: len(s.split()) > 2, swahili_final['train']['transcription']))))"
   ]
  },
  {
   "cell_type": "code",
   "execution_count": null,
   "id": "72ff3851",
   "metadata": {},
   "outputs": [],
   "source": [
    "!kenlm/build/bin/lmplz -o 4 <\"test.txt\"> \"4gram.arpa\""
   ]
  },
  {
   "cell_type": "code",
   "execution_count": null,
   "id": "ac0f8f05",
   "metadata": {},
   "outputs": [],
   "source": [
    "!head -20 4gram.arpa"
   ]
  },
  {
   "cell_type": "code",
   "execution_count": null,
   "id": "593d2fce",
   "metadata": {},
   "outputs": [],
   "source": [
    "with open(\"4gram.arpa\", \"r\") as read_file, open(\"4gram_correct.arpa\", \"w\") as write_file:\n",
    "  has_added_eos = False\n",
    "  for line in read_file:\n",
    "    if not has_added_eos and \"ngram 1=\" in line:\n",
    "      count=line.strip().split(\"=\")[-1]\n",
    "      write_file.write(line.replace(f\"{count}\", f\"{int(count)+1}\"))\n",
    "    elif not has_added_eos and \"<s>\" in line:\n",
    "      write_file.write(line)\n",
    "      write_file.write(line.replace(\"<s>\", \"</s>\"))\n",
    "      has_added_eos = True\n",
    "    else:\n",
    "      write_file.write(line)"
   ]
  },
  {
   "cell_type": "code",
   "execution_count": null,
   "id": "ec9a43ad",
   "metadata": {},
   "outputs": [],
   "source": [
    "import kenlm\n",
    "model = kenlm.LanguageModel('kenlm/lm/test.arpa')\n",
    "print(model.score('M-pesa is a mobile.', bos = True, eos = True))"
   ]
  },
  {
   "cell_type": "code",
   "execution_count": null,
   "id": "ff85fe61",
   "metadata": {},
   "outputs": [],
   "source": [
    "import kenlm\n",
    "model = kenlm.LanguageModel('4gram_correct.arpa')\n",
    "print(model.score('M-pesa is a mobile.', bos = True, eos = True))"
   ]
  },
  {
   "cell_type": "code",
   "execution_count": null,
   "id": "0bd5e9a5",
   "metadata": {},
   "outputs": [],
   "source": [
    "vocab_dict = processor.tokenizer.get_vocab()\n",
    "sorted_vocab_dict = {k.lower(): v for k, v in sorted(vocab_dict.items(), key=lambda item: item[1])}\n",
    "from pyctcdecode import build_ctcdecoder\n",
    "\n",
    "decoder = build_ctcdecoder(\n",
    "    labels=list(sorted_vocab_dict.keys()),\n",
    "    kenlm_model_path=\"kenlm/lm/test.arpa\",\n",
    ")"
   ]
  },
  {
   "cell_type": "markdown",
   "id": "50784cc8",
   "metadata": {},
   "source": []
  },
  {
   "cell_type": "code",
   "execution_count": null,
   "id": "5b82ba0c",
   "metadata": {},
   "outputs": [],
   "source": []
  }
 ],
 "metadata": {
  "kernelspec": {
   "display_name": "Python 3 (ipykernel)",
   "language": "python",
   "name": "python3"
  },
  "language_info": {
   "codemirror_mode": {
    "name": "ipython",
    "version": 3
   },
   "file_extension": ".py",
   "mimetype": "text/x-python",
   "name": "python",
   "nbconvert_exporter": "python",
   "pygments_lexer": "ipython3",
   "version": "3.9.2"
  }
 },
 "nbformat": 4,
 "nbformat_minor": 5
}
